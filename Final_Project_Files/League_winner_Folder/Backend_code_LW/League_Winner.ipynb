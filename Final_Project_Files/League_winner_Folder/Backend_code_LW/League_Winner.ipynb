{
  "nbformat": 4,
  "nbformat_minor": 0,
  "metadata": {
    "colab": {
      "provenance": [],
      "gpuType": "T4"
    },
    "kernelspec": {
      "name": "python3",
      "display_name": "Python 3"
    },
    "language_info": {
      "name": "python"
    },
    "accelerator": "GPU"
  },
  "cells": [
    {
      "cell_type": "code",
      "source": [
        "# Install packages\n",
        "!pip install -q xgboost scikit-learn imbalanced-learn joblib seaborn"
      ],
      "metadata": {
        "id": "ubAzqy3ZMwDU"
      },
      "execution_count": 1,
      "outputs": []
    },
    {
      "cell_type": "code",
      "source": [
        "# Imports\n",
        "import pandas as pd\n",
        "import numpy as np\n",
        "import matplotlib.pyplot as plt\n",
        "import seaborn as sns\n",
        "\n",
        "from sklearn.model_selection import GroupKFold\n",
        "from sklearn.metrics import (\n",
        "    roc_auc_score, average_precision_score, brier_score_loss,\n",
        "    precision_recall_curve, roc_curve, classification_report, confusion_matrix\n",
        ")\n",
        "from sklearn.preprocessing import StandardScaler\n",
        "from sklearn.calibration import CalibratedClassifierCV, calibration_curve\n",
        "from imblearn.over_sampling import SMOTE\n",
        "from xgboost import XGBClassifier\n",
        "from joblib import dump"
      ],
      "metadata": {
        "id": "63pnVja9MwBS"
      },
      "execution_count": 2,
      "outputs": []
    },
    {
      "cell_type": "code",
      "source": [
        "# Config\n",
        "DATA_PATH = \"/content/League_winner.csv\"\n",
        "RANDOM_STATE = 42\n",
        "N_SPLITS = 5\n"
      ],
      "metadata": {
        "id": "4Q2FdhF5Mv-3"
      },
      "execution_count": 3,
      "outputs": []
    },
    {
      "cell_type": "code",
      "source": [
        "# Load data\n",
        "df = pd.read_csv(DATA_PATH)\n",
        "print(\"Raw shape:\", df.shape)\n",
        "print(\"Columns:\", df.columns.tolist())\n",
        "df.head()"
      ],
      "metadata": {
        "colab": {
          "base_uri": "https://localhost:8080/",
          "height": 242
        },
        "id": "fle1aCDFMv8n",
        "outputId": "a6f25dd1-9d68-4bc4-8944-5fecc4af70df"
      },
      "execution_count": 4,
      "outputs": [
        {
          "output_type": "stream",
          "name": "stdout",
          "text": [
            "Raw shape: (646, 12)\n",
            "Columns: ['season_end_year', 'team', 'position', 'played', 'won', 'drawn', 'lost', 'gf', 'ga', 'gd', 'points', 'notes']\n"
          ]
        },
        {
          "output_type": "execute_result",
          "data": {
            "text/plain": [
              "   season_end_year            team  position  played  won  drawn  lost  gf  \\\n",
              "0             1993  Manchester Utd         1      42   24     12     6  67   \n",
              "1             1993     Aston Villa         2      42   21     11    10  57   \n",
              "2             1993    Norwich City         3      42   21      9    12  61   \n",
              "3             1993       Blackburn         4      42   20     11    11  68   \n",
              "4             1993             QPR         5      42   17     12    13  63   \n",
              "\n",
              "   ga  gd  points                                 notes  \n",
              "0  31  36      84  → Champions League via league finish  \n",
              "1  40  17      74          → UEFA Cup via league finish  \n",
              "2  65  -4      72        → UEFA Cup via league finish 1  \n",
              "3  46  22      71                                   NaN  \n",
              "4  55   8      63                                   NaN  "
            ],
            "text/html": [
              "\n",
              "  <div id=\"df-cc170185-64f5-44fe-b048-a0017b007828\" class=\"colab-df-container\">\n",
              "    <div>\n",
              "<style scoped>\n",
              "    .dataframe tbody tr th:only-of-type {\n",
              "        vertical-align: middle;\n",
              "    }\n",
              "\n",
              "    .dataframe tbody tr th {\n",
              "        vertical-align: top;\n",
              "    }\n",
              "\n",
              "    .dataframe thead th {\n",
              "        text-align: right;\n",
              "    }\n",
              "</style>\n",
              "<table border=\"1\" class=\"dataframe\">\n",
              "  <thead>\n",
              "    <tr style=\"text-align: right;\">\n",
              "      <th></th>\n",
              "      <th>season_end_year</th>\n",
              "      <th>team</th>\n",
              "      <th>position</th>\n",
              "      <th>played</th>\n",
              "      <th>won</th>\n",
              "      <th>drawn</th>\n",
              "      <th>lost</th>\n",
              "      <th>gf</th>\n",
              "      <th>ga</th>\n",
              "      <th>gd</th>\n",
              "      <th>points</th>\n",
              "      <th>notes</th>\n",
              "    </tr>\n",
              "  </thead>\n",
              "  <tbody>\n",
              "    <tr>\n",
              "      <th>0</th>\n",
              "      <td>1993</td>\n",
              "      <td>Manchester Utd</td>\n",
              "      <td>1</td>\n",
              "      <td>42</td>\n",
              "      <td>24</td>\n",
              "      <td>12</td>\n",
              "      <td>6</td>\n",
              "      <td>67</td>\n",
              "      <td>31</td>\n",
              "      <td>36</td>\n",
              "      <td>84</td>\n",
              "      <td>→ Champions League via league finish</td>\n",
              "    </tr>\n",
              "    <tr>\n",
              "      <th>1</th>\n",
              "      <td>1993</td>\n",
              "      <td>Aston Villa</td>\n",
              "      <td>2</td>\n",
              "      <td>42</td>\n",
              "      <td>21</td>\n",
              "      <td>11</td>\n",
              "      <td>10</td>\n",
              "      <td>57</td>\n",
              "      <td>40</td>\n",
              "      <td>17</td>\n",
              "      <td>74</td>\n",
              "      <td>→ UEFA Cup via league finish</td>\n",
              "    </tr>\n",
              "    <tr>\n",
              "      <th>2</th>\n",
              "      <td>1993</td>\n",
              "      <td>Norwich City</td>\n",
              "      <td>3</td>\n",
              "      <td>42</td>\n",
              "      <td>21</td>\n",
              "      <td>9</td>\n",
              "      <td>12</td>\n",
              "      <td>61</td>\n",
              "      <td>65</td>\n",
              "      <td>-4</td>\n",
              "      <td>72</td>\n",
              "      <td>→ UEFA Cup via league finish 1</td>\n",
              "    </tr>\n",
              "    <tr>\n",
              "      <th>3</th>\n",
              "      <td>1993</td>\n",
              "      <td>Blackburn</td>\n",
              "      <td>4</td>\n",
              "      <td>42</td>\n",
              "      <td>20</td>\n",
              "      <td>11</td>\n",
              "      <td>11</td>\n",
              "      <td>68</td>\n",
              "      <td>46</td>\n",
              "      <td>22</td>\n",
              "      <td>71</td>\n",
              "      <td>NaN</td>\n",
              "    </tr>\n",
              "    <tr>\n",
              "      <th>4</th>\n",
              "      <td>1993</td>\n",
              "      <td>QPR</td>\n",
              "      <td>5</td>\n",
              "      <td>42</td>\n",
              "      <td>17</td>\n",
              "      <td>12</td>\n",
              "      <td>13</td>\n",
              "      <td>63</td>\n",
              "      <td>55</td>\n",
              "      <td>8</td>\n",
              "      <td>63</td>\n",
              "      <td>NaN</td>\n",
              "    </tr>\n",
              "  </tbody>\n",
              "</table>\n",
              "</div>\n",
              "    <div class=\"colab-df-buttons\">\n",
              "\n",
              "  <div class=\"colab-df-container\">\n",
              "    <button class=\"colab-df-convert\" onclick=\"convertToInteractive('df-cc170185-64f5-44fe-b048-a0017b007828')\"\n",
              "            title=\"Convert this dataframe to an interactive table.\"\n",
              "            style=\"display:none;\">\n",
              "\n",
              "  <svg xmlns=\"http://www.w3.org/2000/svg\" height=\"24px\" viewBox=\"0 -960 960 960\">\n",
              "    <path d=\"M120-120v-720h720v720H120Zm60-500h600v-160H180v160Zm220 220h160v-160H400v160Zm0 220h160v-160H400v160ZM180-400h160v-160H180v160Zm440 0h160v-160H620v160ZM180-180h160v-160H180v160Zm440 0h160v-160H620v160Z\"/>\n",
              "  </svg>\n",
              "    </button>\n",
              "\n",
              "  <style>\n",
              "    .colab-df-container {\n",
              "      display:flex;\n",
              "      gap: 12px;\n",
              "    }\n",
              "\n",
              "    .colab-df-convert {\n",
              "      background-color: #E8F0FE;\n",
              "      border: none;\n",
              "      border-radius: 50%;\n",
              "      cursor: pointer;\n",
              "      display: none;\n",
              "      fill: #1967D2;\n",
              "      height: 32px;\n",
              "      padding: 0 0 0 0;\n",
              "      width: 32px;\n",
              "    }\n",
              "\n",
              "    .colab-df-convert:hover {\n",
              "      background-color: #E2EBFA;\n",
              "      box-shadow: 0px 1px 2px rgba(60, 64, 67, 0.3), 0px 1px 3px 1px rgba(60, 64, 67, 0.15);\n",
              "      fill: #174EA6;\n",
              "    }\n",
              "\n",
              "    .colab-df-buttons div {\n",
              "      margin-bottom: 4px;\n",
              "    }\n",
              "\n",
              "    [theme=dark] .colab-df-convert {\n",
              "      background-color: #3B4455;\n",
              "      fill: #D2E3FC;\n",
              "    }\n",
              "\n",
              "    [theme=dark] .colab-df-convert:hover {\n",
              "      background-color: #434B5C;\n",
              "      box-shadow: 0px 1px 3px 1px rgba(0, 0, 0, 0.15);\n",
              "      filter: drop-shadow(0px 1px 2px rgba(0, 0, 0, 0.3));\n",
              "      fill: #FFFFFF;\n",
              "    }\n",
              "  </style>\n",
              "\n",
              "    <script>\n",
              "      const buttonEl =\n",
              "        document.querySelector('#df-cc170185-64f5-44fe-b048-a0017b007828 button.colab-df-convert');\n",
              "      buttonEl.style.display =\n",
              "        google.colab.kernel.accessAllowed ? 'block' : 'none';\n",
              "\n",
              "      async function convertToInteractive(key) {\n",
              "        const element = document.querySelector('#df-cc170185-64f5-44fe-b048-a0017b007828');\n",
              "        const dataTable =\n",
              "          await google.colab.kernel.invokeFunction('convertToInteractive',\n",
              "                                                    [key], {});\n",
              "        if (!dataTable) return;\n",
              "\n",
              "        const docLinkHtml = 'Like what you see? Visit the ' +\n",
              "          '<a target=\"_blank\" href=https://colab.research.google.com/notebooks/data_table.ipynb>data table notebook</a>'\n",
              "          + ' to learn more about interactive tables.';\n",
              "        element.innerHTML = '';\n",
              "        dataTable['output_type'] = 'display_data';\n",
              "        await google.colab.output.renderOutput(dataTable, element);\n",
              "        const docLink = document.createElement('div');\n",
              "        docLink.innerHTML = docLinkHtml;\n",
              "        element.appendChild(docLink);\n",
              "      }\n",
              "    </script>\n",
              "  </div>\n",
              "\n",
              "\n",
              "    <div id=\"df-fedc57e1-8ee0-4714-a6cc-aff9919912b2\">\n",
              "      <button class=\"colab-df-quickchart\" onclick=\"quickchart('df-fedc57e1-8ee0-4714-a6cc-aff9919912b2')\"\n",
              "                title=\"Suggest charts\"\n",
              "                style=\"display:none;\">\n",
              "\n",
              "<svg xmlns=\"http://www.w3.org/2000/svg\" height=\"24px\"viewBox=\"0 0 24 24\"\n",
              "     width=\"24px\">\n",
              "    <g>\n",
              "        <path d=\"M19 3H5c-1.1 0-2 .9-2 2v14c0 1.1.9 2 2 2h14c1.1 0 2-.9 2-2V5c0-1.1-.9-2-2-2zM9 17H7v-7h2v7zm4 0h-2V7h2v10zm4 0h-2v-4h2v4z\"/>\n",
              "    </g>\n",
              "</svg>\n",
              "      </button>\n",
              "\n",
              "<style>\n",
              "  .colab-df-quickchart {\n",
              "      --bg-color: #E8F0FE;\n",
              "      --fill-color: #1967D2;\n",
              "      --hover-bg-color: #E2EBFA;\n",
              "      --hover-fill-color: #174EA6;\n",
              "      --disabled-fill-color: #AAA;\n",
              "      --disabled-bg-color: #DDD;\n",
              "  }\n",
              "\n",
              "  [theme=dark] .colab-df-quickchart {\n",
              "      --bg-color: #3B4455;\n",
              "      --fill-color: #D2E3FC;\n",
              "      --hover-bg-color: #434B5C;\n",
              "      --hover-fill-color: #FFFFFF;\n",
              "      --disabled-bg-color: #3B4455;\n",
              "      --disabled-fill-color: #666;\n",
              "  }\n",
              "\n",
              "  .colab-df-quickchart {\n",
              "    background-color: var(--bg-color);\n",
              "    border: none;\n",
              "    border-radius: 50%;\n",
              "    cursor: pointer;\n",
              "    display: none;\n",
              "    fill: var(--fill-color);\n",
              "    height: 32px;\n",
              "    padding: 0;\n",
              "    width: 32px;\n",
              "  }\n",
              "\n",
              "  .colab-df-quickchart:hover {\n",
              "    background-color: var(--hover-bg-color);\n",
              "    box-shadow: 0 1px 2px rgba(60, 64, 67, 0.3), 0 1px 3px 1px rgba(60, 64, 67, 0.15);\n",
              "    fill: var(--button-hover-fill-color);\n",
              "  }\n",
              "\n",
              "  .colab-df-quickchart-complete:disabled,\n",
              "  .colab-df-quickchart-complete:disabled:hover {\n",
              "    background-color: var(--disabled-bg-color);\n",
              "    fill: var(--disabled-fill-color);\n",
              "    box-shadow: none;\n",
              "  }\n",
              "\n",
              "  .colab-df-spinner {\n",
              "    border: 2px solid var(--fill-color);\n",
              "    border-color: transparent;\n",
              "    border-bottom-color: var(--fill-color);\n",
              "    animation:\n",
              "      spin 1s steps(1) infinite;\n",
              "  }\n",
              "\n",
              "  @keyframes spin {\n",
              "    0% {\n",
              "      border-color: transparent;\n",
              "      border-bottom-color: var(--fill-color);\n",
              "      border-left-color: var(--fill-color);\n",
              "    }\n",
              "    20% {\n",
              "      border-color: transparent;\n",
              "      border-left-color: var(--fill-color);\n",
              "      border-top-color: var(--fill-color);\n",
              "    }\n",
              "    30% {\n",
              "      border-color: transparent;\n",
              "      border-left-color: var(--fill-color);\n",
              "      border-top-color: var(--fill-color);\n",
              "      border-right-color: var(--fill-color);\n",
              "    }\n",
              "    40% {\n",
              "      border-color: transparent;\n",
              "      border-right-color: var(--fill-color);\n",
              "      border-top-color: var(--fill-color);\n",
              "    }\n",
              "    60% {\n",
              "      border-color: transparent;\n",
              "      border-right-color: var(--fill-color);\n",
              "    }\n",
              "    80% {\n",
              "      border-color: transparent;\n",
              "      border-right-color: var(--fill-color);\n",
              "      border-bottom-color: var(--fill-color);\n",
              "    }\n",
              "    90% {\n",
              "      border-color: transparent;\n",
              "      border-bottom-color: var(--fill-color);\n",
              "    }\n",
              "  }\n",
              "</style>\n",
              "\n",
              "      <script>\n",
              "        async function quickchart(key) {\n",
              "          const quickchartButtonEl =\n",
              "            document.querySelector('#' + key + ' button');\n",
              "          quickchartButtonEl.disabled = true;  // To prevent multiple clicks.\n",
              "          quickchartButtonEl.classList.add('colab-df-spinner');\n",
              "          try {\n",
              "            const charts = await google.colab.kernel.invokeFunction(\n",
              "                'suggestCharts', [key], {});\n",
              "          } catch (error) {\n",
              "            console.error('Error during call to suggestCharts:', error);\n",
              "          }\n",
              "          quickchartButtonEl.classList.remove('colab-df-spinner');\n",
              "          quickchartButtonEl.classList.add('colab-df-quickchart-complete');\n",
              "        }\n",
              "        (() => {\n",
              "          let quickchartButtonEl =\n",
              "            document.querySelector('#df-fedc57e1-8ee0-4714-a6cc-aff9919912b2 button');\n",
              "          quickchartButtonEl.style.display =\n",
              "            google.colab.kernel.accessAllowed ? 'block' : 'none';\n",
              "        })();\n",
              "      </script>\n",
              "    </div>\n",
              "\n",
              "    </div>\n",
              "  </div>\n"
            ],
            "application/vnd.google.colaboratory.intrinsic+json": {
              "type": "dataframe",
              "variable_name": "df",
              "summary": "{\n  \"name\": \"df\",\n  \"rows\": 646,\n  \"fields\": [\n    {\n      \"column\": \"season_end_year\",\n      \"properties\": {\n        \"dtype\": \"number\",\n        \"std\": 9,\n        \"min\": 1993,\n        \"max\": 2024,\n        \"num_unique_values\": 32,\n        \"samples\": [\n          2022,\n          2008,\n          2017\n        ],\n        \"semantic_type\": \"\",\n        \"description\": \"\"\n      }\n    },\n    {\n      \"column\": \"team\",\n      \"properties\": {\n        \"dtype\": \"category\",\n        \"num_unique_values\": 51,\n        \"samples\": [\n          \"Blackpool\",\n          \"Stoke City\",\n          \"Bournemouth\"\n        ],\n        \"semantic_type\": \"\",\n        \"description\": \"\"\n      }\n    },\n    {\n      \"column\": \"position\",\n      \"properties\": {\n        \"dtype\": \"number\",\n        \"std\": 5,\n        \"min\": 1,\n        \"max\": 22,\n        \"num_unique_values\": 22,\n        \"samples\": [\n          1,\n          14,\n          9\n        ],\n        \"semantic_type\": \"\",\n        \"description\": \"\"\n      }\n    },\n    {\n      \"column\": \"played\",\n      \"properties\": {\n        \"dtype\": \"number\",\n        \"std\": 1,\n        \"min\": 38,\n        \"max\": 42,\n        \"num_unique_values\": 2,\n        \"samples\": [\n          38,\n          42\n        ],\n        \"semantic_type\": \"\",\n        \"description\": \"\"\n      }\n    },\n    {\n      \"column\": \"won\",\n      \"properties\": {\n        \"dtype\": \"number\",\n        \"std\": 5,\n        \"min\": 1,\n        \"max\": 32,\n        \"num_unique_values\": 30,\n        \"samples\": [\n          1,\n          9\n        ],\n        \"semantic_type\": \"\",\n        \"description\": \"\"\n      }\n    },\n    {\n      \"column\": \"drawn\",\n      \"properties\": {\n        \"dtype\": \"number\",\n        \"std\": 2,\n        \"min\": 2,\n        \"max\": 18,\n        \"num_unique_values\": 17,\n        \"samples\": [\n          12,\n          11\n        ],\n        \"semantic_type\": \"\",\n        \"description\": \"\"\n      }\n    },\n    {\n      \"column\": \"lost\",\n      \"properties\": {\n        \"dtype\": \"number\",\n        \"std\": 5,\n        \"min\": 0,\n        \"max\": 29,\n        \"num_unique_values\": 30,\n        \"samples\": [\n          1,\n          17\n        ],\n        \"semantic_type\": \"\",\n        \"description\": \"\"\n      }\n    },\n    {\n      \"column\": \"gf\",\n      \"properties\": {\n        \"dtype\": \"number\",\n        \"std\": 15,\n        \"min\": 20,\n        \"max\": 106,\n        \"num_unique_values\": 78,\n        \"samples\": [\n          34,\n          67\n        ],\n        \"semantic_type\": \"\",\n        \"description\": \"\"\n      }\n    },\n    {\n      \"column\": \"ga\",\n      \"properties\": {\n        \"dtype\": \"number\",\n        \"std\": 13,\n        \"min\": 15,\n        \"max\": 104,\n        \"num_unique_values\": 68,\n        \"samples\": [\n          42,\n          41\n        ],\n        \"semantic_type\": \"\",\n        \"description\": \"\"\n      }\n    },\n    {\n      \"column\": \"gd\",\n      \"properties\": {\n        \"dtype\": \"number\",\n        \"std\": 24,\n        \"min\": -69,\n        \"max\": 79,\n        \"num_unique_values\": 117,\n        \"samples\": [\n          -32,\n          8\n        ],\n        \"semantic_type\": \"\",\n        \"description\": \"\"\n      }\n    },\n    {\n      \"column\": \"points\",\n      \"properties\": {\n        \"dtype\": \"number\",\n        \"std\": 16,\n        \"min\": 11,\n        \"max\": 100,\n        \"num_unique_values\": 83,\n        \"samples\": [\n          48,\n          84\n        ],\n        \"semantic_type\": \"\",\n        \"description\": \"\"\n      }\n    },\n    {\n      \"column\": \"notes\",\n      \"properties\": {\n        \"dtype\": \"category\",\n        \"num_unique_values\": 43,\n        \"samples\": [\n          \"\\u2192 Europa League via cup win 2\",\n          \"\\u2192 UEFA Cup via cup win 3\"\n        ],\n        \"semantic_type\": \"\",\n        \"description\": \"\"\n      }\n    }\n  ]\n}"
            }
          },
          "metadata": {},
          "execution_count": 4
        }
      ]
    },
    {
      "cell_type": "code",
      "source": [
        "# Create target variable - winner is position 1\n",
        "df['is_champion'] = (df['position'] == 1).astype(int)\n",
        "df.drop(columns=['position', 'points', 'notes'], inplace=True, errors='ignore')\n",
        "\n",
        "print(\"Champion count:\", df['is_champion'].sum(), \"/\", len(df))"
      ],
      "metadata": {
        "colab": {
          "base_uri": "https://localhost:8080/"
        },
        "id": "SWU0wSpQMv0N",
        "outputId": "6b14c476-42ea-4cac-b132-1aa95836480d"
      },
      "execution_count": 5,
      "outputs": [
        {
          "output_type": "stream",
          "name": "stdout",
          "text": [
            "Champion count: 32 / 646\n"
          ]
        }
      ]
    },
    {
      "cell_type": "code",
      "source": [
        "# Feature engineering - add useful stats\n",
        "def add_derived_features(df):\n",
        "    df = df.copy()\n",
        "    df['points_so_far'] = df['won'] * 3 + df['drawn']\n",
        "    df['ppg'] = df['points_so_far'] / df['played'].replace(0, np.nan)\n",
        "    df['win_rate'] = df['won'] / df['played'].replace(0, np.nan)\n",
        "    df['draw_rate'] = df['drawn'] / df['played'].replace(0, np.nan)\n",
        "    df['loss_rate'] = df['lost'] / df['played'].replace(0, np.nan)\n",
        "    df['gf_per_game'] = df['gf'] / df['played'].replace(0, np.nan)\n",
        "    df['ga_per_game'] = df['ga'] / df['played'].replace(0, np.nan)\n",
        "    df['gd_per_game'] = df['gd'] / df['played'].replace(0, np.nan)\n",
        "    df.fillna(0, inplace=True)\n",
        "    return df\n",
        "\n",
        "df = add_derived_features(df)\n",
        "\n",
        "FEATURES = [\n",
        "    'played', 'won', 'drawn', 'lost', 'gf', 'ga', 'gd',\n",
        "    'points_so_far', 'ppg', 'win_rate', 'draw_rate', 'loss_rate',\n",
        "    'gf_per_game', 'ga_per_game', 'gd_per_game'\n",
        "]\n",
        "\n",
        "X = df[FEATURES].copy()\n",
        "y = df['is_champion'].copy()\n",
        "groups = df['season_end_year'] if 'season_end_year' in df.columns else None\n",
        "\n",
        "print(\"X shape:\", X.shape)\n",
        "print(\"Feature sample:\\n\", X.iloc[:3])\n"
      ],
      "metadata": {
        "colab": {
          "base_uri": "https://localhost:8080/"
        },
        "id": "CsxRK14OMvwT",
        "outputId": "5d594479-95e0-46d7-ed3d-966791a1ea02"
      },
      "execution_count": 6,
      "outputs": [
        {
          "output_type": "stream",
          "name": "stdout",
          "text": [
            "X shape: (646, 15)\n",
            "Feature sample:\n",
            "    played  won  drawn  lost  gf  ga  gd  points_so_far       ppg  win_rate  \\\n",
            "0      42   24     12     6  67  31  36             84  2.000000  0.571429   \n",
            "1      42   21     11    10  57  40  17             74  1.761905  0.500000   \n",
            "2      42   21      9    12  61  65  -4             72  1.714286  0.500000   \n",
            "\n",
            "   draw_rate  loss_rate  gf_per_game  ga_per_game  gd_per_game  \n",
            "0   0.285714   0.142857     1.595238     0.738095     0.857143  \n",
            "1   0.261905   0.238095     1.357143     0.952381     0.404762  \n",
            "2   0.214286   0.285714     1.452381     1.547619    -0.095238  \n"
          ]
        }
      ]
    },
    {
      "cell_type": "code",
      "source": [
        "# Custom metric - did we predict the actual winner for each season?\n",
        "def season_top1_accuracy(y_true, y_pred_probs, groups):\n",
        "    df_tmp = pd.DataFrame({'y_true': y_true, 'prob': y_pred_probs, 'season': groups})\n",
        "    hits, total = 0, 0\n",
        "    for s in df_tmp['season'].unique():\n",
        "        d = df_tmp[df_tmp['season'] == s]\n",
        "        if d.empty: continue\n",
        "        pred_idx = d['prob'].idxmax()\n",
        "        if d.loc[pred_idx, 'y_true'] == 1:\n",
        "            hits += 1\n",
        "        total += 1\n",
        "    return hits / total if total > 0 else np.nan"
      ],
      "metadata": {
        "id": "stkAQ5S-MvuB"
      },
      "execution_count": 7,
      "outputs": []
    },
    {
      "cell_type": "code",
      "source": [
        "# Cross-validation with season-based splits\n",
        "gkf = GroupKFold(n_splits=N_SPLITS)\n",
        "oof_probs = np.zeros(len(X))\n",
        "oof_true = y.values\n",
        "cv_metrics = []\n",
        "\n",
        "fold = 0\n",
        "for train_idx, test_idx in gkf.split(X, y, groups):\n",
        "    fold += 1\n",
        "    X_train, X_test = X.iloc[train_idx], X.iloc[test_idx]\n",
        "    y_train, y_test = y.iloc[train_idx], y.iloc[test_idx]\n",
        "    groups_test = groups.iloc[test_idx] if groups is not None else None\n"
      ],
      "metadata": {
        "id": "p9f_sKxLMvrt"
      },
      "execution_count": 8,
      "outputs": []
    },
    {
      "cell_type": "code",
      "source": [
        "# Cross-validation with season-based splits\n",
        "gkf = GroupKFold(n_splits=N_SPLITS)\n",
        "oof_probs = np.zeros(len(X))\n",
        "oof_true = y.values\n",
        "cv_metrics = []\n",
        "\n",
        "fold = 0\n",
        "for train_idx, test_idx in gkf.split(X, y, groups):\n",
        "    fold += 1\n",
        "    X_train, X_test = X.iloc[train_idx], X.iloc[test_idx]\n",
        "    y_train, y_test = y.iloc[train_idx], y.iloc[test_idx]\n",
        "    groups_test = groups.iloc[test_idx] if groups is not None else None\n",
        "\n",
        "    # Balance classes with SMOTE\n",
        "    sm = SMOTE(random_state=RANDOM_STATE)\n",
        "    X_res, y_res = sm.fit_resample(X_train, y_train)\n",
        "\n",
        "    # Scale features\n",
        "    scaler = StandardScaler()\n",
        "    X_res_scaled = scaler.fit_transform(X_res)\n",
        "    X_test_scaled = scaler.transform(X_test)\n",
        "\n",
        "    # Train XGBoost\n",
        "    clf = XGBClassifier(\n",
        "        n_estimators=300,\n",
        "        max_depth=4,\n",
        "        learning_rate=0.05,\n",
        "        subsample=0.8,\n",
        "        colsample_bytree=0.8,\n",
        "        eval_metric='logloss',\n",
        "        random_state=RANDOM_STATE\n",
        "    )\n",
        "    clf.fit(X_res_scaled, y_res)\n",
        "\n",
        "    # Calibrate probabilities\n",
        "    calib = CalibratedClassifierCV(estimator=clf, method='sigmoid', cv=3)\n",
        "    calib.fit(X_res_scaled, y_res)\n",
        "\n",
        "    probs = calib.predict_proba(X_test_scaled)[:, 1]\n",
        "    oof_probs[test_idx] = probs\n",
        "\n",
        "    # Eval metrics\n",
        "    roc = roc_auc_score(y_test, probs) if len(np.unique(y_test)) > 1 else np.nan\n",
        "    ap = average_precision_score(y_test, probs) if len(np.unique(y_test)) > 1 else np.nan\n",
        "    brier = brier_score_loss(y_test, probs)\n",
        "    top1 = season_top1_accuracy(y_test.values, probs, groups_test) if groups_test is not None else np.nan\n",
        "\n",
        "    cv_metrics.append({'fold': fold, 'roc_auc': roc, 'avg_precision': ap, 'brier': brier, 'season_top1': top1})\n",
        "    print(f\"Fold {fold}: ROC AUC={roc:.4f}, AP={ap:.4f}, Brier={brier:.4f}, Season-top1={top1:.4f}\")"
      ],
      "metadata": {
        "colab": {
          "base_uri": "https://localhost:8080/"
        },
        "id": "fGHWSduzMvnZ",
        "outputId": "75e4fa87-36bd-4aa2-ca9f-50c1d8482333"
      },
      "execution_count": 10,
      "outputs": [
        {
          "output_type": "stream",
          "name": "stdout",
          "text": [
            "Fold 1: ROC AUC=0.9784, AP=0.6272, Brier=0.0283, Season-top1=0.6667\n",
            "Fold 2: ROC AUC=0.9957, AP=0.9444, Brier=0.0170, Season-top1=1.0000\n",
            "Fold 3: ROC AUC=0.9684, AP=0.7099, Brier=0.0362, Season-top1=0.8333\n",
            "Fold 4: ROC AUC=0.9742, AP=0.6775, Brier=0.0538, Season-top1=0.8571\n",
            "Fold 5: ROC AUC=0.9936, AP=0.8917, Brier=0.0214, Season-top1=1.0000\n"
          ]
        }
      ]
    },
    {
      "cell_type": "code",
      "source": [
        "# Overall evaluation\n",
        "print(\"\\nClassification report (OOF predictions):\")\n",
        "print(classification_report(oof_true, (oof_probs > 0.5).astype(int)))\n",
        "\n",
        "cm = confusion_matrix(oof_true, (oof_probs > 0.5).astype(int))\n",
        "sns.heatmap(cm, annot=True, fmt=\"d\", cmap=\"Blues\",\n",
        "            xticklabels=[\"Not Champion\", \"Champion\"],\n",
        "            yticklabels=[\"Not Champion\", \"Champion\"])\n",
        "plt.title(\"Confusion Matrix (OOF)\")\n",
        "plt.xlabel(\"Predicted\")\n",
        "plt.ylabel(\"True\")\n",
        "plt.show()"
      ],
      "metadata": {
        "colab": {
          "base_uri": "https://localhost:8080/",
          "height": 668
        },
        "id": "rX6NIqJIMvlO",
        "outputId": "88c09222-d527-46be-d874-3dab2aec6841"
      },
      "execution_count": 11,
      "outputs": [
        {
          "output_type": "stream",
          "name": "stdout",
          "text": [
            "\n",
            "Classification report (OOF predictions):\n",
            "              precision    recall  f1-score   support\n",
            "\n",
            "           0       0.99      0.97      0.98       614\n",
            "           1       0.58      0.78      0.67        32\n",
            "\n",
            "    accuracy                           0.96       646\n",
            "   macro avg       0.78      0.88      0.82       646\n",
            "weighted avg       0.97      0.96      0.96       646\n",
            "\n"
          ]
        },
        {
          "output_type": "display_data",
          "data": {
            "text/plain": [
              "<Figure size 640x480 with 2 Axes>"
            ],
            "image/png": "[encoded data removed]"
          },
          "metadata": {}
        }
      ]
    },
    {
      "cell_type": "code",
      "source": [
        "# Precision-Recall curve\n",
        "prec, rec, _ = precision_recall_curve(oof_true, oof_probs)\n",
        "plt.plot(rec, prec, label=f\"AP = {average_precision_score(oof_true, oof_probs):.3f}\")\n",
        "plt.xlabel(\"Recall\")\n",
        "plt.ylabel(\"Precision\")\n",
        "plt.title(\"Precision-Recall Curve (OOF)\")\n",
        "plt.legend()\n",
        "plt.show()"
      ],
      "metadata": {
        "colab": {
          "base_uri": "https://localhost:8080/",
          "height": 472
        },
        "id": "eiDqNViwN6cu",
        "outputId": "4073bf51-a7aa-4a85-e0da-a4cbf3f82cfa"
      },
      "execution_count": 12,
      "outputs": [
        {
          "output_type": "display_data",
          "data": {
            "text/plain": [
              "<Figure size 640x480 with 1 Axes>"
            ],
            "image/png": "[encoded data removed]"
          },
          "metadata": {}
        }
      ]
    },
    {
      "cell_type": "code",
      "source": [
        "# Train final model on all data\n",
        "sm = SMOTE(random_state=RANDOM_STATE)\n",
        "X_res, y_res = sm.fit_resample(X, y)\n",
        "\n",
        "scaler = StandardScaler()\n",
        "X_res_scaled = scaler.fit_transform(X_res)\n",
        "\n",
        "final_clf = XGBClassifier(\n",
        "    n_estimators=400,\n",
        "    max_depth=4,\n",
        "    learning_rate=0.05,\n",
        "    subsample=0.8,\n",
        "    colsample_bytree=0.8,\n",
        "    eval_metric='logloss',\n",
        "    random_state=RANDOM_STATE\n",
        ")\n",
        "final_clf.fit(X_res_scaled, y_res)\n",
        "\n",
        "final_calib = CalibratedClassifierCV(estimator=final_clf, method='sigmoid', cv=5)\n",
        "final_calib.fit(X_res_scaled, y_res)\n",
        "\n",
        "# Wrap in a pipeline for easy predictions\n",
        "class PipelineWrapper:\n",
        "    def __init__(self, scaler, clf, features):\n",
        "        self.scaler = scaler\n",
        "        self.clf = clf\n",
        "        self.features = features\n",
        "\n",
        "    def predict_proba(self, X_df):\n",
        "        Xf = X_df[self.features].copy()\n",
        "        Xs = self.scaler.transform(Xf)\n",
        "        return self.clf.predict_proba(Xs)\n",
        "\n",
        "    def predict(self, X_df):\n",
        "        return np.argmax(self.predict_proba(X_df), axis=1)\n",
        "\n",
        "pipeline = PipelineWrapper(scaler=scaler, clf=final_calib, features=FEATURES)"
      ],
      "metadata": {
        "id": "gH4Ai0JvOHHH"
      },
      "execution_count": 15,
      "outputs": []
    },
    {
      "cell_type": "code",
      "source": [
        "# Save model\n",
        "dump(pipeline, \"model_pipeline.joblib\")\n",
        "print(\"Saved model pipeline to model_pipeline.joblib\")"
      ],
      "metadata": {
        "colab": {
          "base_uri": "https://localhost:8080/"
        },
        "id": "2XcKKbrWOTFh",
        "outputId": "e9c44fb6-c8e7-400d-e8a6-6e0b81d95a5d"
      },
      "execution_count": 16,
      "outputs": [
        {
          "output_type": "stream",
          "name": "stdout",
          "text": [
            "Saved model pipeline to model_pipeline.joblib\n"
          ]
        }
      ]
    },
    {
      "cell_type": "code",
      "source": [
        "# Test prediction\n",
        "example_row = {\n",
        "    'played': 20, 'won': 12, 'drawn': 5, 'lost': 3,\n",
        "    'gf': 38, 'ga': 18, 'gd': 20\n",
        "}\n",
        "example_df = pd.DataFrame([example_row])\n",
        "example_df = add_derived_features(example_df)\n",
        "prob = pipeline.predict_proba(example_df)[0, 1]\n",
        "print(f\"\\nExample team champion probability: {prob:.3%}\")\n"
      ],
      "metadata": {
        "colab": {
          "base_uri": "https://localhost:8080/"
        },
        "id": "rBHRd-gPOYHj",
        "outputId": "7e75cf7d-b17f-4cf3-e759-ec1bf90c9556"
      },
      "execution_count": 17,
      "outputs": [
        {
          "output_type": "stream",
          "name": "stdout",
          "text": [
            "\n",
            "Example team champion probability: 50.983%\n"
          ]
        }
      ]
    }
  ]
}