{
 "cells": [
  {
   "cell_type": "code",
   "execution_count": 18,
   "id": "9dd3bd1f-8bdb-4d6f-a6bb-c2a8d2559909",
   "metadata": {},
   "outputs": [],
   "source": [
    "import pandas as pd\n",
    "import numpy as np\n",
    "import seaborn as sns\n",
    "import matplotlib.pyplot as plt"
   ]
  },
  {
   "cell_type": "code",
   "execution_count": 2,
   "id": "3a7fbc8a-0f97-4b97-8cfb-0c5ac6c600e5",
   "metadata": {},
   "outputs": [],
   "source": [
    "df=pd.read_csv(\"pl-tables-1996-2024.csv\")"
   ]
  },
  {
   "cell_type": "code",
   "execution_count": 3,
   "id": "7d9e4c79-0827-45b2-a8e6-e740797060c3",
   "metadata": {},
   "outputs": [
    {
     "name": "stdout",
     "output_type": "stream",
     "text": [
      "(580, 12)\n"
     ]
    },
    {
     "data": {
      "text/html": [
       "<div>\n",
       "<style scoped>\n",
       "    .dataframe tbody tr th:only-of-type {\n",
       "        vertical-align: middle;\n",
       "    }\n",
       "\n",
       "    .dataframe tbody tr th {\n",
       "        vertical-align: top;\n",
       "    }\n",
       "\n",
       "    .dataframe thead th {\n",
       "        text-align: right;\n",
       "    }\n",
       "</style>\n",
       "<table border=\"1\" class=\"dataframe\">\n",
       "  <thead>\n",
       "    <tr style=\"text-align: right;\">\n",
       "      <th></th>\n",
       "      <th>season_end_year</th>\n",
       "      <th>team</th>\n",
       "      <th>position</th>\n",
       "      <th>played</th>\n",
       "      <th>won</th>\n",
       "      <th>drawn</th>\n",
       "      <th>lost</th>\n",
       "      <th>gf</th>\n",
       "      <th>ga</th>\n",
       "      <th>gd</th>\n",
       "      <th>points</th>\n",
       "      <th>notes</th>\n",
       "    </tr>\n",
       "  </thead>\n",
       "  <tbody>\n",
       "    <tr>\n",
       "      <th>0</th>\n",
       "      <td>1996</td>\n",
       "      <td>Manchester Utd</td>\n",
       "      <td>1</td>\n",
       "      <td>38</td>\n",
       "      <td>25</td>\n",
       "      <td>7</td>\n",
       "      <td>6</td>\n",
       "      <td>73</td>\n",
       "      <td>35</td>\n",
       "      <td>38</td>\n",
       "      <td>82</td>\n",
       "      <td>→ Champions League via league finish</td>\n",
       "    </tr>\n",
       "    <tr>\n",
       "      <th>1</th>\n",
       "      <td>1996</td>\n",
       "      <td>Newcastle Utd</td>\n",
       "      <td>2</td>\n",
       "      <td>38</td>\n",
       "      <td>24</td>\n",
       "      <td>6</td>\n",
       "      <td>8</td>\n",
       "      <td>66</td>\n",
       "      <td>37</td>\n",
       "      <td>29</td>\n",
       "      <td>78</td>\n",
       "      <td>→ UEFA Cup via league finish</td>\n",
       "    </tr>\n",
       "    <tr>\n",
       "      <th>2</th>\n",
       "      <td>1996</td>\n",
       "      <td>Liverpool</td>\n",
       "      <td>3</td>\n",
       "      <td>38</td>\n",
       "      <td>20</td>\n",
       "      <td>11</td>\n",
       "      <td>7</td>\n",
       "      <td>70</td>\n",
       "      <td>34</td>\n",
       "      <td>36</td>\n",
       "      <td>71</td>\n",
       "      <td>→ UEFA Cup Winners' Cup via cup win 1</td>\n",
       "    </tr>\n",
       "    <tr>\n",
       "      <th>3</th>\n",
       "      <td>1996</td>\n",
       "      <td>Aston Villa</td>\n",
       "      <td>4</td>\n",
       "      <td>38</td>\n",
       "      <td>18</td>\n",
       "      <td>9</td>\n",
       "      <td>11</td>\n",
       "      <td>52</td>\n",
       "      <td>35</td>\n",
       "      <td>17</td>\n",
       "      <td>63</td>\n",
       "      <td>→ UEFA Cup via league finish</td>\n",
       "    </tr>\n",
       "    <tr>\n",
       "      <th>4</th>\n",
       "      <td>1996</td>\n",
       "      <td>Arsenal</td>\n",
       "      <td>5</td>\n",
       "      <td>38</td>\n",
       "      <td>17</td>\n",
       "      <td>12</td>\n",
       "      <td>9</td>\n",
       "      <td>49</td>\n",
       "      <td>32</td>\n",
       "      <td>17</td>\n",
       "      <td>63</td>\n",
       "      <td>→ UEFA Cup via league finish 2</td>\n",
       "    </tr>\n",
       "  </tbody>\n",
       "</table>\n",
       "</div>"
      ],
      "text/plain": [
       "   season_end_year            team  position  played  won  drawn  lost  gf  \\\n",
       "0             1996  Manchester Utd         1      38   25      7     6  73   \n",
       "1             1996   Newcastle Utd         2      38   24      6     8  66   \n",
       "2             1996       Liverpool         3      38   20     11     7  70   \n",
       "3             1996     Aston Villa         4      38   18      9    11  52   \n",
       "4             1996         Arsenal         5      38   17     12     9  49   \n",
       "\n",
       "   ga  gd  points                                  notes  \n",
       "0  35  38      82   → Champions League via league finish  \n",
       "1  37  29      78           → UEFA Cup via league finish  \n",
       "2  34  36      71  → UEFA Cup Winners' Cup via cup win 1  \n",
       "3  35  17      63           → UEFA Cup via league finish  \n",
       "4  32  17      63         → UEFA Cup via league finish 2  "
      ]
     },
     "execution_count": 3,
     "metadata": {},
     "output_type": "execute_result"
    }
   ],
   "source": [
    "print(df.shape)\n",
    "df.head()"
   ]
  },
  {
   "cell_type": "code",
   "execution_count": 4,
   "id": "ac60d6de-19bf-4fcd-8efa-f52b281b974e",
   "metadata": {},
   "outputs": [
    {
     "name": "stdout",
     "output_type": "stream",
     "text": [
      "<class 'pandas.core.frame.DataFrame'>\n",
      "RangeIndex: 580 entries, 0 to 579\n",
      "Data columns (total 12 columns):\n",
      " #   Column           Non-Null Count  Dtype \n",
      "---  ------           --------------  ----- \n",
      " 0   season_end_year  580 non-null    int64 \n",
      " 1   team             580 non-null    object\n",
      " 2   position         580 non-null    int64 \n",
      " 3   played           580 non-null    int64 \n",
      " 4   won              580 non-null    int64 \n",
      " 5   drawn            580 non-null    int64 \n",
      " 6   lost             580 non-null    int64 \n",
      " 7   gf               580 non-null    int64 \n",
      " 8   ga               580 non-null    int64 \n",
      " 9   gd               580 non-null    int64 \n",
      " 10  points           580 non-null    int64 \n",
      " 11  notes            300 non-null    object\n",
      "dtypes: int64(10), object(2)\n",
      "memory usage: 54.5+ KB\n"
     ]
    },
    {
     "data": {
      "text/html": [
       "<div>\n",
       "<style scoped>\n",
       "    .dataframe tbody tr th:only-of-type {\n",
       "        vertical-align: middle;\n",
       "    }\n",
       "\n",
       "    .dataframe tbody tr th {\n",
       "        vertical-align: top;\n",
       "    }\n",
       "\n",
       "    .dataframe thead th {\n",
       "        text-align: right;\n",
       "    }\n",
       "</style>\n",
       "<table border=\"1\" class=\"dataframe\">\n",
       "  <thead>\n",
       "    <tr style=\"text-align: right;\">\n",
       "      <th></th>\n",
       "      <th>season_end_year</th>\n",
       "      <th>position</th>\n",
       "      <th>played</th>\n",
       "      <th>won</th>\n",
       "      <th>drawn</th>\n",
       "      <th>lost</th>\n",
       "      <th>gf</th>\n",
       "      <th>ga</th>\n",
       "      <th>gd</th>\n",
       "      <th>points</th>\n",
       "    </tr>\n",
       "  </thead>\n",
       "  <tbody>\n",
       "    <tr>\n",
       "      <th>count</th>\n",
       "      <td>580.000000</td>\n",
       "      <td>580.000000</td>\n",
       "      <td>580.0</td>\n",
       "      <td>580.000000</td>\n",
       "      <td>580.000000</td>\n",
       "      <td>580.000000</td>\n",
       "      <td>580.000000</td>\n",
       "      <td>580.000000</td>\n",
       "      <td>580.000000</td>\n",
       "      <td>580.000000</td>\n",
       "    </tr>\n",
       "    <tr>\n",
       "      <th>mean</th>\n",
       "      <td>2010.000000</td>\n",
       "      <td>10.500000</td>\n",
       "      <td>38.0</td>\n",
       "      <td>14.218966</td>\n",
       "      <td>9.562069</td>\n",
       "      <td>14.218966</td>\n",
       "      <td>51.217241</td>\n",
       "      <td>51.217241</td>\n",
       "      <td>0.000000</td>\n",
       "      <td>52.177586</td>\n",
       "    </tr>\n",
       "    <tr>\n",
       "      <th>std</th>\n",
       "      <td>8.373822</td>\n",
       "      <td>5.771259</td>\n",
       "      <td>0.0</td>\n",
       "      <td>5.825498</td>\n",
       "      <td>2.843884</td>\n",
       "      <td>5.472682</td>\n",
       "      <td>15.537943</td>\n",
       "      <td>12.990406</td>\n",
       "      <td>25.421898</td>\n",
       "      <td>16.696866</td>\n",
       "    </tr>\n",
       "    <tr>\n",
       "      <th>min</th>\n",
       "      <td>1996.000000</td>\n",
       "      <td>1.000000</td>\n",
       "      <td>38.0</td>\n",
       "      <td>1.000000</td>\n",
       "      <td>2.000000</td>\n",
       "      <td>0.000000</td>\n",
       "      <td>20.000000</td>\n",
       "      <td>15.000000</td>\n",
       "      <td>-69.000000</td>\n",
       "      <td>11.000000</td>\n",
       "    </tr>\n",
       "    <tr>\n",
       "      <th>25%</th>\n",
       "      <td>2003.000000</td>\n",
       "      <td>5.750000</td>\n",
       "      <td>38.0</td>\n",
       "      <td>10.000000</td>\n",
       "      <td>7.000000</td>\n",
       "      <td>10.000000</td>\n",
       "      <td>40.000000</td>\n",
       "      <td>43.000000</td>\n",
       "      <td>-17.000000</td>\n",
       "      <td>41.000000</td>\n",
       "    </tr>\n",
       "    <tr>\n",
       "      <th>50%</th>\n",
       "      <td>2010.000000</td>\n",
       "      <td>10.500000</td>\n",
       "      <td>38.0</td>\n",
       "      <td>13.000000</td>\n",
       "      <td>9.000000</td>\n",
       "      <td>15.000000</td>\n",
       "      <td>48.000000</td>\n",
       "      <td>51.000000</td>\n",
       "      <td>-5.500000</td>\n",
       "      <td>49.000000</td>\n",
       "    </tr>\n",
       "    <tr>\n",
       "      <th>75%</th>\n",
       "      <td>2017.000000</td>\n",
       "      <td>15.250000</td>\n",
       "      <td>38.0</td>\n",
       "      <td>18.000000</td>\n",
       "      <td>11.000000</td>\n",
       "      <td>18.000000</td>\n",
       "      <td>59.250000</td>\n",
       "      <td>59.000000</td>\n",
       "      <td>15.000000</td>\n",
       "      <td>63.000000</td>\n",
       "    </tr>\n",
       "    <tr>\n",
       "      <th>max</th>\n",
       "      <td>2024.000000</td>\n",
       "      <td>20.000000</td>\n",
       "      <td>38.0</td>\n",
       "      <td>32.000000</td>\n",
       "      <td>17.000000</td>\n",
       "      <td>29.000000</td>\n",
       "      <td>106.000000</td>\n",
       "      <td>104.000000</td>\n",
       "      <td>79.000000</td>\n",
       "      <td>100.000000</td>\n",
       "    </tr>\n",
       "  </tbody>\n",
       "</table>\n",
       "</div>"
      ],
      "text/plain": [
       "       season_end_year    position  played         won       drawn  \\\n",
       "count       580.000000  580.000000   580.0  580.000000  580.000000   \n",
       "mean       2010.000000   10.500000    38.0   14.218966    9.562069   \n",
       "std           8.373822    5.771259     0.0    5.825498    2.843884   \n",
       "min        1996.000000    1.000000    38.0    1.000000    2.000000   \n",
       "25%        2003.000000    5.750000    38.0   10.000000    7.000000   \n",
       "50%        2010.000000   10.500000    38.0   13.000000    9.000000   \n",
       "75%        2017.000000   15.250000    38.0   18.000000   11.000000   \n",
       "max        2024.000000   20.000000    38.0   32.000000   17.000000   \n",
       "\n",
       "             lost          gf          ga          gd      points  \n",
       "count  580.000000  580.000000  580.000000  580.000000  580.000000  \n",
       "mean    14.218966   51.217241   51.217241    0.000000   52.177586  \n",
       "std      5.472682   15.537943   12.990406   25.421898   16.696866  \n",
       "min      0.000000   20.000000   15.000000  -69.000000   11.000000  \n",
       "25%     10.000000   40.000000   43.000000  -17.000000   41.000000  \n",
       "50%     15.000000   48.000000   51.000000   -5.500000   49.000000  \n",
       "75%     18.000000   59.250000   59.000000   15.000000   63.000000  \n",
       "max     29.000000  106.000000  104.000000   79.000000  100.000000  "
      ]
     },
     "execution_count": 4,
     "metadata": {},
     "output_type": "execute_result"
    }
   ],
   "source": [
    "df.info()\n",
    "df.isnull().sum()\n",
    "df.describe()\n"
   ]
  },
  {
   "cell_type": "code",
   "execution_count": 6,
   "id": "b79b20ba-65d5-4e05-9715-4735b2afcd07",
   "metadata": {},
   "outputs": [],
   "source": [
    "#is_champion will be the \"y\"\n",
    "df['is_champion'] = (df['position'] == 1).astype(int)"
   ]
  },
  {
   "cell_type": "code",
   "execution_count": 7,
   "id": "c3e600f6-1b9a-4a39-880c-0bafefd3188c",
   "metadata": {},
   "outputs": [
    {
     "name": "stdout",
     "output_type": "stream",
     "text": [
      "season_end_year    0\n",
      "team               0\n",
      "played             0\n",
      "won                0\n",
      "drawn              0\n",
      "lost               0\n",
      "gf                 0\n",
      "ga                 0\n",
      "gd                 0\n",
      "is_champion        0\n",
      "dtype: int64\n"
     ]
    }
   ],
   "source": [
    "#removing positions and points because they directly give us the answer. This will result in data leakage as the model will end up memorizing it instead of learning anything.\n",
    "columns_to_drop = ['position', 'points', 'notes']\n",
    "df = df.drop(columns=columns_to_drop)\n",
    "df.columns = df.columns.str.strip().str.lower().str.replace(' ', '_') # for col names\n",
    "print(df.isnull().sum())\n"
   ]
  },
  {
   "cell_type": "code",
   "execution_count": 10,
   "id": "2f0b9595-5a60-4ee7-a103-e8af4a47c768",
   "metadata": {},
   "outputs": [
    {
     "name": "stdout",
     "output_type": "stream",
     "text": [
      "(580, 10)\n"
     ]
    }
   ],
   "source": [
    "print(df.shape)"
   ]
  },
  {
   "cell_type": "code",
   "execution_count": 11,
   "id": "9dd47145-1d73-444a-9abe-cf4c6b95cc4a",
   "metadata": {},
   "outputs": [],
   "source": [
    "df = df.dropna(subset=['team', 'played', 'won', 'drawn', 'lost', 'gf', 'ga', 'gd']) #if these critical cols have null values then I am removing them\n"
   ]
  },
  {
   "cell_type": "code",
   "execution_count": 12,
   "id": "22c55800-09d9-4ff0-8d83-d98d9023b9c3",
   "metadata": {},
   "outputs": [
    {
     "name": "stdout",
     "output_type": "stream",
     "text": [
      "(580, 10)\n"
     ]
    }
   ],
   "source": [
    "print(df.shape)"
   ]
  },
  {
   "cell_type": "code",
   "execution_count": 13,
   "id": "9cdcd8a3-7f25-4819-a65a-c18256696347",
   "metadata": {},
   "outputs": [],
   "source": [
    "df = df.drop_duplicates()"
   ]
  },
  {
   "cell_type": "code",
   "execution_count": 14,
   "id": "b1bb4fc8-3eb2-4008-a8b8-cd528ea0c038",
   "metadata": {},
   "outputs": [
    {
     "name": "stdout",
     "output_type": "stream",
     "text": [
      "(580, 10)\n"
     ]
    }
   ],
   "source": [
    "print(df.shape)"
   ]
  },
  {
   "cell_type": "code",
   "execution_count": 15,
   "id": "20674ed8-e588-4910-ab81-e0a0e033ea7e",
   "metadata": {},
   "outputs": [],
   "source": [
    "#ensuring that numeric cols are numericall olny\n",
    "numeric_cols = ['played', 'won', 'drawn', 'lost', 'gf', 'ga', 'gd']\n",
    "df[numeric_cols] = df[numeric_cols].apply(pd.to_numeric, errors='coerce')"
   ]
  },
  {
   "cell_type": "code",
   "execution_count": 16,
   "id": "9d2b77fb-6715-40ec-9cff-df07a8dc55fd",
   "metadata": {},
   "outputs": [
    {
     "data": {
      "text/html": [
       "<div>\n",
       "<style scoped>\n",
       "    .dataframe tbody tr th:only-of-type {\n",
       "        vertical-align: middle;\n",
       "    }\n",
       "\n",
       "    .dataframe tbody tr th {\n",
       "        vertical-align: top;\n",
       "    }\n",
       "\n",
       "    .dataframe thead th {\n",
       "        text-align: right;\n",
       "    }\n",
       "</style>\n",
       "<table border=\"1\" class=\"dataframe\">\n",
       "  <thead>\n",
       "    <tr style=\"text-align: right;\">\n",
       "      <th></th>\n",
       "      <th>season_end_year</th>\n",
       "      <th>team</th>\n",
       "      <th>played</th>\n",
       "      <th>won</th>\n",
       "      <th>drawn</th>\n",
       "      <th>lost</th>\n",
       "      <th>gf</th>\n",
       "      <th>ga</th>\n",
       "      <th>gd</th>\n",
       "      <th>is_champion</th>\n",
       "    </tr>\n",
       "  </thead>\n",
       "  <tbody>\n",
       "    <tr>\n",
       "      <th>0</th>\n",
       "      <td>1996</td>\n",
       "      <td>Manchester Utd</td>\n",
       "      <td>38</td>\n",
       "      <td>25</td>\n",
       "      <td>7</td>\n",
       "      <td>6</td>\n",
       "      <td>73</td>\n",
       "      <td>35</td>\n",
       "      <td>38</td>\n",
       "      <td>1</td>\n",
       "    </tr>\n",
       "    <tr>\n",
       "      <th>1</th>\n",
       "      <td>1996</td>\n",
       "      <td>Newcastle Utd</td>\n",
       "      <td>38</td>\n",
       "      <td>24</td>\n",
       "      <td>6</td>\n",
       "      <td>8</td>\n",
       "      <td>66</td>\n",
       "      <td>37</td>\n",
       "      <td>29</td>\n",
       "      <td>0</td>\n",
       "    </tr>\n",
       "    <tr>\n",
       "      <th>2</th>\n",
       "      <td>1996</td>\n",
       "      <td>Liverpool</td>\n",
       "      <td>38</td>\n",
       "      <td>20</td>\n",
       "      <td>11</td>\n",
       "      <td>7</td>\n",
       "      <td>70</td>\n",
       "      <td>34</td>\n",
       "      <td>36</td>\n",
       "      <td>0</td>\n",
       "    </tr>\n",
       "    <tr>\n",
       "      <th>3</th>\n",
       "      <td>1996</td>\n",
       "      <td>Aston Villa</td>\n",
       "      <td>38</td>\n",
       "      <td>18</td>\n",
       "      <td>9</td>\n",
       "      <td>11</td>\n",
       "      <td>52</td>\n",
       "      <td>35</td>\n",
       "      <td>17</td>\n",
       "      <td>0</td>\n",
       "    </tr>\n",
       "    <tr>\n",
       "      <th>4</th>\n",
       "      <td>1996</td>\n",
       "      <td>Arsenal</td>\n",
       "      <td>38</td>\n",
       "      <td>17</td>\n",
       "      <td>12</td>\n",
       "      <td>9</td>\n",
       "      <td>49</td>\n",
       "      <td>32</td>\n",
       "      <td>17</td>\n",
       "      <td>0</td>\n",
       "    </tr>\n",
       "  </tbody>\n",
       "</table>\n",
       "</div>"
      ],
      "text/plain": [
       "   season_end_year            team  played  won  drawn  lost  gf  ga  gd  \\\n",
       "0             1996  Manchester Utd      38   25      7     6  73  35  38   \n",
       "1             1996   Newcastle Utd      38   24      6     8  66  37  29   \n",
       "2             1996       Liverpool      38   20     11     7  70  34  36   \n",
       "3             1996     Aston Villa      38   18      9    11  52  35  17   \n",
       "4             1996         Arsenal      38   17     12     9  49  32  17   \n",
       "\n",
       "   is_champion  \n",
       "0            1  \n",
       "1            0  \n",
       "2            0  \n",
       "3            0  \n",
       "4            0  "
      ]
     },
     "execution_count": 16,
     "metadata": {},
     "output_type": "execute_result"
    }
   ],
   "source": [
    "df.head()"
   ]
  },
  {
   "cell_type": "code",
   "execution_count": 20,
   "id": "a9858380-a3e5-4e72-811a-0f4f5264e7cb",
   "metadata": {},
   "outputs": [
    {
     "data": {
      "image/png": "[encoded data removed]",
      "text/plain": [
       "<Figure size 1200x800 with 2 Axes>"
      ]
     },
     "metadata": {},
     "output_type": "display_data"
    }
   ],
   "source": [
    "numeric_features = df.select_dtypes(include=['int64', 'float64']).columns.tolist() #list of cols\n",
    "numeric_features.remove('is_champion')\n",
    "corr_matrix = df[numeric_features + ['is_champion']].corr() #makes matrix\n",
    "plt.figure(figsize=(12, 8))\n",
    "sns.heatmap(corr_matrix, annot=True, cmap='coolwarm', fmt=\".2f\")\n",
    "plt.title(\"Feature Correlation with Target\")\n",
    "plt.show()\n",
    "#played is giving blank because it is connstant (38) for the data between 1996 to 2024 (I removed the data from 1993-95) as they had 42 matches. This wouldve created a bias"
   ]
  },
  {
   "cell_type": "code",
   "execution_count": null,
   "id": "fd9b8066-1ff6-46a5-8033-d36927bc3547",
   "metadata": {},
   "outputs": [],
   "source": []
  }
 ],
 "metadata": {
  "kernelspec": {
   "display_name": "Python 3 (ipykernel)",
   "language": "python",
   "name": "python3"
  },
  "language_info": {
   "codemirror_mode": {
    "name": "ipython",
    "version": 3
   },
   "file_extension": ".py",
   "mimetype": "text/x-python",
   "name": "python",
   "nbconvert_exporter": "python",
   "pygments_lexer": "ipython3",
   "version": "3.12.6"
  }
 },
 "nbformat": 4,
 "nbformat_minor": 5
}
