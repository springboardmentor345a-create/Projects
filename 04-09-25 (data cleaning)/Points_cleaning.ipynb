{
 "cells": [
  {
   "cell_type": "markdown",
   "id": "a3d80970-eaa7-4146-bd0f-8b1a152d93d1",
   "metadata": {},
   "source": [
    "# Cleaning Points.csv\n",
    "In this notebook, the dataset Points.csv has been cleaned to prepare it for predicting overall points. The target variable is 'Points'."
   ]
  },
  {
   "cell_type": "markdown",
   "id": "ad6bf74e-c37b-45ad-a835-88d2f420b7a9",
   "metadata": {},
   "source": [
    "### Loading the dataset"
   ]
  },
  {
   "cell_type": "code",
   "execution_count": 9,
   "id": "dcec5c92-048a-4438-83a7-a2d7a7bf3d2a",
   "metadata": {},
   "outputs": [],
   "source": [
    "import pandas as pd"
   ]
  },
  {
   "cell_type": "code",
   "execution_count": 10,
   "id": "71ff3144-dfd4-49a1-8eb0-5b08fa2d1b12",
   "metadata": {},
   "outputs": [],
   "source": [
    "df = pd.read_csv(\"../Points.csv\")"
   ]
  },
  {
   "cell_type": "markdown",
   "id": "f9baff79-96f3-4fff-8774-1aaa77505595",
   "metadata": {},
   "source": [
    "### Dropping unnecessary columns\n",
    "\n",
    "We will only keep the relevant columns: <br>\n",
    "position <br>\n",
    "gf <br>\n",
    "ga <br>\n",
    "gd <br>\n",
    "points <br>"
   ]
  },
  {
   "cell_type": "code",
   "execution_count": 11,
   "id": "eef369c4-23df-4b90-a2b1-eb264aafd39c",
   "metadata": {},
   "outputs": [
    {
     "name": "stdout",
     "output_type": "stream",
     "text": [
      "Index(['season_end_year', 'team', 'position', 'played', 'won', 'drawn', 'lost',\n",
      "       'gf', 'ga', 'gd', 'points', 'notes'],\n",
      "      dtype='object')\n"
     ]
    }
   ],
   "source": [
    "print(df.columns)"
   ]
  },
  {
   "cell_type": "code",
   "execution_count": 12,
   "id": "803624b0-d59f-4193-960b-2dc815dbae4c",
   "metadata": {},
   "outputs": [],
   "source": [
    "df = df.drop(['season_end_year', 'played', 'won', 'drawn', 'lost', 'notes'], axis = 1)"
   ]
  },
  {
   "cell_type": "code",
   "execution_count": 13,
   "id": "e37a9a1e-1e6e-4369-aab7-9da143b8c3fb",
   "metadata": {},
   "outputs": [
    {
     "name": "stdout",
     "output_type": "stream",
     "text": [
      "Index(['team', 'position', 'gf', 'ga', 'gd', 'points'], dtype='object')\n"
     ]
    }
   ],
   "source": [
    "print(df.columns)"
   ]
  },
  {
   "cell_type": "markdown",
   "id": "e344453a-bc1e-446b-b300-d47c60d9d8ba",
   "metadata": {},
   "source": [
    "### Check for null values"
   ]
  },
  {
   "cell_type": "code",
   "execution_count": 14,
   "id": "78c8d75a-c25a-4341-a2a4-2a5422c9d778",
   "metadata": {},
   "outputs": [
    {
     "name": "stdout",
     "output_type": "stream",
     "text": [
      "team        0\n",
      "position    0\n",
      "gf          0\n",
      "ga          0\n",
      "gd          0\n",
      "points      0\n",
      "dtype: int64\n"
     ]
    }
   ],
   "source": [
    "print(df.isnull().sum())"
   ]
  },
  {
   "cell_type": "markdown",
   "id": "261b4b46-f516-46fe-a34f-9e261107516f",
   "metadata": {},
   "source": [
    "### Check for duplicate values"
   ]
  },
  {
   "cell_type": "code",
   "execution_count": 15,
   "id": "eba7f745-5d76-46d1-b874-713c43a3e9e4",
   "metadata": {},
   "outputs": [
    {
     "name": "stdout",
     "output_type": "stream",
     "text": [
      "0\n"
     ]
    }
   ],
   "source": [
    "print(df.duplicated().sum())"
   ]
  },
  {
   "cell_type": "markdown",
   "id": "c1a9c402-9f03-4f07-b6a2-bf1311c95541",
   "metadata": {},
   "source": [
    "### Final dataset overview"
   ]
  },
  {
   "cell_type": "code",
   "execution_count": 16,
   "id": "cc1b4ff0-266b-4e5d-970a-b2dbde2a8de5",
   "metadata": {},
   "outputs": [
    {
     "name": "stdout",
     "output_type": "stream",
     "text": [
      "Final shape of dataset: (646, 6)\n"
     ]
    },
    {
     "data": {
      "text/html": [
       "<div>\n",
       "<style scoped>\n",
       "    .dataframe tbody tr th:only-of-type {\n",
       "        vertical-align: middle;\n",
       "    }\n",
       "\n",
       "    .dataframe tbody tr th {\n",
       "        vertical-align: top;\n",
       "    }\n",
       "\n",
       "    .dataframe thead th {\n",
       "        text-align: right;\n",
       "    }\n",
       "</style>\n",
       "<table border=\"1\" class=\"dataframe\">\n",
       "  <thead>\n",
       "    <tr style=\"text-align: right;\">\n",
       "      <th></th>\n",
       "      <th>team</th>\n",
       "      <th>position</th>\n",
       "      <th>gf</th>\n",
       "      <th>ga</th>\n",
       "      <th>gd</th>\n",
       "      <th>points</th>\n",
       "    </tr>\n",
       "  </thead>\n",
       "  <tbody>\n",
       "    <tr>\n",
       "      <th>0</th>\n",
       "      <td>Manchester Utd</td>\n",
       "      <td>1</td>\n",
       "      <td>67</td>\n",
       "      <td>31</td>\n",
       "      <td>36</td>\n",
       "      <td>84</td>\n",
       "    </tr>\n",
       "    <tr>\n",
       "      <th>1</th>\n",
       "      <td>Aston Villa</td>\n",
       "      <td>2</td>\n",
       "      <td>57</td>\n",
       "      <td>40</td>\n",
       "      <td>17</td>\n",
       "      <td>74</td>\n",
       "    </tr>\n",
       "    <tr>\n",
       "      <th>2</th>\n",
       "      <td>Norwich City</td>\n",
       "      <td>3</td>\n",
       "      <td>61</td>\n",
       "      <td>65</td>\n",
       "      <td>-4</td>\n",
       "      <td>72</td>\n",
       "    </tr>\n",
       "    <tr>\n",
       "      <th>3</th>\n",
       "      <td>Blackburn</td>\n",
       "      <td>4</td>\n",
       "      <td>68</td>\n",
       "      <td>46</td>\n",
       "      <td>22</td>\n",
       "      <td>71</td>\n",
       "    </tr>\n",
       "    <tr>\n",
       "      <th>4</th>\n",
       "      <td>QPR</td>\n",
       "      <td>5</td>\n",
       "      <td>63</td>\n",
       "      <td>55</td>\n",
       "      <td>8</td>\n",
       "      <td>63</td>\n",
       "    </tr>\n",
       "  </tbody>\n",
       "</table>\n",
       "</div>"
      ],
      "text/plain": [
       "             team  position  gf  ga  gd  points\n",
       "0  Manchester Utd         1  67  31  36      84\n",
       "1     Aston Villa         2  57  40  17      74\n",
       "2    Norwich City         3  61  65  -4      72\n",
       "3       Blackburn         4  68  46  22      71\n",
       "4             QPR         5  63  55   8      63"
      ]
     },
     "execution_count": 16,
     "metadata": {},
     "output_type": "execute_result"
    }
   ],
   "source": [
    "print(\"Final shape of dataset:\", df.shape)\n",
    "df.head()"
   ]
  },
  {
   "cell_type": "markdown",
   "id": "862b3c23-7d62-4fd8-881e-cc6a728739ad",
   "metadata": {},
   "source": [
    "### Saving the cleaned dataset"
   ]
  },
  {
   "cell_type": "code",
   "execution_count": 17,
   "id": "3401cde8-c662-4f99-969b-6b40c1d06844",
   "metadata": {},
   "outputs": [],
   "source": [
    "df.to_csv(\"../Points_cleaned.csv\", index = False)"
   ]
  },
  {
   "cell_type": "code",
   "execution_count": null,
   "id": "27233d76-1b66-49ef-8855-5b3abc312536",
   "metadata": {},
   "outputs": [],
   "source": []
  }
 ],
 "metadata": {
  "kernelspec": {
   "display_name": "Python 3 (ipykernel)",
   "language": "python",
   "name": "python3"
  },
  "language_info": {
   "codemirror_mode": {
    "name": "ipython",
    "version": 3
   },
   "file_extension": ".py",
   "mimetype": "text/x-python",
   "name": "python",
   "nbconvert_exporter": "python",
   "pygments_lexer": "ipython3",
   "version": "3.13.3"
  }
 },
 "nbformat": 4,
 "nbformat_minor": 5
}
