{
 "cells": [
  {
   "cell_type": "markdown",
   "id": "d3af3529-eb39-412b-b9e4-ba0ffadbe572",
   "metadata": {},
   "source": [
    "# Cleaning Match Winner.csv\n",
    "\n",
    "In this notebook, the dataset Match Winner.csv has been cleaned to prepare it for classification task that predicts match winners. The target variable is 'FullTimeResult'."
   ]
  },
  {
   "cell_type": "markdown",
   "id": "b2d83d95-da48-431f-a691-bfe52acfddf7",
   "metadata": {},
   "source": [
    "### Loading the dataset"
   ]
  },
  {
   "cell_type": "code",
   "execution_count": 29,
   "id": "2e769f80-6852-408b-b434-27368ae58782",
   "metadata": {},
   "outputs": [],
   "source": [
    "import pandas as pd"
   ]
  },
  {
   "cell_type": "code",
   "execution_count": 30,
   "id": "8a8a6f49-858c-4434-8d25-af3631760143",
   "metadata": {},
   "outputs": [],
   "source": [
    "df = pd.read_csv(\"../Match Winner.csv\")"
   ]
  },
  {
   "cell_type": "markdown",
   "id": "98a93823-e3ab-48ed-9091-5198467e6021",
   "metadata": {},
   "source": [
    "### Dropping unnecessary columns\n",
    "\n",
    "We will only keep the relevant columns: <br>\n",
    "HomeTeam <br>\n",
    "AwayTeam <br>\n",
    "HalfTimeHomeGoals <br>\n",
    "HalfTimeAwayGoals <br>\n",
    "HalfTimeResult <br>\n",
    "FullTimeResult <br>"
   ]
  },
  {
   "cell_type": "code",
   "execution_count": 31,
   "id": "704cc4ae-5fca-40ed-a08c-8fc24eefaa25",
   "metadata": {},
   "outputs": [
    {
     "name": "stdout",
     "output_type": "stream",
     "text": [
      "Index(['Season', 'MatchDate', 'HomeTeam', 'AwayTeam', 'FullTimeHomeGoals',\n",
      "       'FullTimeAwayGoals', 'FullTimeResult', 'HalfTimeHomeGoals',\n",
      "       'HalfTimeAwayGoals', 'HalfTimeResult', 'HomeShots', 'AwayShots',\n",
      "       'HomeShotsOnTarget', 'AwayShotsOnTarget', 'HomeCorners', 'AwayCorners',\n",
      "       'HomeFouls', 'AwayFouls', 'HomeYellowCards', 'AwayYellowCards',\n",
      "       'HomeRedCards', 'AwayRedCards'],\n",
      "      dtype='object')\n"
     ]
    }
   ],
   "source": [
    "print(df.columns)"
   ]
  },
  {
   "cell_type": "code",
   "execution_count": 32,
   "id": "4ed8cea5-ae36-4b17-95fb-a4ac28bbf937",
   "metadata": {},
   "outputs": [],
   "source": [
    "df=df.drop(['Season', \n",
    "            'MatchDate',\n",
    "            'HomeShots', \n",
    "            'FullTimeHomeGoals',\n",
    "            'FullTimeAwayGoals', \n",
    "            'AwayShots',\n",
    "            'HomeShotsOnTarget',\n",
    "            'AwayShotsOnTarget',\n",
    "            'HomeCorners',\n",
    "            'AwayCorners',\n",
    "            'HomeFouls',\n",
    "            'AwayFouls',\n",
    "            'HomeYellowCards',\n",
    "            'AwayYellowCards',\n",
    "            'HomeRedCards',\n",
    "            'AwayRedCards'],axis=1)"
   ]
  },
  {
   "cell_type": "code",
   "execution_count": 33,
   "id": "76ac0fc9-d791-4a45-8878-cb8e172cd88a",
   "metadata": {},
   "outputs": [
    {
     "name": "stdout",
     "output_type": "stream",
     "text": [
      "Index(['HomeTeam', 'AwayTeam', 'FullTimeResult', 'HalfTimeHomeGoals',\n",
      "       'HalfTimeAwayGoals', 'HalfTimeResult'],\n",
      "      dtype='object')\n"
     ]
    }
   ],
   "source": [
    "print(df.columns)"
   ]
  },
  {
   "cell_type": "markdown",
   "id": "7f9f57e6-dab9-4a67-934c-e9fba0ddafb2",
   "metadata": {},
   "source": [
    "### Check for null values"
   ]
  },
  {
   "cell_type": "code",
   "execution_count": 34,
   "id": "dc69e822-78b9-40fa-8a9c-c2a91337ca0b",
   "metadata": {},
   "outputs": [
    {
     "data": {
      "text/plain": [
       "HomeTeam             0\n",
       "AwayTeam             0\n",
       "FullTimeResult       0\n",
       "HalfTimeHomeGoals    0\n",
       "HalfTimeAwayGoals    0\n",
       "HalfTimeResult       0\n",
       "dtype: int64"
      ]
     },
     "execution_count": 34,
     "metadata": {},
     "output_type": "execute_result"
    }
   ],
   "source": [
    "df.isnull().sum()"
   ]
  },
  {
   "cell_type": "markdown",
   "id": "4e254a8f-d4f8-4a64-bc8e-e312fa32329b",
   "metadata": {},
   "source": [
    "### Check for duplicate values"
   ]
  },
  {
   "cell_type": "code",
   "execution_count": 35,
   "id": "4f6f4c3a-4a1c-4a87-b0ad-bde1fdad171f",
   "metadata": {},
   "outputs": [
    {
     "name": "stdout",
     "output_type": "stream",
     "text": [
      "2704\n"
     ]
    }
   ],
   "source": [
    "print(df.duplicated().sum())"
   ]
  },
  {
   "cell_type": "code",
   "execution_count": 36,
   "id": "f2df7ddd-05f0-418a-ad93-c05b75ed3604",
   "metadata": {},
   "outputs": [],
   "source": [
    "df = df.drop_duplicates()"
   ]
  },
  {
   "cell_type": "code",
   "execution_count": 37,
   "id": "f85be792-bc1e-4cf1-a52b-6d989f346282",
   "metadata": {},
   "outputs": [
    {
     "name": "stdout",
     "output_type": "stream",
     "text": [
      "0\n"
     ]
    }
   ],
   "source": [
    "print(df.duplicated().sum())"
   ]
  },
  {
   "cell_type": "markdown",
   "id": "26c07c6d-2c06-4bdd-bc77-28ac9b04a50c",
   "metadata": {},
   "source": [
    "### Final dataset overview"
   ]
  },
  {
   "cell_type": "code",
   "execution_count": 38,
   "id": "91c4bf77-6b2a-4124-a947-19a6eea61c97",
   "metadata": {},
   "outputs": [
    {
     "name": "stdout",
     "output_type": "stream",
     "text": [
      "Final shape of dataset: (6676, 6)\n"
     ]
    },
    {
     "data": {
      "text/html": [
       "<div>\n",
       "<style scoped>\n",
       "    .dataframe tbody tr th:only-of-type {\n",
       "        vertical-align: middle;\n",
       "    }\n",
       "\n",
       "    .dataframe tbody tr th {\n",
       "        vertical-align: top;\n",
       "    }\n",
       "\n",
       "    .dataframe thead th {\n",
       "        text-align: right;\n",
       "    }\n",
       "</style>\n",
       "<table border=\"1\" class=\"dataframe\">\n",
       "  <thead>\n",
       "    <tr style=\"text-align: right;\">\n",
       "      <th></th>\n",
       "      <th>HomeTeam</th>\n",
       "      <th>AwayTeam</th>\n",
       "      <th>FullTimeResult</th>\n",
       "      <th>HalfTimeHomeGoals</th>\n",
       "      <th>HalfTimeAwayGoals</th>\n",
       "      <th>HalfTimeResult</th>\n",
       "    </tr>\n",
       "  </thead>\n",
       "  <tbody>\n",
       "    <tr>\n",
       "      <th>0</th>\n",
       "      <td>Charlton</td>\n",
       "      <td>Man City</td>\n",
       "      <td>H</td>\n",
       "      <td>2</td>\n",
       "      <td>0</td>\n",
       "      <td>H</td>\n",
       "    </tr>\n",
       "    <tr>\n",
       "      <th>1</th>\n",
       "      <td>Chelsea</td>\n",
       "      <td>West Ham</td>\n",
       "      <td>H</td>\n",
       "      <td>1</td>\n",
       "      <td>0</td>\n",
       "      <td>H</td>\n",
       "    </tr>\n",
       "    <tr>\n",
       "      <th>2</th>\n",
       "      <td>Coventry</td>\n",
       "      <td>Middlesbrough</td>\n",
       "      <td>A</td>\n",
       "      <td>1</td>\n",
       "      <td>1</td>\n",
       "      <td>D</td>\n",
       "    </tr>\n",
       "    <tr>\n",
       "      <th>3</th>\n",
       "      <td>Derby</td>\n",
       "      <td>Southampton</td>\n",
       "      <td>D</td>\n",
       "      <td>1</td>\n",
       "      <td>2</td>\n",
       "      <td>A</td>\n",
       "    </tr>\n",
       "    <tr>\n",
       "      <th>4</th>\n",
       "      <td>Leeds</td>\n",
       "      <td>Everton</td>\n",
       "      <td>H</td>\n",
       "      <td>2</td>\n",
       "      <td>0</td>\n",
       "      <td>H</td>\n",
       "    </tr>\n",
       "  </tbody>\n",
       "</table>\n",
       "</div>"
      ],
      "text/plain": [
       "   HomeTeam       AwayTeam FullTimeResult  HalfTimeHomeGoals  \\\n",
       "0  Charlton       Man City              H                  2   \n",
       "1   Chelsea       West Ham              H                  1   \n",
       "2  Coventry  Middlesbrough              A                  1   \n",
       "3     Derby    Southampton              D                  1   \n",
       "4     Leeds        Everton              H                  2   \n",
       "\n",
       "   HalfTimeAwayGoals HalfTimeResult  \n",
       "0                  0              H  \n",
       "1                  0              H  \n",
       "2                  1              D  \n",
       "3                  2              A  \n",
       "4                  0              H  "
      ]
     },
     "execution_count": 38,
     "metadata": {},
     "output_type": "execute_result"
    }
   ],
   "source": [
    "print(\"Final shape of dataset:\", df.shape)\n",
    "df.head()"
   ]
  },
  {
   "cell_type": "markdown",
   "id": "c52ab2a1-6cc5-4783-9a98-97a296136075",
   "metadata": {},
   "source": [
    "### Saving the cleaned dataset"
   ]
  },
  {
   "cell_type": "code",
   "execution_count": 39,
   "id": "6110890e-a852-4c31-bca5-46898335b721",
   "metadata": {},
   "outputs": [],
   "source": [
    "df.to_csv(\"Match_cleaned.csv\", index=False)"
   ]
  }
 ],
 "metadata": {
  "kernelspec": {
   "display_name": "Python 3 (ipykernel)",
   "language": "python",
   "name": "python3"
  },
  "language_info": {
   "codemirror_mode": {
    "name": "ipython",
    "version": 3
   },
   "file_extension": ".py",
   "mimetype": "text/x-python",
   "name": "python",
   "nbconvert_exporter": "python",
   "pygments_lexer": "ipython3",
   "version": "3.13.3"
  }
 },
 "nbformat": 4,
 "nbformat_minor": 5
}
