{
  "cells": [
    {
      "cell_type": "code",
      "execution_count": null,
      "metadata": {
        "id": "OMsdvxwvqFS0"
      },
      "outputs": [],
      "source": [
        "# import libraries\n",
        "import pandas as pd, numpy as np, joblib\n",
        "from sklearn.preprocessing import LabelEncoder, StandardScaler\n",
        "from google.colab import files"
      ]
    },
    {
      "cell_type": "code",
      "execution_count": null,
      "metadata": {},
      "outputs": [],
      "source": []
    },
    {
      "cell_type": "code",
      "execution_count": null,
      "metadata": {
        "colab": {
          "base_uri": "https://localhost:8080/",
          "height": 74
        },
        "id": "JtzWTpp8uy9A",
        "outputId": "39bbfd61-14db-4da6-a2ff-efdc529eb5fc"
      },
      "outputs": [
        {
          "data": {
            "text/html": [
              "\n",
              "     <input type=\"file\" id=\"files-300c0eb9-99a4-46a1-a76d-f56172e45ac7\" name=\"files[]\" multiple disabled\n",
              "        style=\"border:none\" />\n",
              "     <output id=\"result-300c0eb9-99a4-46a1-a76d-f56172e45ac7\">\n",
              "      Upload widget is only available when the cell has been executed in the\n",
              "      current browser session. Please rerun this cell to enable.\n",
              "      </output>\n",
              "      <script>// Copyright 2017 Google LLC\n",
              "//\n",
              "// Licensed under the Apache License, Version 2.0 (the \"License\");\n",
              "// you may not use this file except in compliance with the License.\n",
              "// You may obtain a copy of the License at\n",
              "//\n",
              "//      http://www.apache.org/licenses/LICENSE-2.0\n",
              "//\n",
              "// Unless required by applicable law or agreed to in writing, software\n",
              "// distributed under the License is distributed on an \"AS IS\" BASIS,\n",
              "// WITHOUT WARRANTIES OR CONDITIONS OF ANY KIND, either express or implied.\n",
              "// See the License for the specific language governing permissions and\n",
              "// limitations under the License.\n",
              "\n",
              "/**\n",
              " * @fileoverview Helpers for google.colab Python module.\n",
              " */\n",
              "(function(scope) {\n",
              "function span(text, styleAttributes = {}) {\n",
              "  const element = document.createElement('span');\n",
              "  element.textContent = text;\n",
              "  for (const key of Object.keys(styleAttributes)) {\n",
              "    element.style[key] = styleAttributes[key];\n",
              "  }\n",
              "  return element;\n",
              "}\n",
              "\n",
              "// Max number of bytes which will be uploaded at a time.\n",
              "const MAX_PAYLOAD_SIZE = 100 * 1024;\n",
              "\n",
              "function _uploadFiles(inputId, outputId) {\n",
              "  const steps = uploadFilesStep(inputId, outputId);\n",
              "  const outputElement = document.getElementById(outputId);\n",
              "  // Cache steps on the outputElement to make it available for the next call\n",
              "  // to uploadFilesContinue from Python.\n",
              "  outputElement.steps = steps;\n",
              "\n",
              "  return _uploadFilesContinue(outputId);\n",
              "}\n",
              "\n",
              "// This is roughly an async generator (not supported in the browser yet),\n",
              "// where there are multiple asynchronous steps and the Python side is going\n",
              "// to poll for completion of each step.\n",
              "// This uses a Promise to block the python side on completion of each step,\n",
              "// then passes the result of the previous step as the input to the next step.\n",
              "function _uploadFilesContinue(outputId) {\n",
              "  const outputElement = document.getElementById(outputId);\n",
              "  const steps = outputElement.steps;\n",
              "\n",
              "  const next = steps.next(outputElement.lastPromiseValue);\n",
              "  return Promise.resolve(next.value.promise).then((value) => {\n",
              "    // Cache the last promise value to make it available to the next\n",
              "    // step of the generator.\n",
              "    outputElement.lastPromiseValue = value;\n",
              "    return next.value.response;\n",
              "  });\n",
              "}\n",
              "\n",
              "/**\n",
              " * Generator function which is called between each async step of the upload\n",
              " * process.\n",
              " * @param {string} inputId Element ID of the input file picker element.\n",
              " * @param {string} outputId Element ID of the output display.\n",
              " * @return {!Iterable<!Object>} Iterable of next steps.\n",
              " */\n",
              "function* uploadFilesStep(inputId, outputId) {\n",
              "  const inputElement = document.getElementById(inputId);\n",
              "  inputElement.disabled = false;\n",
              "\n",
              "  const outputElement = document.getElementById(outputId);\n",
              "  outputElement.innerHTML = '';\n",
              "\n",
              "  const pickedPromise = new Promise((resolve) => {\n",
              "    inputElement.addEventListener('change', (e) => {\n",
              "      resolve(e.target.files);\n",
              "    });\n",
              "  });\n",
              "\n",
              "  const cancel = document.createElement('button');\n",
              "  inputElement.parentElement.appendChild(cancel);\n",
              "  cancel.textContent = 'Cancel upload';\n",
              "  const cancelPromise = new Promise((resolve) => {\n",
              "    cancel.onclick = () => {\n",
              "      resolve(null);\n",
              "    };\n",
              "  });\n",
              "\n",
              "  // Wait for the user to pick the files.\n",
              "  const files = yield {\n",
              "    promise: Promise.race([pickedPromise, cancelPromise]),\n",
              "    response: {\n",
              "      action: 'starting',\n",
              "    }\n",
              "  };\n",
              "\n",
              "  cancel.remove();\n",
              "\n",
              "  // Disable the input element since further picks are not allowed.\n",
              "  inputElement.disabled = true;\n",
              "\n",
              "  if (!files) {\n",
              "    return {\n",
              "      response: {\n",
              "        action: 'complete',\n",
              "      }\n",
              "    };\n",
              "  }\n",
              "\n",
              "  for (const file of files) {\n",
              "    const li = document.createElement('li');\n",
              "    li.append(span(file.name, {fontWeight: 'bold'}));\n",
              "    li.append(span(\n",
              "        `(${file.type || 'n/a'}) - ${file.size} bytes, ` +\n",
              "        `last modified: ${\n",
              "            file.lastModifiedDate ? file.lastModifiedDate.toLocaleDateString() :\n",
              "                                    'n/a'} - `));\n",
              "    const percent = span('0% done');\n",
              "    li.appendChild(percent);\n",
              "\n",
              "    outputElement.appendChild(li);\n",
              "\n",
              "    const fileDataPromise = new Promise((resolve) => {\n",
              "      const reader = new FileReader();\n",
              "      reader.onload = (e) => {\n",
              "        resolve(e.target.result);\n",
              "      };\n",
              "      reader.readAsArrayBuffer(file);\n",
              "    });\n",
              "    // Wait for the data to be ready.\n",
              "    let fileData = yield {\n",
              "      promise: fileDataPromise,\n",
              "      response: {\n",
              "        action: 'continue',\n",
              "      }\n",
              "    };\n",
              "\n",
              "    // Use a chunked sending to avoid message size limits. See b/62115660.\n",
              "    let position = 0;\n",
              "    do {\n",
              "      const length = Math.min(fileData.byteLength - position, MAX_PAYLOAD_SIZE);\n",
              "      const chunk = new Uint8Array(fileData, position, length);\n",
              "      position += length;\n",
              "\n",
              "      const base64 = btoa(String.fromCharCode.apply(null, chunk));\n",
              "      yield {\n",
              "        response: {\n",
              "          action: 'append',\n",
              "          file: file.name,\n",
              "          data: base64,\n",
              "        },\n",
              "      };\n",
              "\n",
              "      let percentDone = fileData.byteLength === 0 ?\n",
              "          100 :\n",
              "          Math.round((position / fileData.byteLength) * 100);\n",
              "      percent.textContent = `${percentDone}% done`;\n",
              "\n",
              "    } while (position < fileData.byteLength);\n",
              "  }\n",
              "\n",
              "  // All done.\n",
              "  yield {\n",
              "    response: {\n",
              "      action: 'complete',\n",
              "    }\n",
              "  };\n",
              "}\n",
              "\n",
              "scope.google = scope.google || {};\n",
              "scope.google.colab = scope.google.colab || {};\n",
              "scope.google.colab._files = {\n",
              "  _uploadFiles,\n",
              "  _uploadFilesContinue,\n",
              "};\n",
              "})(self);\n",
              "</script> "
            ],
            "text/plain": [
              "<IPython.core.display.HTML object>"
            ]
          },
          "metadata": {},
          "output_type": "display_data"
        },
        {
          "name": "stdout",
          "output_type": "stream",
          "text": [
            "Saving Match Winner.csv to Match Winner (2).csv\n"
          ]
        }
      ],
      "source": [
        "# upload dataset\n",
        "uploaded = files.upload()\n",
        "fname = list(uploaded.keys())[0]\n",
        "df = pd.read_csv(fname)"
      ]
    },
    {
      "cell_type": "markdown",
      "metadata": {},
      "source": [
        "Here we have dropped unwanted columns so that the model learns exactly what it reuires for best prediction"
      ]
    },
    {
      "cell_type": "code",
      "execution_count": null,
      "metadata": {
        "id": "5YZ8NN_iuy4o"
      },
      "outputs": [],
      "source": [
        "# drop leakage columns\n",
        "drop_cols = ['HalfTimeHomeGoals','HalfTimeAwayGoals','HalfTimeResult',\n",
        "             'HomeShots','AwayShots','HomeShotsOnTarget','AwayShotsOnTarget',\n",
        "             'HomeCorners','AwayCorners','HomeFouls','AwayFouls',\n",
        "             'HomeYellowCards','AwayYellowCards','HomeRedCards','AwayRedCards']\n",
        "df.drop(columns=[c for c in drop_cols if c in df.columns], inplace=True, errors='ignore')\n"
      ]
    },
    {
      "cell_type": "markdown",
      "metadata": {},
      "source": [
        "Printing dropped columns and remaining coluns actually gives us the overview of how data is present in it "
      ]
    },
    {
      "cell_type": "code",
      "execution_count": null,
      "metadata": {
        "colab": {
          "base_uri": "https://localhost:8080/"
        },
        "id": "nKVPjVZ0waPq",
        "outputId": "cc66916a-c1b4-44cc-ba55-18a3c168b7a5"
      },
      "outputs": [
        {
          "name": "stdout",
          "output_type": "stream",
          "text": [
            "Dropped columns: ['HalfTimeHomeGoals', 'HalfTimeAwayGoals', 'HalfTimeResult', 'HomeShots', 'AwayShots', 'HomeShotsOnTarget', 'AwayShotsOnTarget', 'HomeCorners', 'AwayCorners', 'HomeFouls', 'AwayFouls', 'HomeYellowCards', 'AwayYellowCards', 'HomeRedCards', 'AwayRedCards']\n",
            "Remaining columns: ['match_id', 'Season', 'MatchDate', 'HomeTeam', 'AwayTeam', 'FullTimeHomeGoals', 'FullTimeAwayGoals', 'FullTimeResult', 'home_form', 'home_avg_gf', 'home_avg_ga', 'home_h2h', 'home_h2h_prev_meetings', 'away_form', 'away_avg_gf', 'away_avg_ga', 'away_h2h', 'away_h2h_prev_meetings', 'month', 'day_of_week', 'result_label', 'home_team_enc', 'away_team_enc']\n"
          ]
        }
      ],
      "source": [
        "print(\"Dropped columns:\", drop_cols)\n",
        "print(\"Remaining columns:\", df.columns.tolist())"
      ]
    },
    {
      "cell_type": "code",
      "execution_count": null,
      "metadata": {
        "id": "SVqZwmXruy2i"
      },
      "outputs": [],
      "source": [
        "# create match_id and season\n",
        "df = df.sort_values('MatchDate').reset_index(drop=True).reset_index().rename(columns={'index':'match_id'})\n",
        "if 'Season' not in df.columns:\n",
        "    df['Season'] = df['MatchDate'].dt.year"
      ]
    },
    {
      "cell_type": "markdown",
      "metadata": {},
      "source": [
        "Manipulating the names of the columns so that it is easily undersood and also changing home and away to \"1\" , \"0\""
      ]
    },
    {
      "cell_type": "code",
      "execution_count": null,
      "metadata": {
        "id": "U3w5iu23qFQT"
      },
      "outputs": [],
      "source": [
        "# expand to team-match rows\n",
        "home = df[['match_id','MatchDate','Season','HomeTeam','AwayTeam','FullTimeHomeGoals','FullTimeAwayGoals']].rename(\n",
        "    columns={'HomeTeam':'team','AwayTeam':'opponent','FullTimeHomeGoals':'goals_for','FullTimeAwayGoals':'goals_against'})\n",
        "home['is_home']=1\n",
        "away = df[['match_id','MatchDate','Season','HomeTeam','AwayTeam','FullTimeHomeGoals','FullTimeAwayGoals']].rename(\n",
        "    columns={'AwayTeam':'team','HomeTeam':'opponent','FullTimeAwayGoals':'goals_for','FullTimeHomeGoals':'goals_against'})\n",
        "away['is_home']=0\n",
        "tm = pd.concat([home,away],ignore_index=True).sort_values(['team','MatchDate']).reset_index(drop=True)"
      ]
    },
    {
      "cell_type": "markdown",
      "metadata": {},
      "source": [
        "Here we are creating a head to head record of teams with rest others using a rolling approach based on past 5 matches against each other "
      ]
    },
    {
      "cell_type": "code",
      "execution_count": null,
      "metadata": {
        "id": "njdb-qoamRHS"
      },
      "outputs": [],
      "source": [
        "# add points and rolling features\n",
        "tm['points'] = np.where(tm['goals_for']>tm['goals_against'],3,\n",
        "                        np.where(tm['goals_for']==tm['goals_against'],1,0))\n",
        "tm['form_rolling'] = tm.groupby('team')['points'].transform(lambda s: s.shift().rolling(5,1).mean())\n",
        "tm['avg_goals_for'] = tm.groupby('team')['goals_for'].transform(lambda s: s.shift().expanding().mean())\n",
        "tm['avg_goals_against'] = tm.groupby('team')['goals_against'].transform(lambda s: s.shift().expanding().mean())\n",
        "tm['h2h_rolling'] = tm.groupby(['team','opponent'])['points'].transform(lambda s: s.shift().rolling(5,1).mean())\n",
        "tm['h2h_prev_meetings'] = tm.groupby(['team','opponent']).cumcount()"
      ]
    },
    {
      "cell_type": "code",
      "execution_count": null,
      "metadata": {
        "id": "NQ0N_bO2mQ_n"
      },
      "outputs": [],
      "source": [
        "# handle missing values\n",
        "df.fillna(df.median(numeric_only=True), inplace=True)\n",
        "df.fillna('Unknown', inplace=True)"
      ]
    },
    {
      "cell_type": "code",
      "execution_count": null,
      "metadata": {
        "id": "1YS1x0CYmQ6C"
      },
      "outputs": [],
      "source": [
        "# encode teams\n",
        "le = LabelEncoder()\n",
        "teams = pd.concat([df['HomeTeam'],df['AwayTeam']],ignore_index=True).unique()\n",
        "le.fit(teams)\n",
        "df['home_team_enc'] = le.transform(df['HomeTeam'])\n",
        "df['away_team_enc'] = le.transform(df['AwayTeam'])"
      ]
    },
    {
      "cell_type": "code",
      "execution_count": null,
      "metadata": {
        "colab": {
          "base_uri": "https://localhost:8080/"
        },
        "id": "qUWE5H4Czvww",
        "outputId": "0fba6a4e-461d-42f4-ed0d-80b55543ea2a"
      },
      "outputs": [
        {
          "name": "stdout",
          "output_type": "stream",
          "text": [
            "Encoded teams: ['Arsenal', 'Aston Villa', 'Birmingham', 'Blackburn', 'Blackpool', 'Bolton', 'Bournemouth', 'Bradford', 'Brentford', 'Brighton'] ...\n",
            "Shape of features: (9380, 13)\n"
          ]
        }
      ],
      "source": [
        "print(\"Encoded teams:\", list(le.classes_)[:10], \"...\")\n",
        "print(\"Shape of features:\", X.shape)"
      ]
    }
  ],
  "metadata": {
    "accelerator": "GPU",
    "colab": {
      "gpuType": "T4",
      "provenance": []
    },
    "kernelspec": {
      "display_name": "Python 3",
      "name": "python3"
    },
    "language_info": {
      "name": "python"
    }
  },
  "nbformat": 4,
  "nbformat_minor": 0
}
