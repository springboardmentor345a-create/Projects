{
 "cells": [
  {
   "cell_type": "code",
   "execution_count": 45,
   "id": "d5e42d4d",
   "metadata": {},
   "outputs": [],
   "source": [
    "import pandas as pd\n",
    "import numpy as np\n",
    "import glob\n",
    "import xgboost as xgb\n",
    "import matplotlib.pyplot as plt\n",
    "import seaborn as sns\n",
    "from sklearn.metrics import confusion_matrix, classification_report, accuracy_score\n",
    "from sklearn.preprocessing import LabelEncoder\n",
    "from xgboost import XGBClassifier\n",
    "from sklearn.utils.class_weight import compute_sample_weight\n",
    "from imblearn.over_sampling import SMOTE\n",
    "from sklearn.model_selection import GridSearchCV\n",
    "from sklearn.metrics import precision_recall_fscore_support\n",
    "\n",
    "\n"
   ]
  },
  {
   "cell_type": "markdown",
   "id": "f6589267",
   "metadata": {},
   "source": [
    "Data is present in Epl/data/ and seperate features required are taken to reduce the difficulties in cleaning..empty coloumns if any are filled with NaN."
   ]
  },
  {
   "cell_type": "code",
   "execution_count": 37,
   "id": "3fef55a4",
   "metadata": {},
   "outputs": [
    {
     "name": "stdout",
     "output_type": "stream",
     "text": [
      "['C:/Epl/data\\\\E02000.csv', 'C:/Epl/data\\\\E02001.csv', 'C:/Epl/data\\\\E02002.csv', 'C:/Epl/data\\\\E02003.csv', 'C:/Epl/data\\\\E02004.csv', 'C:/Epl/data\\\\E02005.csv', 'C:/Epl/data\\\\E02006.csv', 'C:/Epl/data\\\\E02007.csv', 'C:/Epl/data\\\\E02008.csv', 'C:/Epl/data\\\\E02009.csv', 'C:/Epl/data\\\\E02010.csv', 'C:/Epl/data\\\\E02011.csv', 'C:/Epl/data\\\\E02012.csv', 'C:/Epl/data\\\\E02013.csv', 'C:/Epl/data\\\\E02014.csv', 'C:/Epl/data\\\\E02015.csv', 'C:/Epl/data\\\\E02016.csv', 'C:/Epl/data\\\\E02017.csv', 'C:/Epl/data\\\\E02018.csv', 'C:/Epl/data\\\\E02019.csv', 'C:/Epl/data\\\\E02020.csv', 'C:/Epl/data\\\\E02021.csv', 'C:/Epl/data\\\\E02022.csv', 'C:/Epl/data\\\\E02023.csv', 'C:/Epl/data\\\\E02024.csv']\n",
      "Shape: (9411, 18)\n",
      "        Date  HomeTeam       AwayTeam  HTHG  HTAG    HS    AS   HST  AST  \\\n",
      "0 2000-08-19  Charlton       Man City   2.0   0.0  17.0   8.0  14.0  4.0   \n",
      "1 2000-08-19   Chelsea       West Ham   1.0   0.0  17.0  12.0  10.0  5.0   \n",
      "2 2000-08-19  Coventry  Middlesbrough   1.0   1.0   6.0  16.0   3.0  9.0   \n",
      "3 2000-08-19     Derby    Southampton   1.0   2.0   6.0  13.0   4.0  6.0   \n",
      "4 2000-08-19     Leeds        Everton   2.0   0.0  17.0  12.0   8.0  6.0   \n",
      "\n",
      "     HF    AF   HC   AC   HY   AY   HR   AR FTR  \n",
      "0  13.0  12.0  6.0  6.0  1.0  2.0  0.0  0.0   H  \n",
      "1  19.0  14.0  7.0  7.0  1.0  2.0  0.0  0.0   H  \n",
      "2  15.0  21.0  8.0  4.0  5.0  3.0  1.0  0.0   A  \n",
      "3  11.0  13.0  5.0  8.0  1.0  1.0  0.0  0.0   D  \n",
      "4  21.0  20.0  6.0  4.0  1.0  3.0  0.0  0.0   H  \n"
     ]
    },
    {
     "name": "stderr",
     "output_type": "stream",
     "text": [
      "C:\\Users\\arnas\\AppData\\Local\\Temp\\ipykernel_22612\\2351140533.py:16: UserWarning: Could not infer format, so each element will be parsed individually, falling back to `dateutil`. To ensure parsing is consistent and as-expected, please specify a format.\n",
      "  data[\"Date\"] = pd.to_datetime(data[\"Date\"], dayfirst=True, errors=\"coerce\")\n"
     ]
    }
   ],
   "source": [
    "# Load only Premier League CSVs (E0)\n",
    "files = glob.glob(\"C:/Epl/data/E0*.csv\")\n",
    "print(files)\n",
    "features=[\"Date\",\"HomeTeam\",\"AwayTeam\",\"HTHG\",\"HTAG\",\"HS\",\"AS\",\"HST\",\"AST\",\"HF\",\"AF\",\"HC\",\"AC\",\"HY\",\"AY\",\"HR\",\"AR\"]\n",
    "target =\"FTR\"\n",
    "dfs = []\n",
    "for f in files:\n",
    "    df = pd.read_csv(f, encoding='cp1252', on_bad_lines='skip')\n",
    "    for col in features:\n",
    "        if col not in df.columns:\n",
    "         df[col] = pd.NA\n",
    "    df = df[features + [target]]\n",
    "    dfs.append(df)\n",
    "\n",
    "data = pd.concat(dfs, ignore_index=True)\n",
    "data[\"Date\"] = pd.to_datetime(data[\"Date\"], dayfirst=True, errors=\"coerce\")\n",
    "print(\"Shape:\", data.shape)\n",
    "print(data.head())\n"
   ]
  },
  {
   "cell_type": "markdown",
   "id": "d3bc27b4",
   "metadata": {},
   "source": [
    "Now that data is ready we have to clean it by checking for duplicates and null values."
   ]
  },
  {
   "cell_type": "code",
   "execution_count": 38,
   "id": "2af76c96",
   "metadata": {},
   "outputs": [
    {
     "name": "stdout",
     "output_type": "stream",
     "text": [
      "Date        1\n",
      "HomeTeam    1\n",
      "AwayTeam    1\n",
      "HTHG        1\n",
      "HTAG        1\n",
      "HS          1\n",
      "AS          1\n",
      "HST         1\n",
      "AST         1\n",
      "HF          1\n",
      "AF          1\n",
      "HC          1\n",
      "AC          1\n",
      "HY          1\n",
      "AY          1\n",
      "HR          1\n",
      "AR          1\n",
      "FTR         1\n",
      "dtype: int64\n",
      "Date        0.01\n",
      "HomeTeam    0.01\n",
      "AwayTeam    0.01\n",
      "HTHG        0.01\n",
      "HTAG        0.01\n",
      "HS          0.01\n",
      "AS          0.01\n",
      "HST         0.01\n",
      "AST         0.01\n",
      "HF          0.01\n",
      "AF          0.01\n",
      "HC          0.01\n",
      "AC          0.01\n",
      "HY          0.01\n",
      "AY          0.01\n",
      "HR          0.01\n",
      "AR          0.01\n",
      "FTR         0.01\n",
      "dtype: float64\n"
     ]
    }
   ],
   "source": [
    "print(data.isnull().sum())\n",
    "print((data.isnull().mean()*100).round(2))"
   ]
  },
  {
   "cell_type": "markdown",
   "id": "21865d1d",
   "metadata": {},
   "source": [
    "This shows that the dataset has only a very few negligable output there is 1 missing value and that missing value exists in all features so we could drop that row."
   ]
  },
  {
   "cell_type": "code",
   "execution_count": 39,
   "id": "08c89cec",
   "metadata": {},
   "outputs": [
    {
     "name": "stdout",
     "output_type": "stream",
     "text": [
      "After dropping missing: (9410, 18)\n",
      "Remaining NaN: 0\n"
     ]
    }
   ],
   "source": [
    "data = data.dropna()\n",
    "print(\"After dropping missing:\",data.shape)\n",
    "print(\"Remaining NaN:\",data.isnull().sum().sum())"
   ]
  },
  {
   "cell_type": "code",
   "execution_count": 40,
   "id": "0619b8cf",
   "metadata": {},
   "outputs": [
    {
     "name": "stdout",
     "output_type": "stream",
     "text": [
      "Number of duplicated rows: 0\n"
     ]
    }
   ],
   "source": [
    "duplicates = data.duplicated().sum()\n",
    "print(\"Number of duplicated rows:\",duplicates)\n",
    "data.to_csv(\"match_winner_cleaned.csv\",index = False)"
   ]
  },
  {
   "cell_type": "code",
   "execution_count": 41,
   "id": "e63268c8",
   "metadata": {},
   "outputs": [
    {
     "name": "stdout",
     "output_type": "stream",
     "text": [
      "Index(['Date', 'HomeTeam', 'AwayTeam', 'HTHG', 'HTAG', 'HS', 'AS', 'HST',\n",
      "       'AST', 'HF', 'AF', 'HC', 'AC', 'HY', 'AY', 'HR', 'AR', 'FTR'],\n",
      "      dtype='object')\n",
      "   HomeTeam  AwayTeam  HTHG  HTAG    HS    AS   HST  AST    HF    AF   HC  \\\n",
      "0        12        26   2.0   0.0  17.0   8.0  14.0  4.0  13.0  12.0  6.0   \n",
      "1        13        43   1.0   0.0  17.0  12.0  10.0  5.0  19.0  14.0  7.0   \n",
      "2        14        28   1.0   1.0   6.0  16.0   3.0  9.0  15.0  21.0  8.0   \n",
      "3        16        36   1.0   2.0   6.0  13.0   4.0  6.0  11.0  13.0  5.0   \n",
      "4        22        17   2.0   0.0  17.0  12.0   8.0  6.0  21.0  20.0  6.0   \n",
      "\n",
      "    AC   HY   AY   HR   AR  FTR  \n",
      "0  6.0  1.0  2.0  0.0  0.0    2  \n",
      "1  7.0  1.0  2.0  0.0  0.0    2  \n",
      "2  4.0  5.0  3.0  1.0  0.0    0  \n",
      "3  8.0  1.0  1.0  0.0  0.0    1  \n",
      "4  4.0  1.0  3.0  0.0  0.0    2  \n"
     ]
    }
   ],
   "source": [
    "print(data.columns)\n",
    "data = data.drop(columns=[\"Date\"])\n",
    "categorical_col = data.select_dtypes(include ='object').columns\n",
    "encoders = {}\n",
    "for c in categorical_col:\n",
    "    le = LabelEncoder()\n",
    "    data[c]=le.fit_transform(data[c])\n",
    "    encoders[c]=le\n",
    "print(data.head())"
   ]
  },
  {
   "cell_type": "markdown",
   "id": "c80e8c10",
   "metadata": {},
   "source": [
    "I have done label encoding for all categorical coloumns and the encoder function is also saved in encoders[] to decode for further use"
   ]
  },
  {
   "cell_type": "code",
   "execution_count": 42,
   "id": "7bac3b28",
   "metadata": {},
   "outputs": [],
   "source": [
    "#splitting data into label and feature input\n",
    "\n",
    "y = data['FTR']\n",
    "\n",
    "X = data.drop('FTR', axis=1)\n"
   ]
  },
  {
   "cell_type": "code",
   "execution_count": 43,
   "id": "996a31e5",
   "metadata": {},
   "outputs": [
    {
     "name": "stdout",
     "output_type": "stream",
     "text": [
      "(10344, 16)\n",
      "(10344,)\n",
      "Class distribution after SMOTE: {np.int64(0): np.int64(3448), np.int64(1): np.int64(3448), np.int64(2): np.int64(3448)}\n"
     ]
    }
   ],
   "source": [
    "\n",
    "# Split data: 80% training, 20% testing\n",
    "from imblearn.over_sampling import SMOTE\n",
    "from sklearn.model_selection import train_test_split\n",
    "\n",
    "# Stratified split to preserve class ratios\n",
    "X_train_split, X_test_split, y_train_split, y_test_split = train_test_split(\n",
    "    X, y, test_size=0.2, random_state=42, stratify=y\n",
    ")\n",
    "\n",
    "# Apply SMOTE to training data\n",
    "smote = SMOTE(random_state=42)\n",
    "X_train_res, y_train_res = smote.fit_resample(X_train_split, y_train_split)\n",
    "X_train_res = X_train_res.astype(np.float32)\n",
    "y_train_res = y_train_res.astype(np.int64)\n",
    "print(X_train_res.shape)\n",
    "print(y_train_res.shape)\n",
    "\n",
    "\n",
    "\n",
    "\n",
    "print(\"Class distribution after SMOTE:\", dict(zip(*np.unique(y_train_res, return_counts=True))))\n"
   ]
  },
  {
   "cell_type": "markdown",
   "id": "57b13701",
   "metadata": {},
   "source": [
    "Random state fixed as 42 for accuracy and hyperparameter tuning and shufling is done "
   ]
  },
  {
   "cell_type": "code",
   "execution_count": 32,
   "id": "82747ce3",
   "metadata": {},
   "outputs": [
    {
     "name": "stdout",
     "output_type": "stream",
     "text": [
      "Fitting 3 folds for each of 162 candidates, totalling 486 fits\n",
      "Best parameters: {'colsample_bytree': 0.9, 'learning_rate': 0.1, 'max_depth': 6, 'n_estimators': 1000, 'subsample': 0.8}\n"
     ]
    }
   ],
   "source": [
    "weights = compute_sample_weight(class_weight='balanced', y=y_train_res)\n",
    "model = XGBClassifier(\n",
    "    n_estimators=500,\n",
    "    max_depth=5,\n",
    "    learning_rate=0.05,\n",
    "    objective='multi:softprob',  # for 3-class classification\n",
    "    num_class=3,\n",
    "    eval_metric='mlogloss',\n",
    "    random_state = 42\n",
    ")\n",
    "param_grid = {\n",
    "    'n_estimators': [500, 700, 1000],\n",
    "    'max_depth': [4, 5, 6],\n",
    "    'learning_rate': [0.05, 0.1],\n",
    "    'subsample': [0.7, 0.8, 0.9],\n",
    "    'colsample_bytree': [0.7, 0.8, 0.9]\n",
    "}\n",
    "grid_search = GridSearchCV(\n",
    "    estimator=model,\n",
    "    param_grid=param_grid,\n",
    "    scoring='f1_macro',   # macro F1 helps balance all classes\n",
    "    cv=3,\n",
    "    verbose=1,\n",
    "    n_jobs=-1\n",
    ")\n",
    "\n",
    "grid_search.fit(X_train_res, y_train_res,sample_weight=weights)\n",
    "best_model = grid_search.best_estimator_\n",
    "print(\"Best parameters:\", grid_search.best_params_)"
   ]
  },
  {
   "cell_type": "code",
   "execution_count": 34,
   "id": "79c541ad",
   "metadata": {},
   "outputs": [
    {
     "name": "stdout",
     "output_type": "stream",
     "text": [
      "F1 score macro: 0.5640866037031859\n"
     ]
    }
   ],
   "source": [
    "from sklearn.metrics import f1_score\n",
    "\n",
    "# Get predicted probabilities\n",
    "y_proba = best_model.predict_proba(X_test_split)\n",
    "\n",
    "# Custom thresholds per class\n",
    "thresholds = [0.5, 0.5, 0.5]  # start with 0.5 for all classes\n",
    "\n",
    "def predict_with_thresholds(probs, thresholds):\n",
    "    preds = []\n",
    "    for p in probs:\n",
    "        # Assign class if probability > threshold, else take max\n",
    "        assigned = [i for i, prob in enumerate(p) if prob >= thresholds[i]]\n",
    "        if assigned:\n",
    "            preds.append(assigned[0])\n",
    "        else:\n",
    "            preds.append(np.argmax(p))\n",
    "    return np.array(preds)\n",
    "\n",
    "y_pred = predict_with_thresholds(y_proba, thresholds)\n",
    "\n",
    "print(\"F1 score macro:\", f1_score(y_test_split, y_pred, average='macro'))"
   ]
  },
  {
   "cell_type": "code",
   "execution_count": 35,
   "id": "f374b1c7",
   "metadata": {},
   "outputs": [
    {
     "name": "stdout",
     "output_type": "stream",
     "text": [
      "Accuracy: 0.6227417640807651\n",
      "              precision    recall  f1-score   support\n",
      "\n",
      "           0       0.64      0.69      0.66       556\n",
      "           1       0.36      0.24      0.29       464\n",
      "           2       0.70      0.79      0.74       862\n",
      "\n",
      "    accuracy                           0.62      1882\n",
      "   macro avg       0.57      0.57      0.56      1882\n",
      "weighted avg       0.60      0.62      0.61      1882\n",
      "\n"
     ]
    }
   ],
   "source": [
    "\n",
    "\n",
    "# Accuracy\n",
    "print(\"Accuracy:\", accuracy_score(y_test_split, y_pred))\n",
    "\n",
    "# Full classification report\n",
    "print(classification_report(y_test_split, y_pred))\n"
   ]
  },
  {
   "cell_type": "code",
   "execution_count": 44,
   "id": "8d9ee77d",
   "metadata": {},
   "outputs": [
    {
     "data": {
      "image/png": "[encoded data removed]",
      "text/plain": [
       "<Figure size 600x500 with 2 Axes>"
      ]
     },
     "metadata": {},
     "output_type": "display_data"
    }
   ],
   "source": [
    "cm = confusion_matrix(y_test_split, y_pred)\n",
    "\n",
    "# Plot confusion matrix\n",
    "plt.figure(figsize=(6,5))\n",
    "sns.heatmap(cm, annot=True, fmt='d', cmap='Blues', \n",
    "            xticklabels=['Class 0','Class 1','Class 2'], \n",
    "            yticklabels=['Class 0','Class 1','Class 2'])\n",
    "plt.xlabel(\"Predicted\")\n",
    "plt.ylabel(\"Actual\")\n",
    "plt.title(\"Confusion Matrix\")\n",
    "plt.show()\n"
   ]
  },
  {
   "cell_type": "code",
   "execution_count": 47,
   "id": "fb309b15",
   "metadata": {},
   "outputs": [
    {
     "data": {
      "image/png": "[encoded data removed]",
      "text/plain": [
       "<Figure size 800x600 with 1 Axes>"
      ]
     },
     "metadata": {},
     "output_type": "display_data"
    }
   ],
   "source": [
    "prec, rec, f1, _ = precision_recall_fscore_support(y_test_split, y_pred, average=None)\n",
    "\n",
    "metrics_df = {\n",
    "    \"Class\": ['0','1','2'],\n",
    "    \"Precision\": prec,\n",
    "    \"Recall\": rec,\n",
    "    \"F1-Score\": f1\n",
    "}\n",
    "\n",
    "metrics_df = pd.DataFrame(metrics_df)\n",
    "\n",
    "metrics_df.plot(x=\"Class\", kind=\"bar\", figsize=(8,6))\n",
    "plt.title(\"Per-Class Metrics\")\n",
    "plt.ylabel(\"Score\")\n",
    "plt.xticks(rotation=0)\n",
    "plt.ylim(0,1)\n",
    "plt.show()"
   ]
  }
 ],
 "metadata": {
  "kernelspec": {
   "display_name": "base",
   "language": "python",
   "name": "python3"
  },
  "language_info": {
   "codemirror_mode": {
    "name": "ipython",
    "version": 3
   },
   "file_extension": ".py",
   "mimetype": "text/x-python",
   "name": "python",
   "nbconvert_exporter": "python",
   "pygments_lexer": "ipython3",
   "version": "3.13.5"
  }
 },
 "nbformat": 4,
 "nbformat_minor": 5
}
