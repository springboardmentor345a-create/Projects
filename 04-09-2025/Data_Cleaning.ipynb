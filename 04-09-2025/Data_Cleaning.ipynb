{
 "cells": [
  {
   "cell_type": "code",
   "execution_count": 12,
   "id": "f6fba0a9-126a-4ff0-b8af-01ad21eb8d69",
   "metadata": {},
   "outputs": [],
   "source": [
    "import pandas as pd"
   ]
  },
  {
   "cell_type": "code",
   "execution_count": 13,
   "id": "bdc95149-375d-473c-be1c-cc1fd1ecc4ea",
   "metadata": {},
   "outputs": [],
   "source": [
    "df=pd.read_excel(\"Top Goals.xlsx\")\n",
    "df.to_csv(\"Top Goals.csv\", index=False)"
   ]
  },
  {
   "cell_type": "code",
   "execution_count": 14,
   "id": "fb125d4a-9fc6-49bd-9bd7-5e78cee52923",
   "metadata": {},
   "outputs": [
    {
     "name": "stdout",
     "output_type": "stream",
     "text": [
      "Index(['Season', 'Rank', 'Player', 'Club', 'Goals', 'IsTop10', 'Position',\n",
      "       'Age', 'Appearances', 'Goals_prev_season', 'Assists', 'Penalty_Goals',\n",
      "       'Non-Penalty_Goals', 'Goals_per_90', 'Big_6_Club_Feature',\n",
      "       'Club_League_Rank', 'Club_Total_Goals', 'League_Goals_per_Match',\n",
      "       'Games_in_Season'],\n",
      "      dtype='object')\n"
     ]
    }
   ],
   "source": [
    "print(df.columns)"
   ]
  },
  {
   "cell_type": "code",
   "execution_count": 15,
   "id": "2e8a1858-5cfa-4979-bbb1-a404658b2be6",
   "metadata": {},
   "outputs": [],
   "source": [
    "df=df.drop(['Season', 'Rank', 'Player', 'Club','IsTop10','Club_League_Rank', 'Club_Total_Goals','Games_in_Season'],axis=1)"
   ]
  },
  {
   "cell_type": "code",
   "execution_count": 16,
   "id": "7c42aefd-d40d-4f3d-92a9-f2c31cbf5ec6",
   "metadata": {},
   "outputs": [
    {
     "name": "stdout",
     "output_type": "stream",
     "text": [
      "Index(['Goals', 'Position', 'Age', 'Appearances', 'Goals_prev_season',\n",
      "       'Assists', 'Penalty_Goals', 'Non-Penalty_Goals', 'Goals_per_90',\n",
      "       'Big_6_Club_Feature', 'League_Goals_per_Match'],\n",
      "      dtype='object')\n"
     ]
    }
   ],
   "source": [
    "print(df.columns)"
   ]
  },
  {
   "cell_type": "code",
   "execution_count": 17,
   "id": "9253d9f6-f227-4e13-8b98-1f9b04938ead",
   "metadata": {},
   "outputs": [
    {
     "name": "stdout",
     "output_type": "stream",
     "text": [
      "Goals                       0\n",
      "Position                    0\n",
      "Age                         0\n",
      "Appearances                 0\n",
      "Goals_prev_season         115\n",
      "Assists                   228\n",
      "Penalty_Goals               1\n",
      "Non-Penalty_Goals           0\n",
      "Goals_per_90                0\n",
      "Big_6_Club_Feature          0\n",
      "League_Goals_per_Match      0\n",
      "dtype: int64\n",
      "0\n"
     ]
    }
   ],
   "source": [
    "print(df.isnull().sum())\n",
    "print(df.duplicated().sum())"
   ]
  },
  {
   "cell_type": "code",
   "execution_count": 20,
   "id": "58612355-2252-4026-a0fc-0cff335f2df4",
   "metadata": {},
   "outputs": [],
   "source": [
    "df.fillna({\n",
    "    \"Goals_prev_season\": 0,\n",
    "    \"Assists\": 0,\n",
    "    \"Penalty_Goals\": 0\n",
    "}, inplace=True)   "
   ]
  },
  {
   "cell_type": "code",
   "execution_count": 21,
   "id": "6063d445-9507-4029-90ed-c4582112ebeb",
   "metadata": {},
   "outputs": [],
   "source": [
    "df = df.drop_duplicates()"
   ]
  },
  {
   "cell_type": "code",
   "execution_count": 22,
   "id": "9562e50d-4b76-4617-8ca3-73ffafa426e0",
   "metadata": {},
   "outputs": [
    {
     "name": "stdout",
     "output_type": "stream",
     "text": [
      "Goals                     0\n",
      "Position                  0\n",
      "Age                       0\n",
      "Appearances               0\n",
      "Goals_prev_season         0\n",
      "Assists                   0\n",
      "Penalty_Goals             0\n",
      "Non-Penalty_Goals         0\n",
      "Goals_per_90              0\n",
      "Big_6_Club_Feature        0\n",
      "League_Goals_per_Match    0\n",
      "dtype: int64\n",
      "0\n"
     ]
    }
   ],
   "source": [
    "print(df.isnull().sum())\n",
    "print(df.duplicated().sum())"
   ]
  },
  {
   "cell_type": "code",
   "execution_count": 23,
   "id": "35f417c8-a520-4daa-aa6a-937bf96d680b",
   "metadata": {},
   "outputs": [],
   "source": [
    "df.to_csv(\"Top Goals Cleaned.csv\", index=False)"
   ]
  }
 ],
 "metadata": {
  "kernelspec": {
   "display_name": "Python [conda env:base] *",
   "language": "python",
   "name": "conda-base-py"
  },
  "language_info": {
   "codemirror_mode": {
    "name": "ipython",
    "version": 3
   },
   "file_extension": ".py",
   "mimetype": "text/x-python",
   "name": "python",
   "nbconvert_exporter": "python",
   "pygments_lexer": "ipython3",
   "version": "3.12.7"
  }
 },
 "nbformat": 4,
 "nbformat_minor": 5
}
