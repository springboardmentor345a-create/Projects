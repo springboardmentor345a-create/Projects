{
 "cells": [
  {
   "cell_type": "code",
   "execution_count": 3,
   "id": "dae452f3-3822-4e7d-b9e1-8db0376af138",
   "metadata": {},
   "outputs": [],
   "source": [
    "import pandas as pd\n",
    "import numpy as np\n",
    "import seaborn as sns\n",
    "import matplotlib.pyplot as plt\n",
    "from sklearn.model_selection import train_test_split\n",
    "from sklearn.preprocessing import LabelEncoder, StandardScaler\n",
    "from sklearn.preprocessing import OneHotEncoder\n",
    "from sklearn.pipeline import Pipeline\n",
    "from sklearn.ensemble import RandomForestClassifier\n",
    "from sklearn.metrics import accuracy_score, precision_score, recall_score, f1_score, r2_score ,confusion_matrix , classification_report\n",
    "from imblearn.over_sampling import SMOTE\n",
    "import tensorflow as tf\n",
    "from tensorflow.keras.models import Sequential\n",
    "from tensorflow.keras.layers import Dense"
   ]
  },
  {
   "cell_type": "code",
   "execution_count": 4,
   "id": "943a53e4-fdd3-4fbb-a527-7ab1ac31779f",
   "metadata": {},
   "outputs": [
    {
     "data": {
      "text/html": [
       "<div>\n",
       "<style scoped>\n",
       "    .dataframe tbody tr th:only-of-type {\n",
       "        vertical-align: middle;\n",
       "    }\n",
       "\n",
       "    .dataframe tbody tr th {\n",
       "        vertical-align: top;\n",
       "    }\n",
       "\n",
       "    .dataframe thead th {\n",
       "        text-align: right;\n",
       "    }\n",
       "</style>\n",
       "<table border=\"1\" class=\"dataframe\">\n",
       "  <thead>\n",
       "    <tr style=\"text-align: right;\">\n",
       "      <th></th>\n",
       "      <th>season_end_year</th>\n",
       "      <th>team</th>\n",
       "      <th>position</th>\n",
       "      <th>played</th>\n",
       "      <th>won</th>\n",
       "      <th>drawn</th>\n",
       "      <th>lost</th>\n",
       "      <th>gf</th>\n",
       "      <th>ga</th>\n",
       "      <th>gd</th>\n",
       "      <th>points</th>\n",
       "      <th>notes</th>\n",
       "    </tr>\n",
       "  </thead>\n",
       "  <tbody>\n",
       "    <tr>\n",
       "      <th>0</th>\n",
       "      <td>1993</td>\n",
       "      <td>Manchester Utd</td>\n",
       "      <td>1</td>\n",
       "      <td>42</td>\n",
       "      <td>24</td>\n",
       "      <td>12</td>\n",
       "      <td>6</td>\n",
       "      <td>67</td>\n",
       "      <td>31</td>\n",
       "      <td>36</td>\n",
       "      <td>84</td>\n",
       "      <td>→ Champions League via league finish</td>\n",
       "    </tr>\n",
       "    <tr>\n",
       "      <th>1</th>\n",
       "      <td>1993</td>\n",
       "      <td>Aston Villa</td>\n",
       "      <td>2</td>\n",
       "      <td>42</td>\n",
       "      <td>21</td>\n",
       "      <td>11</td>\n",
       "      <td>10</td>\n",
       "      <td>57</td>\n",
       "      <td>40</td>\n",
       "      <td>17</td>\n",
       "      <td>74</td>\n",
       "      <td>→ UEFA Cup via league finish</td>\n",
       "    </tr>\n",
       "    <tr>\n",
       "      <th>2</th>\n",
       "      <td>1993</td>\n",
       "      <td>Norwich City</td>\n",
       "      <td>3</td>\n",
       "      <td>42</td>\n",
       "      <td>21</td>\n",
       "      <td>9</td>\n",
       "      <td>12</td>\n",
       "      <td>61</td>\n",
       "      <td>65</td>\n",
       "      <td>-4</td>\n",
       "      <td>72</td>\n",
       "      <td>→ UEFA Cup via league finish 1</td>\n",
       "    </tr>\n",
       "    <tr>\n",
       "      <th>3</th>\n",
       "      <td>1993</td>\n",
       "      <td>Blackburn</td>\n",
       "      <td>4</td>\n",
       "      <td>42</td>\n",
       "      <td>20</td>\n",
       "      <td>11</td>\n",
       "      <td>11</td>\n",
       "      <td>68</td>\n",
       "      <td>46</td>\n",
       "      <td>22</td>\n",
       "      <td>71</td>\n",
       "      <td>NaN</td>\n",
       "    </tr>\n",
       "    <tr>\n",
       "      <th>4</th>\n",
       "      <td>1993</td>\n",
       "      <td>QPR</td>\n",
       "      <td>5</td>\n",
       "      <td>42</td>\n",
       "      <td>17</td>\n",
       "      <td>12</td>\n",
       "      <td>13</td>\n",
       "      <td>63</td>\n",
       "      <td>55</td>\n",
       "      <td>8</td>\n",
       "      <td>63</td>\n",
       "      <td>NaN</td>\n",
       "    </tr>\n",
       "  </tbody>\n",
       "</table>\n",
       "</div>"
      ],
      "text/plain": [
       "   season_end_year            team  position  played  won  drawn  lost  gf  \\\n",
       "0             1993  Manchester Utd         1      42   24     12     6  67   \n",
       "1             1993     Aston Villa         2      42   21     11    10  57   \n",
       "2             1993    Norwich City         3      42   21      9    12  61   \n",
       "3             1993       Blackburn         4      42   20     11    11  68   \n",
       "4             1993             QPR         5      42   17     12    13  63   \n",
       "\n",
       "   ga  gd  points                                 notes  \n",
       "0  31  36      84  → Champions League via league finish  \n",
       "1  40  17      74          → UEFA Cup via league finish  \n",
       "2  65  -4      72        → UEFA Cup via league finish 1  \n",
       "3  46  22      71                                   NaN  \n",
       "4  55   8      63                                   NaN  "
      ]
     },
     "execution_count": 4,
     "metadata": {},
     "output_type": "execute_result"
    }
   ],
   "source": [
    "df = pd.read_csv(\"pl-tables-1993-2024.csv\")\n",
    "df.head()"
   ]
  },
  {
   "cell_type": "code",
   "execution_count": 5,
   "id": "fc446692-18be-43cd-b2c0-2cf30505c2ef",
   "metadata": {},
   "outputs": [
    {
     "data": {
      "text/plain": [
       "Index(['season_end_year', 'team', 'position', 'played', 'won', 'drawn', 'lost',\n",
       "       'gf', 'ga', 'gd', 'points', 'notes'],\n",
       "      dtype='object')"
      ]
     },
     "execution_count": 5,
     "metadata": {},
     "output_type": "execute_result"
    }
   ],
   "source": [
    "df.columns"
   ]
  },
  {
   "cell_type": "code",
   "execution_count": 6,
   "id": "9e65357e-e038-4f31-8003-258846cf46f2",
   "metadata": {},
   "outputs": [
    {
     "data": {
      "text/plain": [
       "<bound method NDFrame.describe of      season_end_year               team  position  played  won  drawn  lost  \\\n",
       "0               1993     Manchester Utd         1      42   24     12     6   \n",
       "1               1993        Aston Villa         2      42   21     11    10   \n",
       "2               1993       Norwich City         3      42   21      9    12   \n",
       "3               1993          Blackburn         4      42   20     11    11   \n",
       "4               1993                QPR         5      42   17     12    13   \n",
       "..               ...                ...       ...     ...  ...    ...   ...   \n",
       "641             2024          Brentford        16      38   10      9    19   \n",
       "642             2024  Nottingham Forest        17      38    9      9    20   \n",
       "643             2024         Luton Town        18      38    6      8    24   \n",
       "644             2024            Burnley        19      38    5      9    24   \n",
       "645             2024      Sheffield Utd        20      38    3      7    28   \n",
       "\n",
       "     gf   ga  gd  points                                 notes  \n",
       "0    67   31  36      84  → Champions League via league finish  \n",
       "1    57   40  17      74          → UEFA Cup via league finish  \n",
       "2    61   65  -4      72        → UEFA Cup via league finish 1  \n",
       "3    68   46  22      71                                   NaN  \n",
       "4    63   55   8      63                                   NaN  \n",
       "..   ..  ...  ..     ...                                   ...  \n",
       "641  56   65  -9      39                                   NaN  \n",
       "642  49   67 -18      32                     4-point deduction  \n",
       "643  52   85 -33      26                             Relegated  \n",
       "644  41   78 -37      24                             Relegated  \n",
       "645  35  104 -69      16                             Relegated  \n",
       "\n",
       "[646 rows x 12 columns]>"
      ]
     },
     "execution_count": 6,
     "metadata": {},
     "output_type": "execute_result"
    }
   ],
   "source": [
    "df.describe"
   ]
  },
  {
   "cell_type": "code",
   "execution_count": 7,
   "id": "1a172610-3910-43de-82ef-02abeec0842e",
   "metadata": {},
   "outputs": [
    {
     "name": "stdout",
     "output_type": "stream",
     "text": [
      "<class 'pandas.core.frame.DataFrame'>\n",
      "RangeIndex: 646 entries, 0 to 645\n",
      "Data columns (total 12 columns):\n",
      " #   Column           Non-Null Count  Dtype \n",
      "---  ------           --------------  ----- \n",
      " 0   season_end_year  646 non-null    int64 \n",
      " 1   team             646 non-null    object\n",
      " 2   position         646 non-null    int64 \n",
      " 3   played           646 non-null    int64 \n",
      " 4   won              646 non-null    int64 \n",
      " 5   drawn            646 non-null    int64 \n",
      " 6   lost             646 non-null    int64 \n",
      " 7   gf               646 non-null    int64 \n",
      " 8   ga               646 non-null    int64 \n",
      " 9   gd               646 non-null    int64 \n",
      " 10  points           646 non-null    int64 \n",
      " 11  notes            326 non-null    object\n",
      "dtypes: int64(10), object(2)\n",
      "memory usage: 60.7+ KB\n"
     ]
    }
   ],
   "source": [
    "df.info()"
   ]
  },
  {
   "cell_type": "code",
   "execution_count": 8,
   "id": "26eb1525-7cd2-4181-8d5d-69003dff4683",
   "metadata": {},
   "outputs": [
    {
     "data": {
      "text/plain": [
       "season_end_year      0\n",
       "team                 0\n",
       "position             0\n",
       "played               0\n",
       "won                  0\n",
       "drawn                0\n",
       "lost                 0\n",
       "gf                   0\n",
       "ga                   0\n",
       "gd                   0\n",
       "points               0\n",
       "notes              320\n",
       "dtype: int64"
      ]
     },
     "execution_count": 8,
     "metadata": {},
     "output_type": "execute_result"
    }
   ],
   "source": [
    "df.isnull().sum()"
   ]
  },
  {
   "cell_type": "code",
   "execution_count": 9,
   "id": "97451846-c830-425f-af28-04d7ee85143f",
   "metadata": {},
   "outputs": [],
   "source": [
    "df.drop('notes', axis=1, inplace=True)"
   ]
  },
  {
   "cell_type": "code",
   "execution_count": 10,
   "id": "b858a464-3165-43ce-87ea-6590206b1347",
   "metadata": {},
   "outputs": [],
   "source": [
    "df['league_winner'] = df['position'].apply(lambda x: 1 if x == 1 else 0)"
   ]
  },
  {
   "cell_type": "code",
   "execution_count": 11,
   "id": "1dda87d9-30b9-429b-9294-f1ebafc05877",
   "metadata": {},
   "outputs": [
    {
     "data": {
      "text/plain": [
       "Index(['season_end_year', 'team', 'position', 'played', 'won', 'drawn', 'lost',\n",
       "       'gf', 'ga', 'gd', 'points', 'league_winner'],\n",
       "      dtype='object')"
      ]
     },
     "execution_count": 11,
     "metadata": {},
     "output_type": "execute_result"
    }
   ],
   "source": [
    "df.columns"
   ]
  },
  {
   "cell_type": "code",
   "execution_count": 12,
   "id": "3c42edf3-fcae-4aa0-935f-b9312ef58e4f",
   "metadata": {},
   "outputs": [
    {
     "data": {
      "text/plain": [
       "<Axes: xlabel='league_winner', ylabel='points'>"
      ]
     },
     "execution_count": 12,
     "metadata": {},
     "output_type": "execute_result"
    },
    {
     "data": {
      "image/png": "[encoded data removed]",
      "text/plain": [
       "<Figure size 640x480 with 1 Axes>"
      ]
     },
     "metadata": {},
     "output_type": "display_data"
    }
   ],
   "source": [
    "sns.boxplot(x='league_winner', y='points', data=df)"
   ]
  },
  {
   "cell_type": "code",
   "execution_count": 13,
   "id": "ca4c719b-7f57-4889-a890-83842f71b3ab",
   "metadata": {},
   "outputs": [
    {
     "data": {
      "text/plain": [
       "<Axes: xlabel='league_winner', ylabel='gd'>"
      ]
     },
     "execution_count": 13,
     "metadata": {},
     "output_type": "execute_result"
    },
    {
     "data": {
      "image/png": "[encoded data removed]",
      "text/plain": [
       "<Figure size 640x480 with 1 Axes>"
      ]
     },
     "metadata": {},
     "output_type": "display_data"
    }
   ],
   "source": [
    "sns.boxplot(x='league_winner', y='gd', data=df)"
   ]
  },
  {
   "cell_type": "code",
   "execution_count": 14,
   "id": "60d577ca-fac8-4611-908c-56a3e2c870d6",
   "metadata": {},
   "outputs": [
    {
     "data": {
      "image/png": "[encoded data removed]",
      "text/plain": [
       "<Figure size 800x500 with 2 Axes>"
      ]
     },
     "metadata": {},
     "output_type": "display_data"
    }
   ],
   "source": [
    "corr = df[['played', 'won', 'drawn', 'lost', 'gf', 'ga', 'gd', 'points', 'position']].corr()\n",
    "plt.figure(figsize=(8,5))\n",
    "sns.heatmap(corr, annot=True, fmt=\".3f\", cmap=\"viridis\" ,annot_kws={\"size\": 8, \"color\": \"white\"})\n",
    "plt.show()"
   ]
  },
  {
   "cell_type": "code",
   "execution_count": 15,
   "id": "7e773f79-f253-4922-9182-9fb31b529685",
   "metadata": {},
   "outputs": [
    {
     "data": {
      "text/plain": [
       "team\n",
       "Manchester Utd       13\n",
       "Manchester City       8\n",
       "Chelsea               5\n",
       "Arsenal               3\n",
       "Liverpool             1\n",
       "Leicester City        1\n",
       "Blackburn             1\n",
       "Barnsley              0\n",
       "Aston Villa           0\n",
       "Blackpool             0\n",
       "Birmingham City       0\n",
       "Brighton              0\n",
       "Burnley               0\n",
       "Cardiff City          0\n",
       "Charlton Ath          0\n",
       "Bournemouth           0\n",
       "Bradford City         0\n",
       "Brentford             0\n",
       "Bolton                0\n",
       "Everton               0\n",
       "Derby County          0\n",
       "Crystal Palace        0\n",
       "Coventry City         0\n",
       "Ipswich Town          0\n",
       "Hull City             0\n",
       "Fulham                0\n",
       "Huddersfield          0\n",
       "Luton Town            0\n",
       "Leeds United          0\n",
       "Middlesbrough         0\n",
       "Newcastle Utd         0\n",
       "Norwich City          0\n",
       "Nottingham Forest     0\n",
       "Oldham Athletic       0\n",
       "Portsmouth            0\n",
       "QPR                   0\n",
       "Reading               0\n",
       "Sheffield Utd         0\n",
       "Sheffield Weds        0\n",
       "Southampton           0\n",
       "Stoke City            0\n",
       "Sunderland            0\n",
       "Swansea City          0\n",
       "Swindon Town          0\n",
       "Tottenham             0\n",
       "Watford               0\n",
       "West Brom             0\n",
       "West Ham              0\n",
       "Wigan Athletic        0\n",
       "Wimbledon             0\n",
       "Wolves                0\n",
       "Name: league_winner, dtype: int64"
      ]
     },
     "execution_count": 15,
     "metadata": {},
     "output_type": "execute_result"
    }
   ],
   "source": [
    "df.groupby('team')['league_winner'].sum().sort_values(ascending=False)"
   ]
  },
  {
   "cell_type": "code",
   "execution_count": 16,
   "id": "56dc8a37-7b38-4b8f-8bba-35c109da8a63",
   "metadata": {},
   "outputs": [
    {
     "data": {
      "text/plain": [
       "646"
      ]
     },
     "execution_count": 16,
     "metadata": {},
     "output_type": "execute_result"
    }
   ],
   "source": [
    "current_rows = df.shape[0]\n",
    "current_rows"
   ]
  },
  {
   "cell_type": "code",
   "execution_count": 17,
   "id": "301fadb1-b8a8-4359-b741-d10cd2c34602",
   "metadata": {},
   "outputs": [],
   "source": [
    "df.drop_duplicates(inplace=True)\n",
    "preprocessed_rows = df.shape[0]"
   ]
  },
  {
   "cell_type": "code",
   "execution_count": 18,
   "id": "f8250f8b-7b24-4fcb-b019-87d86487c582",
   "metadata": {},
   "outputs": [
    {
     "data": {
      "text/plain": [
       "646"
      ]
     },
     "execution_count": 18,
     "metadata": {},
     "output_type": "execute_result"
    }
   ],
   "source": [
    "preprocessed_rows"
   ]
  },
  {
   "cell_type": "markdown",
   "id": "a7878223-ed1d-48c7-b99a-fd6a0ebb04bc",
   "metadata": {},
   "source": [
    "No duplicates found"
   ]
  },
  {
   "cell_type": "code",
   "execution_count": 19,
   "id": "cdf5ddd3-1d0b-45c6-a1ec-4e549e022a8d",
   "metadata": {},
   "outputs": [
    {
     "name": "stdout",
     "output_type": "stream",
     "text": [
      "--- DATATYPES BEFORE ---\n",
      "season_end_year     int64\n",
      "team               object\n",
      "position            int64\n",
      "played              int64\n",
      "won                 int64\n",
      "drawn               int64\n",
      "lost                int64\n",
      "gf                  int64\n",
      "ga                  int64\n",
      "gd                  int64\n",
      "points              int64\n",
      "league_winner       int64\n",
      "dtype: object\n",
      "--- DATATYPES AFTER ---\n",
      "season_end_year     int64\n",
      "team               object\n",
      "position            int64\n",
      "played              int64\n",
      "won                 int64\n",
      "drawn               int64\n",
      "lost                int64\n",
      "gf                  int64\n",
      "ga                  int64\n",
      "gd                  int64\n",
      "points              int64\n",
      "league_winner       int64\n",
      "dtype: object\n"
     ]
    }
   ],
   "source": [
    "print('--- DATATYPES BEFORE ---')\n",
    "print(df.dtypes)\n",
    "numeric_cols = ['season_end_year', 'position', 'played', 'won', 'drawn', 'lost', 'gf', 'ga', 'gd', 'points']\n",
    "for col in numeric_cols:\n",
    "    if col in df.columns:\n",
    "        df[col] = pd.to_numeric(df[col], errors='coerce')\n",
    "if 'team' in df.columns:\n",
    "    df['team'] = df['team'].astype(str)\n",
    "print('--- DATATYPES AFTER ---')\n",
    "print(df.dtypes)"
   ]
  },
  {
   "cell_type": "code",
   "execution_count": 20,
   "id": "43b3a4bc-ff53-4456-8aff-f0e8ddf6412a",
   "metadata": {},
   "outputs": [
    {
     "name": "stdout",
     "output_type": "stream",
     "text": [
      "LABEL ENCODING\n",
      "team encoded to team_le\n"
     ]
    }
   ],
   "source": [
    "cat_cols = df.select_dtypes(include=['object', 'category']).columns\n",
    "le_dict = {}\n",
    "print('LABEL ENCODING')\n",
    "for col in cat_cols:\n",
    "    le = LabelEncoder()\n",
    "    df[col + '_le'] = le.fit_transform(df[col].astype(str))\n",
    "    le_dict[col] = le\n",
    "    print(f\"{col} encoded to {col + '_le'}\")"
   ]
  },
  {
   "cell_type": "code",
   "execution_count": 21,
   "id": "bf6ef792-b623-4ab2-87ff-f03df82b5b57",
   "metadata": {},
   "outputs": [
    {
     "data": {
      "text/plain": [
       "Index(['season_end_year', 'team', 'position', 'played', 'won', 'drawn', 'lost',\n",
       "       'gf', 'ga', 'gd', 'points', 'league_winner', 'team_le'],\n",
       "      dtype='object')"
      ]
     },
     "execution_count": 21,
     "metadata": {},
     "output_type": "execute_result"
    }
   ],
   "source": [
    "df.columns"
   ]
  },
  {
   "cell_type": "code",
   "execution_count": 22,
   "id": "a04234bd-1926-4f62-87a6-d4ea6abed30b",
   "metadata": {},
   "outputs": [
    {
     "data": {
      "text/html": [
       "<div>\n",
       "<style scoped>\n",
       "    .dataframe tbody tr th:only-of-type {\n",
       "        vertical-align: middle;\n",
       "    }\n",
       "\n",
       "    .dataframe tbody tr th {\n",
       "        vertical-align: top;\n",
       "    }\n",
       "\n",
       "    .dataframe thead th {\n",
       "        text-align: right;\n",
       "    }\n",
       "</style>\n",
       "<table border=\"1\" class=\"dataframe\">\n",
       "  <thead>\n",
       "    <tr style=\"text-align: right;\">\n",
       "      <th></th>\n",
       "      <th>season_end_year</th>\n",
       "      <th>team</th>\n",
       "      <th>position</th>\n",
       "      <th>played</th>\n",
       "      <th>won</th>\n",
       "      <th>drawn</th>\n",
       "      <th>lost</th>\n",
       "      <th>gf</th>\n",
       "      <th>ga</th>\n",
       "      <th>gd</th>\n",
       "      <th>points</th>\n",
       "      <th>league_winner</th>\n",
       "      <th>team_le</th>\n",
       "    </tr>\n",
       "  </thead>\n",
       "  <tbody>\n",
       "    <tr>\n",
       "      <th>0</th>\n",
       "      <td>1993</td>\n",
       "      <td>Manchester Utd</td>\n",
       "      <td>1</td>\n",
       "      <td>42</td>\n",
       "      <td>24</td>\n",
       "      <td>12</td>\n",
       "      <td>6</td>\n",
       "      <td>67</td>\n",
       "      <td>31</td>\n",
       "      <td>36</td>\n",
       "      <td>84</td>\n",
       "      <td>1</td>\n",
       "      <td>28</td>\n",
       "    </tr>\n",
       "    <tr>\n",
       "      <th>1</th>\n",
       "      <td>1993</td>\n",
       "      <td>Aston Villa</td>\n",
       "      <td>2</td>\n",
       "      <td>42</td>\n",
       "      <td>21</td>\n",
       "      <td>11</td>\n",
       "      <td>10</td>\n",
       "      <td>57</td>\n",
       "      <td>40</td>\n",
       "      <td>17</td>\n",
       "      <td>74</td>\n",
       "      <td>0</td>\n",
       "      <td>1</td>\n",
       "    </tr>\n",
       "    <tr>\n",
       "      <th>2</th>\n",
       "      <td>1993</td>\n",
       "      <td>Norwich City</td>\n",
       "      <td>3</td>\n",
       "      <td>42</td>\n",
       "      <td>21</td>\n",
       "      <td>9</td>\n",
       "      <td>12</td>\n",
       "      <td>61</td>\n",
       "      <td>65</td>\n",
       "      <td>-4</td>\n",
       "      <td>72</td>\n",
       "      <td>0</td>\n",
       "      <td>31</td>\n",
       "    </tr>\n",
       "    <tr>\n",
       "      <th>3</th>\n",
       "      <td>1993</td>\n",
       "      <td>Blackburn</td>\n",
       "      <td>4</td>\n",
       "      <td>42</td>\n",
       "      <td>20</td>\n",
       "      <td>11</td>\n",
       "      <td>11</td>\n",
       "      <td>68</td>\n",
       "      <td>46</td>\n",
       "      <td>22</td>\n",
       "      <td>71</td>\n",
       "      <td>0</td>\n",
       "      <td>4</td>\n",
       "    </tr>\n",
       "    <tr>\n",
       "      <th>4</th>\n",
       "      <td>1993</td>\n",
       "      <td>QPR</td>\n",
       "      <td>5</td>\n",
       "      <td>42</td>\n",
       "      <td>17</td>\n",
       "      <td>12</td>\n",
       "      <td>13</td>\n",
       "      <td>63</td>\n",
       "      <td>55</td>\n",
       "      <td>8</td>\n",
       "      <td>63</td>\n",
       "      <td>0</td>\n",
       "      <td>35</td>\n",
       "    </tr>\n",
       "  </tbody>\n",
       "</table>\n",
       "</div>"
      ],
      "text/plain": [
       "   season_end_year            team  position  played  won  drawn  lost  gf  \\\n",
       "0             1993  Manchester Utd         1      42   24     12     6  67   \n",
       "1             1993     Aston Villa         2      42   21     11    10  57   \n",
       "2             1993    Norwich City         3      42   21      9    12  61   \n",
       "3             1993       Blackburn         4      42   20     11    11  68   \n",
       "4             1993             QPR         5      42   17     12    13  63   \n",
       "\n",
       "   ga  gd  points  league_winner  team_le  \n",
       "0  31  36      84              1       28  \n",
       "1  40  17      74              0        1  \n",
       "2  65  -4      72              0       31  \n",
       "3  46  22      71              0        4  \n",
       "4  55   8      63              0       35  "
      ]
     },
     "execution_count": 22,
     "metadata": {},
     "output_type": "execute_result"
    }
   ],
   "source": [
    "df.head()"
   ]
  },
  {
   "cell_type": "code",
   "execution_count": 23,
   "id": "43cf41fc-30cd-498d-a22d-d5b5eb7064f5",
   "metadata": {},
   "outputs": [
    {
     "name": "stdout",
     "output_type": "stream",
     "text": [
      "Arsenal: 0\n",
      "Aston Villa: 1\n",
      "Barnsley: 2\n",
      "Birmingham City: 3\n",
      "Blackburn: 4\n",
      "Blackpool: 5\n",
      "Bolton: 6\n",
      "Bournemouth: 7\n",
      "Bradford City: 8\n",
      "Brentford: 9\n",
      "Brighton: 10\n",
      "Burnley: 11\n",
      "Cardiff City: 12\n",
      "Charlton Ath: 13\n",
      "Chelsea: 14\n",
      "Coventry City: 15\n",
      "Crystal Palace: 16\n",
      "Derby County: 17\n",
      "Everton: 18\n",
      "Fulham: 19\n",
      "Huddersfield: 20\n",
      "Hull City: 21\n",
      "Ipswich Town: 22\n",
      "Leeds United: 23\n",
      "Leicester City: 24\n",
      "Liverpool: 25\n",
      "Luton Town: 26\n",
      "Manchester City: 27\n",
      "Manchester Utd: 28\n",
      "Middlesbrough: 29\n",
      "Newcastle Utd: 30\n",
      "Norwich City: 31\n",
      "Nottingham Forest: 32\n",
      "Oldham Athletic: 33\n",
      "Portsmouth: 34\n",
      "QPR: 35\n",
      "Reading: 36\n",
      "Sheffield Utd: 37\n",
      "Sheffield Weds: 38\n",
      "Southampton: 39\n",
      "Stoke City: 40\n",
      "Sunderland: 41\n",
      "Swansea City: 42\n",
      "Swindon Town: 43\n",
      "Tottenham: 44\n",
      "Watford: 45\n",
      "West Brom: 46\n",
      "West Ham: 47\n",
      "Wigan Athletic: 48\n",
      "Wimbledon: 49\n",
      "Wolves: 50\n"
     ]
    }
   ],
   "source": [
    "team_le = le_dict['team']\n",
    "for label_value, team_name in enumerate(team_le.classes_):\n",
    "    print(f\"{team_name}: {label_value}\")"
   ]
  },
  {
   "cell_type": "code",
   "execution_count": 24,
   "id": "13e66271-7934-465f-b2b6-bd4bafcd4348",
   "metadata": {},
   "outputs": [
    {
     "data": {
      "text/html": [
       "<div>\n",
       "<style scoped>\n",
       "    .dataframe tbody tr th:only-of-type {\n",
       "        vertical-align: middle;\n",
       "    }\n",
       "\n",
       "    .dataframe tbody tr th {\n",
       "        vertical-align: top;\n",
       "    }\n",
       "\n",
       "    .dataframe thead th {\n",
       "        text-align: right;\n",
       "    }\n",
       "</style>\n",
       "<table border=\"1\" class=\"dataframe\">\n",
       "  <thead>\n",
       "    <tr style=\"text-align: right;\">\n",
       "      <th></th>\n",
       "      <th>season_end_year</th>\n",
       "      <th>team</th>\n",
       "      <th>position</th>\n",
       "      <th>played</th>\n",
       "      <th>won</th>\n",
       "      <th>drawn</th>\n",
       "      <th>lost</th>\n",
       "      <th>gf</th>\n",
       "      <th>ga</th>\n",
       "      <th>gd</th>\n",
       "      <th>points</th>\n",
       "      <th>league_winner</th>\n",
       "      <th>team_le</th>\n",
       "    </tr>\n",
       "  </thead>\n",
       "  <tbody>\n",
       "    <tr>\n",
       "      <th>0</th>\n",
       "      <td>1993</td>\n",
       "      <td>Manchester Utd</td>\n",
       "      <td>1</td>\n",
       "      <td>42</td>\n",
       "      <td>24</td>\n",
       "      <td>12</td>\n",
       "      <td>6</td>\n",
       "      <td>67</td>\n",
       "      <td>31</td>\n",
       "      <td>36</td>\n",
       "      <td>84</td>\n",
       "      <td>1</td>\n",
       "      <td>28</td>\n",
       "    </tr>\n",
       "    <tr>\n",
       "      <th>1</th>\n",
       "      <td>1993</td>\n",
       "      <td>Aston Villa</td>\n",
       "      <td>2</td>\n",
       "      <td>42</td>\n",
       "      <td>21</td>\n",
       "      <td>11</td>\n",
       "      <td>10</td>\n",
       "      <td>57</td>\n",
       "      <td>40</td>\n",
       "      <td>17</td>\n",
       "      <td>74</td>\n",
       "      <td>0</td>\n",
       "      <td>1</td>\n",
       "    </tr>\n",
       "    <tr>\n",
       "      <th>2</th>\n",
       "      <td>1993</td>\n",
       "      <td>Norwich City</td>\n",
       "      <td>3</td>\n",
       "      <td>42</td>\n",
       "      <td>21</td>\n",
       "      <td>9</td>\n",
       "      <td>12</td>\n",
       "      <td>61</td>\n",
       "      <td>65</td>\n",
       "      <td>-4</td>\n",
       "      <td>72</td>\n",
       "      <td>0</td>\n",
       "      <td>31</td>\n",
       "    </tr>\n",
       "    <tr>\n",
       "      <th>3</th>\n",
       "      <td>1993</td>\n",
       "      <td>Blackburn</td>\n",
       "      <td>4</td>\n",
       "      <td>42</td>\n",
       "      <td>20</td>\n",
       "      <td>11</td>\n",
       "      <td>11</td>\n",
       "      <td>68</td>\n",
       "      <td>46</td>\n",
       "      <td>22</td>\n",
       "      <td>71</td>\n",
       "      <td>0</td>\n",
       "      <td>4</td>\n",
       "    </tr>\n",
       "    <tr>\n",
       "      <th>4</th>\n",
       "      <td>1993</td>\n",
       "      <td>QPR</td>\n",
       "      <td>5</td>\n",
       "      <td>42</td>\n",
       "      <td>17</td>\n",
       "      <td>12</td>\n",
       "      <td>13</td>\n",
       "      <td>63</td>\n",
       "      <td>55</td>\n",
       "      <td>8</td>\n",
       "      <td>63</td>\n",
       "      <td>0</td>\n",
       "      <td>35</td>\n",
       "    </tr>\n",
       "  </tbody>\n",
       "</table>\n",
       "</div>"
      ],
      "text/plain": [
       "   season_end_year            team  position  played  won  drawn  lost  gf  \\\n",
       "0             1993  Manchester Utd         1      42   24     12     6  67   \n",
       "1             1993     Aston Villa         2      42   21     11    10  57   \n",
       "2             1993    Norwich City         3      42   21      9    12  61   \n",
       "3             1993       Blackburn         4      42   20     11    11  68   \n",
       "4             1993             QPR         5      42   17     12    13  63   \n",
       "\n",
       "   ga  gd  points  league_winner  team_le  \n",
       "0  31  36      84              1       28  \n",
       "1  40  17      74              0        1  \n",
       "2  65  -4      72              0       31  \n",
       "3  46  22      71              0        4  \n",
       "4  55   8      63              0       35  "
      ]
     },
     "execution_count": 24,
     "metadata": {},
     "output_type": "execute_result"
    }
   ],
   "source": [
    "df.head()"
   ]
  },
  {
   "cell_type": "code",
   "execution_count": 25,
   "id": "46bf108c-56c8-4f47-b0c5-17641e62a0e9",
   "metadata": {},
   "outputs": [],
   "source": [
    "df.drop(['season_end_year','team','team_le'], axis=1, inplace=True)"
   ]
  },
  {
   "cell_type": "code",
   "execution_count": 26,
   "id": "1b640e16-9c3e-4007-8417-0d50163d3842",
   "metadata": {},
   "outputs": [],
   "source": [
    "X = df.drop(columns=['league_winner', 'position', 'points'])\n",
    "y = df['league_winner']"
   ]
  },
  {
   "cell_type": "code",
   "execution_count": 27,
   "id": "b42f0ae1-d20c-4488-8999-10304e768d3c",
   "metadata": {},
   "outputs": [
    {
     "data": {
      "text/html": [
       "<div>\n",
       "<style scoped>\n",
       "    .dataframe tbody tr th:only-of-type {\n",
       "        vertical-align: middle;\n",
       "    }\n",
       "\n",
       "    .dataframe tbody tr th {\n",
       "        vertical-align: top;\n",
       "    }\n",
       "\n",
       "    .dataframe thead th {\n",
       "        text-align: right;\n",
       "    }\n",
       "</style>\n",
       "<table border=\"1\" class=\"dataframe\">\n",
       "  <thead>\n",
       "    <tr style=\"text-align: right;\">\n",
       "      <th></th>\n",
       "      <th>played</th>\n",
       "      <th>won</th>\n",
       "      <th>drawn</th>\n",
       "      <th>lost</th>\n",
       "      <th>gf</th>\n",
       "      <th>ga</th>\n",
       "      <th>gd</th>\n",
       "    </tr>\n",
       "  </thead>\n",
       "  <tbody>\n",
       "    <tr>\n",
       "      <th>0</th>\n",
       "      <td>42</td>\n",
       "      <td>24</td>\n",
       "      <td>12</td>\n",
       "      <td>6</td>\n",
       "      <td>67</td>\n",
       "      <td>31</td>\n",
       "      <td>36</td>\n",
       "    </tr>\n",
       "    <tr>\n",
       "      <th>1</th>\n",
       "      <td>42</td>\n",
       "      <td>21</td>\n",
       "      <td>11</td>\n",
       "      <td>10</td>\n",
       "      <td>57</td>\n",
       "      <td>40</td>\n",
       "      <td>17</td>\n",
       "    </tr>\n",
       "    <tr>\n",
       "      <th>2</th>\n",
       "      <td>42</td>\n",
       "      <td>21</td>\n",
       "      <td>9</td>\n",
       "      <td>12</td>\n",
       "      <td>61</td>\n",
       "      <td>65</td>\n",
       "      <td>-4</td>\n",
       "    </tr>\n",
       "    <tr>\n",
       "      <th>3</th>\n",
       "      <td>42</td>\n",
       "      <td>20</td>\n",
       "      <td>11</td>\n",
       "      <td>11</td>\n",
       "      <td>68</td>\n",
       "      <td>46</td>\n",
       "      <td>22</td>\n",
       "    </tr>\n",
       "    <tr>\n",
       "      <th>4</th>\n",
       "      <td>42</td>\n",
       "      <td>17</td>\n",
       "      <td>12</td>\n",
       "      <td>13</td>\n",
       "      <td>63</td>\n",
       "      <td>55</td>\n",
       "      <td>8</td>\n",
       "    </tr>\n",
       "  </tbody>\n",
       "</table>\n",
       "</div>"
      ],
      "text/plain": [
       "   played  won  drawn  lost  gf  ga  gd\n",
       "0      42   24     12     6  67  31  36\n",
       "1      42   21     11    10  57  40  17\n",
       "2      42   21      9    12  61  65  -4\n",
       "3      42   20     11    11  68  46  22\n",
       "4      42   17     12    13  63  55   8"
      ]
     },
     "execution_count": 27,
     "metadata": {},
     "output_type": "execute_result"
    }
   ],
   "source": [
    "X.head()"
   ]
  },
  {
   "cell_type": "markdown",
   "id": "1d9e8405-6df0-499d-844a-6753e7cd025e",
   "metadata": {},
   "source": [
    "**model 1 -> random forest classifier**"
   ]
  },
  {
   "cell_type": "code",
   "execution_count": 29,
   "id": "8c774aa3-6200-45e6-99fa-dcb1081eac8f",
   "metadata": {},
   "outputs": [
    {
     "name": "stdout",
     "output_type": "stream",
     "text": [
      "Accuracy : 0.9690721649484536\n",
      "Precision: 1.0\n",
      "Recall   : 0.4\n",
      "F1 Score : 0.5714285714285714\n",
      "\n",
      "Confusion Matrix:\n",
      " [[184   0]\n",
      " [  6   4]]\n",
      "\n",
      "Classification Report:\n",
      "               precision    recall  f1-score   support\n",
      "\n",
      "           0       0.97      1.00      0.98       184\n",
      "           1       1.00      0.40      0.57        10\n",
      "\n",
      "    accuracy                           0.97       194\n",
      "   macro avg       0.98      0.70      0.78       194\n",
      "weighted avg       0.97      0.97      0.96       194\n",
      "\n"
     ]
    }
   ],
   "source": [
    "X_train, X_test, y_train, y_test = train_test_split(\n",
    "    X, y, test_size=0.3, random_state=42, stratify=y)\n",
    "clf = RandomForestClassifier(n_estimators=200, random_state=42)\n",
    "clf.fit(X_train, y_train)\n",
    "\n",
    "y_pred = clf.predict(X_test)\n",
    "\n",
    "print(\"Accuracy :\", accuracy_score(y_test, y_pred))\n",
    "print(\"Precision:\", precision_score(y_test, y_pred))\n",
    "print(\"Recall   :\", recall_score(y_test, y_pred))\n",
    "print(\"F1 Score :\", f1_score(y_test, y_pred))\n",
    "\n",
    "print(\"\\nConfusion Matrix:\\n\", confusion_matrix(y_test, y_pred))\n",
    "print(\"\\nClassification Report:\\n\", classification_report(y_test, y_pred))"
   ]
  },
  {
   "cell_type": "code",
   "execution_count": 30,
   "id": "9d1679dc-2345-40f0-8c8a-0573405fe73e",
   "metadata": {},
   "outputs": [],
   "source": [
    "# y_train_pred = clf.predict(X_train)\n",
    "\n",
    "# print(\"Train Accuracy :\", accuracy_score(y_train, y_train_pred))\n",
    "# print(\"Test Accuracy  :\", accuracy_score(y_test, y_pred))"
   ]
  },
  {
   "cell_type": "markdown",
   "id": "e26cbb69-f1bf-42e6-a4f8-7f966b9795a7",
   "metadata": {},
   "source": [
    "-----------------------------------------------------------------------------------------\n",
    "\n",
    "**cross validation score**\n",
    "\n",
    "-----------------------------------------------------------------------------------------\n"
   ]
  },
  {
   "cell_type": "code",
   "execution_count": 31,
   "id": "b6ea8c31-8d70-4653-98db-a899e3189a97",
   "metadata": {},
   "outputs": [],
   "source": [
    "# from sklearn.model_selection import cross_val_score\n",
    "\n",
    "# scores = cross_val_score(clf, X, y, cv=5)\n",
    "# print(\"CV Accuracy scores:\", scores)\n",
    "# print(\"Mean CV Accuracy  :\", scores.mean())\n"
   ]
  },
  {
   "cell_type": "markdown",
   "id": "acbe3661-e051-4fa5-b55e-5f5ffe13aaec",
   "metadata": {},
   "source": [
    "---------------------------------------------------------------------------------------------------------------------------\n",
    "\n",
    "**After changing hyperparametrs**\n",
    "\n",
    "---------------------------------------------------------------------------------------------------------------------------"
   ]
  },
  {
   "cell_type": "code",
   "execution_count": 32,
   "id": "20415b89-1171-4833-89e9-a41e4295f5cb",
   "metadata": {},
   "outputs": [],
   "source": [
    "# from sklearn.model_selection import GridSearchCV\n",
    "# from sklearn.pipeline import Pipeline\n",
    "# from sklearn.tree import DecisionTreeClassifier\n",
    "\n",
    "\n",
    "# pipeline = Pipeline([\n",
    "#     (\"dt\", DecisionTreeClassifier(random_state=42))\n",
    "# ])\n",
    "\n",
    "# param_grid = {\n",
    "#     \"dt__criterion\": [\"gini\", \"entropy\", \"log_loss\"], \n",
    "#     \"dt__max_depth\": [None, 3, 5, 10, 20],\n",
    "#     \"dt__min_samples_split\": [2, 5, 10],\n",
    "#     \"dt__min_samples_leaf\": [1, 2, 5, 10],\n",
    "#     \"dt__max_features\": [None, \"sqrt\", \"log2\"]\n",
    "# }\n",
    "\n",
    "# grid = GridSearchCV(\n",
    "#     pipeline,\n",
    "#     param_grid,\n",
    "#     cv=5,\n",
    "#     scoring=\"accuracy\",  \n",
    "#     n_jobs=-1\n",
    "# )\n",
    "\n",
    "# grid.fit(X_train,y_train)\n",
    "\n",
    "# # Best params & CV score\n",
    "# print(\"Best Params:\", grid.best_params_)\n",
    "# print(\"Best CV Accuracy:\", grid.best_score_)\n",
    "\n",
    "# # Use best estimator to predict test set\n",
    "# y_pred = grid.best_estimator_.predict(X_test)\n",
    "\n",
    "# # Classification report\n",
    "# print(\"\\nClassification Report:\")\n",
    "# print(classification_report(y_test, y_pred))"
   ]
  },
  {
   "cell_type": "markdown",
   "id": "249df0c3-e984-4f57-8e3d-c5ec11ecad68",
   "metadata": {},
   "source": [
    "**SMOTE implementation**"
   ]
  },
  {
   "cell_type": "code",
   "execution_count": 33,
   "id": "20d484dd-1463-4c5f-a806-9689eebaa516",
   "metadata": {},
   "outputs": [],
   "source": [
    "# smote = SMOTE(random_state=42)\n",
    "# X_train_smote, y_train_smote = smote.fit_resample(X_train, y_train)\n",
    "\n",
    "# print(\"Before SMOTE:\", y_train.value_counts())\n",
    "# print(\"After SMOTE :\", y_train_smote.value_counts())"
   ]
  },
  {
   "cell_type": "markdown",
   "id": "af68c08a-ab0c-4e44-a9d7-50487514479c",
   "metadata": {},
   "source": [
    "**# MODEL 2 Random Forest on SMOTE-balanced data**"
   ]
  },
  {
   "cell_type": "code",
   "execution_count": 35,
   "id": "6438cdb9-8956-4ad3-80c8-33bd756da442",
   "metadata": {},
   "outputs": [
    {
     "name": "stdout",
     "output_type": "stream",
     "text": [
      "Accuracy : 0.9587628865979382\n",
      "Precision: 0.5833333333333334\n",
      "Recall   : 0.7\n",
      "F1 Score : 0.6363636363636364\n",
      "\n",
      "Confusion Matrix:\n",
      " [[179   5]\n",
      " [  3   7]]\n",
      "\n",
      "Classification Report:\n",
      "               precision    recall  f1-score   support\n",
      "\n",
      "           0       0.98      0.97      0.98       184\n",
      "           1       0.58      0.70      0.64        10\n",
      "\n",
      "    accuracy                           0.96       194\n",
      "   macro avg       0.78      0.84      0.81       194\n",
      "weighted avg       0.96      0.96      0.96       194\n",
      "\n",
      "------------------------------------------------------------------------------------------\n"
     ]
    }
   ],
   "source": [
    "# Random Forest on SMOTE-balanced data\n",
    "smote = SMOTE(sampling_strategy=0.3, random_state=42)\n",
    "X_train_smote, y_train_smote = smote.fit_resample(X_train, y_train)\n",
    "\n",
    "clf_smote = RandomForestClassifier(n_estimators=200, random_state=42)\n",
    "clf_smote.fit(X_train_smote, y_train_smote)\n",
    "\n",
    "y_pred_smote = clf_smote.predict(X_test)\n",
    "\n",
    "acc = accuracy_score(y_test, y_pred_smote)\n",
    "prec = precision_score(y_test, y_pred_smote)\n",
    "rec = recall_score(y_test, y_pred_smote)\n",
    "f1 = f1_score(y_test, y_pred_smote)\n",
    "\n",
    "print(\"Accuracy :\", acc)\n",
    "print(\"Precision:\", prec)\n",
    "print(\"Recall   :\", rec)\n",
    "print(\"F1 Score :\", f1)\n",
    "print(\"\\nConfusion Matrix:\\n\", confusion_matrix(y_test, y_pred_smote))\n",
    "print(\"\\nClassification Report:\\n\", classification_report(y_test, y_pred_smote))\n",
    "print(\"-\"*90)"
   ]
  },
  {
   "cell_type": "markdown",
   "id": "147f4d82-7288-4c64-88c2-77c5b4a96920",
   "metadata": {},
   "source": [
    "**CHanging hyper parameters for SMOTE**"
   ]
  },
  {
   "cell_type": "code",
   "execution_count": 36,
   "id": "c98d70b9-b67a-4233-bb8f-495b42d9d2b7",
   "metadata": {},
   "outputs": [],
   "source": [
    "# sampling_strategies = [0.3, 0.5, 0.7]\n",
    "\n",
    "# results = []\n",
    "\n",
    "# for strategy in sampling_strategies:\n",
    "    \n",
    "#     print(f\"\\n=== SMOTE with sampling_strategy={strategy} ===\")\n",
    "    \n",
    "#     smote = SMOTE(sampling_strategy=strategy, random_state=42)\n",
    "#     X_train_smote, y_train_smote = smote.fit_resample(X_train, y_train)\n",
    "\n",
    "#     clf_smote = RandomForestClassifier(n_estimators=200, random_state=42)\n",
    "#     clf_smote.fit(X_train_smote, y_train_smote)\n",
    "\n",
    "#     y_pred_smote = clf_smote.predict(X_test)\n",
    "\n",
    "#     acc = accuracy_score(y_test, y_pred_smote)\n",
    "#     prec = precision_score(y_test, y_pred_smote)\n",
    "#     rec = recall_score(y_test, y_pred_smote)\n",
    "#     f1 = f1_score(y_test, y_pred_smote)\n",
    "\n",
    "#     results.append({\n",
    "#         \"sampling_strategy\": strategy,\n",
    "#         \"Accuracy\": acc,\n",
    "#         \"Precision\": prec,\n",
    "#         \"Recall\": rec,\n",
    "#         \"F1\": f1\n",
    "#     })\n",
    "\n",
    "#     print(\"Accuracy :\", acc)\n",
    "#     print(\"Precision:\", prec)\n",
    "#     print(\"Recall   :\", rec)\n",
    "#     print(\"F1 Score :\", f1)\n",
    "#     print(\"\\nConfusion Matrix:\\n\", confusion_matrix(y_test, y_pred_smote))\n",
    "#     print(\"\\nClassification Report:\\n\", classification_report(y_test, y_pred_smote))\n",
    "#     print(\"-\"*90)\n",
    "\n",
    "\n",
    "# results_df = pd.DataFrame(results)\n",
    "# print(\"\\n=== Summary of Results ===\")\n",
    "# print(results_df)"
   ]
  },
  {
   "cell_type": "markdown",
   "id": "f83ba7a4-055d-476f-abab-d05d965a0c44",
   "metadata": {},
   "source": [
    "**MODEL 3 - Neural Networks Implementation**"
   ]
  },
  {
   "cell_type": "code",
   "execution_count": 37,
   "id": "a55c4ed5-b1e3-48cf-9d43-773a77d9ac40",
   "metadata": {},
   "outputs": [
    {
     "data": {
      "text/plain": [
       "Index(['played', 'won', 'drawn', 'lost', 'gf', 'ga', 'gd'], dtype='object')"
      ]
     },
     "execution_count": 37,
     "metadata": {},
     "output_type": "execute_result"
    }
   ],
   "source": [
    "X_train.columns"
   ]
  },
  {
   "cell_type": "code",
   "execution_count": 38,
   "id": "6fdd5c5a-d008-4548-a06c-015f7dc81f80",
   "metadata": {},
   "outputs": [
    {
     "name": "stderr",
     "output_type": "stream",
     "text": [
      "c:\\Users\\srias\\anaconda3\\envs\\tf_env\\lib\\site-packages\\keras\\src\\layers\\core\\dense.py:93: UserWarning: Do not pass an `input_shape`/`input_dim` argument to a layer. When using Sequential models, prefer using an `Input(shape)` object as the first layer in the model instead.\n",
      "  super().__init__(activity_regularizer=activity_regularizer, **kwargs)\n"
     ]
    },
    {
     "name": "stdout",
     "output_type": "stream",
     "text": [
      "Epoch 1/20\n",
      "\u001b[1m35/35\u001b[0m \u001b[32m━━━━━━━━━━━━━━━━━━━━\u001b[0m\u001b[37m\u001b[0m \u001b[1m2s\u001b[0m 5ms/step - accuracy: 0.4607 - loss: 0.7713\n",
      "Epoch 2/20\n",
      "\u001b[1m35/35\u001b[0m \u001b[32m━━━━━━━━━━━━━━━━━━━━\u001b[0m\u001b[37m\u001b[0m \u001b[1m0s\u001b[0m 3ms/step - accuracy: 0.8847 - loss: 0.4728\n",
      "Epoch 3/20\n",
      "\u001b[1m35/35\u001b[0m \u001b[32m━━━━━━━━━━━━━━━━━━━━\u001b[0m\u001b[37m\u001b[0m \u001b[1m0s\u001b[0m 3ms/step - accuracy: 0.9359 - loss: 0.3202\n",
      "Epoch 4/20\n",
      "\u001b[1m35/35\u001b[0m \u001b[32m━━━━━━━━━━━━━━━━━━━━\u001b[0m\u001b[37m\u001b[0m \u001b[1m0s\u001b[0m 2ms/step - accuracy: 0.9452 - loss: 0.2194\n",
      "Epoch 5/20\n",
      "\u001b[1m35/35\u001b[0m \u001b[32m━━━━━━━━━━━━━━━━━━━━\u001b[0m\u001b[37m\u001b[0m \u001b[1m0s\u001b[0m 3ms/step - accuracy: 0.9548 - loss: 0.1800\n",
      "Epoch 6/20\n",
      "\u001b[1m35/35\u001b[0m \u001b[32m━━━━━━━━━━━━━━━━━━━━\u001b[0m\u001b[37m\u001b[0m \u001b[1m0s\u001b[0m 3ms/step - accuracy: 0.9543 - loss: 0.1541\n",
      "Epoch 7/20\n",
      "\u001b[1m35/35\u001b[0m \u001b[32m━━━━━━━━━━━━━━━━━━━━\u001b[0m\u001b[37m\u001b[0m \u001b[1m0s\u001b[0m 3ms/step - accuracy: 0.9368 - loss: 0.1656\n",
      "Epoch 8/20\n",
      "\u001b[1m35/35\u001b[0m \u001b[32m━━━━━━━━━━━━━━━━━━━━\u001b[0m\u001b[37m\u001b[0m \u001b[1m0s\u001b[0m 3ms/step - accuracy: 0.9545 - loss: 0.1239\n",
      "Epoch 9/20\n",
      "\u001b[1m35/35\u001b[0m \u001b[32m━━━━━━━━━━━━━━━━━━━━\u001b[0m\u001b[37m\u001b[0m \u001b[1m0s\u001b[0m 3ms/step - accuracy: 0.9557 - loss: 0.1194\n",
      "Epoch 10/20\n",
      "\u001b[1m35/35\u001b[0m \u001b[32m━━━━━━━━━━━━━━━━━━━━\u001b[0m\u001b[37m\u001b[0m \u001b[1m0s\u001b[0m 3ms/step - accuracy: 0.9631 - loss: 0.1001\n",
      "Epoch 11/20\n",
      "\u001b[1m35/35\u001b[0m \u001b[32m━━━━━━━━━━━━━━━━━━━━\u001b[0m\u001b[37m\u001b[0m \u001b[1m0s\u001b[0m 3ms/step - accuracy: 0.9541 - loss: 0.1281\n",
      "Epoch 12/20\n",
      "\u001b[1m35/35\u001b[0m \u001b[32m━━━━━━━━━━━━━━━━━━━━\u001b[0m\u001b[37m\u001b[0m \u001b[1m0s\u001b[0m 3ms/step - accuracy: 0.9631 - loss: 0.1116\n",
      "Epoch 13/20\n",
      "\u001b[1m35/35\u001b[0m \u001b[32m━━━━━━━━━━━━━━━━━━━━\u001b[0m\u001b[37m\u001b[0m \u001b[1m0s\u001b[0m 5ms/step - accuracy: 0.9617 - loss: 0.0956\n",
      "Epoch 14/20\n",
      "\u001b[1m35/35\u001b[0m \u001b[32m━━━━━━━━━━━━━━━━━━━━\u001b[0m\u001b[37m\u001b[0m \u001b[1m0s\u001b[0m 5ms/step - accuracy: 0.9641 - loss: 0.1086\n",
      "Epoch 15/20\n",
      "\u001b[1m35/35\u001b[0m \u001b[32m━━━━━━━━━━━━━━━━━━━━\u001b[0m\u001b[37m\u001b[0m \u001b[1m0s\u001b[0m 5ms/step - accuracy: 0.9710 - loss: 0.0962\n",
      "Epoch 16/20\n",
      "\u001b[1m35/35\u001b[0m \u001b[32m━━━━━━━━━━━━━━━━━━━━\u001b[0m\u001b[37m\u001b[0m \u001b[1m0s\u001b[0m 4ms/step - accuracy: 0.9691 - loss: 0.0959\n",
      "Epoch 17/20\n",
      "\u001b[1m35/35\u001b[0m \u001b[32m━━━━━━━━━━━━━━━━━━━━\u001b[0m\u001b[37m\u001b[0m \u001b[1m0s\u001b[0m 5ms/step - accuracy: 0.9710 - loss: 0.0975\n",
      "Epoch 18/20\n",
      "\u001b[1m35/35\u001b[0m \u001b[32m━━━━━━━━━━━━━━━━━━━━\u001b[0m\u001b[37m\u001b[0m \u001b[1m0s\u001b[0m 5ms/step - accuracy: 0.9668 - loss: 0.1290\n",
      "Epoch 19/20\n",
      "\u001b[1m35/35\u001b[0m \u001b[32m━━━━━━━━━━━━━━━━━━━━\u001b[0m\u001b[37m\u001b[0m \u001b[1m0s\u001b[0m 3ms/step - accuracy: 0.9717 - loss: 0.0887\n",
      "Epoch 20/20\n",
      "\u001b[1m35/35\u001b[0m \u001b[32m━━━━━━━━━━━━━━━━━━━━\u001b[0m\u001b[37m\u001b[0m \u001b[1m0s\u001b[0m 3ms/step - accuracy: 0.9730 - loss: 0.0872\n",
      "\u001b[1m7/7\u001b[0m \u001b[32m━━━━━━━━━━━━━━━━━━━━\u001b[0m\u001b[37m\u001b[0m \u001b[1m0s\u001b[0m 11ms/step\n",
      "Accuracy: 0.979381443298969\n",
      "Precision: 0.8\n",
      "Recall   : 0.8\n",
      "F1 Score : 0.8\n",
      "\n",
      "Confusion Matrix:\n",
      " [[182   2]\n",
      " [  2   8]]\n",
      "\n",
      "Classification Report:\n",
      "               precision    recall  f1-score   support\n",
      "\n",
      "           0       0.99      0.99      0.99       184\n",
      "           1       0.80      0.80      0.80        10\n",
      "\n",
      "    accuracy                           0.98       194\n",
      "   macro avg       0.89      0.89      0.89       194\n",
      "weighted avg       0.98      0.98      0.98       194\n",
      "\n"
     ]
    }
   ],
   "source": [
    "scaler = StandardScaler()\n",
    "X_train_scaled = scaler.fit_transform(X_train_smote)\n",
    "X_test_scaled = scaler.transform(X_test)\n",
    "\n",
    "model = Sequential([\n",
    "    Dense(32, activation='relu', input_shape=(X_train_scaled.shape[1],)),\n",
    "    Dense(16, activation='relu'),\n",
    "    Dense(1, activation='sigmoid')  \n",
    "])\n",
    "\n",
    "model.compile(optimizer='adam',\n",
    "              loss='binary_crossentropy',\n",
    "              metrics=['accuracy'])\n",
    "\n",
    "model.fit(X_train_scaled,y_train_smote, epochs=20, batch_size=16, verbose=1)\n",
    "\n",
    "\n",
    "y_pred_prob = model.predict(X_test_scaled)\n",
    "y_pred = (y_pred_prob > 0.5).astype(int)\n",
    "\n",
    "print(\"Accuracy:\", accuracy_score(y_test, y_pred))\n",
    "prec = precision_score(y_test, y_pred)\n",
    "rec = recall_score(y_test, y_pred)\n",
    "f1 = f1_score(y_test, y_pred)\n",
    "print(\"Precision:\", prec)\n",
    "print(\"Recall   :\", rec)\n",
    "print(\"F1 Score :\", f1)\n",
    "print(\"\\nConfusion Matrix:\\n\", confusion_matrix(y_test, y_pred))\n",
    "print(\"\\nClassification Report:\\n\", classification_report(y_test, y_pred))"
   ]
  },
  {
   "cell_type": "markdown",
   "id": "1a5853a3-5a49-40ee-b460-60df58322a3d",
   "metadata": {},
   "source": [
    "**I am using nn + smote model as deploying model and rf + smote as backup model**"
   ]
  },
  {
   "cell_type": "code",
   "execution_count": 42,
   "id": "6c96ab47-85b6-45b2-bfa9-8e0eae7a8078",
   "metadata": {},
   "outputs": [
    {
     "data": {
      "text/plain": [
       "['rf_smote_model.pkl']"
      ]
     },
     "execution_count": 42,
     "metadata": {},
     "output_type": "execute_result"
    }
   ],
   "source": [
    "#saving model 2\n",
    "import joblib\n",
    "joblib.dump(clf_smote, \"rf_smote_model.pkl\")\n",
    "\n",
    "# clf_smote.save(\"rf_smote_model.keras\")\n",
    "#clf_smote = joblib.load(\"rf_smote_model.pkl\")"
   ]
  },
  {
   "cell_type": "code",
   "execution_count": 40,
   "id": "3916a029-ffdd-48cb-a6a5-c75acfffec4f",
   "metadata": {},
   "outputs": [
    {
     "data": {
      "text/plain": [
       "['scaler.pkl']"
      ]
     },
     "execution_count": 40,
     "metadata": {},
     "output_type": "execute_result"
    }
   ],
   "source": [
    "# Saving model 3\n",
    "model.save(\"nn_smote_model.keras\")\n",
    "\n",
    "# Save scaler\n",
    "joblib.dump(scaler, \"scaler.pkl\")\n",
    "\n",
    "#loading\n",
    "# from tensorflow.keras.models import load_model\n",
    "# import joblib\n",
    "\n",
    "# model = load_model(\"nn_smote_model.keras\")\n",
    "# scaler = joblib.load(\"scaler.pkl\")"
   ]
  },
  {
   "cell_type": "code",
   "execution_count": null,
   "id": "482385f9-0087-4bfc-92b6-e48982d849f7",
   "metadata": {},
   "outputs": [],
   "source": []
  }
 ],
 "metadata": {
  "kernelspec": {
   "display_name": "Python (tf_env)",
   "language": "python",
   "name": "tf_env"
  },
  "language_info": {
   "codemirror_mode": {
    "name": "ipython",
    "version": 3
   },
   "file_extension": ".py",
   "mimetype": "text/x-python",
   "name": "python",
   "nbconvert_exporter": "python",
   "pygments_lexer": "ipython3",
   "version": "3.10.18"
  }
 },
 "nbformat": 4,
 "nbformat_minor": 5
}
