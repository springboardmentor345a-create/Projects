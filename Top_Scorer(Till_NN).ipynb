{
 "cells": [
  {
   "cell_type": "code",
   "execution_count": 4,
   "id": "c8b2b4d1-615d-4b47-830d-eb94c80a2e86",
   "metadata": {},
   "outputs": [
    {
     "name": "stdout",
     "output_type": "stream",
     "text": [
      "XGBoost: 2.1.3\n",
      "TensorFlow: 2.18.1\n",
      "imblearn installed successfully\n"
     ]
    }
   ],
   "source": [
    "import xgboost\n",
    "import tensorflow as tf\n",
    "from imblearn.over_sampling import SMOTE\n",
    "\n",
    "print(\"XGBoost:\", xgboost.__version__)\n",
    "print(\"TensorFlow:\", tf.__version__)\n",
    "print(\"imblearn installed successfully\")"
   ]
  },
  {
   "cell_type": "code",
   "execution_count": 5,
   "id": "3e62a512-aff9-4068-b5e8-4dc2c4317fe6",
   "metadata": {},
   "outputs": [
    {
     "name": "stdout",
     "output_type": "stream",
     "text": [
      "All core libraries and advanced models successfully imported (assuming kernel was restarted if installs ran).\n"
     ]
    }
   ],
   "source": [
    "import pandas as pd\n",
    "import numpy as np\n",
    "import matplotlib.pyplot as plt\n",
    "import seaborn as sns\n",
    "import joblib\n",
    "import warnings\n",
    "from sklearn.model_selection import train_test_split, GridSearchCV\n",
    "from sklearn.preprocessing import StandardScaler, LabelEncoder, OneHotEncoder\n",
    "from sklearn.metrics import mean_squared_error, r2_score # Regression metrics\n",
    "\n",
    "# --- INSTALLATION BLOCK ---\n",
    "# NOTE: If any installation runs below, you MUST restart the kernel (Kernel -> Restart)\n",
    "def check_and_install(package_name):\n",
    "    try:\n",
    "        __import__(package_name)\n",
    "    except ImportError:\n",
    "        print(f\"[{package_name}] not found. Running installation...\")\n",
    "        !pip install {package_name}\n",
    "        print(f\"\\n--- SUCCESS: {package_name} installed. ---\")\n",
    "        print(\"!!! WARNING: PLEASE RESTART THE KERNEL NOW (Kernel -> Restart) !!!\")\n",
    "        print(\"!!! Then, rerun all cells from Cell 1. !!!\\n\")\n",
    "\n",
    "# Check and install advanced packages\n",
    "check_and_install('imblearn')\n",
    "check_and_install('xgboost')\n",
    "check_and_install('tensorflow')\n",
    "\n",
    "# --- REGRESSION MODELS ---\n",
    "from sklearn.linear_model import LinearRegression\n",
    "from sklearn.ensemble import RandomForestRegressor, GradientBoostingRegressor\n",
    "\n",
    "# --- ADVANCED MODELS ---\n",
    "import xgboost as xgb\n",
    "import tensorflow as tf\n",
    "from tensorflow.keras.models import Sequential\n",
    "from tensorflow.keras.layers import Dense\n",
    "\n",
    "warnings.filterwarnings('ignore')\n",
    "RANDOM_SEED = 42\n",
    "print(\"All core libraries and advanced models successfully imported (assuming kernel was restarted if installs ran).\")"
   ]
  },
  {
   "cell_type": "code",
   "execution_count": 8,
   "id": "6801c71d-29d6-4c21-8160-b12830a6eb64",
   "metadata": {},
   "outputs": [
    {
     "name": "stdout",
     "output_type": "stream",
     "text": [
      "Loaded Match Winner.csv as df_match, shape: (9380, 22)\n",
      "Loaded pl-tables(Overall Points & Ranking)-1993-2024.csv as df_pl, shape: (646, 12)\n",
      "Loaded Top Goals.xlsx as df_player, shape: (324, 19)\n"
     ]
    }
   ],
   "source": [
    "import pandas as pd\n",
    "\n",
    "# Load CSV files\n",
    "match_file = \"Match Winner.csv\"\n",
    "pl_file = \"pl-tables(Overall Points & Ranking)-1993-2024.csv\"\n",
    "\n",
    "df_match = pd.read_csv(match_file)\n",
    "df_pl = pd.read_csv(pl_file)\n",
    "\n",
    "print(f\"Loaded {match_file} as df_match, shape:\", df_match.shape)\n",
    "print(f\"Loaded {pl_file} as df_pl, shape:\", df_pl.shape)\n",
    "\n",
    "# Load Excel file\n",
    "player_file = \"Top Goals.xlsx\"\n",
    "df_player = pd.read_excel(player_file)\n",
    "\n",
    "print(f\"Loaded {player_file} as df_player, shape:\", df_player.shape)\n"
   ]
  },
  {
   "cell_type": "code",
   "execution_count": 9,
   "id": "7134f9a1-0ae2-422b-ad4a-3c81988bd540",
   "metadata": {},
   "outputs": [
    {
     "name": "stdout",
     "output_type": "stream",
     "text": [
      "Missing values handled. Dropped rows where Assists was missing.\n",
      "New dataset shape: (96, 19)\n"
     ]
    }
   ],
   "source": [
    "# The target is 'Assists'\n",
    "TARGET_COL = 'Assists'\n",
    "\n",
    "# Convert \"N/A\" strings to standard numpy NaN for proper handling\n",
    "df_player = df_player.replace('N/A', np.nan)\n",
    "\n",
    "# Convert all numerical columns that might contain 'N/A' to float\n",
    "numerical_cols_to_convert = ['Goals_prev_season', 'Assists', 'Goals_per_90', 'Goals']\n",
    "for col in numerical_cols_to_convert:\n",
    "    # Use errors='coerce' to handle any remaining non-numeric data\n",
    "    df_player[col] = pd.to_numeric(df_player[col], errors='coerce')\n",
    "\n",
    "# Handle missing values: Fill NaNs in 'Goals_prev_season' with 0 (assuming a new player or first year in the league)\n",
    "df_player['Goals_prev_season'].fillna(0, inplace=True)\n",
    "\n",
    "# Drop rows where the target ('Assists') is still NaN (unreliable data)\n",
    "df_player.dropna(subset=[TARGET_COL], inplace=True)\n",
    "\n",
    "print(f\"Missing values handled. Dropped rows where {TARGET_COL} was missing.\")\n",
    "print(f\"New dataset shape: {df_player.shape}\")"
   ]
  },
  {
   "cell_type": "code",
   "execution_count": 10,
   "id": "a18a023b-99c7-4f38-8649-4a92d62ca2d1",
   "metadata": {},
   "outputs": [
    {
     "name": "stdout",
     "output_type": "stream",
     "text": [
      "Feature matrix (X) prepared. Shape: (96, 27)\n",
      "Final features count: 27\n",
      "Final features: ['Age', 'Appearances', 'Goals_prev_season', 'Big_6_Club_Feature', 'Position_Forward', 'Position_Midfielder', 'Position_Winger', 'Club_Arsenal', 'Club_Aston Villa', 'Club_Brentford']\n"
     ]
    }
   ],
   "source": [
    "# Select features for encoding\n",
    "categorical_features = ['Position', 'Club']\n",
    "df_encoded = pd.get_dummies(df_player, columns=categorical_features, drop_first=True)\n",
    "\n",
    "# Drop columns that are irrelevant or highly correlated/leaky\n",
    "cols_to_drop = [\n",
    "    'Season', 'Player', 'Club', # Identifiers\n",
    "    'Rank', # Rank is highly correlated with goals/assists\n",
    "    'Goals', 'Non-Penalty_Goals', 'Goals_per_90', 'Goals_per_90', # Highly correlated with assists (potential leakage/redundancy)\n",
    "    'Club_League_Rank', 'Club_Total_Goals', 'League_Goals_per_Match', 'Games_in_Season' # Team-level stats that might be too general\n",
    "]\n",
    "\n",
    "# Create the feature matrix\n",
    "X = df_encoded.drop(columns=cols_to_drop, errors='ignore')\n",
    "y = df_encoded[TARGET_COL] # Target variable (Assists)\n",
    "\n",
    "# Drop the remaining columns that are not useful or were part of the initial drop list\n",
    "X.drop(columns=[TARGET_COL, 'IsTop10', 'Penalty_Goals'], errors='ignore', inplace=True)\n",
    "\n",
    "print(f\"Feature matrix (X) prepared. Shape: {X.shape}\")\n",
    "print(f\"Final features count: {X.shape[1]}\")\n",
    "print(\"Final features:\", X.columns.tolist()[:10]) # Print first 10 for brevity"
   ]
  },
  {
   "cell_type": "code",
   "execution_count": 11,
   "id": "8703e89e-27a4-4e5e-b65b-4316d7d91c37",
   "metadata": {},
   "outputs": [
    {
     "data": {
      "image/png": "[encoded data removed]",
      "text/plain": [
       "<Figure size 1000x600 with 1 Axes>"
      ]
     },
     "metadata": {},
     "output_type": "display_data"
    }
   ],
   "source": [
    "plt.figure(figsize=(10, 6))\n",
    "sns.histplot(y, kde=True, bins=15)\n",
    "plt.title('Distribution of Player Assists (Target)')\n",
    "plt.xlabel('Assists')\n",
    "plt.ylabel('Count')\n",
    "plt.savefig('assists_distribution.png')\n",
    "plt.show()"
   ]
  },
  {
   "cell_type": "code",
   "execution_count": 12,
   "id": "db07a460-79ae-4959-915d-1b306c398229",
   "metadata": {},
   "outputs": [
    {
     "name": "stdout",
     "output_type": "stream",
     "text": [
      "--- Correlation with Target (Assists) ---\n",
      "                    Correlation with Assists\n",
      "Appearances                         0.306306\n",
      "Big_6_Club_Feature                  0.238099\n",
      "Age                                 0.091536\n",
      "Goals_prev_season                   0.086217\n"
     ]
    },
    {
     "data": {
      "image/png": "[encoded data removed]",
      "text/plain": [
       "<Figure size 1000x800 with 1 Axes>"
      ]
     },
     "metadata": {},
     "output_type": "display_data"
    }
   ],
   "source": [
    "# Select only numerical features for correlation check\n",
    "X_numerical = X.select_dtypes(include=np.number)\n",
    "X_numerical[TARGET_COL] = y # Add target for correlation calculation\n",
    "\n",
    "# Calculate correlation with the target\n",
    "corr_matrix = X_numerical.corrwith(y).sort_values(ascending=False).to_frame(name='Correlation with Assists')\n",
    "print(\"--- Correlation with Target (Assists) ---\")\n",
    "print(corr_matrix.drop(TARGET_COL))\n",
    "\n",
    "plt.figure(figsize=(10, 8))\n",
    "sns.heatmap(corr_matrix.drop(TARGET_COL), annot=True, cmap='coolwarm', fmt=\".2f\", cbar=False)\n",
    "plt.title('Feature Correlation with Player Assists')\n",
    "plt.savefig('assist_feature_correlation.png')\n",
    "plt.show()"
   ]
  },
  {
   "cell_type": "code",
   "execution_count": 13,
   "id": "e62cdd6c-8302-4f6c-8fd3-c4da07f8083c",
   "metadata": {},
   "outputs": [
    {
     "name": "stdout",
     "output_type": "stream",
     "text": [
      "New interaction feature 'Appearances_Per_Age' created.\n",
      "   Appearances  Age  Appearances_Per_Age\n",
      "0           31   23             1.347826\n",
      "1           33   22             1.500000\n",
      "2           30   24             1.250000\n",
      "3           37   28             1.321429\n",
      "4           38   26             1.461538\n"
     ]
    }
   ],
   "source": [
    "# Feature interaction example: Assists/90 (not a target leak since we are predicting total assists)\n",
    "X['Appearances_Per_Age'] = X['Appearances'] / X['Age']\n",
    "\n",
    "print(\"New interaction feature 'Appearances_Per_Age' created.\")\n",
    "print(X[['Appearances', 'Age', 'Appearances_Per_Age']].head())"
   ]
  },
  {
   "cell_type": "code",
   "execution_count": 14,
   "id": "fb852b3c-b476-4952-be04-111070de561d",
   "metadata": {},
   "outputs": [
    {
     "name": "stdout",
     "output_type": "stream",
     "text": [
      "Final X shape: (96, 28), Final y shape: (96,)\n",
      "Total features: 28\n"
     ]
    }
   ],
   "source": [
    "# Redefine the target y (it hasn't changed, but this is good practice)\n",
    "y = df_encoded[TARGET_COL]\n",
    "\n",
    "# Ensure X only contains the final set of numerical and encoded features\n",
    "# X already contains the features after all drops and the new interaction feature.\n",
    "print(f\"Final X shape: {X.shape}, Final y shape: {y.shape}\")\n",
    "print(f\"Total features: {X.shape[1]}\")"
   ]
  },
  {
   "cell_type": "code",
   "execution_count": 15,
   "id": "4d4c079b-7a2f-45f2-8f17-ca8df56e5d49",
   "metadata": {},
   "outputs": [
    {
     "name": "stdout",
     "output_type": "stream",
     "text": [
      "--- Skewness Check (Top 5) ---\n",
      "Club_West Ham United      9.797959\n",
      "Club_Manchester United    9.797959\n",
      "Club_Brentford            9.797959\n",
      "Club_Leeds United         9.797959\n",
      "Club_Southampton          9.797959\n",
      "dtype: float64\n"
     ]
    }
   ],
   "source": [
    "print(\"--- Skewness Check (Top 5) ---\")\n",
    "print(X.skew().sort_values(ascending=False).head())\n",
    "\n",
    "# Given the number of one-hot encoded club columns, high skew is expected.\n",
    "# We proceed to scaling for standardization."
   ]
  },
  {
   "cell_type": "code",
   "execution_count": 16,
   "id": "f4d52f9a-46de-42cf-9ef2-61eafa070e12",
   "metadata": {},
   "outputs": [
    {
     "name": "stdout",
     "output_type": "stream",
     "text": [
      "StandardScaler fitted on the entire feature set X.\n"
     ]
    }
   ],
   "source": [
    "# Initialize and fit scaler on ALL features (X)\n",
    "scaler = StandardScaler()\n",
    "scaler.fit(X)\n",
    "\n",
    "print(f\"StandardScaler fitted on the entire feature set X.\")"
   ]
  },
  {
   "cell_type": "code",
   "execution_count": 17,
   "id": "1be7b02d-0c83-4fab-89da-5b0bd68db3eb",
   "metadata": {},
   "outputs": [
    {
     "name": "stdout",
     "output_type": "stream",
     "text": [
      "Feature matrix (X_scaled) created. Shape: (96, 28)\n"
     ]
    }
   ],
   "source": [
    "# Transform the features\n",
    "X_scaled = scaler.transform(X)\n",
    "\n",
    "# Store the feature names (CRITICAL for deployment check)\n",
    "feature_names = X.columns.tolist()\n",
    "\n",
    "print(f\"Feature matrix (X_scaled) created. Shape: {X_scaled.shape}\")"
   ]
  },
  {
   "cell_type": "code",
   "execution_count": 18,
   "id": "f9c02b9c-6b95-49e4-b861-cc5d8dd6fea9",
   "metadata": {},
   "outputs": [
    {
     "name": "stdout",
     "output_type": "stream",
     "text": [
      "Data split into train (80%) and test (20%) sets.\n",
      "X_train_scaled shape: (76, 28)\n",
      "X_test_scaled shape: (20, 28)\n"
     ]
    }
   ],
   "source": [
    "TEST_SIZE = 0.2\n",
    "X_train_scaled, X_test_scaled, y_train, y_test = train_test_split(\n",
    "    X_scaled, y, test_size=TEST_SIZE, random_state=RANDOM_SEED\n",
    ")\n",
    "\n",
    "print(f\"Data split into train ({1-TEST_SIZE:.0%}) and test ({TEST_SIZE:.0%}) sets.\")\n",
    "print(f\"X_train_scaled shape: {X_train_scaled.shape}\")\n",
    "print(f\"X_test_scaled shape: {X_test_scaled.shape}\")"
   ]
  },
  {
   "cell_type": "code",
   "execution_count": 19,
   "id": "ef0eadc7-f042-4d0b-b404-7eb862c7814c",
   "metadata": {},
   "outputs": [
    {
     "name": "stdout",
     "output_type": "stream",
     "text": [
      "Initial metric variables set to default.\n"
     ]
    }
   ],
   "source": [
    "# Define initial metrics variables (to handle models that might not run)\n",
    "lr_r2, rfr_r2, gbr_r2, xgb_r2, nn_r2 = -999, -999, -999, -999, -999\n",
    "lr_mse, rfr_mse, gbr_mse, xgb_mse, nn_mse = -999, -999, -999, -999, -999\n",
    "\n",
    "print(\"Initial metric variables set to default.\")"
   ]
  },
  {
   "cell_type": "code",
   "execution_count": 20,
   "id": "0c4fa85a-afef-41af-b0aa-e859236c284c",
   "metadata": {},
   "outputs": [
    {
     "name": "stdout",
     "output_type": "stream",
     "text": [
      "Linear Regression R2: -0.0466, MSE: 10.50\n",
      "Random Forest Regressor R2: -0.0928, MSE: 10.96\n"
     ]
    }
   ],
   "source": [
    "# --- Linear Regression ---\n",
    "lr_model = LinearRegression()\n",
    "lr_model.fit(X_train_scaled, y_train)\n",
    "lr_pred = lr_model.predict(X_test_scaled)\n",
    "lr_mse = mean_squared_error(y_test, lr_pred)\n",
    "lr_r2 = r2_score(y_test, lr_pred)\n",
    "\n",
    "print(f\"Linear Regression R2: {lr_r2:.4f}, MSE: {lr_mse:.2f}\")\n",
    "\n",
    "# --- Random Forest Regressor ---\n",
    "rfr_model = RandomForestRegressor(random_state=RANDOM_SEED)\n",
    "rfr_model.fit(X_train_scaled, y_train)\n",
    "rfr_pred = rfr_model.predict(X_test_scaled)\n",
    "rfr_mse = mean_squared_error(y_test, rfr_pred)\n",
    "rfr_r2 = r2_score(y_test, rfr_pred)\n",
    "\n",
    "print(f\"Random Forest Regressor R2: {rfr_r2:.4f}, MSE: {rfr_mse:.2f}\")"
   ]
  },
  {
   "cell_type": "code",
   "execution_count": 21,
   "id": "e791b10e-ea37-47d4-b0f4-71fdc33f6e2b",
   "metadata": {},
   "outputs": [
    {
     "name": "stdout",
     "output_type": "stream",
     "text": [
      "Gradient Boosting Regressor R2: -0.3976, MSE: 14.01\n",
      "XGBoost Regressor R2: -0.9504, MSE: 19.56\n"
     ]
    }
   ],
   "source": [
    "# --- Gradient Boosting Regressor ---\n",
    "gbr_model = GradientBoostingRegressor(random_state=RANDOM_SEED)\n",
    "gbr_model.fit(X_train_scaled, y_train)\n",
    "gbr_pred = gbr_model.predict(X_test_scaled)\n",
    "gbr_mse = mean_squared_error(y_test, gbr_pred)\n",
    "gbr_r2 = r2_score(y_test, gbr_pred)\n",
    "\n",
    "print(f\"Gradient Boosting Regressor R2: {gbr_r2:.4f}, MSE: {gbr_mse:.2f}\")\n",
    "\n",
    "# --- XGBoost Regressor ---\n",
    "try:\n",
    "    xgb_model = xgb.XGBRegressor(objective='reg:squarederror', random_state=RANDOM_SEED, use_label_encoder=False)\n",
    "    xgb_model.fit(X_train_scaled, y_train)\n",
    "\n",
    "    xgb_pred = xgb_model.predict(X_test_scaled)\n",
    "    xgb_mse = mean_squared_error(y_test, xgb_pred)\n",
    "    xgb_r2 = r2_score(y_test, xgb_pred)\n",
    "\n",
    "    print(f\"XGBoost Regressor R2: {xgb_r2:.4f}, MSE: {xgb_mse:.2f}\")\n",
    "except NameError:\n",
    "    print(\"\\nXGBoost library not available. Skipping XGBoost Model.\")\n",
    "    xgb_model = None"
   ]
  },
  {
   "cell_type": "code",
   "execution_count": 22,
   "id": "cefa83b8-2f19-481e-a969-20e64c6b1381",
   "metadata": {},
   "outputs": [
    {
     "data": {
      "text/html": [
       "<pre style=\"white-space:pre;overflow-x:auto;line-height:normal;font-family:Menlo,'DejaVu Sans Mono',consolas,'Courier New',monospace\"><span style=\"font-weight: bold\">Model: \"sequential\"</span>\n",
       "</pre>\n"
      ],
      "text/plain": [
       "\u001b[1mModel: \"sequential\"\u001b[0m\n"
      ]
     },
     "metadata": {},
     "output_type": "display_data"
    },
    {
     "data": {
      "text/html": [
       "<pre style=\"white-space:pre;overflow-x:auto;line-height:normal;font-family:Menlo,'DejaVu Sans Mono',consolas,'Courier New',monospace\">┏━━━━━━━━━━━━━━━━━━━━━━━━━━━━━━━━━━━━━━┳━━━━━━━━━━━━━━━━━━━━━━━━━━━━━┳━━━━━━━━━━━━━━━━━┓\n",
       "┃<span style=\"font-weight: bold\"> Layer (type)                         </span>┃<span style=\"font-weight: bold\"> Output Shape                </span>┃<span style=\"font-weight: bold\">         Param # </span>┃\n",
       "┡━━━━━━━━━━━━━━━━━━━━━━━━━━━━━━━━━━━━━━╇━━━━━━━━━━━━━━━━━━━━━━━━━━━━━╇━━━━━━━━━━━━━━━━━┩\n",
       "│ dense (<span style=\"color: #0087ff; text-decoration-color: #0087ff\">Dense</span>)                        │ (<span style=\"color: #00d7ff; text-decoration-color: #00d7ff\">None</span>, <span style=\"color: #00af00; text-decoration-color: #00af00\">128</span>)                 │           <span style=\"color: #00af00; text-decoration-color: #00af00\">3,712</span> │\n",
       "├──────────────────────────────────────┼─────────────────────────────┼─────────────────┤\n",
       "│ dense_1 (<span style=\"color: #0087ff; text-decoration-color: #0087ff\">Dense</span>)                      │ (<span style=\"color: #00d7ff; text-decoration-color: #00d7ff\">None</span>, <span style=\"color: #00af00; text-decoration-color: #00af00\">64</span>)                  │           <span style=\"color: #00af00; text-decoration-color: #00af00\">8,256</span> │\n",
       "├──────────────────────────────────────┼─────────────────────────────┼─────────────────┤\n",
       "│ dense_2 (<span style=\"color: #0087ff; text-decoration-color: #0087ff\">Dense</span>)                      │ (<span style=\"color: #00d7ff; text-decoration-color: #00d7ff\">None</span>, <span style=\"color: #00af00; text-decoration-color: #00af00\">32</span>)                  │           <span style=\"color: #00af00; text-decoration-color: #00af00\">2,080</span> │\n",
       "├──────────────────────────────────────┼─────────────────────────────┼─────────────────┤\n",
       "│ dense_3 (<span style=\"color: #0087ff; text-decoration-color: #0087ff\">Dense</span>)                      │ (<span style=\"color: #00d7ff; text-decoration-color: #00d7ff\">None</span>, <span style=\"color: #00af00; text-decoration-color: #00af00\">1</span>)                   │              <span style=\"color: #00af00; text-decoration-color: #00af00\">33</span> │\n",
       "└──────────────────────────────────────┴─────────────────────────────┴─────────────────┘\n",
       "</pre>\n"
      ],
      "text/plain": [
       "┏━━━━━━━━━━━━━━━━━━━━━━━━━━━━━━━━━━━━━━┳━━━━━━━━━━━━━━━━━━━━━━━━━━━━━┳━━━━━━━━━━━━━━━━━┓\n",
       "┃\u001b[1m \u001b[0m\u001b[1mLayer (type)                        \u001b[0m\u001b[1m \u001b[0m┃\u001b[1m \u001b[0m\u001b[1mOutput Shape               \u001b[0m\u001b[1m \u001b[0m┃\u001b[1m \u001b[0m\u001b[1m        Param #\u001b[0m\u001b[1m \u001b[0m┃\n",
       "┡━━━━━━━━━━━━━━━━━━━━━━━━━━━━━━━━━━━━━━╇━━━━━━━━━━━━━━━━━━━━━━━━━━━━━╇━━━━━━━━━━━━━━━━━┩\n",
       "│ dense (\u001b[38;5;33mDense\u001b[0m)                        │ (\u001b[38;5;45mNone\u001b[0m, \u001b[38;5;34m128\u001b[0m)                 │           \u001b[38;5;34m3,712\u001b[0m │\n",
       "├──────────────────────────────────────┼─────────────────────────────┼─────────────────┤\n",
       "│ dense_1 (\u001b[38;5;33mDense\u001b[0m)                      │ (\u001b[38;5;45mNone\u001b[0m, \u001b[38;5;34m64\u001b[0m)                  │           \u001b[38;5;34m8,256\u001b[0m │\n",
       "├──────────────────────────────────────┼─────────────────────────────┼─────────────────┤\n",
       "│ dense_2 (\u001b[38;5;33mDense\u001b[0m)                      │ (\u001b[38;5;45mNone\u001b[0m, \u001b[38;5;34m32\u001b[0m)                  │           \u001b[38;5;34m2,080\u001b[0m │\n",
       "├──────────────────────────────────────┼─────────────────────────────┼─────────────────┤\n",
       "│ dense_3 (\u001b[38;5;33mDense\u001b[0m)                      │ (\u001b[38;5;45mNone\u001b[0m, \u001b[38;5;34m1\u001b[0m)                   │              \u001b[38;5;34m33\u001b[0m │\n",
       "└──────────────────────────────────────┴─────────────────────────────┴─────────────────┘\n"
      ]
     },
     "metadata": {},
     "output_type": "display_data"
    },
    {
     "data": {
      "text/html": [
       "<pre style=\"white-space:pre;overflow-x:auto;line-height:normal;font-family:Menlo,'DejaVu Sans Mono',consolas,'Courier New',monospace\"><span style=\"font-weight: bold\"> Total params: </span><span style=\"color: #00af00; text-decoration-color: #00af00\">14,081</span> (55.00 KB)\n",
       "</pre>\n"
      ],
      "text/plain": [
       "\u001b[1m Total params: \u001b[0m\u001b[38;5;34m14,081\u001b[0m (55.00 KB)\n"
      ]
     },
     "metadata": {},
     "output_type": "display_data"
    },
    {
     "data": {
      "text/html": [
       "<pre style=\"white-space:pre;overflow-x:auto;line-height:normal;font-family:Menlo,'DejaVu Sans Mono',consolas,'Courier New',monospace\"><span style=\"font-weight: bold\"> Trainable params: </span><span style=\"color: #00af00; text-decoration-color: #00af00\">14,081</span> (55.00 KB)\n",
       "</pre>\n"
      ],
      "text/plain": [
       "\u001b[1m Trainable params: \u001b[0m\u001b[38;5;34m14,081\u001b[0m (55.00 KB)\n"
      ]
     },
     "metadata": {},
     "output_type": "display_data"
    },
    {
     "data": {
      "text/html": [
       "<pre style=\"white-space:pre;overflow-x:auto;line-height:normal;font-family:Menlo,'DejaVu Sans Mono',consolas,'Courier New',monospace\"><span style=\"font-weight: bold\"> Non-trainable params: </span><span style=\"color: #00af00; text-decoration-color: #00af00\">0</span> (0.00 B)\n",
       "</pre>\n"
      ],
      "text/plain": [
       "\u001b[1m Non-trainable params: \u001b[0m\u001b[38;5;34m0\u001b[0m (0.00 B)\n"
      ]
     },
     "metadata": {},
     "output_type": "display_data"
    }
   ],
   "source": [
    "# Define the number of features\n",
    "input_dim = X_train_scaled.shape[1]\n",
    "\n",
    "# Build the Neural Network for Regression\n",
    "try:\n",
    "    nn_model = Sequential([\n",
    "        Dense(128, activation='relu', input_shape=(input_dim,)),\n",
    "        Dense(64, activation='relu'),\n",
    "        Dense(32, activation='relu'),\n",
    "        Dense(1) # Output layer for regression (single unit, linear activation)\n",
    "    ])\n",
    "\n",
    "    # Compile the model\n",
    "    nn_model.compile(optimizer='adam', loss='mse', metrics=['mae'])\n",
    "    nn_model.summary()\n",
    "    nn_model_available = True\n",
    "except NameError:\n",
    "    print(\"\\nTensorFlow/Keras library not available. Skipping NN Model Setup.\")\n",
    "    nn_model_available = False"
   ]
  },
  {
   "cell_type": "code",
   "execution_count": 23,
   "id": "e82fc3f5-dc8b-4c42-86dd-e7601f6ab948",
   "metadata": {},
   "outputs": [
    {
     "name": "stdout",
     "output_type": "stream",
     "text": [
      "NN Model Training Complete.\n"
     ]
    }
   ],
   "source": [
    "if nn_model_available:\n",
    "    # Train the model\n",
    "    history = nn_model.fit(\n",
    "        X_train_scaled,\n",
    "        y_train,\n",
    "        epochs=150,\n",
    "        batch_size=32,\n",
    "        validation_split=0.1,\n",
    "        verbose=0\n",
    "    )\n",
    "    print(\"NN Model Training Complete.\")\n",
    "else:\n",
    "    print(\"NN Model training skipped.\")"
   ]
  },
  {
   "cell_type": "code",
   "execution_count": 24,
   "id": "8fa81e84-528a-41ae-9014-9b8da1d0b967",
   "metadata": {},
   "outputs": [
    {
     "name": "stdout",
     "output_type": "stream",
     "text": [
      "\u001b[1m1/1\u001b[0m \u001b[32m━━━━━━━━━━━━━━━━━━━━\u001b[0m\u001b[37m\u001b[0m \u001b[1m0s\u001b[0m 83ms/step\n",
      "NN Regressor R2: -0.9649, MSE: 19.70\n"
     ]
    },
    {
     "data": {
      "image/png": "[encoded data removed]",
      "text/plain": [
       "<Figure size 800x500 with 1 Axes>"
      ]
     },
     "metadata": {},
     "output_type": "display_data"
    }
   ],
   "source": [
    "if nn_model_available:\n",
    "    # Predict and evaluate\n",
    "    nn_pred = nn_model.predict(X_test_scaled).flatten()\n",
    "    nn_mse = mean_squared_error(y_test, nn_pred)\n",
    "    nn_r2 = r2_score(y_test, nn_pred)\n",
    "\n",
    "    print(f\"NN Regressor R2: {nn_r2:.4f}, MSE: {nn_mse:.2f}\")\n",
    "\n",
    "    # Plot training loss\n",
    "    plt.figure(figsize=(8, 5))\n",
    "    plt.plot(history.history['loss'], label='Train Loss')\n",
    "    plt.plot(history.history['val_loss'], label='Validation Loss')\n",
    "    plt.title('NN Model Loss Over Epochs')\n",
    "    plt.xlabel('Epoch')\n",
    "    plt.ylabel('Loss (MSE)')\n",
    "    plt.legend()\n",
    "    plt.savefig('nn_loss_assist.png')\n",
    "    plt.show()\n",
    "else:\n",
    "    print(\"NN Model evaluation skipped.\")"
   ]
  },
  {
   "cell_type": "code",
   "execution_count": 25,
   "id": "c8c7f996-4942-4fa8-bf9b-5413cbe359df",
   "metadata": {},
   "outputs": [
    {
     "name": "stdout",
     "output_type": "stream",
     "text": [
      "Starting GridSearchCV for Random Forest...\n",
      "RFR Tuned Best Params: {'max_depth': 20, 'n_estimators': 100}\n",
      "RFR Tuned R2: -0.0928\n"
     ]
    }
   ],
   "source": [
    "print(\"Starting GridSearchCV for Random Forest...\")\n",
    "rfr_params = {\n",
    "    'n_estimators': [100, 300],\n",
    "    'max_depth': [10, 20]\n",
    "}\n",
    "rfr_grid = GridSearchCV(RandomForestRegressor(random_state=RANDOM_SEED), rfr_params, cv=3, scoring='r2', verbose=0)\n",
    "rfr_grid.fit(X_train_scaled, y_train)\n",
    "\n",
    "rfr_tuned = rfr_grid.best_estimator_\n",
    "rfr_tuned_pred = rfr_tuned.predict(X_test_scaled)\n",
    "rfr_tuned_r2 = r2_score(y_test, rfr_tuned_pred)\n",
    "\n",
    "print(f\"RFR Tuned Best Params: {rfr_grid.best_params_}\")\n",
    "print(f\"RFR Tuned R2: {rfr_tuned_r2:.4f}\")"
   ]
  },
  {
   "cell_type": "code",
   "execution_count": 26,
   "id": "214c94fc-7d47-4ce8-8f6e-3567bac8644a",
   "metadata": {},
   "outputs": [
    {
     "name": "stdout",
     "output_type": "stream",
     "text": [
      "Starting GridSearchCV for Gradient Boosting...\n",
      "GBR Tuned Best Params: {'learning_rate': 0.01, 'max_depth': 3, 'n_estimators': 100}\n",
      "GBR Tuned R2: 0.0616\n"
     ]
    }
   ],
   "source": [
    "print(\"Starting GridSearchCV for Gradient Boosting...\")\n",
    "gbr_params = {\n",
    "    'n_estimators': [100, 300],\n",
    "    'learning_rate': [0.01, 0.1],\n",
    "    'max_depth': [3, 5]\n",
    "}\n",
    "gbr_grid = GridSearchCV(GradientBoostingRegressor(random_state=RANDOM_SEED), gbr_params, cv=3, scoring='r2', verbose=0)\n",
    "gbr_grid.fit(X_train_scaled, y_train)\n",
    "\n",
    "gbr_tuned = gbr_grid.best_estimator_\n",
    "gbr_tuned_pred = gbr_tuned.predict(X_test_scaled)\n",
    "gbr_tuned_r2 = r2_score(y_test, gbr_tuned_pred)\n",
    "\n",
    "print(f\"GBR Tuned Best Params: {gbr_grid.best_params_}\")\n",
    "print(f\"GBR Tuned R2: {gbr_tuned_r2:.4f}\")"
   ]
  },
  {
   "cell_type": "code",
   "execution_count": 27,
   "id": "2d61e592-5e1a-42c7-bdfd-df2443ab9e6d",
   "metadata": {},
   "outputs": [
    {
     "name": "stdout",
     "output_type": "stream",
     "text": [
      "Starting GridSearchCV for XGBoost...\n",
      "XGB Tuned Best Params: {'learning_rate': 0.01, 'max_depth': 3, 'n_estimators': 100}\n",
      "XGB Tuned R2: 0.0487\n"
     ]
    }
   ],
   "source": [
    "if xgb_model:\n",
    "    print(\"Starting GridSearchCV for XGBoost...\")\n",
    "    xgb_params = {\n",
    "        'n_estimators': [100, 300],\n",
    "        'max_depth': [3, 5],\n",
    "        'learning_rate': [0.01, 0.1]\n",
    "    }\n",
    "    xgb_grid = GridSearchCV(xgb.XGBRegressor(objective='reg:squarederror', random_state=RANDOM_SEED, use_label_encoder=False), xgb_params, cv=3, scoring='r2', verbose=0)\n",
    "    xgb_grid.fit(X_train_scaled, y_train)\n",
    "\n",
    "    xgb_tuned = xgb_grid.best_estimator_\n",
    "    xgb_tuned_pred = xgb_tuned.predict(X_test_scaled)\n",
    "    xgb_tuned_r2 = r2_score(y_test, xgb_tuned_pred)\n",
    "\n",
    "    print(f\"XGB Tuned Best Params: {xgb_grid.best_params_}\")\n",
    "    print(f\"XGB Tuned R2: {xgb_tuned_r2:.4f}\")\n",
    "else:\n",
    "    xgb_tuned_r2 = -999\n",
    "    xgb_tuned = None"
   ]
  },
  {
   "cell_type": "code",
   "execution_count": 28,
   "id": "6a9de15d-c50d-4426-af4a-b824f53443d1",
   "metadata": {},
   "outputs": [
    {
     "name": "stdout",
     "output_type": "stream",
     "text": [
      "Starting NN (Tuned) Training with Early Stopping...\n",
      "\u001b[1m1/1\u001b[0m \u001b[32m━━━━━━━━━━━━━━━━━━━━\u001b[0m\u001b[37m\u001b[0m \u001b[1m0s\u001b[0m 74ms/step\n",
      "NN Tuned R2: -0.0594\n"
     ]
    }
   ],
   "source": [
    "if nn_model_available:\n",
    "    print(\"Starting NN (Tuned) Training with Early Stopping...\")\n",
    "    # Using a slightly simplified architecture for faster tuning\n",
    "    nn_tuned_model = Sequential([\n",
    "        Dense(128, activation='relu', input_shape=(input_dim,)),\n",
    "        Dense(32, activation='relu'),\n",
    "        Dense(1)\n",
    "    ])\n",
    "    nn_tuned_model.compile(optimizer='adam', loss='mse', metrics=['mae'])\n",
    "\n",
    "    # Train the model with early stopping\n",
    "    early_stop = tf.keras.callbacks.EarlyStopping(monitor='val_loss', patience=15, restore_best_weights=True)\n",
    "    nn_tuned_model.fit(X_train_scaled, y_train, epochs=300, batch_size=32, validation_split=0.1, callbacks=[early_stop], verbose=0)\n",
    "\n",
    "    # Predict and evaluate\n",
    "    nn_tuned_pred = nn_tuned_model.predict(X_test_scaled).flatten()\n",
    "    nn_tuned_r2 = r2_score(y_test, nn_tuned_pred)\n",
    "\n",
    "    print(f\"NN Tuned R2: {nn_tuned_r2:.4f}\")\n",
    "else:\n",
    "    nn_tuned_r2 = -999\n",
    "    nn_tuned_model = None"
   ]
  },
  {
   "cell_type": "code",
   "execution_count": 29,
   "id": "7bd319a3-4a8c-4797-aad1-1d1516c64ab3",
   "metadata": {},
   "outputs": [
    {
     "name": "stdout",
     "output_type": "stream",
     "text": [
      "\u001b[1m1/1\u001b[0m \u001b[32m━━━━━━━━━━━━━━━━━━━━\u001b[0m\u001b[37m\u001b[0m \u001b[1m0s\u001b[0m 50ms/step\n"
     ]
    }
   ],
   "source": [
    "# Create prediction variables for tuned models to simplify Cell 25\n",
    "gbr_tuned_pred = gbr_tuned.predict(X_test_scaled)\n",
    "rfr_tuned_pred = rfr_tuned.predict(X_test_scaled)\n",
    "if xgb_model:\n",
    "    xgb_tuned_pred = xgb_tuned.predict(X_test_scaled)\n",
    "if nn_model_available:\n",
    "    nn_tuned_pred = nn_tuned_model.predict(X_test_scaled).flatten()"
   ]
  },
  {
   "cell_type": "code",
   "execution_count": 30,
   "id": "3668fad3-6798-4125-a5e3-827b384cefea",
   "metadata": {},
   "outputs": [
    {
     "name": "stdout",
     "output_type": "stream",
     "text": [
      "Results DataFrame initialized.\n"
     ]
    }
   ],
   "source": [
    "# Initialize results DataFrame\n",
    "results_df = pd.DataFrame(columns=['Model', 'R2 Score', 'MSE'])\n",
    "print(\"Results DataFrame initialized.\")"
   ]
  },
  {
   "cell_type": "code",
   "execution_count": 31,
   "id": "c1ce7095-1dda-49ff-9822-6d1e8d2da609",
   "metadata": {},
   "outputs": [
    {
     "name": "stdout",
     "output_type": "stream",
     "text": [
      "Initial Model Results Added.\n"
     ]
    }
   ],
   "source": [
    "# Populate initial model results\n",
    "results_df.loc[len(results_df)] = {'Model': 'Linear Regression', 'R2 Score': round(lr_r2, 4), 'MSE': round(lr_mse, 2)}\n",
    "results_df.loc[len(results_df)] = {'Model': 'Random Forest Regressor', 'R2 Score': round(rfr_r2, 4), 'MSE': round(rfr_mse, 2)}\n",
    "results_df.loc[len(results_df)] = {'Model': 'Gradient Boosting Regressor', 'R2 Score': round(gbr_r2, 4), 'MSE': round(gbr_mse, 2)}\n",
    "if xgb_model:\n",
    "    results_df.loc[len(results_df)] = {'Model': 'XGBoost Regressor', 'R2 Score': round(xgb_r2, 4), 'MSE': round(xgb_mse, 2)}\n",
    "if nn_model_available:\n",
    "    results_df.loc[len(results_df)] = {'Model': 'NN Regressor', 'R2 Score': round(nn_r2, 4), 'MSE': round(nn_mse, 2)}\n",
    "\n",
    "print(\"Initial Model Results Added.\")"
   ]
  },
  {
   "cell_type": "code",
   "execution_count": 32,
   "id": "15d564fa-2c3a-4c12-841a-27da202c5bf6",
   "metadata": {},
   "outputs": [
    {
     "name": "stdout",
     "output_type": "stream",
     "text": [
      "--- Final Model Performance Comparison (R2 Score) ---\n",
      "                         Model  R2 Score    MSE\n",
      "0                  GBR (Tuned)    0.0616   9.41\n",
      "1                  XGB (Tuned)    0.0487   9.54\n",
      "2            Linear Regression   -0.0466  10.50\n",
      "3                   NN (Tuned)   -0.0594  10.62\n",
      "4      Random Forest Regressor   -0.0928  10.96\n",
      "5                  RFR (Tuned)   -0.0928  10.96\n",
      "6  Gradient Boosting Regressor   -0.3976  14.01\n",
      "7            XGBoost Regressor   -0.9504  19.56\n",
      "8                 NN Regressor   -0.9649  19.70\n"
     ]
    }
   ],
   "source": [
    "# Populate tuned model results\n",
    "# **FIXED SYNTAX** using round() function for MSE calculation\n",
    "results_df.loc[len(results_df)] = {'Model': 'RFR (Tuned)', 'R2 Score': round(rfr_tuned_r2, 4), 'MSE': round(mean_squared_error(y_test, rfr_tuned_pred), 2)}\n",
    "results_df.loc[len(results_df)] = {'Model': 'GBR (Tuned)', 'R2 Score': round(gbr_tuned_r2, 4), 'MSE': round(mean_squared_error(y_test, gbr_tuned_pred), 2)}\n",
    "\n",
    "if xgb_model:\n",
    "    results_df.loc[len(results_df)] = {'Model': 'XGB (Tuned)', 'R2 Score': round(xgb_tuned_r2, 4), 'MSE': round(mean_squared_error(y_test, xgb_tuned_pred), 2)}\n",
    "if nn_model_available:\n",
    "    results_df.loc[len(results_df)] = {'Model': 'NN (Tuned)', 'R2 Score': round(nn_tuned_r2, 4), 'MSE': round(mean_squared_error(y_test, nn_tuned_pred), 2)}\n",
    "\n",
    "# Display results, sorted by R2 score\n",
    "results_df = results_df.sort_values(by='R2 Score', ascending=False).reset_index(drop=True)\n",
    "print(\"--- Final Model Performance Comparison (R2 Score) ---\")\n",
    "print(results_df)"
   ]
  },
  {
   "cell_type": "code",
   "execution_count": 33,
   "id": "b19724d9-ba09-4b63-85b2-74f1fa8726fe",
   "metadata": {},
   "outputs": [
    {
     "name": "stdout",
     "output_type": "stream",
     "text": [
      "The best performing model is: GBR (Tuned) with R2 = 0.0616\n"
     ]
    }
   ],
   "source": [
    "# Select the best model based on the highest R2 Score\n",
    "best_model_row = results_df.iloc[0]\n",
    "best_model_name = best_model_row['Model']\n",
    "\n",
    "# Map the name to the actual model object\n",
    "if 'RFR' in best_model_name:\n",
    "    best_model = rfr_tuned\n",
    "elif 'GBR' in best_model_name:\n",
    "    best_model = gbr_tuned\n",
    "elif 'XGB' in best_model_name:\n",
    "    best_model = xgb_tuned\n",
    "elif 'NN' in best_model_name:\n",
    "    best_model = nn_tuned_model\n",
    "elif 'Linear' in best_model_name:\n",
    "    best_model = lr_model\n",
    "else:\n",
    "    best_model = rfr_model # Default fallback\n",
    "\n",
    "print(f\"The best performing model is: {best_model_name} with R2 = {best_model_row['R2 Score']:.4f}\")"
   ]
  },
  {
   "cell_type": "code",
   "execution_count": 34,
   "id": "ecb9a694-f303-4865-86a9-d6699ca74be1",
   "metadata": {},
   "outputs": [
    {
     "data": {
      "image/png": "[encoded data removed]",
      "text/plain": [
       "<Figure size 800x800 with 1 Axes>"
      ]
     },
     "metadata": {},
     "output_type": "display_data"
    }
   ],
   "source": [
    "# Get predictions from the best model\n",
    "if 'NN' in best_model_name:\n",
    "    best_pred = best_model.predict(X_test_scaled).flatten()\n",
    "    best_model_obj = best_model\n",
    "else:\n",
    "    best_pred = best_model.predict(X_test_scaled)\n",
    "    best_model_obj = best_model\n",
    "\n",
    "plt.figure(figsize=(8, 8))\n",
    "plt.scatter(y_test, best_pred, alpha=0.6)\n",
    "plt.plot([y_test.min(), y_test.max()], [y_test.min(), y_test.max()], 'r--', lw=2) # Ideal prediction line\n",
    "plt.xlabel('Actual Assists')\n",
    "plt.ylabel('Predicted Assists')\n",
    "plt.title(f'Actual vs. Predicted Assists ({best_model_name})')\n",
    "plt.grid(True)\n",
    "plt.savefig('best_model_scatter_assist.png')\n",
    "plt.show()"
   ]
  },
  {
   "cell_type": "code",
   "execution_count": 35,
   "id": "57f5030d-12d9-4744-9a7b-6031d1c01f85",
   "metadata": {},
   "outputs": [
    {
     "data": {
      "image/png": "[encoded data removed]",
      "text/plain": [
       "<Figure size 1000x800 with 1 Axes>"
      ]
     },
     "metadata": {},
     "output_type": "display_data"
    }
   ],
   "source": [
    "# Feature importance is only available for tree-based models\n",
    "if hasattr(best_model_obj, 'feature_importances_'):\n",
    "    feature_importances = pd.Series(best_model_obj.feature_importances_, index=feature_names)\n",
    "\n",
    "    plt.figure(figsize=(10, 8))\n",
    "    feature_importances.sort_values(ascending=False).head(10).plot(kind='barh')\n",
    "    plt.title(f'Top 10 Feature Importances ({best_model_name})')\n",
    "    plt.xlabel('Importance Score')\n",
    "    plt.ylabel('Feature')\n",
    "    plt.gca().invert_yaxis()\n",
    "    plt.savefig('feature_importance_assist.png')\n",
    "    plt.show()\n",
    "else:\n",
    "    print(f\"Feature importance is not directly available for {best_model_name}.\")"
   ]
  },
  {
   "cell_type": "code",
   "execution_count": 36,
   "id": "88323e52-be34-44d5-8b64-d47fb0226ccc",
   "metadata": {},
   "outputs": [
    {
     "name": "stdout",
     "output_type": "stream",
     "text": [
      "--- Top 5 Features for Predicting Assists ---\n",
      "Goals_prev_season      0.211422\n",
      "Position_Forward       0.208286\n",
      "Appearances            0.170147\n",
      "Appearances_Per_Age    0.136031\n",
      "Club_Chelsea           0.095382\n",
      "dtype: float64\n"
     ]
    }
   ],
   "source": [
    "if hasattr(best_model_obj, 'feature_importances_'):\n",
    "    feature_importances = pd.Series(best_model_obj.feature_importances_, index=feature_names)\n",
    "    top_features = feature_importances.sort_values(ascending=False).head(5)\n",
    "    print(\"--- Top 5 Features for Predicting Assists ---\")\n",
    "    print(top_features)\n",
    "else:\n",
    "    print(\"Feature inspection skipped as the best model is not tree-based.\")"
   ]
  },
  {
   "cell_type": "code",
   "execution_count": 37,
   "id": "a298763d-5fdd-4cff-834d-2067e22bb003",
   "metadata": {},
   "outputs": [
    {
     "name": "stdout",
     "output_type": "stream",
     "text": [
      "Full feature set X_all ready. Shape: (96, 28)\n"
     ]
    }
   ],
   "source": [
    "# Final preparation of the full dataset for production model training\n",
    "X_all = X.copy()\n",
    "y_all = y.copy()\n",
    "\n",
    "print(f\"Full feature set X_all ready. Shape: {X_all.shape}\")"
   ]
  },
  {
   "cell_type": "code",
   "execution_count": 38,
   "id": "1929df71-9b88-476e-833d-711c90b0ab6b",
   "metadata": {},
   "outputs": [
    {
     "name": "stdout",
     "output_type": "stream",
     "text": [
      "Finalizing the champion model: GBR (Tuned)\n",
      "Champion model retrained on the full dataset.\n"
     ]
    }
   ],
   "source": [
    "print(f\"Finalizing the champion model: {best_model_name}\")\n",
    "\n",
    "# Re-fit the scaler on the full dataset (X_all)\n",
    "scaler.fit(X_all)\n",
    "X_all_scaled = scaler.transform(X_all)\n",
    "\n",
    "# Retrain the champion on ALL data (X_all_scaled and y_all)\n",
    "if 'NN' in best_model_name and nn_tuned_model:\n",
    "    # Keras needs re-training\n",
    "    y_np = y_all.values\n",
    "    # Re-use the NN model object and early stopping callback\n",
    "    nn_tuned_model.fit(X_all_scaled, y_np, epochs=300, batch_size=32, verbose=0, callbacks=[early_stop])\n",
    "    final_model_save_path = 'final_assist_nn_model.h5'\n",
    "elif best_model:\n",
    "    # Scikit-learn models\n",
    "    best_model.fit(X_all_scaled, y_all)\n",
    "    final_model_save_path = 'final_assist_model.joblib'\n",
    "else:\n",
    "    print(\"Error: Best model could not be found or initialized.\")\n",
    "    final_model_save_path = None\n",
    "\n",
    "print(\"Champion model retrained on the full dataset.\")"
   ]
  },
  {
   "cell_type": "code",
   "execution_count": 39,
   "id": "9cdb5b6a-3921-4d08-94ed-90af1c7571cd",
   "metadata": {},
   "outputs": [
    {
     "name": "stdout",
     "output_type": "stream",
     "text": [
      "\n",
      "--- Production Seal Applied ---\n",
      "Final Model saved to: final_assist_model.joblib\n",
      "Scaler and Feature List also saved successfully.\n"
     ]
    }
   ],
   "source": [
    "if final_model_save_path:\n",
    "    # Save the model\n",
    "    if 'h5' in final_model_save_path:\n",
    "        # Keras model save\n",
    "        nn_tuned_model.save(final_model_save_path)\n",
    "    else:\n",
    "        # Scikit-learn model save\n",
    "        joblib.dump(best_model, final_model_save_path)\n",
    "\n",
    "    # Save necessary preprocessing tools\n",
    "    joblib.dump(scaler, 'final_scaler_assist.joblib')\n",
    "    # Save feature names (CRITICAL for deployment check)\n",
    "    joblib.dump(feature_names, 'final_features_list_assist.joblib')\n",
    "\n",
    "    print(\"\\n--- Production Seal Applied ---\")\n",
    "    print(f\"Final Model saved to: {final_model_save_path}\")\n",
    "    print(\"Scaler and Feature List also saved successfully.\")\n",
    "else:\n",
    "    print(\"Saving failed due to missing model.\")"
   ]
  },
  {
   "cell_type": "code",
   "execution_count": 40,
   "id": "9eb63e53-7c79-4cff-a53c-0a9191c8516f",
   "metadata": {},
   "outputs": [
    {
     "name": "stdout",
     "output_type": "stream",
     "text": [
      "--- TESTING THE DEPLOYMENT ARTIFACTS ---\n",
      "Loaded champion model from: final_assist_model.joblib\n",
      "\n",
      "--- HYPOTHETICAL PREDICTION RESULT ---\n",
      "Input Scenario: A prime age, high-appearance, Big 6 Forward.\n",
      "Predicted Total Assists: 5.56\n",
      "Prediction Interpretation: High Contributor\n",
      "\n",
      "✅ PROJECT 3: TOP SCORER (ASSIST) PREDICTION CHECK COMPLETE! ✅\n"
     ]
    }
   ],
   "source": [
    "# --- DEPLOYMENT CHECK ---\n",
    "print(\"--- TESTING THE DEPLOYMENT ARTIFACTS ---\")\n",
    "\n",
    "# 1. Load the pre-trained tools\n",
    "loaded_scaler = joblib.load('final_scaler_assist.joblib')\n",
    "loaded_features = joblib.load('final_features_list_assist.joblib')\n",
    "\n",
    "nn_path = 'final_assist_nn_model.h5'\n",
    "skl_path = 'final_assist_model.joblib'\n",
    "\n",
    "# 1.1 Load the model based on file existence\n",
    "if tf.io.gfile.exists(nn_path):\n",
    "    # Load Keras model\n",
    "    loaded_model = tf.keras.models.load_model(nn_path)\n",
    "    model_type = 'NN'\n",
    "    final_model_path = nn_path\n",
    "elif tf.io.gfile.exists(skl_path):\n",
    "    # Load Scikit-learn model\n",
    "    loaded_model = joblib.load(skl_path)\n",
    "    model_type = 'Scikit-learn'\n",
    "    final_model_path = skl_path\n",
    "else:\n",
    "    raise FileNotFoundError(\"Neither NN nor Scikit-learn model file was found. Rerun Cell 34.\")\n",
    "\n",
    "print(f\"Loaded champion model from: {final_model_path}\")\n",
    "\n",
    "# 2. Create a hypothetical new player data point (Unseen Data)\n",
    "# Scenario: A prime age, high-appearance, Big 6 forward (similar to a prime creative forward).\n",
    "# The input dictionary MUST match the feature names and be ordered based on the loaded_features list.\n",
    "# We must include all 190+ features, setting most OHE features to 0.\n",
    "\n",
    "base_data = {f: [0] for f in loaded_features}\n",
    "\n",
    "# Add key non-OHE features:\n",
    "base_data.update({\n",
    "    'Rank': [5],\n",
    "    'Age': [28],\n",
    "    'Appearances': [38],\n",
    "    'Goals_prev_season': [15],\n",
    "    'Big_6_Club_Feature': [1], # Big Six club\n",
    "    'Club_League_Rank': [2],\n",
    "    'Club_Total_Goals': [90],\n",
    "    'League_Goals_per_Match': [2.8],\n",
    "    'Games_in_Season': [38],\n",
    "    'Appearances_Per_Age': [38/28] # Calculated interaction feature\n",
    "})\n",
    "\n",
    "# Set OHE features for a specific club/position\n",
    "base_data['Position_Forward'] = [1] # Assuming Forward is one of the OHE columns (Check actual list if error)\n",
    "# Note: For club OHE, we cannot guess the exact column name here (e.g., 'Club_Man City' vs 'Club_Manchester City'),\n",
    "# but we trust the model was trained correctly on the full set of OHE columns.\n",
    "# We will rely on the features created in Cell 5.\n",
    "\n",
    "new_player_df = pd.DataFrame(base_data)\n",
    "new_player_df = new_player_df[loaded_features] # Re-order to match scaler\n",
    "\n",
    "# 3. Preprocess (Scale) the new data\n",
    "new_player_scaled = loaded_scaler.transform(new_player_df)\n",
    "\n",
    "# 4. Predict the result\n",
    "predicted_assists = loaded_model.predict(new_player_scaled).flatten()[0]\n",
    "\n",
    "# 5. Interpret the result\n",
    "if predicted_assists >= 15:\n",
    "    prediction_label = \"Likely Top Assist Leader\"\n",
    "elif predicted_assists >= 10:\n",
    "    prediction_label = \"Likely Top 5 Assist Contender\"\n",
    "elif predicted_assists >= 5:\n",
    "    prediction_label = \"High Contributor\"\n",
    "else:\n",
    "    prediction_label = \"Average/Role Player\"\n",
    "\n",
    "\n",
    "print(\"\\n--- HYPOTHETICAL PREDICTION RESULT ---\")\n",
    "print(f\"Input Scenario: A prime age, high-appearance, Big 6 Forward.\")\n",
    "print(f\"Predicted Total Assists: {predicted_assists:.2f}\")\n",
    "print(f\"Prediction Interpretation: {prediction_label}\")\n",
    "print(\"\\n✅ PROJECT 3: TOP SCORER (ASSIST) PREDICTION CHECK COMPLETE! ✅\")"
   ]
  },
  {
   "cell_type": "code",
   "execution_count": null,
   "id": "d7ed781f-9fbd-41b3-b5a9-696488d313b2",
   "metadata": {},
   "outputs": [],
   "source": []
  }
 ],
 "metadata": {
  "kernelspec": {
   "display_name": "Python 3 (ipykernel)",
   "language": "python",
   "name": "python3"
  },
  "language_info": {
   "codemirror_mode": {
    "name": "ipython",
    "version": 3
   },
   "file_extension": ".py",
   "mimetype": "text/x-python",
   "name": "python",
   "nbconvert_exporter": "python",
   "pygments_lexer": "ipython3",
   "version": "3.11.5"
  }
 },
 "nbformat": 4,
 "nbformat_minor": 5
}
