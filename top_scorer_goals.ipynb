{
 "cells": [
  {
   "cell_type": "markdown",
   "id": "4e7e5c52",
   "metadata": {},
   "source": [
    "# Data Cleaning: Top Scorer of Goals (Excel Version)\n",
    "\n",
    "This notebook prepares the dataset **Top Goals.xlsx** for regression modeling.\n",
    "\n",
    "## Steps\n",
    "1. Install and import libraries\n",
    "2. Load the dataset\n",
    "3. Drop unwanted columns\n",
    "4. Handle missing values\n",
    "5. Handle duplicates\n",
    "6. Save cleaned dataset\n",
    "7. Display final cleaned dataset"
   ]
  },
  {
   "cell_type": "code",
   "execution_count": null,
   "id": "3e26fc6d",
   "metadata": {},
   "outputs": [],
   "source": [
    "# Install required libraries\n",
    "!pip install pandas openpyxl numpy"
   ]
  },
  {
   "cell_type": "code",
   "execution_count": null,
   "id": "f3747461",
   "metadata": {},
   "outputs": [],
   "source": [
    "import pandas as pd\n",
    "import numpy as np"
   ]
  },
  {
   "cell_type": "markdown",
   "id": "175403c2",
   "metadata": {},
   "source": [
    "## Load dataset"
   ]
  },
  {
   "cell_type": "code",
   "execution_count": null,
   "id": "354f56f5",
   "metadata": {},
   "outputs": [],
   "source": [
    "file_path = \"Top Goals.xlsx\"\n",
    "df = pd.read_excel(file_path, engine=\"openpyxl\")\n",
    "\n",
    "# Display initial info\n",
    "df.info()\n",
    "df.head()"
   ]
  },
  {
   "cell_type": "markdown",
   "id": "2122095a",
   "metadata": {},
   "source": [
    "## Drop unwanted columns\n",
    "\n",
    "We keep only target and feature columns, removing others."
   ]
  },
  {
   "cell_type": "code",
   "execution_count": null,
   "id": "0ea5e147",
   "metadata": {},
   "outputs": [],
   "source": [
    "target = ['Goals']\n",
    "features = [\n",
    "    'Position','Age','Appearances','Goals_prev_season','Assists',\n",
    "    'Penalty_Goals','Non-Penalty_Goals','Goals_per_90',\n",
    "    'Big_6_Club_Feature','League_Goals_per_Match'\n",
    "]\n",
    "\n",
    "keep_columns = target + features\n",
    "df = df[keep_columns]\n",
    "df.head()"
   ]
  },
  {
   "cell_type": "markdown",
   "id": "0c9cf0b8",
   "metadata": {},
   "source": [
    "## Handle missing values"
   ]
  },
  {
   "cell_type": "code",
   "execution_count": null,
   "id": "fdb3efc2",
   "metadata": {},
   "outputs": [],
   "source": [
    "print(\"Missing values before handling:\")\n",
    "print(df.isnull().sum())\n",
    "\n",
    "# Drop rows with any missing values\n",
    "df = df.dropna()\n",
    "\n",
    "print(\"\\nMissing values after handling:\")\n",
    "print(df.isnull().sum())"
   ]
  },
  {
   "cell_type": "markdown",
   "id": "f00642d9",
   "metadata": {},
   "source": [
    "## Handle duplicates"
   ]
  },
  {
   "cell_type": "code",
   "execution_count": null,
   "id": "4d6d0610",
   "metadata": {},
   "outputs": [],
   "source": [
    "print(f\"Duplicates before: {df.duplicated().sum()}\")\n",
    "df = df.drop_duplicates()\n",
    "print(f\"Duplicates after: {df.duplicated().sum()}\")"
   ]
  },
  {
   "cell_type": "markdown",
   "id": "1787f292",
   "metadata": {},
   "source": [
    "## Save cleaned dataset"
   ]
  },
  {
   "cell_type": "code",
   "execution_count": null,
   "id": "67a5b7e2",
   "metadata": {},
   "outputs": [],
   "source": [
    "output_file = \"Top_Goals_Cleaned.xlsx\"\n",
    "df.to_excel(output_file, index=False)\n",
    "print(f\"Cleaned dataset saved as: {output_file}\")"
   ]
  },
  {
   "cell_type": "markdown",
   "id": "2710ed8c",
   "metadata": {},
   "source": [
    "## Final cleaned dataset overview"
   ]
  },
  {
   "cell_type": "code",
   "execution_count": null,
   "id": "f45cdf61",
   "metadata": {},
   "outputs": [],
   "source": [
    "df.info()\n",
    "\n",
    "df.head()"
   ]
  }
 ],
 "metadata": {},
 "nbformat": 4,
 "nbformat_minor": 5
}
