{
 "cells": [
  {
   "cell_type": "markdown",
   "id": "26871338-b7d1-41c6-9d12-95735495344e",
   "metadata": {},
   "source": [
    "# EPL Points Prediction\n",
    "\n",
    "In this notebook, we will:\n",
    "- Clean the dataset (drop unnecessary columns, nulls, duplicates).\n",
    "- Perform Exploratory Data Analysis (EDA).\n",
    "- Encode categorical features.\n",
    "- Check feature correlations.\n",
    "- Build regression models to predict **points**.\n",
    "- Evaluate models using MAE, MSE, RMSE, and R²."
   ]
  },
  {
   "cell_type": "markdown",
   "id": "db175969-9da3-4b4d-8ea1-f77bd3b25afb",
   "metadata": {},
   "source": [
    "## Step 1: Import Libraries\n",
    "We will import pandas, numpy, matplotlib, seaborn for EDA, and scikit-learn for building & evaluating regression models."
   ]
  },
  {
   "cell_type": "code",
   "execution_count": 9,
   "id": "32566620-70ab-4675-aac8-55a17a5417ee",
   "metadata": {},
   "outputs": [],
   "source": [
    "import pandas as pd\n",
    "import numpy as np\n",
    "import matplotlib.pyplot as plt\n",
    "import seaborn as sns\n",
    "\n",
    "from sklearn.model_selection import train_test_split\n",
    "from sklearn.linear_model import LinearRegression\n",
    "from sklearn.ensemble import RandomForestRegressor\n",
    "from sklearn.metrics import mean_absolute_error, mean_squared_error, r2_score\n",
    "\n",
    "sns.set(style=\"whitegrid\")"
   ]
  },
  {
   "cell_type": "markdown",
   "id": "a3156ae2-95be-4968-8326-775cd5e247ac",
   "metadata": {},
   "source": [
    "## Step 2: Load the Dataset\n",
    "Let's load the dataset and inspect the first few rows and columns."
   ]
  },
  {
   "cell_type": "code",
   "execution_count": 10,
   "id": "528d0035-f5eb-44d9-a7f5-9c2ebf1fe268",
   "metadata": {},
   "outputs": [
    {
     "name": "stdout",
     "output_type": "stream",
     "text": [
      "Initial shape: (646, 12)\n",
      "Initial columns: ['season_end_year', 'team', 'position', 'played', 'won', 'drawn', 'lost', 'gf', 'ga', 'gd', 'points', 'notes']\n"
     ]
    },
    {
     "data": {
      "text/html": [
       "<div>\n",
       "<style scoped>\n",
       "    .dataframe tbody tr th:only-of-type {\n",
       "        vertical-align: middle;\n",
       "    }\n",
       "\n",
       "    .dataframe tbody tr th {\n",
       "        vertical-align: top;\n",
       "    }\n",
       "\n",
       "    .dataframe thead th {\n",
       "        text-align: right;\n",
       "    }\n",
       "</style>\n",
       "<table border=\"1\" class=\"dataframe\">\n",
       "  <thead>\n",
       "    <tr style=\"text-align: right;\">\n",
       "      <th></th>\n",
       "      <th>season_end_year</th>\n",
       "      <th>team</th>\n",
       "      <th>position</th>\n",
       "      <th>played</th>\n",
       "      <th>won</th>\n",
       "      <th>drawn</th>\n",
       "      <th>lost</th>\n",
       "      <th>gf</th>\n",
       "      <th>ga</th>\n",
       "      <th>gd</th>\n",
       "      <th>points</th>\n",
       "      <th>notes</th>\n",
       "    </tr>\n",
       "  </thead>\n",
       "  <tbody>\n",
       "    <tr>\n",
       "      <th>0</th>\n",
       "      <td>1993</td>\n",
       "      <td>Manchester Utd</td>\n",
       "      <td>1</td>\n",
       "      <td>42</td>\n",
       "      <td>24</td>\n",
       "      <td>12</td>\n",
       "      <td>6</td>\n",
       "      <td>67</td>\n",
       "      <td>31</td>\n",
       "      <td>36</td>\n",
       "      <td>84</td>\n",
       "      <td>→ Champions League via league finish</td>\n",
       "    </tr>\n",
       "    <tr>\n",
       "      <th>1</th>\n",
       "      <td>1993</td>\n",
       "      <td>Aston Villa</td>\n",
       "      <td>2</td>\n",
       "      <td>42</td>\n",
       "      <td>21</td>\n",
       "      <td>11</td>\n",
       "      <td>10</td>\n",
       "      <td>57</td>\n",
       "      <td>40</td>\n",
       "      <td>17</td>\n",
       "      <td>74</td>\n",
       "      <td>→ UEFA Cup via league finish</td>\n",
       "    </tr>\n",
       "    <tr>\n",
       "      <th>2</th>\n",
       "      <td>1993</td>\n",
       "      <td>Norwich City</td>\n",
       "      <td>3</td>\n",
       "      <td>42</td>\n",
       "      <td>21</td>\n",
       "      <td>9</td>\n",
       "      <td>12</td>\n",
       "      <td>61</td>\n",
       "      <td>65</td>\n",
       "      <td>-4</td>\n",
       "      <td>72</td>\n",
       "      <td>→ UEFA Cup via league finish 1</td>\n",
       "    </tr>\n",
       "    <tr>\n",
       "      <th>3</th>\n",
       "      <td>1993</td>\n",
       "      <td>Blackburn</td>\n",
       "      <td>4</td>\n",
       "      <td>42</td>\n",
       "      <td>20</td>\n",
       "      <td>11</td>\n",
       "      <td>11</td>\n",
       "      <td>68</td>\n",
       "      <td>46</td>\n",
       "      <td>22</td>\n",
       "      <td>71</td>\n",
       "      <td>NaN</td>\n",
       "    </tr>\n",
       "    <tr>\n",
       "      <th>4</th>\n",
       "      <td>1993</td>\n",
       "      <td>QPR</td>\n",
       "      <td>5</td>\n",
       "      <td>42</td>\n",
       "      <td>17</td>\n",
       "      <td>12</td>\n",
       "      <td>13</td>\n",
       "      <td>63</td>\n",
       "      <td>55</td>\n",
       "      <td>8</td>\n",
       "      <td>63</td>\n",
       "      <td>NaN</td>\n",
       "    </tr>\n",
       "  </tbody>\n",
       "</table>\n",
       "</div>"
      ],
      "text/plain": [
       "   season_end_year            team  position  played  won  drawn  lost  gf  \\\n",
       "0             1993  Manchester Utd         1      42   24     12     6  67   \n",
       "1             1993     Aston Villa         2      42   21     11    10  57   \n",
       "2             1993    Norwich City         3      42   21      9    12  61   \n",
       "3             1993       Blackburn         4      42   20     11    11  68   \n",
       "4             1993             QPR         5      42   17     12    13  63   \n",
       "\n",
       "   ga  gd  points                                 notes  \n",
       "0  31  36      84  → Champions League via league finish  \n",
       "1  40  17      74          → UEFA Cup via league finish  \n",
       "2  65  -4      72        → UEFA Cup via league finish 1  \n",
       "3  46  22      71                                   NaN  \n",
       "4  55   8      63                                   NaN  "
      ]
     },
     "execution_count": 10,
     "metadata": {},
     "output_type": "execute_result"
    }
   ],
   "source": [
    "df = pd.read_csv(\"points.csv\")\n",
    "\n",
    "print(\"Initial shape:\", df.shape)\n",
    "print(\"Initial columns:\", list(df.columns))\n",
    "df.head()"
   ]
  },
  {
   "cell_type": "markdown",
   "id": "a855b672-723b-4fb7-8086-27e096e34355",
   "metadata": {},
   "source": [
    "## Step 3: Drop Unnecessary Columns\n",
    "We only need the following columns:\n",
    "- `team`\n",
    "- `position`\n",
    "- `gf` (goals for)\n",
    "- `ga` (goals against)\n",
    "- `gd` (goal difference)\n",
    "- `points` (target variable)\n",
    "\n",
    "Let's drop the rest."
   ]
  },
  {
   "cell_type": "code",
   "execution_count": 11,
   "id": "4e8e0e6b-7b81-47b9-b797-b67e254f959a",
   "metadata": {},
   "outputs": [
    {
     "name": "stdout",
     "output_type": "stream",
     "text": [
      "Columns before drop: ['season_end_year', 'team', 'position', 'played', 'won', 'drawn', 'lost', 'gf', 'ga', 'gd', 'points', 'notes']\n",
      "Columns after drop: ['team', 'position', 'gf', 'ga', 'gd', 'points']\n"
     ]
    },
    {
     "data": {
      "text/html": [
       "<div>\n",
       "<style scoped>\n",
       "    .dataframe tbody tr th:only-of-type {\n",
       "        vertical-align: middle;\n",
       "    }\n",
       "\n",
       "    .dataframe tbody tr th {\n",
       "        vertical-align: top;\n",
       "    }\n",
       "\n",
       "    .dataframe thead th {\n",
       "        text-align: right;\n",
       "    }\n",
       "</style>\n",
       "<table border=\"1\" class=\"dataframe\">\n",
       "  <thead>\n",
       "    <tr style=\"text-align: right;\">\n",
       "      <th></th>\n",
       "      <th>team</th>\n",
       "      <th>position</th>\n",
       "      <th>gf</th>\n",
       "      <th>ga</th>\n",
       "      <th>gd</th>\n",
       "      <th>points</th>\n",
       "    </tr>\n",
       "  </thead>\n",
       "  <tbody>\n",
       "    <tr>\n",
       "      <th>0</th>\n",
       "      <td>Manchester Utd</td>\n",
       "      <td>1</td>\n",
       "      <td>67</td>\n",
       "      <td>31</td>\n",
       "      <td>36</td>\n",
       "      <td>84</td>\n",
       "    </tr>\n",
       "    <tr>\n",
       "      <th>1</th>\n",
       "      <td>Aston Villa</td>\n",
       "      <td>2</td>\n",
       "      <td>57</td>\n",
       "      <td>40</td>\n",
       "      <td>17</td>\n",
       "      <td>74</td>\n",
       "    </tr>\n",
       "    <tr>\n",
       "      <th>2</th>\n",
       "      <td>Norwich City</td>\n",
       "      <td>3</td>\n",
       "      <td>61</td>\n",
       "      <td>65</td>\n",
       "      <td>-4</td>\n",
       "      <td>72</td>\n",
       "    </tr>\n",
       "    <tr>\n",
       "      <th>3</th>\n",
       "      <td>Blackburn</td>\n",
       "      <td>4</td>\n",
       "      <td>68</td>\n",
       "      <td>46</td>\n",
       "      <td>22</td>\n",
       "      <td>71</td>\n",
       "    </tr>\n",
       "    <tr>\n",
       "      <th>4</th>\n",
       "      <td>QPR</td>\n",
       "      <td>5</td>\n",
       "      <td>63</td>\n",
       "      <td>55</td>\n",
       "      <td>8</td>\n",
       "      <td>63</td>\n",
       "    </tr>\n",
       "  </tbody>\n",
       "</table>\n",
       "</div>"
      ],
      "text/plain": [
       "             team  position  gf  ga  gd  points\n",
       "0  Manchester Utd         1  67  31  36      84\n",
       "1     Aston Villa         2  57  40  17      74\n",
       "2    Norwich City         3  61  65  -4      72\n",
       "3       Blackburn         4  68  46  22      71\n",
       "4             QPR         5  63  55   8      63"
      ]
     },
     "execution_count": 11,
     "metadata": {},
     "output_type": "execute_result"
    }
   ],
   "source": [
    "print(\"Columns before drop:\", list(df.columns))\n",
    "\n",
    "df = df.drop(['season_end_year', 'played', 'won', 'drawn', 'lost', 'notes'], axis=1)\n",
    "\n",
    "print(\"Columns after drop:\", list(df.columns))\n",
    "df.head()"
   ]
  },
  {
   "cell_type": "markdown",
   "id": "c166a937-7476-4f10-a4c1-fd79d1a3f4b5",
   "metadata": {},
   "source": [
    "## Step 4: Check for Null Values\n",
    "We check for missing values in each column.  \n",
    "If there are any, we will drop those rows."
   ]
  },
  {
   "cell_type": "code",
   "execution_count": 23,
   "id": "f8146916-6091-4d36-b4f6-f8ca67e203fa",
   "metadata": {},
   "outputs": [
    {
     "name": "stdout",
     "output_type": "stream",
     "text": [
      "Missing values before handling:\n",
      "team        0\n",
      "position    0\n",
      "gf          0\n",
      "ga          0\n",
      "gd          0\n",
      "points      0\n",
      "dtype: int64\n",
      "\n",
      "No missing values found\n"
     ]
    }
   ],
   "source": [
    "print(\"Missing values before handling:\")\n",
    "print(df.isnull().sum())\n",
    "\n",
    "if df.isnull().sum().sum() == 0:\n",
    "    print(\"\\nNo missing values found\")\n",
    "else:\n",
    "    df = df.dropna()\n",
    "    print(\"\\nMissing values handled. After dropping:\")\n",
    "    print(df.isnull().sum())"
   ]
  },
  {
   "cell_type": "markdown",
   "id": "2db94c1c-6664-439b-8485-9255ffc26c76",
   "metadata": {},
   "source": [
    "## Step 5: Check for Duplicate Rows\n",
    "Duplicates can bias our model, so we check and remove them if present."
   ]
  },
  {
   "cell_type": "code",
   "execution_count": 13,
   "id": "23cfd7b7-71ea-4970-a803-db62d7d74c18",
   "metadata": {},
   "outputs": [
    {
     "name": "stdout",
     "output_type": "stream",
     "text": [
      "Duplicates before: 0\n",
      "Duplicates after: 0\n"
     ]
    }
   ],
   "source": [
    "print(\"Duplicates before:\", df.duplicated().sum())\n",
    "df = df.drop_duplicates()\n",
    "print(\"Duplicates after:\", df.duplicated().sum())"
   ]
  },
  {
   "cell_type": "markdown",
   "id": "8d994ca8-e595-4706-99af-e5a146b074f4",
   "metadata": {},
   "source": [
    "## Step 6: Encode the `team` Column\n",
    "The `team` column is categorical.  \n",
    "We will use **One-Hot Encoding** to convert it into numeric columns."
   ]
  },
  {
   "cell_type": "code",
   "execution_count": 14,
   "id": "6812dcc6-9f28-4401-a78d-dd1b293f419d",
   "metadata": {},
   "outputs": [
    {
     "name": "stdout",
     "output_type": "stream",
     "text": [
      "Shape before encoding: (646, 6)\n",
      "Shape after encoding: (646, 55)\n"
     ]
    },
    {
     "data": {
      "text/html": [
       "<div>\n",
       "<style scoped>\n",
       "    .dataframe tbody tr th:only-of-type {\n",
       "        vertical-align: middle;\n",
       "    }\n",
       "\n",
       "    .dataframe tbody tr th {\n",
       "        vertical-align: top;\n",
       "    }\n",
       "\n",
       "    .dataframe thead th {\n",
       "        text-align: right;\n",
       "    }\n",
       "</style>\n",
       "<table border=\"1\" class=\"dataframe\">\n",
       "  <thead>\n",
       "    <tr style=\"text-align: right;\">\n",
       "      <th></th>\n",
       "      <th>position</th>\n",
       "      <th>gf</th>\n",
       "      <th>ga</th>\n",
       "      <th>gd</th>\n",
       "      <th>points</th>\n",
       "      <th>team_Aston Villa</th>\n",
       "      <th>team_Barnsley</th>\n",
       "      <th>team_Birmingham City</th>\n",
       "      <th>team_Blackburn</th>\n",
       "      <th>team_Blackpool</th>\n",
       "      <th>...</th>\n",
       "      <th>team_Sunderland</th>\n",
       "      <th>team_Swansea City</th>\n",
       "      <th>team_Swindon Town</th>\n",
       "      <th>team_Tottenham</th>\n",
       "      <th>team_Watford</th>\n",
       "      <th>team_West Brom</th>\n",
       "      <th>team_West Ham</th>\n",
       "      <th>team_Wigan Athletic</th>\n",
       "      <th>team_Wimbledon</th>\n",
       "      <th>team_Wolves</th>\n",
       "    </tr>\n",
       "  </thead>\n",
       "  <tbody>\n",
       "    <tr>\n",
       "      <th>0</th>\n",
       "      <td>1</td>\n",
       "      <td>67</td>\n",
       "      <td>31</td>\n",
       "      <td>36</td>\n",
       "      <td>84</td>\n",
       "      <td>False</td>\n",
       "      <td>False</td>\n",
       "      <td>False</td>\n",
       "      <td>False</td>\n",
       "      <td>False</td>\n",
       "      <td>...</td>\n",
       "      <td>False</td>\n",
       "      <td>False</td>\n",
       "      <td>False</td>\n",
       "      <td>False</td>\n",
       "      <td>False</td>\n",
       "      <td>False</td>\n",
       "      <td>False</td>\n",
       "      <td>False</td>\n",
       "      <td>False</td>\n",
       "      <td>False</td>\n",
       "    </tr>\n",
       "    <tr>\n",
       "      <th>1</th>\n",
       "      <td>2</td>\n",
       "      <td>57</td>\n",
       "      <td>40</td>\n",
       "      <td>17</td>\n",
       "      <td>74</td>\n",
       "      <td>True</td>\n",
       "      <td>False</td>\n",
       "      <td>False</td>\n",
       "      <td>False</td>\n",
       "      <td>False</td>\n",
       "      <td>...</td>\n",
       "      <td>False</td>\n",
       "      <td>False</td>\n",
       "      <td>False</td>\n",
       "      <td>False</td>\n",
       "      <td>False</td>\n",
       "      <td>False</td>\n",
       "      <td>False</td>\n",
       "      <td>False</td>\n",
       "      <td>False</td>\n",
       "      <td>False</td>\n",
       "    </tr>\n",
       "    <tr>\n",
       "      <th>2</th>\n",
       "      <td>3</td>\n",
       "      <td>61</td>\n",
       "      <td>65</td>\n",
       "      <td>-4</td>\n",
       "      <td>72</td>\n",
       "      <td>False</td>\n",
       "      <td>False</td>\n",
       "      <td>False</td>\n",
       "      <td>False</td>\n",
       "      <td>False</td>\n",
       "      <td>...</td>\n",
       "      <td>False</td>\n",
       "      <td>False</td>\n",
       "      <td>False</td>\n",
       "      <td>False</td>\n",
       "      <td>False</td>\n",
       "      <td>False</td>\n",
       "      <td>False</td>\n",
       "      <td>False</td>\n",
       "      <td>False</td>\n",
       "      <td>False</td>\n",
       "    </tr>\n",
       "    <tr>\n",
       "      <th>3</th>\n",
       "      <td>4</td>\n",
       "      <td>68</td>\n",
       "      <td>46</td>\n",
       "      <td>22</td>\n",
       "      <td>71</td>\n",
       "      <td>False</td>\n",
       "      <td>False</td>\n",
       "      <td>False</td>\n",
       "      <td>True</td>\n",
       "      <td>False</td>\n",
       "      <td>...</td>\n",
       "      <td>False</td>\n",
       "      <td>False</td>\n",
       "      <td>False</td>\n",
       "      <td>False</td>\n",
       "      <td>False</td>\n",
       "      <td>False</td>\n",
       "      <td>False</td>\n",
       "      <td>False</td>\n",
       "      <td>False</td>\n",
       "      <td>False</td>\n",
       "    </tr>\n",
       "    <tr>\n",
       "      <th>4</th>\n",
       "      <td>5</td>\n",
       "      <td>63</td>\n",
       "      <td>55</td>\n",
       "      <td>8</td>\n",
       "      <td>63</td>\n",
       "      <td>False</td>\n",
       "      <td>False</td>\n",
       "      <td>False</td>\n",
       "      <td>False</td>\n",
       "      <td>False</td>\n",
       "      <td>...</td>\n",
       "      <td>False</td>\n",
       "      <td>False</td>\n",
       "      <td>False</td>\n",
       "      <td>False</td>\n",
       "      <td>False</td>\n",
       "      <td>False</td>\n",
       "      <td>False</td>\n",
       "      <td>False</td>\n",
       "      <td>False</td>\n",
       "      <td>False</td>\n",
       "    </tr>\n",
       "  </tbody>\n",
       "</table>\n",
       "<p>5 rows × 55 columns</p>\n",
       "</div>"
      ],
      "text/plain": [
       "   position  gf  ga  gd  points  team_Aston Villa  team_Barnsley  \\\n",
       "0         1  67  31  36      84             False          False   \n",
       "1         2  57  40  17      74              True          False   \n",
       "2         3  61  65  -4      72             False          False   \n",
       "3         4  68  46  22      71             False          False   \n",
       "4         5  63  55   8      63             False          False   \n",
       "\n",
       "   team_Birmingham City  team_Blackburn  team_Blackpool  ...  team_Sunderland  \\\n",
       "0                 False           False           False  ...            False   \n",
       "1                 False           False           False  ...            False   \n",
       "2                 False           False           False  ...            False   \n",
       "3                 False            True           False  ...            False   \n",
       "4                 False           False           False  ...            False   \n",
       "\n",
       "   team_Swansea City  team_Swindon Town  team_Tottenham  team_Watford  \\\n",
       "0              False              False           False         False   \n",
       "1              False              False           False         False   \n",
       "2              False              False           False         False   \n",
       "3              False              False           False         False   \n",
       "4              False              False           False         False   \n",
       "\n",
       "   team_West Brom  team_West Ham  team_Wigan Athletic  team_Wimbledon  \\\n",
       "0           False          False                False           False   \n",
       "1           False          False                False           False   \n",
       "2           False          False                False           False   \n",
       "3           False          False                False           False   \n",
       "4           False          False                False           False   \n",
       "\n",
       "   team_Wolves  \n",
       "0        False  \n",
       "1        False  \n",
       "2        False  \n",
       "3        False  \n",
       "4        False  \n",
       "\n",
       "[5 rows x 55 columns]"
      ]
     },
     "execution_count": 14,
     "metadata": {},
     "output_type": "execute_result"
    }
   ],
   "source": [
    "print(\"Shape before encoding:\", df.shape)\n",
    "df_encoded = pd.get_dummies(df, columns=['team'], drop_first=True)\n",
    "print(\"Shape after encoding:\", df_encoded.shape)\n",
    "\n",
    "df_encoded.head()"
   ]
  },
  {
   "cell_type": "markdown",
   "id": "781027f4-a3a0-41cd-81cf-37503b7a07c0",
   "metadata": {},
   "source": [
    "## Step 7: Correlation Analysis\n",
    "We check correlations between numeric features and `points`.\n",
    "This helps us understand which features are most strongly related to our target."
   ]
  },
  {
   "cell_type": "code",
   "execution_count": 15,
   "id": "1ab5a05b-b35a-4538-98be-697856d557de",
   "metadata": {},
   "outputs": [
    {
     "data": {
      "image/png": "[encoded data removed]",
      "text/plain": [
       "<Figure size 640x480 with 2 Axes>"
      ]
     },
     "metadata": {},
     "output_type": "display_data"
    },
    {
     "name": "stdout",
     "output_type": "stream",
     "text": [
      "Correlation with points:\n",
      "points      1.000000\n",
      "gd          0.958271\n",
      "gf          0.879260\n",
      "ga         -0.809380\n",
      "position   -0.934208\n",
      "Name: points, dtype: float64\n"
     ]
    }
   ],
   "source": [
    "corr = df_encoded[['position','gf','ga','gd','points']].corr()\n",
    "sns.heatmap(corr, annot=True, cmap=\"coolwarm\", fmt=\".2f\")\n",
    "plt.title(\"Correlation Heatmap\")\n",
    "plt.show()\n",
    "\n",
    "print(\"Correlation with points:\")\n",
    "print(corr['points'].sort_values(ascending=False))"
   ]
  },
  {
   "cell_type": "markdown",
   "id": "d772558e-eda8-4f4d-bae6-f96ce753f44b",
   "metadata": {},
   "source": [
    "## Step 8: Prepare Data for Modeling\n",
    "We separate features (`X`) and target (`y`).  \n",
    "Note: we drop `position` to avoid leakage since it's derived from points."
   ]
  },
  {
   "cell_type": "code",
   "execution_count": 16,
   "id": "fd2a70f2-ca99-40f1-a4bc-a7afe44dbf21",
   "metadata": {},
   "outputs": [
    {
     "name": "stdout",
     "output_type": "stream",
     "text": [
      "Train shape: (516, 53) Test shape: (130, 53)\n"
     ]
    }
   ],
   "source": [
    "X = df_encoded.drop(columns=['points', 'position'])\n",
    "y = df_encoded['points']\n",
    "\n",
    "X_train, X_test, y_train, y_test = train_test_split(X, y, test_size=0.2, random_state=42)\n",
    "\n",
    "print(\"Train shape:\", X_train.shape, \"Test shape:\", X_test.shape)"
   ]
  },
  {
   "cell_type": "markdown",
   "id": "ad2337f5-b89b-415d-bb1b-4cbcc74c57a9",
   "metadata": {},
   "source": [
    "## Step 9: Train Regression Models\n",
    "We will train:\n",
    "- Linear Regression (baseline)\n",
    "- Random Forest Regressor (non-linear, often more accurate)"
   ]
  },
  {
   "cell_type": "code",
   "execution_count": 17,
   "id": "21119d35-0774-40a6-8e4a-86a148c5f6b5",
   "metadata": {},
   "outputs": [],
   "source": [
    "# Linear Regression\n",
    "lr = LinearRegression()\n",
    "lr.fit(X_train, y_train)\n",
    "y_pred_lr = lr.predict(X_test)\n",
    "\n",
    "# Random Forest\n",
    "rf = RandomForestRegressor(n_estimators=100, random_state=42)\n",
    "rf.fit(X_train, y_train)\n",
    "y_pred_rf = rf.predict(X_test)"
   ]
  },
  {
   "cell_type": "markdown",
   "id": "70bf7164-0df8-4eca-b463-e274e8acb3d7",
   "metadata": {},
   "source": [
    "## Step 10: Evaluate Models\n",
    "We will use:\n",
    "- Mean Absolute Error (MAE)\n",
    "- Root Mean Squared Error (RMSE)\n",
    "- R² Score"
   ]
  },
  {
   "cell_type": "code",
   "execution_count": 18,
   "id": "758a5841-ae24-4a14-9640-7715e085453d",
   "metadata": {},
   "outputs": [
    {
     "name": "stdout",
     "output_type": "stream",
     "text": [
      "Linear Regression: {'MAE': 3.9292445670830585, 'RMSE': np.float64(5.12294680289808), 'R2': 0.9000902231692166}\n",
      "Random Forest: {'MAE': 3.935653846153846, 'RMSE': np.float64(5.0201043802782515), 'R2': 0.9040613084349876}\n"
     ]
    }
   ],
   "source": [
    "def evaluate(y_true, y_pred):\n",
    "    mae = mean_absolute_error(y_true, y_pred)\n",
    "    rmse = np.sqrt(mean_squared_error(y_true, y_pred))\n",
    "    r2 = r2_score(y_true, y_pred)\n",
    "    return {\"MAE\": mae, \"RMSE\": rmse, \"R2\": r2}\n",
    "\n",
    "print(\"Linear Regression:\", evaluate(y_test, y_pred_lr))\n",
    "print(\"Random Forest:\", evaluate(y_test, y_pred_rf))"
   ]
  },
  {
   "cell_type": "markdown",
   "id": "bb1e6313-cb08-442b-91fe-a199a5d9b822",
   "metadata": {},
   "source": [
    "## Step 11: Sample Predictions\n",
    "Let's compare actual vs predicted points for a few test cases."
   ]
  },
  {
   "cell_type": "code",
   "execution_count": 19,
   "id": "4d79377e-2ad9-47e8-8d6e-766e8e206931",
   "metadata": {},
   "outputs": [
    {
     "data": {
      "text/html": [
       "<div>\n",
       "<style scoped>\n",
       "    .dataframe tbody tr th:only-of-type {\n",
       "        vertical-align: middle;\n",
       "    }\n",
       "\n",
       "    .dataframe tbody tr th {\n",
       "        vertical-align: top;\n",
       "    }\n",
       "\n",
       "    .dataframe thead th {\n",
       "        text-align: right;\n",
       "    }\n",
       "</style>\n",
       "<table border=\"1\" class=\"dataframe\">\n",
       "  <thead>\n",
       "    <tr style=\"text-align: right;\">\n",
       "      <th></th>\n",
       "      <th>Actual</th>\n",
       "      <th>Predicted_LR</th>\n",
       "      <th>Predicted_RF</th>\n",
       "    </tr>\n",
       "  </thead>\n",
       "  <tbody>\n",
       "    <tr>\n",
       "      <th>0</th>\n",
       "      <td>60</td>\n",
       "      <td>55.149275</td>\n",
       "      <td>54.59</td>\n",
       "    </tr>\n",
       "    <tr>\n",
       "      <th>1</th>\n",
       "      <td>71</td>\n",
       "      <td>75.606094</td>\n",
       "      <td>74.62</td>\n",
       "    </tr>\n",
       "    <tr>\n",
       "      <th>2</th>\n",
       "      <td>41</td>\n",
       "      <td>44.822281</td>\n",
       "      <td>43.00</td>\n",
       "    </tr>\n",
       "    <tr>\n",
       "      <th>3</th>\n",
       "      <td>56</td>\n",
       "      <td>49.285630</td>\n",
       "      <td>49.39</td>\n",
       "    </tr>\n",
       "    <tr>\n",
       "      <th>4</th>\n",
       "      <td>61</td>\n",
       "      <td>61.134759</td>\n",
       "      <td>67.67</td>\n",
       "    </tr>\n",
       "    <tr>\n",
       "      <th>5</th>\n",
       "      <td>45</td>\n",
       "      <td>41.950241</td>\n",
       "      <td>44.31</td>\n",
       "    </tr>\n",
       "    <tr>\n",
       "      <th>6</th>\n",
       "      <td>46</td>\n",
       "      <td>46.558120</td>\n",
       "      <td>47.14</td>\n",
       "    </tr>\n",
       "    <tr>\n",
       "      <th>7</th>\n",
       "      <td>45</td>\n",
       "      <td>45.856710</td>\n",
       "      <td>44.56</td>\n",
       "    </tr>\n",
       "    <tr>\n",
       "      <th>8</th>\n",
       "      <td>54</td>\n",
       "      <td>48.766758</td>\n",
       "      <td>48.75</td>\n",
       "    </tr>\n",
       "    <tr>\n",
       "      <th>9</th>\n",
       "      <td>52</td>\n",
       "      <td>47.697712</td>\n",
       "      <td>48.92</td>\n",
       "    </tr>\n",
       "  </tbody>\n",
       "</table>\n",
       "</div>"
      ],
      "text/plain": [
       "   Actual  Predicted_LR  Predicted_RF\n",
       "0      60     55.149275         54.59\n",
       "1      71     75.606094         74.62\n",
       "2      41     44.822281         43.00\n",
       "3      56     49.285630         49.39\n",
       "4      61     61.134759         67.67\n",
       "5      45     41.950241         44.31\n",
       "6      46     46.558120         47.14\n",
       "7      45     45.856710         44.56\n",
       "8      54     48.766758         48.75\n",
       "9      52     47.697712         48.92"
      ]
     },
     "execution_count": 19,
     "metadata": {},
     "output_type": "execute_result"
    }
   ],
   "source": [
    "comparison = pd.DataFrame({\n",
    "    \"Actual\": y_test[:10].values,\n",
    "    \"Predicted_LR\": y_pred_lr[:10],\n",
    "    \"Predicted_RF\": y_pred_rf[:10]\n",
    "})\n",
    "comparison"
   ]
  },
  {
   "cell_type": "markdown",
   "id": "cbaeb32c-2c06-4bfe-aee2-0fed1ab35cf4",
   "metadata": {},
   "source": [
    "### Step 12: Scatterplots (Actual vs Predicted)\n",
    "\n",
    "Tables are good, but visualizations really help us understand model performance.  \n",
    "We’ll plot the actual vs predicted points for both models.  \n",
    "If the predictions are perfect, all points will lie on the red diagonal line."
   ]
  },
  {
   "cell_type": "code",
   "execution_count": 20,
   "id": "92d0f1a1-6c52-4850-9ff6-725bcf304f7b",
   "metadata": {},
   "outputs": [
    {
     "data": {
      "image/png": "[encoded data removed]",
      "text/plain": [
       "<Figure size 600x500 with 1 Axes>"
      ]
     },
     "metadata": {},
     "output_type": "display_data"
    },
    {
     "data": {
      "image/png": "[encoded data removed]",
      "text/plain": [
       "<Figure size 600x500 with 1 Axes>"
      ]
     },
     "metadata": {},
     "output_type": "display_data"
    }
   ],
   "source": [
    "# Scatterplot for Linear Regression\n",
    "plt.figure(figsize=(6,5))\n",
    "plt.scatter(y_test, y_pred_lr, alpha=0.7, color=\"royalblue\", label=\"Predictions\")\n",
    "plt.plot([y_test.min(), y_test.max()], [y_test.min(), y_test.max()], \"r--\", lw=2, label=\"Perfect Prediction\")\n",
    "plt.title(\"Linear Regression: Actual vs Predicted Points\")\n",
    "plt.xlabel(\"Actual Points\")\n",
    "plt.ylabel(\"Predicted Points\")\n",
    "plt.legend()\n",
    "plt.show()\n",
    "\n",
    "# Scatterplot for Random Forest\n",
    "plt.figure(figsize=(6,5))\n",
    "plt.scatter(y_test, y_pred_rf, alpha=0.7, color=\"seagreen\", label=\"Predictions\")\n",
    "plt.plot([y_test.min(), y_test.max()], [y_test.min(), y_test.max()], \"r--\", lw=2, label=\"Perfect Prediction\")\n",
    "plt.title(\"Random Forest: Actual vs Predicted Points\")\n",
    "plt.xlabel(\"Actual Points\")\n",
    "plt.ylabel(\"Predicted Points\")\n",
    "plt.legend()\n",
    "plt.show()"
   ]
  },
  {
   "cell_type": "markdown",
   "id": "fccfaab5-339c-4573-8c58-967e024c568b",
   "metadata": {},
   "source": [
    "### Step 14: Conclusion\n",
    "\n",
    "Both **Linear Regression** and **Random Forest** performed very well, each achieving an R² of about **0.90**.  \n",
    "- **Goal Difference (GD)** and **Goals For (GF)** are the strongest predictors of total points.  \n",
    "- **Linear Regression** provides a simpler, more interpretable model.  \n",
    "- **Random Forest** offers slightly better performance and the added insight of feature importance.\n",
    "\n",
    "Overall, this analysis shows that historical stats like goals scored, goals conceded, and goal difference can effectively predict a team's season points."
   ]
  }
 ],
 "metadata": {
  "kernelspec": {
   "display_name": "Python 3 (ipykernel)",
   "language": "python",
   "name": "python3"
  },
  "language_info": {
   "codemirror_mode": {
    "name": "ipython",
    "version": 3
   },
   "file_extension": ".py",
   "mimetype": "text/x-python",
   "name": "python",
   "nbconvert_exporter": "python",
   "pygments_lexer": "ipython3",
   "version": "3.13.3"
  }
 },
 "nbformat": 4,
 "nbformat_minor": 5
}
