{
 "cells": [
  {
   "cell_type": "code",
   "execution_count": 32,
   "id": "f8c3c338-cea0-44e8-9942-1e28500911ff",
   "metadata": {},
   "outputs": [],
   "source": [
    "# Importing required libraries\n",
    "import pandas as pd\n",
    "import numpy as np\n",
    "import seaborn as sns\n",
    "import matplotlib.pyplot as plt"
   ]
  },
  {
   "cell_type": "code",
   "execution_count": 33,
   "id": "aec2513d-070f-4a41-b6db-b46081762703",
   "metadata": {},
   "outputs": [
    {
     "data": {
      "text/html": [
       "<div>\n",
       "<style scoped>\n",
       "    .dataframe tbody tr th:only-of-type {\n",
       "        vertical-align: middle;\n",
       "    }\n",
       "\n",
       "    .dataframe tbody tr th {\n",
       "        vertical-align: top;\n",
       "    }\n",
       "\n",
       "    .dataframe thead th {\n",
       "        text-align: right;\n",
       "    }\n",
       "</style>\n",
       "<table border=\"1\" class=\"dataframe\">\n",
       "  <thead>\n",
       "    <tr style=\"text-align: right;\">\n",
       "      <th></th>\n",
       "      <th>Season</th>\n",
       "      <th>MatchDate</th>\n",
       "      <th>HomeTeam</th>\n",
       "      <th>AwayTeam</th>\n",
       "      <th>FullTimeHomeGoals</th>\n",
       "      <th>FullTimeAwayGoals</th>\n",
       "      <th>FullTimeResult</th>\n",
       "      <th>HalfTimeHomeGoals</th>\n",
       "      <th>HalfTimeAwayGoals</th>\n",
       "      <th>HalfTimeResult</th>\n",
       "      <th>...</th>\n",
       "      <th>HomeShotsOnTarget</th>\n",
       "      <th>AwayShotsOnTarget</th>\n",
       "      <th>HomeCorners</th>\n",
       "      <th>AwayCorners</th>\n",
       "      <th>HomeFouls</th>\n",
       "      <th>AwayFouls</th>\n",
       "      <th>HomeYellowCards</th>\n",
       "      <th>AwayYellowCards</th>\n",
       "      <th>HomeRedCards</th>\n",
       "      <th>AwayRedCards</th>\n",
       "    </tr>\n",
       "  </thead>\n",
       "  <tbody>\n",
       "    <tr>\n",
       "      <th>0</th>\n",
       "      <td>2000/01</td>\n",
       "      <td>2000-08-19</td>\n",
       "      <td>Charlton</td>\n",
       "      <td>Man City</td>\n",
       "      <td>4</td>\n",
       "      <td>0</td>\n",
       "      <td>H</td>\n",
       "      <td>2</td>\n",
       "      <td>0</td>\n",
       "      <td>H</td>\n",
       "      <td>...</td>\n",
       "      <td>14</td>\n",
       "      <td>4</td>\n",
       "      <td>6</td>\n",
       "      <td>6</td>\n",
       "      <td>13</td>\n",
       "      <td>12</td>\n",
       "      <td>1</td>\n",
       "      <td>2</td>\n",
       "      <td>0</td>\n",
       "      <td>0</td>\n",
       "    </tr>\n",
       "    <tr>\n",
       "      <th>1</th>\n",
       "      <td>2000/01</td>\n",
       "      <td>2000-08-19</td>\n",
       "      <td>Chelsea</td>\n",
       "      <td>West Ham</td>\n",
       "      <td>4</td>\n",
       "      <td>2</td>\n",
       "      <td>H</td>\n",
       "      <td>1</td>\n",
       "      <td>0</td>\n",
       "      <td>H</td>\n",
       "      <td>...</td>\n",
       "      <td>10</td>\n",
       "      <td>5</td>\n",
       "      <td>7</td>\n",
       "      <td>7</td>\n",
       "      <td>19</td>\n",
       "      <td>14</td>\n",
       "      <td>1</td>\n",
       "      <td>2</td>\n",
       "      <td>0</td>\n",
       "      <td>0</td>\n",
       "    </tr>\n",
       "    <tr>\n",
       "      <th>2</th>\n",
       "      <td>2000/01</td>\n",
       "      <td>2000-08-19</td>\n",
       "      <td>Coventry</td>\n",
       "      <td>Middlesbrough</td>\n",
       "      <td>1</td>\n",
       "      <td>3</td>\n",
       "      <td>A</td>\n",
       "      <td>1</td>\n",
       "      <td>1</td>\n",
       "      <td>D</td>\n",
       "      <td>...</td>\n",
       "      <td>3</td>\n",
       "      <td>9</td>\n",
       "      <td>8</td>\n",
       "      <td>4</td>\n",
       "      <td>15</td>\n",
       "      <td>21</td>\n",
       "      <td>5</td>\n",
       "      <td>3</td>\n",
       "      <td>1</td>\n",
       "      <td>0</td>\n",
       "    </tr>\n",
       "    <tr>\n",
       "      <th>3</th>\n",
       "      <td>2000/01</td>\n",
       "      <td>2000-08-19</td>\n",
       "      <td>Derby</td>\n",
       "      <td>Southampton</td>\n",
       "      <td>2</td>\n",
       "      <td>2</td>\n",
       "      <td>D</td>\n",
       "      <td>1</td>\n",
       "      <td>2</td>\n",
       "      <td>A</td>\n",
       "      <td>...</td>\n",
       "      <td>4</td>\n",
       "      <td>6</td>\n",
       "      <td>5</td>\n",
       "      <td>8</td>\n",
       "      <td>11</td>\n",
       "      <td>13</td>\n",
       "      <td>1</td>\n",
       "      <td>1</td>\n",
       "      <td>0</td>\n",
       "      <td>0</td>\n",
       "    </tr>\n",
       "    <tr>\n",
       "      <th>4</th>\n",
       "      <td>2000/01</td>\n",
       "      <td>2000-08-19</td>\n",
       "      <td>Leeds</td>\n",
       "      <td>Everton</td>\n",
       "      <td>2</td>\n",
       "      <td>0</td>\n",
       "      <td>H</td>\n",
       "      <td>2</td>\n",
       "      <td>0</td>\n",
       "      <td>H</td>\n",
       "      <td>...</td>\n",
       "      <td>8</td>\n",
       "      <td>6</td>\n",
       "      <td>6</td>\n",
       "      <td>4</td>\n",
       "      <td>21</td>\n",
       "      <td>20</td>\n",
       "      <td>1</td>\n",
       "      <td>3</td>\n",
       "      <td>0</td>\n",
       "      <td>0</td>\n",
       "    </tr>\n",
       "  </tbody>\n",
       "</table>\n",
       "<p>5 rows × 22 columns</p>\n",
       "</div>"
      ],
      "text/plain": [
       "    Season   MatchDate  HomeTeam       AwayTeam  FullTimeHomeGoals  \\\n",
       "0  2000/01  2000-08-19  Charlton       Man City                  4   \n",
       "1  2000/01  2000-08-19   Chelsea       West Ham                  4   \n",
       "2  2000/01  2000-08-19  Coventry  Middlesbrough                  1   \n",
       "3  2000/01  2000-08-19     Derby    Southampton                  2   \n",
       "4  2000/01  2000-08-19     Leeds        Everton                  2   \n",
       "\n",
       "   FullTimeAwayGoals FullTimeResult  HalfTimeHomeGoals  HalfTimeAwayGoals  \\\n",
       "0                  0              H                  2                  0   \n",
       "1                  2              H                  1                  0   \n",
       "2                  3              A                  1                  1   \n",
       "3                  2              D                  1                  2   \n",
       "4                  0              H                  2                  0   \n",
       "\n",
       "  HalfTimeResult  ...  HomeShotsOnTarget  AwayShotsOnTarget  HomeCorners  \\\n",
       "0              H  ...                 14                  4            6   \n",
       "1              H  ...                 10                  5            7   \n",
       "2              D  ...                  3                  9            8   \n",
       "3              A  ...                  4                  6            5   \n",
       "4              H  ...                  8                  6            6   \n",
       "\n",
       "   AwayCorners  HomeFouls  AwayFouls  HomeYellowCards  AwayYellowCards  \\\n",
       "0            6         13         12                1                2   \n",
       "1            7         19         14                1                2   \n",
       "2            4         15         21                5                3   \n",
       "3            8         11         13                1                1   \n",
       "4            4         21         20                1                3   \n",
       "\n",
       "   HomeRedCards  AwayRedCards  \n",
       "0             0             0  \n",
       "1             0             0  \n",
       "2             1             0  \n",
       "3             0             0  \n",
       "4             0             0  \n",
       "\n",
       "[5 rows x 22 columns]"
      ]
     },
     "execution_count": 33,
     "metadata": {},
     "output_type": "execute_result"
    }
   ],
   "source": [
    "# Reading the dataset from CSV file into a pandas DataFrame\n",
    "df = pd.read_csv(\"Match_Winner.csv\")\n",
    "\n",
    "# Display the first 5 rows of the dataset to quickly inspect the data\n",
    "df.head()"
   ]
  },
  {
   "cell_type": "code",
   "execution_count": 34,
   "id": "236e5e68-a078-4e8b-a3e1-7d83e25f90ad",
   "metadata": {},
   "outputs": [
    {
     "name": "stdout",
     "output_type": "stream",
     "text": [
      "Index(['Season', 'MatchDate', 'HomeTeam', 'AwayTeam', 'FullTimeHomeGoals',\n",
      "       'FullTimeAwayGoals', 'FullTimeResult', 'HalfTimeHomeGoals',\n",
      "       'HalfTimeAwayGoals', 'HalfTimeResult', 'HomeShots', 'AwayShots',\n",
      "       'HomeShotsOnTarget', 'AwayShotsOnTarget', 'HomeCorners', 'AwayCorners',\n",
      "       'HomeFouls', 'AwayFouls', 'HomeYellowCards', 'AwayYellowCards',\n",
      "       'HomeRedCards', 'AwayRedCards'],\n",
      "      dtype='object')\n"
     ]
    }
   ],
   "source": [
    "# Display the first 5 rows of the dataset to quickly inspect the data\n",
    "print(df.columns)"
   ]
  },
  {
   "cell_type": "code",
   "execution_count": 35,
   "id": "d015fdb3-ca7a-47fe-bbea-42ff40963ea1",
   "metadata": {},
   "outputs": [
    {
     "data": {
      "text/plain": [
       "<bound method NDFrame.describe of        Season   MatchDate        HomeTeam       AwayTeam  FullTimeHomeGoals  \\\n",
       "0     2000/01  2000-08-19        Charlton       Man City                  4   \n",
       "1     2000/01  2000-08-19         Chelsea       West Ham                  4   \n",
       "2     2000/01  2000-08-19        Coventry  Middlesbrough                  1   \n",
       "3     2000/01  2000-08-19           Derby    Southampton                  2   \n",
       "4     2000/01  2000-08-19           Leeds        Everton                  2   \n",
       "...       ...         ...             ...            ...                ...   \n",
       "9375  2024/25  2025-05-04       Brentford     Man United                  4   \n",
       "9376  2024/25  2025-05-04        Brighton      Newcastle                  1   \n",
       "9377  2024/25  2025-05-04        West Ham      Tottenham                  1   \n",
       "9378  2024/25  2025-05-04         Chelsea      Liverpool                  3   \n",
       "9379  2024/25  2025-05-05  Crystal Palace  Nott'm Forest                  1   \n",
       "\n",
       "      FullTimeAwayGoals FullTimeResult  HalfTimeHomeGoals  HalfTimeAwayGoals  \\\n",
       "0                     0              H                  2                  0   \n",
       "1                     2              H                  1                  0   \n",
       "2                     3              A                  1                  1   \n",
       "3                     2              D                  1                  2   \n",
       "4                     0              H                  2                  0   \n",
       "...                 ...            ...                ...                ...   \n",
       "9375                  3              H                  2                  1   \n",
       "9376                  1              D                  1                  0   \n",
       "9377                  1              D                  1                  1   \n",
       "9378                  1              H                  1                  0   \n",
       "9379                  1              D                  0                  0   \n",
       "\n",
       "     HalfTimeResult  ...  HomeShotsOnTarget  AwayShotsOnTarget  HomeCorners  \\\n",
       "0                 H  ...                 14                  4            6   \n",
       "1                 H  ...                 10                  5            7   \n",
       "2                 D  ...                  3                  9            8   \n",
       "3                 A  ...                  4                  6            5   \n",
       "4                 H  ...                  8                  6            6   \n",
       "...             ...  ...                ...                ...          ...   \n",
       "9375              H  ...                  6                  5            7   \n",
       "9376              H  ...                  2                  5            1   \n",
       "9377              D  ...                  2                  2            1   \n",
       "9378              H  ...                  7                  2            3   \n",
       "9379              D  ...                  3                  4            7   \n",
       "\n",
       "      AwayCorners  HomeFouls  AwayFouls  HomeYellowCards  AwayYellowCards  \\\n",
       "0               6         13         12                1                2   \n",
       "1               7         19         14                1                2   \n",
       "2               4         15         21                5                3   \n",
       "3               8         11         13                1                1   \n",
       "4               4         21         20                1                3   \n",
       "...           ...        ...        ...              ...              ...   \n",
       "9375            4          8         10                0                2   \n",
       "9376            4         15         10                2                1   \n",
       "9377            3         18         15                2                2   \n",
       "9378            6         10         11                2                2   \n",
       "9379            4          9         15                3                8   \n",
       "\n",
       "      HomeRedCards  AwayRedCards  \n",
       "0                0             0  \n",
       "1                0             0  \n",
       "2                1             0  \n",
       "3                0             0  \n",
       "4                0             0  \n",
       "...            ...           ...  \n",
       "9375             0             0  \n",
       "9376             0             0  \n",
       "9377             0             0  \n",
       "9378             0             0  \n",
       "9379             0             0  \n",
       "\n",
       "[9380 rows x 22 columns]>"
      ]
     },
     "execution_count": 35,
     "metadata": {},
     "output_type": "execute_result"
    }
   ],
   "source": [
    "# Generate summary statistics (mean, std, min, max, etc.) for numerical columns\n",
    "df.describe"
   ]
  },
  {
   "cell_type": "code",
   "execution_count": 36,
   "id": "d856e949-60ff-4f33-8f50-34e2859e079d",
   "metadata": {},
   "outputs": [
    {
     "name": "stdout",
     "output_type": "stream",
     "text": [
      "<class 'pandas.core.frame.DataFrame'>\n",
      "RangeIndex: 9380 entries, 0 to 9379\n",
      "Data columns (total 22 columns):\n",
      " #   Column             Non-Null Count  Dtype \n",
      "---  ------             --------------  ----- \n",
      " 0   Season             9380 non-null   object\n",
      " 1   MatchDate          9380 non-null   object\n",
      " 2   HomeTeam           9380 non-null   object\n",
      " 3   AwayTeam           9380 non-null   object\n",
      " 4   FullTimeHomeGoals  9380 non-null   int64 \n",
      " 5   FullTimeAwayGoals  9380 non-null   int64 \n",
      " 6   FullTimeResult     9380 non-null   object\n",
      " 7   HalfTimeHomeGoals  9380 non-null   int64 \n",
      " 8   HalfTimeAwayGoals  9380 non-null   int64 \n",
      " 9   HalfTimeResult     9380 non-null   object\n",
      " 10  HomeShots          9380 non-null   int64 \n",
      " 11  AwayShots          9380 non-null   int64 \n",
      " 12  HomeShotsOnTarget  9380 non-null   int64 \n",
      " 13  AwayShotsOnTarget  9380 non-null   int64 \n",
      " 14  HomeCorners        9380 non-null   int64 \n",
      " 15  AwayCorners        9380 non-null   int64 \n",
      " 16  HomeFouls          9380 non-null   int64 \n",
      " 17  AwayFouls          9380 non-null   int64 \n",
      " 18  HomeYellowCards    9380 non-null   int64 \n",
      " 19  AwayYellowCards    9380 non-null   int64 \n",
      " 20  HomeRedCards       9380 non-null   int64 \n",
      " 21  AwayRedCards       9380 non-null   int64 \n",
      "dtypes: int64(16), object(6)\n",
      "memory usage: 1.6+ MB\n"
     ]
    }
   ],
   "source": [
    "# Display concise information about the dataset (columns, non-null values, datatypes, memory usage)\n",
    "df.info()"
   ]
  },
  {
   "cell_type": "code",
   "execution_count": 37,
   "id": "987660e5-38d8-41fb-a3ba-df200a42d624",
   "metadata": {},
   "outputs": [
    {
     "data": {
      "text/plain": [
       "Season               0\n",
       "MatchDate            0\n",
       "HomeTeam             0\n",
       "AwayTeam             0\n",
       "FullTimeHomeGoals    0\n",
       "FullTimeAwayGoals    0\n",
       "FullTimeResult       0\n",
       "HalfTimeHomeGoals    0\n",
       "HalfTimeAwayGoals    0\n",
       "HalfTimeResult       0\n",
       "HomeShots            0\n",
       "AwayShots            0\n",
       "HomeShotsOnTarget    0\n",
       "AwayShotsOnTarget    0\n",
       "HomeCorners          0\n",
       "AwayCorners          0\n",
       "HomeFouls            0\n",
       "AwayFouls            0\n",
       "HomeYellowCards      0\n",
       "AwayYellowCards      0\n",
       "HomeRedCards         0\n",
       "AwayRedCards         0\n",
       "dtype: int64"
      ]
     },
     "execution_count": 37,
     "metadata": {},
     "output_type": "execute_result"
    }
   ],
   "source": [
    "# Check the number of missing (null) values in each column\n",
    "df.isnull().sum()"
   ]
  },
  {
   "cell_type": "code",
   "execution_count": 38,
   "id": "b5bc3c1b-8332-4dc8-b02e-9b9e72d193d8",
   "metadata": {},
   "outputs": [],
   "source": [
    "# Dropping unnecessary columns that are not required for the analysis\n",
    "df=df.drop(['Season', 'MatchDate','FullTimeHomeGoals','FullTimeAwayGoals','HomeShots','AwayShots','HomeShotsOnTarget','AwayShotsOnTarget','HomeCorners','AwayCorners',\n",
    "       'HomeFouls','AwayFouls','HomeYellowCards','AwayYellowCards','HomeRedCards','AwayRedCards'],axis=1)"
   ]
  },
  {
   "cell_type": "code",
   "execution_count": 39,
   "id": "97265256-94c1-40e6-9a1e-84a8a10f14a9",
   "metadata": {},
   "outputs": [
    {
     "name": "stdout",
     "output_type": "stream",
     "text": [
      "Index(['HomeTeam', 'AwayTeam', 'FullTimeResult', 'HalfTimeHomeGoals',\n",
      "       'HalfTimeAwayGoals', 'HalfTimeResult'],\n",
      "      dtype='object')\n"
     ]
    }
   ],
   "source": [
    "# Print the remaining column names after dropping unwanted ones\n",
    "print(df.columns)"
   ]
  },
  {
   "cell_type": "code",
   "execution_count": 40,
   "id": "bb2987b7-16ab-41fc-98cf-14c907e727ce",
   "metadata": {},
   "outputs": [
    {
     "name": "stdout",
     "output_type": "stream",
     "text": [
      "HomeTeam             0\n",
      "AwayTeam             0\n",
      "FullTimeResult       0\n",
      "HalfTimeHomeGoals    0\n",
      "HalfTimeAwayGoals    0\n",
      "HalfTimeResult       0\n",
      "dtype: int64\n"
     ]
    }
   ],
   "source": [
    "#Check again for missing values after dropping columns\n",
    "print(df.isnull().sum())"
   ]
  },
  {
   "cell_type": "code",
   "execution_count": 41,
   "id": "5eb537bf-b4bd-4f38-89a1-a150ec77df40",
   "metadata": {},
   "outputs": [
    {
     "name": "stdout",
     "output_type": "stream",
     "text": [
      "2704\n"
     ]
    }
   ],
   "source": [
    "# Count the number of duplicate rows in the dataset\n",
    "print(df.duplicated().sum())"
   ]
  },
  {
   "cell_type": "code",
   "execution_count": 42,
   "id": "9d1e2ef1-3c5c-4faf-8a6a-c7532f0dd0d6",
   "metadata": {},
   "outputs": [],
   "source": [
    "# Remove duplicate rows from the dataset\n",
    "df = df.drop_duplicates()"
   ]
  },
  {
   "cell_type": "code",
   "execution_count": 43,
   "id": "8396e775-4511-43d5-a8af-40fc749828ed",
   "metadata": {},
   "outputs": [
    {
     "name": "stdout",
     "output_type": "stream",
     "text": [
      "0\n"
     ]
    }
   ],
   "source": [
    "# Verify again that no duplicate rows remain\n",
    "print(df.duplicated().sum())"
   ]
  },
  {
   "cell_type": "code",
   "execution_count": 44,
   "id": "6ae224f7-547d-4849-b3c8-ac0921bd6505",
   "metadata": {},
   "outputs": [],
   "source": [
    "# Save the cleaned dataset to a new CSV file without index column\n",
    "df.to_csv(\"cleaned_Match_Winner.csv\", index=False)"
   ]
  },
  {
   "cell_type": "code",
   "execution_count": 45,
   "id": "30a96d20-c90e-4a16-8fa9-0c6fabffbf0a",
   "metadata": {},
   "outputs": [
    {
     "data": {
      "image/png": "[encoded data removed]",
      "text/plain": [
       "<Figure size 800x500 with 1 Axes>"
      ]
     },
     "metadata": {},
     "output_type": "display_data"
    }
   ],
   "source": [
    "# Boxplot for HalfTimeHomeGoals vs FullTimeResult\n",
    "plt.figure(figsize=(8,5))\n",
    "sns.boxplot(x='FullTimeResult', y='HalfTimeHomeGoals', data=df)\n",
    "plt.title(\"Half-Time Home Goals vs Match Result\")\n",
    "plt.show()"
   ]
  },
  {
   "cell_type": "code",
   "execution_count": 46,
   "id": "090e1bb8-d67a-49f4-bf54-f8aa5b714fe7",
   "metadata": {},
   "outputs": [
    {
     "data": {
      "image/png": "[encoded data removed]",
      "text/plain": [
       "<Figure size 800x500 with 1 Axes>"
      ]
     },
     "metadata": {},
     "output_type": "display_data"
    }
   ],
   "source": [
    "# Boxplot for HalfTimeAwayGoals vs FullTimeResult\n",
    "plt.figure(figsize=(8,5))\n",
    "sns.boxplot(x='FullTimeResult', y='HalfTimeAwayGoals', data=df)\n",
    "plt.title(\"Half-Time Away Goals vs Match Result\")\n",
    "plt.show()"
   ]
  },
  {
   "cell_type": "code",
   "execution_count": 47,
   "id": "28d4c878-1844-4192-b788-2b4855612133",
   "metadata": {},
   "outputs": [
    {
     "data": {
      "image/png": "[encoded data removed]",
      "text/plain": [
       "<Figure size 600x400 with 2 Axes>"
      ]
     },
     "metadata": {},
     "output_type": "display_data"
    }
   ],
   "source": [
    "# Select only numeric columns\n",
    "numeric_cols = ['HalfTimeHomeGoals', 'HalfTimeAwayGoals']\n",
    "\n",
    "# Correlation matrix\n",
    "corr = df[numeric_cols].corr()\n",
    "\n",
    "# Heatmap\n",
    "plt.figure(figsize=(6,4))\n",
    "sns.heatmap(corr, annot=True, cmap='coolwarm', center=0)\n",
    "plt.title(\"Correlation Heatmap - Match Winner Dataset\")\n",
    "plt.show()"
   ]
  },
  {
   "cell_type": "code",
   "execution_count": null,
   "id": "7371b449-050b-4006-91c5-e48ef0d4b491",
   "metadata": {},
   "outputs": [],
   "source": []
  }
 ],
 "metadata": {
  "kernelspec": {
   "display_name": "Python 3 (ipykernel)",
   "language": "python",
   "name": "python3"
  },
  "language_info": {
   "codemirror_mode": {
    "name": "ipython",
    "version": 3
   },
   "file_extension": ".py",
   "mimetype": "text/x-python",
   "name": "python",
   "nbconvert_exporter": "python",
   "pygments_lexer": "ipython3",
   "version": "3.12.7"
  }
 },
 "nbformat": 4,
 "nbformat_minor": 5
}
