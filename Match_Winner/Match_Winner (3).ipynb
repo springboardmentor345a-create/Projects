{
  "nbformat": 4,
  "nbformat_minor": 0,
  "metadata": {
    "colab": {
      "provenance": []
    },
    "kernelspec": {
      "name": "python3",
      "display_name": "Python 3"
    },
    "language_info": {
      "name": "python"
    }
  },
  "cells": [
    {
      "cell_type": "code",
      "execution_count": 31,
      "metadata": {
        "id": "7LRIE8_dlgh4"
      },
      "outputs": [],
      "source": [
        "import pandas as pd\n",
        "from sklearn.preprocessing import LabelEncoder\n",
        "import matplotlib.pyplot as plt\n",
        "import seaborn as sns\n",
        "from google.colab import files"
      ]
    },
    {
      "cell_type": "code",
      "source": [
        "# STEP 1: Upload & Load Dataset\n",
        "uploaded = files.upload()   # Upload your \"Match_Winner.csv\"\n",
        "df = pd.read_csv(\"Match_Winner.csv\")\n",
        "\n",
        "print(\"Original Shape:\", df.shape)\n",
        "print(\"\\nFirst 5 rows:\\n\", df.head())"
      ],
      "metadata": {
        "colab": {
          "base_uri": "https://localhost:8080/",
          "height": 750
        },
        "id": "T7nvsxVilvw_",
        "outputId": "4e3f04ef-c4f6-4d95-82d6-fe2a10d38c44"
      },
      "execution_count": 42,
      "outputs": [
        {
          "output_type": "display_data",
          "data": {
            "text/plain": [
              "<IPython.core.display.HTML object>"
            ],
            "text/html": [
              "\n",
              "     <input type=\"file\" id=\"files-daf59d22-9119-460f-930b-5771cef70bee\" name=\"files[]\" multiple disabled\n",
              "        style=\"border:none\" />\n",
              "     <output id=\"result-daf59d22-9119-460f-930b-5771cef70bee\">\n",
              "      Upload widget is only available when the cell has been executed in the\n",
              "      current browser session. Please rerun this cell to enable.\n",
              "      </output>\n",
              "      <script>// Copyright 2017 Google LLC\n",
              "//\n",
              "// Licensed under the Apache License, Version 2.0 (the \"License\");\n",
              "// you may not use this file except in compliance with the License.\n",
              "// You may obtain a copy of the License at\n",
              "//\n",
              "//      http://www.apache.org/licenses/LICENSE-2.0\n",
              "//\n",
              "// Unless required by applicable law or agreed to in writing, software\n",
              "// distributed under the License is distributed on an \"AS IS\" BASIS,\n",
              "// WITHOUT WARRANTIES OR CONDITIONS OF ANY KIND, either express or implied.\n",
              "// See the License for the specific language governing permissions and\n",
              "// limitations under the License.\n",
              "\n",
              "/**\n",
              " * @fileoverview Helpers for google.colab Python module.\n",
              " */\n",
              "(function(scope) {\n",
              "function span(text, styleAttributes = {}) {\n",
              "  const element = document.createElement('span');\n",
              "  element.textContent = text;\n",
              "  for (const key of Object.keys(styleAttributes)) {\n",
              "    element.style[key] = styleAttributes[key];\n",
              "  }\n",
              "  return element;\n",
              "}\n",
              "\n",
              "// Max number of bytes which will be uploaded at a time.\n",
              "const MAX_PAYLOAD_SIZE = 100 * 1024;\n",
              "\n",
              "function _uploadFiles(inputId, outputId) {\n",
              "  const steps = uploadFilesStep(inputId, outputId);\n",
              "  const outputElement = document.getElementById(outputId);\n",
              "  // Cache steps on the outputElement to make it available for the next call\n",
              "  // to uploadFilesContinue from Python.\n",
              "  outputElement.steps = steps;\n",
              "\n",
              "  return _uploadFilesContinue(outputId);\n",
              "}\n",
              "\n",
              "// This is roughly an async generator (not supported in the browser yet),\n",
              "// where there are multiple asynchronous steps and the Python side is going\n",
              "// to poll for completion of each step.\n",
              "// This uses a Promise to block the python side on completion of each step,\n",
              "// then passes the result of the previous step as the input to the next step.\n",
              "function _uploadFilesContinue(outputId) {\n",
              "  const outputElement = document.getElementById(outputId);\n",
              "  const steps = outputElement.steps;\n",
              "\n",
              "  const next = steps.next(outputElement.lastPromiseValue);\n",
              "  return Promise.resolve(next.value.promise).then((value) => {\n",
              "    // Cache the last promise value to make it available to the next\n",
              "    // step of the generator.\n",
              "    outputElement.lastPromiseValue = value;\n",
              "    return next.value.response;\n",
              "  });\n",
              "}\n",
              "\n",
              "/**\n",
              " * Generator function which is called between each async step of the upload\n",
              " * process.\n",
              " * @param {string} inputId Element ID of the input file picker element.\n",
              " * @param {string} outputId Element ID of the output display.\n",
              " * @return {!Iterable<!Object>} Iterable of next steps.\n",
              " */\n",
              "function* uploadFilesStep(inputId, outputId) {\n",
              "  const inputElement = document.getElementById(inputId);\n",
              "  inputElement.disabled = false;\n",
              "\n",
              "  const outputElement = document.getElementById(outputId);\n",
              "  outputElement.innerHTML = '';\n",
              "\n",
              "  const pickedPromise = new Promise((resolve) => {\n",
              "    inputElement.addEventListener('change', (e) => {\n",
              "      resolve(e.target.files);\n",
              "    });\n",
              "  });\n",
              "\n",
              "  const cancel = document.createElement('button');\n",
              "  inputElement.parentElement.appendChild(cancel);\n",
              "  cancel.textContent = 'Cancel upload';\n",
              "  const cancelPromise = new Promise((resolve) => {\n",
              "    cancel.onclick = () => {\n",
              "      resolve(null);\n",
              "    };\n",
              "  });\n",
              "\n",
              "  // Wait for the user to pick the files.\n",
              "  const files = yield {\n",
              "    promise: Promise.race([pickedPromise, cancelPromise]),\n",
              "    response: {\n",
              "      action: 'starting',\n",
              "    }\n",
              "  };\n",
              "\n",
              "  cancel.remove();\n",
              "\n",
              "  // Disable the input element since further picks are not allowed.\n",
              "  inputElement.disabled = true;\n",
              "\n",
              "  if (!files) {\n",
              "    return {\n",
              "      response: {\n",
              "        action: 'complete',\n",
              "      }\n",
              "    };\n",
              "  }\n",
              "\n",
              "  for (const file of files) {\n",
              "    const li = document.createElement('li');\n",
              "    li.append(span(file.name, {fontWeight: 'bold'}));\n",
              "    li.append(span(\n",
              "        `(${file.type || 'n/a'}) - ${file.size} bytes, ` +\n",
              "        `last modified: ${\n",
              "            file.lastModifiedDate ? file.lastModifiedDate.toLocaleDateString() :\n",
              "                                    'n/a'} - `));\n",
              "    const percent = span('0% done');\n",
              "    li.appendChild(percent);\n",
              "\n",
              "    outputElement.appendChild(li);\n",
              "\n",
              "    const fileDataPromise = new Promise((resolve) => {\n",
              "      const reader = new FileReader();\n",
              "      reader.onload = (e) => {\n",
              "        resolve(e.target.result);\n",
              "      };\n",
              "      reader.readAsArrayBuffer(file);\n",
              "    });\n",
              "    // Wait for the data to be ready.\n",
              "    let fileData = yield {\n",
              "      promise: fileDataPromise,\n",
              "      response: {\n",
              "        action: 'continue',\n",
              "      }\n",
              "    };\n",
              "\n",
              "    // Use a chunked sending to avoid message size limits. See b/62115660.\n",
              "    let position = 0;\n",
              "    do {\n",
              "      const length = Math.min(fileData.byteLength - position, MAX_PAYLOAD_SIZE);\n",
              "      const chunk = new Uint8Array(fileData, position, length);\n",
              "      position += length;\n",
              "\n",
              "      const base64 = btoa(String.fromCharCode.apply(null, chunk));\n",
              "      yield {\n",
              "        response: {\n",
              "          action: 'append',\n",
              "          file: file.name,\n",
              "          data: base64,\n",
              "        },\n",
              "      };\n",
              "\n",
              "      let percentDone = fileData.byteLength === 0 ?\n",
              "          100 :\n",
              "          Math.round((position / fileData.byteLength) * 100);\n",
              "      percent.textContent = `${percentDone}% done`;\n",
              "\n",
              "    } while (position < fileData.byteLength);\n",
              "  }\n",
              "\n",
              "  // All done.\n",
              "  yield {\n",
              "    response: {\n",
              "      action: 'complete',\n",
              "    }\n",
              "  };\n",
              "}\n",
              "\n",
              "scope.google = scope.google || {};\n",
              "scope.google.colab = scope.google.colab || {};\n",
              "scope.google.colab._files = {\n",
              "  _uploadFiles,\n",
              "  _uploadFilesContinue,\n",
              "};\n",
              "})(self);\n",
              "</script> "
            ]
          },
          "metadata": {}
        },
        {
          "output_type": "stream",
          "name": "stdout",
          "text": [
            "Saving Match_Winner.csv to Match_Winner (2).csv\n",
            "Original Shape: (9380, 22)\n",
            "\n",
            "First 5 rows:\n",
            "     Season   MatchDate  HomeTeam       AwayTeam  FullTimeHomeGoals  \\\n",
            "0  2000/01  2000-08-19  Charlton       Man City                  4   \n",
            "1  2000/01  2000-08-19   Chelsea       West Ham                  4   \n",
            "2  2000/01  2000-08-19  Coventry  Middlesbrough                  1   \n",
            "3  2000/01  2000-08-19     Derby    Southampton                  2   \n",
            "4  2000/01  2000-08-19     Leeds        Everton                  2   \n",
            "\n",
            "   FullTimeAwayGoals FullTimeResult  HalfTimeHomeGoals  HalfTimeAwayGoals  \\\n",
            "0                  0              H                  2                  0   \n",
            "1                  2              H                  1                  0   \n",
            "2                  3              A                  1                  1   \n",
            "3                  2              D                  1                  2   \n",
            "4                  0              H                  2                  0   \n",
            "\n",
            "  HalfTimeResult  ...  HomeShotsOnTarget  AwayShotsOnTarget  HomeCorners  \\\n",
            "0              H  ...                 14                  4            6   \n",
            "1              H  ...                 10                  5            7   \n",
            "2              D  ...                  3                  9            8   \n",
            "3              A  ...                  4                  6            5   \n",
            "4              H  ...                  8                  6            6   \n",
            "\n",
            "   AwayCorners  HomeFouls  AwayFouls  HomeYellowCards  AwayYellowCards  \\\n",
            "0            6         13         12                1                2   \n",
            "1            7         19         14                1                2   \n",
            "2            4         15         21                5                3   \n",
            "3            8         11         13                1                1   \n",
            "4            4         21         20                1                3   \n",
            "\n",
            "   HomeRedCards  AwayRedCards  \n",
            "0             0             0  \n",
            "1             0             0  \n",
            "2             1             0  \n",
            "3             0             0  \n",
            "4             0             0  \n",
            "\n",
            "[5 rows x 22 columns]\n"
          ]
        }
      ]
    },
    {
      "cell_type": "code",
      "source": [
        "# STEP 2: Remove unwanted columns\n",
        "df_cleaned = df.drop(columns=[\"MatchDate\"], errors=\"ignore\")"
      ],
      "metadata": {
        "id": "IIB0rBJ4lxw-"
      },
      "execution_count": 33,
      "outputs": []
    },
    {
      "cell_type": "code",
      "source": [
        "# STEP 3: Handle Null Values\n",
        "print(\"\\nNull values before:\\n\", df_cleaned.isnull().sum())\n",
        "df_cleaned = df_cleaned.dropna()\n",
        "print(\"Shape after dropping nulls:\", df_cleaned.shape)"
      ],
      "metadata": {
        "colab": {
          "base_uri": "https://localhost:8080/"
        },
        "id": "QgKeBX2xl1Mw",
        "outputId": "7173e45e-4f1e-4897-d618-3d8f9f1d898b"
      },
      "execution_count": 34,
      "outputs": [
        {
          "output_type": "stream",
          "name": "stdout",
          "text": [
            "\n",
            "Null values before:\n",
            " Season               0\n",
            "HomeTeam             0\n",
            "AwayTeam             0\n",
            "FullTimeHomeGoals    0\n",
            "FullTimeAwayGoals    0\n",
            "FullTimeResult       0\n",
            "HalfTimeHomeGoals    0\n",
            "HalfTimeAwayGoals    0\n",
            "HalfTimeResult       0\n",
            "HomeShots            0\n",
            "AwayShots            0\n",
            "HomeShotsOnTarget    0\n",
            "AwayShotsOnTarget    0\n",
            "HomeCorners          0\n",
            "AwayCorners          0\n",
            "HomeFouls            0\n",
            "AwayFouls            0\n",
            "HomeYellowCards      0\n",
            "AwayYellowCards      0\n",
            "HomeRedCards         0\n",
            "AwayRedCards         0\n",
            "dtype: int64\n",
            "Shape after dropping nulls: (9380, 21)\n"
          ]
        }
      ]
    },
    {
      "cell_type": "code",
      "source": [
        "# STEP 4: Remove Duplicate Rows\n",
        "print(\"\\nDuplicates before:\", df_cleaned.duplicated().sum())\n",
        "df_cleaned = df_cleaned.drop_duplicates()\n",
        "print(\"Shape after removing duplicates:\", df_cleaned.shape)"
      ],
      "metadata": {
        "colab": {
          "base_uri": "https://localhost:8080/"
        },
        "id": "CoHL3LCKl5Kp",
        "outputId": "c005ecf5-b9cb-41fd-b1d4-6d2e47aa027a"
      },
      "execution_count": 35,
      "outputs": [
        {
          "output_type": "stream",
          "name": "stdout",
          "text": [
            "\n",
            "Duplicates before: 0\n",
            "Shape after removing duplicates: (9380, 21)\n"
          ]
        }
      ]
    },
    {
      "cell_type": "code",
      "source": [
        "# STEP 5: Detect categorical columns\n",
        "categorical_cols = df_cleaned.select_dtypes(include=['object','category']).columns.tolist()\n",
        "print(\"\\nCategorical Columns:\", categorical_cols)"
      ],
      "metadata": {
        "colab": {
          "base_uri": "https://localhost:8080/"
        },
        "id": "ubrzdEB1l_CO",
        "outputId": "645ea0dc-0b99-4f64-fc41-2babad6f9ed0"
      },
      "execution_count": 36,
      "outputs": [
        {
          "output_type": "stream",
          "name": "stdout",
          "text": [
            "\n",
            "Categorical Columns: ['Season', 'HomeTeam', 'AwayTeam', 'FullTimeResult', 'HalfTimeResult']\n"
          ]
        }
      ]
    },
    {
      "cell_type": "code",
      "source": [
        "# STEP 6: Label Encoding\n",
        "df_label_encoded = df_cleaned.copy()\n",
        "label_encoders = {}\n",
        "\n",
        "for col in categorical_cols:\n",
        "    le = LabelEncoder()\n",
        "    df_label_encoded[col] = le.fit_transform(df_label_encoded[col])\n",
        "    label_encoders[col] = le\n",
        "\n",
        "print(\"\\nLabel Encoded Data (first 5 rows):\\n\", df_label_encoded.head())\n"
      ],
      "metadata": {
        "colab": {
          "base_uri": "https://localhost:8080/"
        },
        "id": "YBjbTVUeqvw-",
        "outputId": "36c224f7-2eff-4b28-a858-f349e11e0c7f"
      },
      "execution_count": 37,
      "outputs": [
        {
          "output_type": "stream",
          "name": "stdout",
          "text": [
            "\n",
            "Label Encoded Data (first 5 rows):\n",
            "    Season  HomeTeam  AwayTeam  FullTimeHomeGoals  FullTimeAwayGoals  \\\n",
            "0       0        12        26                  4                  0   \n",
            "1       0        13        43                  4                  2   \n",
            "2       0        14        28                  1                  3   \n",
            "3       0        16        36                  2                  2   \n",
            "4       0        22        17                  2                  0   \n",
            "\n",
            "   FullTimeResult  HalfTimeHomeGoals  HalfTimeAwayGoals  HalfTimeResult  \\\n",
            "0               2                  2                  0               2   \n",
            "1               2                  1                  0               2   \n",
            "2               0                  1                  1               1   \n",
            "3               1                  1                  2               0   \n",
            "4               2                  2                  0               2   \n",
            "\n",
            "   HomeShots  ...  HomeShotsOnTarget  AwayShotsOnTarget  HomeCorners  \\\n",
            "0         17  ...                 14                  4            6   \n",
            "1         17  ...                 10                  5            7   \n",
            "2          6  ...                  3                  9            8   \n",
            "3          6  ...                  4                  6            5   \n",
            "4         17  ...                  8                  6            6   \n",
            "\n",
            "   AwayCorners  HomeFouls  AwayFouls  HomeYellowCards  AwayYellowCards  \\\n",
            "0            6         13         12                1                2   \n",
            "1            7         19         14                1                2   \n",
            "2            4         15         21                5                3   \n",
            "3            8         11         13                1                1   \n",
            "4            4         21         20                1                3   \n",
            "\n",
            "   HomeRedCards  AwayRedCards  \n",
            "0             0             0  \n",
            "1             0             0  \n",
            "2             1             0  \n",
            "3             0             0  \n",
            "4             0             0  \n",
            "\n",
            "[5 rows x 21 columns]\n"
          ]
        }
      ]
    },
    {
      "cell_type": "code",
      "source": [
        "# STEP 7: One Hot Encoding\n",
        "df_onehot_encoded = pd.get_dummies(df_cleaned, columns=categorical_cols)\n",
        "print(\"\\nOne Hot Encoded Data (first 5 rows):\\n\", df_onehot_encoded.head())"
      ],
      "metadata": {
        "colab": {
          "base_uri": "https://localhost:8080/"
        },
        "id": "9B2WXd87q03_",
        "outputId": "8ac7c0b5-da26-4879-fc2f-cfeaa8552307"
      },
      "execution_count": 38,
      "outputs": [
        {
          "output_type": "stream",
          "name": "stdout",
          "text": [
            "\n",
            "One Hot Encoded Data (first 5 rows):\n",
            "    FullTimeHomeGoals  FullTimeAwayGoals  HalfTimeHomeGoals  HalfTimeAwayGoals  \\\n",
            "0                  4                  0                  2                  0   \n",
            "1                  4                  2                  1                  0   \n",
            "2                  1                  3                  1                  1   \n",
            "3                  2                  2                  1                  2   \n",
            "4                  2                  0                  2                  0   \n",
            "\n",
            "   HomeShots  AwayShots  HomeShotsOnTarget  AwayShotsOnTarget  HomeCorners  \\\n",
            "0         17          8                 14                  4            6   \n",
            "1         17         12                 10                  5            7   \n",
            "2          6         16                  3                  9            8   \n",
            "3          6         13                  4                  6            5   \n",
            "4         17         12                  8                  6            6   \n",
            "\n",
            "   AwayCorners  ...  AwayTeam_West Brom  AwayTeam_West Ham  AwayTeam_Wigan  \\\n",
            "0            6  ...               False              False           False   \n",
            "1            7  ...               False               True           False   \n",
            "2            4  ...               False              False           False   \n",
            "3            8  ...               False              False           False   \n",
            "4            4  ...               False              False           False   \n",
            "\n",
            "   AwayTeam_Wolves  FullTimeResult_A  FullTimeResult_D  FullTimeResult_H  \\\n",
            "0            False             False             False              True   \n",
            "1            False             False             False              True   \n",
            "2            False              True             False             False   \n",
            "3            False             False              True             False   \n",
            "4            False             False             False              True   \n",
            "\n",
            "   HalfTimeResult_A  HalfTimeResult_D  HalfTimeResult_H  \n",
            "0             False             False              True  \n",
            "1             False             False              True  \n",
            "2             False              True             False  \n",
            "3              True             False             False  \n",
            "4             False             False              True  \n",
            "\n",
            "[5 rows x 139 columns]\n"
          ]
        }
      ]
    },
    {
      "cell_type": "code",
      "source": [
        "df_cleaned.to_csv(\"Match_Winner_Cleaned.csv\", index=False)\n",
        "df_label_encoded.to_csv(\"Match_Winner_LabelEncoded.csv\", index=False)\n",
        "df_onehot_encoded.to_csv(\"Match_Winner_OneHotEncoded.csv\", index=False)\n",
        "\n",
        "# Download all three files\n",
        "files.download(\"Match_Winner_Cleaned.csv\")\n",
        "files.download(\"Match_Winner_LabelEncoded.csv\")\n",
        "files.download(\"Match_Winner_OneHotEncoded.csv\")\n"
      ],
      "metadata": {
        "colab": {
          "base_uri": "https://localhost:8080/",
          "height": 17
        },
        "id": "zkZtSQ-d0amO",
        "outputId": "33636419-789e-445a-d1ed-e18ed3f42899"
      },
      "execution_count": 41,
      "outputs": [
        {
          "output_type": "display_data",
          "data": {
            "text/plain": [
              "<IPython.core.display.Javascript object>"
            ],
            "application/javascript": [
              "\n",
              "    async function download(id, filename, size) {\n",
              "      if (!google.colab.kernel.accessAllowed) {\n",
              "        return;\n",
              "      }\n",
              "      const div = document.createElement('div');\n",
              "      const label = document.createElement('label');\n",
              "      label.textContent = `Downloading \"${filename}\": `;\n",
              "      div.appendChild(label);\n",
              "      const progress = document.createElement('progress');\n",
              "      progress.max = size;\n",
              "      div.appendChild(progress);\n",
              "      document.body.appendChild(div);\n",
              "\n",
              "      const buffers = [];\n",
              "      let downloaded = 0;\n",
              "\n",
              "      const channel = await google.colab.kernel.comms.open(id);\n",
              "      // Send a message to notify the kernel that we're ready.\n",
              "      channel.send({})\n",
              "\n",
              "      for await (const message of channel.messages) {\n",
              "        // Send a message to notify the kernel that we're ready.\n",
              "        channel.send({})\n",
              "        if (message.buffers) {\n",
              "          for (const buffer of message.buffers) {\n",
              "            buffers.push(buffer);\n",
              "            downloaded += buffer.byteLength;\n",
              "            progress.value = downloaded;\n",
              "          }\n",
              "        }\n",
              "      }\n",
              "      const blob = new Blob(buffers, {type: 'application/binary'});\n",
              "      const a = document.createElement('a');\n",
              "      a.href = window.URL.createObjectURL(blob);\n",
              "      a.download = filename;\n",
              "      div.appendChild(a);\n",
              "      a.click();\n",
              "      div.remove();\n",
              "    }\n",
              "  "
            ]
          },
          "metadata": {}
        },
        {
          "output_type": "display_data",
          "data": {
            "text/plain": [
              "<IPython.core.display.Javascript object>"
            ],
            "application/javascript": [
              "download(\"download_f26627c6-cf58-4fd2-967c-a3539d715053\", \"Match_Winner_Cleaned.csv\", 619553)"
            ]
          },
          "metadata": {}
        },
        {
          "output_type": "display_data",
          "data": {
            "text/plain": [
              "<IPython.core.display.Javascript object>"
            ],
            "application/javascript": [
              "\n",
              "    async function download(id, filename, size) {\n",
              "      if (!google.colab.kernel.accessAllowed) {\n",
              "        return;\n",
              "      }\n",
              "      const div = document.createElement('div');\n",
              "      const label = document.createElement('label');\n",
              "      label.textContent = `Downloading \"${filename}\": `;\n",
              "      div.appendChild(label);\n",
              "      const progress = document.createElement('progress');\n",
              "      progress.max = size;\n",
              "      div.appendChild(progress);\n",
              "      document.body.appendChild(div);\n",
              "\n",
              "      const buffers = [];\n",
              "      let downloaded = 0;\n",
              "\n",
              "      const channel = await google.colab.kernel.comms.open(id);\n",
              "      // Send a message to notify the kernel that we're ready.\n",
              "      channel.send({})\n",
              "\n",
              "      for await (const message of channel.messages) {\n",
              "        // Send a message to notify the kernel that we're ready.\n",
              "        channel.send({})\n",
              "        if (message.buffers) {\n",
              "          for (const buffer of message.buffers) {\n",
              "            buffers.push(buffer);\n",
              "            downloaded += buffer.byteLength;\n",
              "            progress.value = downloaded;\n",
              "          }\n",
              "        }\n",
              "      }\n",
              "      const blob = new Blob(buffers, {type: 'application/binary'});\n",
              "      const a = document.createElement('a');\n",
              "      a.href = window.URL.createObjectURL(blob);\n",
              "      a.download = filename;\n",
              "      div.appendChild(a);\n",
              "      a.click();\n",
              "      div.remove();\n",
              "    }\n",
              "  "
            ]
          },
          "metadata": {}
        },
        {
          "output_type": "display_data",
          "data": {
            "text/plain": [
              "<IPython.core.display.Javascript object>"
            ],
            "application/javascript": [
              "download(\"download_e3763c22-9523-4337-a1b3-331fc48149fc\", \"Match_Winner_LabelEncoded.csv\", 444154)"
            ]
          },
          "metadata": {}
        },
        {
          "output_type": "display_data",
          "data": {
            "text/plain": [
              "<IPython.core.display.Javascript object>"
            ],
            "application/javascript": [
              "\n",
              "    async function download(id, filename, size) {\n",
              "      if (!google.colab.kernel.accessAllowed) {\n",
              "        return;\n",
              "      }\n",
              "      const div = document.createElement('div');\n",
              "      const label = document.createElement('label');\n",
              "      label.textContent = `Downloading \"${filename}\": `;\n",
              "      div.appendChild(label);\n",
              "      const progress = document.createElement('progress');\n",
              "      progress.max = size;\n",
              "      div.appendChild(progress);\n",
              "      document.body.appendChild(div);\n",
              "\n",
              "      const buffers = [];\n",
              "      let downloaded = 0;\n",
              "\n",
              "      const channel = await google.colab.kernel.comms.open(id);\n",
              "      // Send a message to notify the kernel that we're ready.\n",
              "      channel.send({})\n",
              "\n",
              "      for await (const message of channel.messages) {\n",
              "        // Send a message to notify the kernel that we're ready.\n",
              "        channel.send({})\n",
              "        if (message.buffers) {\n",
              "          for (const buffer of message.buffers) {\n",
              "            buffers.push(buffer);\n",
              "            downloaded += buffer.byteLength;\n",
              "            progress.value = downloaded;\n",
              "          }\n",
              "        }\n",
              "      }\n",
              "      const blob = new Blob(buffers, {type: 'application/binary'});\n",
              "      const a = document.createElement('a');\n",
              "      a.href = window.URL.createObjectURL(blob);\n",
              "      a.download = filename;\n",
              "      div.appendChild(a);\n",
              "      a.click();\n",
              "      div.remove();\n",
              "    }\n",
              "  "
            ]
          },
          "metadata": {}
        },
        {
          "output_type": "display_data",
          "data": {
            "text/plain": [
              "<IPython.core.display.Javascript object>"
            ],
            "application/javascript": [
              "download(\"download_6fc05af5-748b-4ad2-8a2c-d235fa2856db\", \"Match_Winner_OneHotEncoded.csv\", 7207233)"
            ]
          },
          "metadata": {}
        }
      ]
    },
    {
      "cell_type": "code",
      "source": [
        "# STEP 8: Compare Results\n",
        "print(\"\\nOriginal Shape:\", df_cleaned.shape)\n",
        "print(\"Label Encoded Shape:\", df_label_encoded.shape)\n",
        "print(\"One Hot Encoded Shape:\", df_onehot_encoded.shape)"
      ],
      "metadata": {
        "colab": {
          "base_uri": "https://localhost:8080/"
        },
        "id": "-WVHSx5Oq6RS",
        "outputId": "fc18a5cc-b601-47db-e77f-27cb6f4c7fb7"
      },
      "execution_count": 39,
      "outputs": [
        {
          "output_type": "stream",
          "name": "stdout",
          "text": [
            "\n",
            "Original Shape: (9380, 21)\n",
            "Label Encoded Shape: (9380, 21)\n",
            "One Hot Encoded Shape: (9380, 139)\n"
          ]
        }
      ]
    },
    {
      "cell_type": "code",
      "source": [
        "# STEP 9: Visualization\n",
        "plt.figure(figsize=(12,5))\n",
        "\n",
        "# Plot category counts before encoding\n",
        "plt.subplot(1,2,1)\n",
        "sns.countplot(x=df_cleaned['FullTimeResult'])\n",
        "plt.title(\"Original Categorical Distribution (FullTimeResult)\")\n",
        "\n",
        "# Plot label encoded distribution\n",
        "plt.subplot(1,2,2)\n",
        "sns.countplot(x=df_label_encoded['FullTimeResult'])\n",
        "plt.title(\"Label Encoded Distribution (FullTimeResult)\")\n",
        "\n",
        "plt.tight_layout()\n",
        "plt.show()\n",
        "\n",
        "# One-hot encoded columns heatmap (only first 50 rows to visualize)\n",
        "plt.figure(figsize=(14,6))\n",
        "sns.heatmap(df_onehot_encoded.iloc[:50, :10], cmap=\"coolwarm\", cbar=False)\n",
        "plt.title(\"One-Hot Encoded Sample Heatmap (first 10 columns)\")\n",
        "plt.show()"
      ],
      "metadata": {
        "colab": {
          "base_uri": "https://localhost:8080/",
          "height": 830
        },
        "id": "6bdIVF7Cy51M",
        "outputId": "b7e47c84-6a86-4d3d-dd5b-74be22bdb22e"
      },
      "execution_count": 40,
      "outputs": [
        {
          "output_type": "display_data",
          "data": {
            "text/plain": [
              "<Figure size 1200x500 with 2 Axes>"
            ],
            "image/png": "[encoded data removed]"
          },
          "metadata": {}
        },
        {
          "output_type": "display_data",
          "data": {
            "text/plain": [
              "<Figure size 1400x600 with 1 Axes>"
            ],
            "image/png": "[encoded data removed]"
          },
          "metadata": {}
        }
      ]
    }
  ]
}