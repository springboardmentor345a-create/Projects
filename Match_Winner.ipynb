{
 "cells": [
  {
   "cell_type": "code",
   "execution_count": 44,
   "id": "37e03d47-fbec-4ddb-a573-c3b5d292afd9",
   "metadata": {},
   "outputs": [],
   "source": [
    "import pandas as pd\n",
    "import numpy as np\n",
    "import seaborn as sns\n",
    "import matplotlib.pyplot as plt\n",
    "from sklearn.preprocessing import LabelEncoder\n",
    "from sklearn.model_selection import train_test_split\n",
    "from sklearn.ensemble import RandomForestClassifier\n",
    "from sklearn.metrics import accuracy_score, classification_report, confusion_matrix"
   ]
  },
  {
   "cell_type": "code",
   "execution_count": 23,
   "id": "9b8e342b-59ff-48bf-b1b7-a9de266c2c7c",
   "metadata": {},
   "outputs": [
    {
     "data": {
      "text/html": [
       "<div>\n",
       "<style scoped>\n",
       "    .dataframe tbody tr th:only-of-type {\n",
       "        vertical-align: middle;\n",
       "    }\n",
       "\n",
       "    .dataframe tbody tr th {\n",
       "        vertical-align: top;\n",
       "    }\n",
       "\n",
       "    .dataframe thead th {\n",
       "        text-align: right;\n",
       "    }\n",
       "</style>\n",
       "<table border=\"1\" class=\"dataframe\">\n",
       "  <thead>\n",
       "    <tr style=\"text-align: right;\">\n",
       "      <th></th>\n",
       "      <th>Season</th>\n",
       "      <th>MatchDate</th>\n",
       "      <th>HomeTeam</th>\n",
       "      <th>AwayTeam</th>\n",
       "      <th>FullTimeHomeGoals</th>\n",
       "      <th>FullTimeAwayGoals</th>\n",
       "      <th>FullTimeResult</th>\n",
       "      <th>HalfTimeHomeGoals</th>\n",
       "      <th>HalfTimeAwayGoals</th>\n",
       "      <th>HalfTimeResult</th>\n",
       "      <th>...</th>\n",
       "      <th>HomeShotsOnTarget</th>\n",
       "      <th>AwayShotsOnTarget</th>\n",
       "      <th>HomeCorners</th>\n",
       "      <th>AwayCorners</th>\n",
       "      <th>HomeFouls</th>\n",
       "      <th>AwayFouls</th>\n",
       "      <th>HomeYellowCards</th>\n",
       "      <th>AwayYellowCards</th>\n",
       "      <th>HomeRedCards</th>\n",
       "      <th>AwayRedCards</th>\n",
       "    </tr>\n",
       "  </thead>\n",
       "  <tbody>\n",
       "    <tr>\n",
       "      <th>0</th>\n",
       "      <td>2000/01</td>\n",
       "      <td>2000-08-19</td>\n",
       "      <td>Charlton</td>\n",
       "      <td>Man City</td>\n",
       "      <td>4</td>\n",
       "      <td>0</td>\n",
       "      <td>H</td>\n",
       "      <td>2</td>\n",
       "      <td>0</td>\n",
       "      <td>H</td>\n",
       "      <td>...</td>\n",
       "      <td>14</td>\n",
       "      <td>4</td>\n",
       "      <td>6</td>\n",
       "      <td>6</td>\n",
       "      <td>13</td>\n",
       "      <td>12</td>\n",
       "      <td>1</td>\n",
       "      <td>2</td>\n",
       "      <td>0</td>\n",
       "      <td>0</td>\n",
       "    </tr>\n",
       "    <tr>\n",
       "      <th>1</th>\n",
       "      <td>2000/01</td>\n",
       "      <td>2000-08-19</td>\n",
       "      <td>Chelsea</td>\n",
       "      <td>West Ham</td>\n",
       "      <td>4</td>\n",
       "      <td>2</td>\n",
       "      <td>H</td>\n",
       "      <td>1</td>\n",
       "      <td>0</td>\n",
       "      <td>H</td>\n",
       "      <td>...</td>\n",
       "      <td>10</td>\n",
       "      <td>5</td>\n",
       "      <td>7</td>\n",
       "      <td>7</td>\n",
       "      <td>19</td>\n",
       "      <td>14</td>\n",
       "      <td>1</td>\n",
       "      <td>2</td>\n",
       "      <td>0</td>\n",
       "      <td>0</td>\n",
       "    </tr>\n",
       "    <tr>\n",
       "      <th>2</th>\n",
       "      <td>2000/01</td>\n",
       "      <td>2000-08-19</td>\n",
       "      <td>Coventry</td>\n",
       "      <td>Middlesbrough</td>\n",
       "      <td>1</td>\n",
       "      <td>3</td>\n",
       "      <td>A</td>\n",
       "      <td>1</td>\n",
       "      <td>1</td>\n",
       "      <td>D</td>\n",
       "      <td>...</td>\n",
       "      <td>3</td>\n",
       "      <td>9</td>\n",
       "      <td>8</td>\n",
       "      <td>4</td>\n",
       "      <td>15</td>\n",
       "      <td>21</td>\n",
       "      <td>5</td>\n",
       "      <td>3</td>\n",
       "      <td>1</td>\n",
       "      <td>0</td>\n",
       "    </tr>\n",
       "    <tr>\n",
       "      <th>3</th>\n",
       "      <td>2000/01</td>\n",
       "      <td>2000-08-19</td>\n",
       "      <td>Derby</td>\n",
       "      <td>Southampton</td>\n",
       "      <td>2</td>\n",
       "      <td>2</td>\n",
       "      <td>D</td>\n",
       "      <td>1</td>\n",
       "      <td>2</td>\n",
       "      <td>A</td>\n",
       "      <td>...</td>\n",
       "      <td>4</td>\n",
       "      <td>6</td>\n",
       "      <td>5</td>\n",
       "      <td>8</td>\n",
       "      <td>11</td>\n",
       "      <td>13</td>\n",
       "      <td>1</td>\n",
       "      <td>1</td>\n",
       "      <td>0</td>\n",
       "      <td>0</td>\n",
       "    </tr>\n",
       "    <tr>\n",
       "      <th>4</th>\n",
       "      <td>2000/01</td>\n",
       "      <td>2000-08-19</td>\n",
       "      <td>Leeds</td>\n",
       "      <td>Everton</td>\n",
       "      <td>2</td>\n",
       "      <td>0</td>\n",
       "      <td>H</td>\n",
       "      <td>2</td>\n",
       "      <td>0</td>\n",
       "      <td>H</td>\n",
       "      <td>...</td>\n",
       "      <td>8</td>\n",
       "      <td>6</td>\n",
       "      <td>6</td>\n",
       "      <td>4</td>\n",
       "      <td>21</td>\n",
       "      <td>20</td>\n",
       "      <td>1</td>\n",
       "      <td>3</td>\n",
       "      <td>0</td>\n",
       "      <td>0</td>\n",
       "    </tr>\n",
       "  </tbody>\n",
       "</table>\n",
       "<p>5 rows × 22 columns</p>\n",
       "</div>"
      ],
      "text/plain": [
       "    Season   MatchDate  HomeTeam       AwayTeam  FullTimeHomeGoals  \\\n",
       "0  2000/01  2000-08-19  Charlton       Man City                  4   \n",
       "1  2000/01  2000-08-19   Chelsea       West Ham                  4   \n",
       "2  2000/01  2000-08-19  Coventry  Middlesbrough                  1   \n",
       "3  2000/01  2000-08-19     Derby    Southampton                  2   \n",
       "4  2000/01  2000-08-19     Leeds        Everton                  2   \n",
       "\n",
       "   FullTimeAwayGoals FullTimeResult  HalfTimeHomeGoals  HalfTimeAwayGoals  \\\n",
       "0                  0              H                  2                  0   \n",
       "1                  2              H                  1                  0   \n",
       "2                  3              A                  1                  1   \n",
       "3                  2              D                  1                  2   \n",
       "4                  0              H                  2                  0   \n",
       "\n",
       "  HalfTimeResult  ...  HomeShotsOnTarget  AwayShotsOnTarget  HomeCorners  \\\n",
       "0              H  ...                 14                  4            6   \n",
       "1              H  ...                 10                  5            7   \n",
       "2              D  ...                  3                  9            8   \n",
       "3              A  ...                  4                  6            5   \n",
       "4              H  ...                  8                  6            6   \n",
       "\n",
       "   AwayCorners  HomeFouls  AwayFouls  HomeYellowCards  AwayYellowCards  \\\n",
       "0            6         13         12                1                2   \n",
       "1            7         19         14                1                2   \n",
       "2            4         15         21                5                3   \n",
       "3            8         11         13                1                1   \n",
       "4            4         21         20                1                3   \n",
       "\n",
       "   HomeRedCards  AwayRedCards  \n",
       "0             0             0  \n",
       "1             0             0  \n",
       "2             1             0  \n",
       "3             0             0  \n",
       "4             0             0  \n",
       "\n",
       "[5 rows x 22 columns]"
      ]
     },
     "execution_count": 23,
     "metadata": {},
     "output_type": "execute_result"
    }
   ],
   "source": [
    "# Reading the dataset\n",
    "df = pd.read_csv(\"Match Winner.csv\")\n",
    "\n",
    "# Display the first 5 rows and 22 columns of the dataset\n",
    "df.head()"
   ]
  },
  {
   "cell_type": "code",
   "execution_count": 4,
   "id": "9d865fbc-12a7-48e2-8b43-33f4a7b46e7f",
   "metadata": {},
   "outputs": [
    {
     "data": {
      "text/plain": [
       "Index(['Season', 'MatchDate', 'HomeTeam', 'AwayTeam', 'FullTimeHomeGoals',\n",
       "       'FullTimeAwayGoals', 'FullTimeResult', 'HalfTimeHomeGoals',\n",
       "       'HalfTimeAwayGoals', 'HalfTimeResult', 'HomeShots', 'AwayShots',\n",
       "       'HomeShotsOnTarget', 'AwayShotsOnTarget', 'HomeCorners', 'AwayCorners',\n",
       "       'HomeFouls', 'AwayFouls', 'HomeYellowCards', 'AwayYellowCards',\n",
       "       'HomeRedCards', 'AwayRedCards'],\n",
       "      dtype='object')"
      ]
     },
     "execution_count": 4,
     "metadata": {},
     "output_type": "execute_result"
    }
   ],
   "source": [
    "# Display the first 5 rows of the dataset\n",
    "df.columns"
   ]
  },
  {
   "cell_type": "code",
   "execution_count": 5,
   "id": "d04638d7-3899-4414-b2b6-eee780d0be03",
   "metadata": {},
   "outputs": [
    {
     "data": {
      "text/plain": [
       "<bound method NDFrame.describe of        Season   MatchDate        HomeTeam       AwayTeam  FullTimeHomeGoals  \\\n",
       "0     2000/01  2000-08-19        Charlton       Man City                  4   \n",
       "1     2000/01  2000-08-19         Chelsea       West Ham                  4   \n",
       "2     2000/01  2000-08-19        Coventry  Middlesbrough                  1   \n",
       "3     2000/01  2000-08-19           Derby    Southampton                  2   \n",
       "4     2000/01  2000-08-19           Leeds        Everton                  2   \n",
       "...       ...         ...             ...            ...                ...   \n",
       "9375  2024/25  2025-05-04       Brentford     Man United                  4   \n",
       "9376  2024/25  2025-05-04        Brighton      Newcastle                  1   \n",
       "9377  2024/25  2025-05-04        West Ham      Tottenham                  1   \n",
       "9378  2024/25  2025-05-04         Chelsea      Liverpool                  3   \n",
       "9379  2024/25  2025-05-05  Crystal Palace  Nott'm Forest                  1   \n",
       "\n",
       "      FullTimeAwayGoals FullTimeResult  HalfTimeHomeGoals  HalfTimeAwayGoals  \\\n",
       "0                     0              H                  2                  0   \n",
       "1                     2              H                  1                  0   \n",
       "2                     3              A                  1                  1   \n",
       "3                     2              D                  1                  2   \n",
       "4                     0              H                  2                  0   \n",
       "...                 ...            ...                ...                ...   \n",
       "9375                  3              H                  2                  1   \n",
       "9376                  1              D                  1                  0   \n",
       "9377                  1              D                  1                  1   \n",
       "9378                  1              H                  1                  0   \n",
       "9379                  1              D                  0                  0   \n",
       "\n",
       "     HalfTimeResult  ...  HomeShotsOnTarget  AwayShotsOnTarget  HomeCorners  \\\n",
       "0                 H  ...                 14                  4            6   \n",
       "1                 H  ...                 10                  5            7   \n",
       "2                 D  ...                  3                  9            8   \n",
       "3                 A  ...                  4                  6            5   \n",
       "4                 H  ...                  8                  6            6   \n",
       "...             ...  ...                ...                ...          ...   \n",
       "9375              H  ...                  6                  5            7   \n",
       "9376              H  ...                  2                  5            1   \n",
       "9377              D  ...                  2                  2            1   \n",
       "9378              H  ...                  7                  2            3   \n",
       "9379              D  ...                  3                  4            7   \n",
       "\n",
       "      AwayCorners  HomeFouls  AwayFouls  HomeYellowCards  AwayYellowCards  \\\n",
       "0               6         13         12                1                2   \n",
       "1               7         19         14                1                2   \n",
       "2               4         15         21                5                3   \n",
       "3               8         11         13                1                1   \n",
       "4               4         21         20                1                3   \n",
       "...           ...        ...        ...              ...              ...   \n",
       "9375            4          8         10                0                2   \n",
       "9376            4         15         10                2                1   \n",
       "9377            3         18         15                2                2   \n",
       "9378            6         10         11                2                2   \n",
       "9379            4          9         15                3                8   \n",
       "\n",
       "      HomeRedCards  AwayRedCards  \n",
       "0                0             0  \n",
       "1                0             0  \n",
       "2                1             0  \n",
       "3                0             0  \n",
       "4                0             0  \n",
       "...            ...           ...  \n",
       "9375             0             0  \n",
       "9376             0             0  \n",
       "9377             0             0  \n",
       "9378             0             0  \n",
       "9379             0             0  \n",
       "\n",
       "[9380 rows x 22 columns]>"
      ]
     },
     "execution_count": 5,
     "metadata": {},
     "output_type": "execute_result"
    }
   ],
   "source": [
    "# summary statistics for numerical columns\n",
    "df.describe"
   ]
  },
  {
   "cell_type": "code",
   "execution_count": 6,
   "id": "85e8ba7c-c982-4e1e-ab97-4c55da11cfc7",
   "metadata": {},
   "outputs": [
    {
     "name": "stdout",
     "output_type": "stream",
     "text": [
      "<class 'pandas.core.frame.DataFrame'>\n",
      "RangeIndex: 9380 entries, 0 to 9379\n",
      "Data columns (total 22 columns):\n",
      " #   Column             Non-Null Count  Dtype \n",
      "---  ------             --------------  ----- \n",
      " 0   Season             9380 non-null   object\n",
      " 1   MatchDate          9380 non-null   object\n",
      " 2   HomeTeam           9380 non-null   object\n",
      " 3   AwayTeam           9380 non-null   object\n",
      " 4   FullTimeHomeGoals  9380 non-null   int64 \n",
      " 5   FullTimeAwayGoals  9380 non-null   int64 \n",
      " 6   FullTimeResult     9380 non-null   object\n",
      " 7   HalfTimeHomeGoals  9380 non-null   int64 \n",
      " 8   HalfTimeAwayGoals  9380 non-null   int64 \n",
      " 9   HalfTimeResult     9380 non-null   object\n",
      " 10  HomeShots          9380 non-null   int64 \n",
      " 11  AwayShots          9380 non-null   int64 \n",
      " 12  HomeShotsOnTarget  9380 non-null   int64 \n",
      " 13  AwayShotsOnTarget  9380 non-null   int64 \n",
      " 14  HomeCorners        9380 non-null   int64 \n",
      " 15  AwayCorners        9380 non-null   int64 \n",
      " 16  HomeFouls          9380 non-null   int64 \n",
      " 17  AwayFouls          9380 non-null   int64 \n",
      " 18  HomeYellowCards    9380 non-null   int64 \n",
      " 19  AwayYellowCards    9380 non-null   int64 \n",
      " 20  HomeRedCards       9380 non-null   int64 \n",
      " 21  AwayRedCards       9380 non-null   int64 \n",
      "dtypes: int64(16), object(6)\n",
      "memory usage: 1.6+ MB\n"
     ]
    }
   ],
   "source": [
    "df.info()"
   ]
  },
  {
   "cell_type": "code",
   "execution_count": 7,
   "id": "08c2be59-4b95-4e61-bb1d-2ec5865b8583",
   "metadata": {},
   "outputs": [
    {
     "data": {
      "text/plain": [
       "Season               0\n",
       "MatchDate            0\n",
       "HomeTeam             0\n",
       "AwayTeam             0\n",
       "FullTimeHomeGoals    0\n",
       "FullTimeAwayGoals    0\n",
       "FullTimeResult       0\n",
       "HalfTimeHomeGoals    0\n",
       "HalfTimeAwayGoals    0\n",
       "HalfTimeResult       0\n",
       "HomeShots            0\n",
       "AwayShots            0\n",
       "HomeShotsOnTarget    0\n",
       "AwayShotsOnTarget    0\n",
       "HomeCorners          0\n",
       "AwayCorners          0\n",
       "HomeFouls            0\n",
       "AwayFouls            0\n",
       "HomeYellowCards      0\n",
       "AwayYellowCards      0\n",
       "HomeRedCards         0\n",
       "AwayRedCards         0\n",
       "dtype: int64"
      ]
     },
     "execution_count": 7,
     "metadata": {},
     "output_type": "execute_result"
    }
   ],
   "source": [
    "# Checking null values in each column\n",
    "df.isnull().sum()"
   ]
  },
  {
   "cell_type": "code",
   "execution_count": 8,
   "id": "d62ea2ca-bd87-49ab-81bd-0b9e25afe004",
   "metadata": {},
   "outputs": [],
   "source": [
    "# Dropping unnecessary columns that are not required for the analysis\n",
    "df=df.drop(['Season', 'MatchDate','FullTimeHomeGoals','FullTimeAwayGoals','HomeShots','AwayShots','HomeShotsOnTarget','AwayShotsOnTarget','HomeCorners','AwayCorners',\n",
    "       'HomeFouls','AwayFouls','HomeYellowCards','AwayYellowCards','HomeRedCards','AwayRedCards'],axis=1)"
   ]
  },
  {
   "cell_type": "code",
   "execution_count": 9,
   "id": "07c9a0fe-1dc1-4904-b120-65db9bb899b7",
   "metadata": {},
   "outputs": [
    {
     "name": "stdout",
     "output_type": "stream",
     "text": [
      "Index(['HomeTeam', 'AwayTeam', 'FullTimeResult', 'HalfTimeHomeGoals',\n",
      "       'HalfTimeAwayGoals', 'HalfTimeResult'],\n",
      "      dtype='object')\n"
     ]
    }
   ],
   "source": [
    "# Printing remaining columns\n",
    "print(df.columns)\n"
   ]
  },
  {
   "cell_type": "code",
   "execution_count": 10,
   "id": "fbc3a027-4299-413b-a94e-2dd89f1cf7e6",
   "metadata": {},
   "outputs": [
    {
     "name": "stdout",
     "output_type": "stream",
     "text": [
      "HomeTeam             0\n",
      "AwayTeam             0\n",
      "FullTimeResult       0\n",
      "HalfTimeHomeGoals    0\n",
      "HalfTimeAwayGoals    0\n",
      "HalfTimeResult       0\n",
      "dtype: int64\n"
     ]
    }
   ],
   "source": [
    "#Check again for missing values after dropping columns\n",
    "print(df.isnull().sum())"
   ]
  },
  {
   "cell_type": "code",
   "execution_count": 11,
   "id": "94c20532-68c6-462f-85df-93d0692a0d52",
   "metadata": {},
   "outputs": [
    {
     "name": "stdout",
     "output_type": "stream",
     "text": [
      "2704\n"
     ]
    }
   ],
   "source": [
    "# Count the number of duplicate rows in the dataset\n",
    "print(df.duplicated().sum())"
   ]
  },
  {
   "cell_type": "code",
   "execution_count": 12,
   "id": "d831000e-8c71-402e-a6eb-d586654ae558",
   "metadata": {},
   "outputs": [],
   "source": [
    "# Remove duplicate rows from the dataset\n",
    "df = df.drop_duplicates()"
   ]
  },
  {
   "cell_type": "code",
   "execution_count": 13,
   "id": "85193aac-c002-4140-8283-eb81fc2974c9",
   "metadata": {},
   "outputs": [
    {
     "name": "stdout",
     "output_type": "stream",
     "text": [
      "0\n"
     ]
    }
   ],
   "source": [
    "# no duplicate rows left\n",
    "print(df.duplicated().sum())"
   ]
  },
  {
   "cell_type": "code",
   "execution_count": 22,
   "id": "bd4cfe5d-565e-44df-add1-a1e793d6bcf4",
   "metadata": {},
   "outputs": [
    {
     "data": {
      "text/html": [
       "<div>\n",
       "<style scoped>\n",
       "    .dataframe tbody tr th:only-of-type {\n",
       "        vertical-align: middle;\n",
       "    }\n",
       "\n",
       "    .dataframe tbody tr th {\n",
       "        vertical-align: top;\n",
       "    }\n",
       "\n",
       "    .dataframe thead th {\n",
       "        text-align: right;\n",
       "    }\n",
       "</style>\n",
       "<table border=\"1\" class=\"dataframe\">\n",
       "  <thead>\n",
       "    <tr style=\"text-align: right;\">\n",
       "      <th></th>\n",
       "      <th>HomeTeam</th>\n",
       "      <th>AwayTeam</th>\n",
       "      <th>FullTimeResult</th>\n",
       "      <th>HalfTimeHomeGoals</th>\n",
       "      <th>HalfTimeAwayGoals</th>\n",
       "      <th>HalfTimeResult</th>\n",
       "    </tr>\n",
       "  </thead>\n",
       "  <tbody>\n",
       "    <tr>\n",
       "      <th>0</th>\n",
       "      <td>Charlton</td>\n",
       "      <td>Man City</td>\n",
       "      <td>H</td>\n",
       "      <td>2</td>\n",
       "      <td>0</td>\n",
       "      <td>H</td>\n",
       "    </tr>\n",
       "    <tr>\n",
       "      <th>1</th>\n",
       "      <td>Chelsea</td>\n",
       "      <td>West Ham</td>\n",
       "      <td>H</td>\n",
       "      <td>1</td>\n",
       "      <td>0</td>\n",
       "      <td>H</td>\n",
       "    </tr>\n",
       "    <tr>\n",
       "      <th>2</th>\n",
       "      <td>Coventry</td>\n",
       "      <td>Middlesbrough</td>\n",
       "      <td>A</td>\n",
       "      <td>1</td>\n",
       "      <td>1</td>\n",
       "      <td>D</td>\n",
       "    </tr>\n",
       "    <tr>\n",
       "      <th>3</th>\n",
       "      <td>Derby</td>\n",
       "      <td>Southampton</td>\n",
       "      <td>D</td>\n",
       "      <td>1</td>\n",
       "      <td>2</td>\n",
       "      <td>A</td>\n",
       "    </tr>\n",
       "    <tr>\n",
       "      <th>4</th>\n",
       "      <td>Leeds</td>\n",
       "      <td>Everton</td>\n",
       "      <td>H</td>\n",
       "      <td>2</td>\n",
       "      <td>0</td>\n",
       "      <td>H</td>\n",
       "    </tr>\n",
       "  </tbody>\n",
       "</table>\n",
       "</div>"
      ],
      "text/plain": [
       "   HomeTeam       AwayTeam FullTimeResult  HalfTimeHomeGoals  \\\n",
       "0  Charlton       Man City              H                  2   \n",
       "1   Chelsea       West Ham              H                  1   \n",
       "2  Coventry  Middlesbrough              A                  1   \n",
       "3     Derby    Southampton              D                  1   \n",
       "4     Leeds        Everton              H                  2   \n",
       "\n",
       "   HalfTimeAwayGoals HalfTimeResult  \n",
       "0                  0              H  \n",
       "1                  0              H  \n",
       "2                  1              D  \n",
       "3                  2              A  \n",
       "4                  0              H  "
      ]
     },
     "execution_count": 22,
     "metadata": {},
     "output_type": "execute_result"
    }
   ],
   "source": [
    "df.head()"
   ]
  },
  {
   "cell_type": "code",
   "execution_count": 21,
   "id": "459e1e12-2d18-4947-8ea9-2692f348aca3",
   "metadata": {},
   "outputs": [
    {
     "data": {
      "image/png": "[encoded data removed]",
      "text/plain": [
       "<Figure size 500x500 with 2 Axes>"
      ]
     },
     "metadata": {},
     "output_type": "display_data"
    }
   ],
   "source": [
    "# Heatmap\n",
    "plt.figure(figsize=(5,5))\n",
    "sns.heatmap(corr, annot=True, cmap='viridis', center=0)\n",
    "plt.title(\"Correlation Heatmap - Match Winner Dataset\")\n",
    "plt.show()"
   ]
  },
  {
   "cell_type": "code",
   "execution_count": 3,
   "id": "af007102-a046-49d3-871d-8df174353d63",
   "metadata": {},
   "outputs": [
    {
     "name": "stdout",
     "output_type": "stream",
     "text": [
      "Label encoded target:\n",
      "  FullTimeResult  FullTimeResult_Encoded\n",
      "0              H                       2\n",
      "1              D                       1\n",
      "2              A                       0\n",
      "3              H                       2\n",
      "4              D                       1\n",
      "\n"
     ]
    }
   ],
   "source": [
    "\n",
    "df = pd.DataFrame(data)\n",
    "\n",
    "# --- Label encode the target column 'FullTimeResult' ---\n",
    "label_encoder = LabelEncoder()\n",
    "df['FullTimeResult_Encoded'] = label_encoder.fit_transform(df['FullTimeResult'])\n",
    "\n",
    "print(\"Label encoded target:\")\n",
    "print(df[['FullTimeResult', 'FullTimeResult_Encoded']])\n",
    "print()\n",
    "\n"
   ]
  },
  {
   "cell_type": "code",
   "execution_count": 6,
   "id": "f8cea340-099b-463c-a620-d46b5a3547c7",
   "metadata": {},
   "outputs": [
    {
     "name": "stdout",
     "output_type": "stream",
     "text": [
      "       A      D      H\n",
      "0  False  False   True\n",
      "1  False   True  False\n",
      "2   True  False  False\n",
      "3  False  False   True\n",
      "4  False   True  False\n"
     ]
    }
   ],
   "source": [
    "\n",
    "# Sample target column\n",
    "full_time_result = ['H', 'D', 'A', 'H', 'D']\n",
    "\n",
    "# Convert to DataFrame\n",
    "df = pd.DataFrame({'FullTimeResult': full_time_result})\n",
    "\n",
    "# One-hot encode target\n",
    "one_hot_target = pd.get_dummies(df['FullTimeResult'])\n",
    "\n",
    "print(one_hot_target)\n"
   ]
  },
  {
   "cell_type": "code",
   "execution_count": 29,
   "id": "01c927ea-dd9d-4383-b3a3-cd6176a2820e",
   "metadata": {},
   "outputs": [
    {
     "data": {
      "text/html": [
       "<div>\n",
       "<style scoped>\n",
       "    .dataframe tbody tr th:only-of-type {\n",
       "        vertical-align: middle;\n",
       "    }\n",
       "\n",
       "    .dataframe tbody tr th {\n",
       "        vertical-align: top;\n",
       "    }\n",
       "\n",
       "    .dataframe thead th {\n",
       "        text-align: right;\n",
       "    }\n",
       "</style>\n",
       "<table border=\"1\" class=\"dataframe\">\n",
       "  <thead>\n",
       "    <tr style=\"text-align: right;\">\n",
       "      <th></th>\n",
       "      <th>HomeTeam</th>\n",
       "      <th>AwayTeam</th>\n",
       "      <th>FullTimeResult</th>\n",
       "      <th>HalfTimeHomeGoals</th>\n",
       "      <th>HalfTimeAwayGoals</th>\n",
       "      <th>HalfTimeResult</th>\n",
       "    </tr>\n",
       "  </thead>\n",
       "  <tbody>\n",
       "    <tr>\n",
       "      <th>0</th>\n",
       "      <td>12</td>\n",
       "      <td>26</td>\n",
       "      <td>2</td>\n",
       "      <td>2</td>\n",
       "      <td>0</td>\n",
       "      <td>2</td>\n",
       "    </tr>\n",
       "    <tr>\n",
       "      <th>1</th>\n",
       "      <td>13</td>\n",
       "      <td>43</td>\n",
       "      <td>2</td>\n",
       "      <td>1</td>\n",
       "      <td>0</td>\n",
       "      <td>2</td>\n",
       "    </tr>\n",
       "    <tr>\n",
       "      <th>2</th>\n",
       "      <td>14</td>\n",
       "      <td>28</td>\n",
       "      <td>0</td>\n",
       "      <td>1</td>\n",
       "      <td>1</td>\n",
       "      <td>1</td>\n",
       "    </tr>\n",
       "    <tr>\n",
       "      <th>3</th>\n",
       "      <td>16</td>\n",
       "      <td>36</td>\n",
       "      <td>1</td>\n",
       "      <td>1</td>\n",
       "      <td>2</td>\n",
       "      <td>0</td>\n",
       "    </tr>\n",
       "    <tr>\n",
       "      <th>4</th>\n",
       "      <td>22</td>\n",
       "      <td>17</td>\n",
       "      <td>2</td>\n",
       "      <td>2</td>\n",
       "      <td>0</td>\n",
       "      <td>2</td>\n",
       "    </tr>\n",
       "  </tbody>\n",
       "</table>\n",
       "</div>"
      ],
      "text/plain": [
       "   HomeTeam  AwayTeam  FullTimeResult  HalfTimeHomeGoals  HalfTimeAwayGoals  \\\n",
       "0        12        26               2                  2                  0   \n",
       "1        13        43               2                  1                  0   \n",
       "2        14        28               0                  1                  1   \n",
       "3        16        36               1                  1                  2   \n",
       "4        22        17               2                  2                  0   \n",
       "\n",
       "   HalfTimeResult  \n",
       "0               2  \n",
       "1               2  \n",
       "2               1  \n",
       "3               0  \n",
       "4               2  "
      ]
     },
     "execution_count": 29,
     "metadata": {},
     "output_type": "execute_result"
    }
   ],
   "source": [
    "#display dataset\n",
    "df.head()"
   ]
  },
  {
   "cell_type": "code",
   "execution_count": 38,
   "id": "aa84d1a1-fe77-4a8e-a34b-e8bb134874de",
   "metadata": {},
   "outputs": [],
   "source": [
    "#Model Training\n",
    "# Define features (X) and target (Y)\n",
    "X = df.drop(\"FullTimeResult\", axis=1)   # all columns except target\n",
    "Y = df[\"FullTimeResult\"]                # target variable"
   ]
  },
  {
   "cell_type": "code",
   "execution_count": 36,
   "id": "7c5c525e-cc4e-47b9-9830-9643a224d0a9",
   "metadata": {},
   "outputs": [
    {
     "name": "stdout",
     "output_type": "stream",
     "text": [
      "      HomeTeam  AwayTeam  HalfTimeHomeGoals  HalfTimeAwayGoals  HalfTimeResult\n",
      "0           12        26                  2                  0               2\n",
      "1           13        43                  1                  0               2\n",
      "2           14        28                  1                  1               1\n",
      "3           16        36                  1                  2               0\n",
      "4           22        17                  2                  0               2\n",
      "...        ...       ...                ...                ...             ...\n",
      "9367         6        27                  1                  0               2\n",
      "9369        31         8                  0                  1               0\n",
      "9372        17        21                  2                  1               2\n",
      "9374         0         6                  1                  0               2\n",
      "9375         8        27                  2                  1               2\n",
      "\n",
      "[6676 rows x 5 columns]\n"
     ]
    }
   ],
   "source": [
    "print(X)"
   ]
  },
  {
   "cell_type": "code",
   "execution_count": 40,
   "id": "2d2b06cb-8aff-45f4-b7b5-93b89a87fb72",
   "metadata": {},
   "outputs": [
    {
     "name": "stdout",
     "output_type": "stream",
     "text": [
      "0       2\n",
      "1       2\n",
      "2       0\n",
      "3       1\n",
      "4       2\n",
      "       ..\n",
      "9367    1\n",
      "9369    0\n",
      "9372    1\n",
      "9374    0\n",
      "9375    2\n",
      "Name: FullTimeResult, Length: 6676, dtype: int64\n"
     ]
    }
   ],
   "source": [
    "\n",
    "print(Y)"
   ]
  },
  {
   "cell_type": "code",
   "execution_count": null,
   "id": "32844505-a77c-4b10-8575-2d75f39774c3",
   "metadata": {},
   "outputs": [],
   "source": []
  },
  {
   "cell_type": "code",
   "execution_count": 18,
   "id": "4f7a9d00-7687-49b7-a042-fc60775236db",
   "metadata": {},
   "outputs": [],
   "source": [
    "#Model Training\n",
    "# Define features (X) and target (Y)\n",
    "X = df.drop(\"FullTimeResult\", axis=1)   # all columns except target\n",
    "Y = df[\"FullTimeResult\"]                # target variable"
   ]
  },
  {
   "cell_type": "code",
   "execution_count": 35,
   "id": "e60c4003-e1ec-484a-9160-76ea42f75cf5",
   "metadata": {},
   "outputs": [],
   "source": [
    "# Split into train and test sets\n",
    "X_train, X_test, y_train, y_test = train_test_split(X, y, test_size=0.2, random_state=42)"
   ]
  },
  {
   "cell_type": "code",
   "execution_count": 37,
   "id": "94ab644b-07d5-4c87-8258-a08f472f90be",
   "metadata": {},
   "outputs": [
    {
     "name": "stdout",
     "output_type": "stream",
     "text": [
      "Train shape: (7504, 21)\n",
      "Test shape: (1876, 21)\n"
     ]
    }
   ],
   "source": [
    "print(\"Train shape:\", X_train.shape)\n",
    "print(\"Test shape:\", X_test.shape)"
   ]
  },
  {
   "cell_type": "code",
   "execution_count": 40,
   "id": "39ee71f4-2d30-46b6-b99f-78e7f53ab55b",
   "metadata": {},
   "outputs": [],
   "source": [
    "# Make predictions\n",
    "y_pred = model.predict(X_test)\n"
   ]
  },
  {
   "cell_type": "code",
   "execution_count": 45,
   "id": "247c5e0b-b75b-44de-8119-d101162f6bfe",
   "metadata": {},
   "outputs": [
    {
     "name": "stdout",
     "output_type": "stream",
     "text": [
      "Accuracy: 0.9952025586353944\n",
      "\n",
      "Classification Report:\n",
      "               precision    recall  f1-score   support\n",
      "\n",
      "           0       1.00      1.00      1.00       539\n",
      "           1       0.99      0.99      0.99       474\n",
      "           2       1.00      1.00      1.00       863\n",
      "\n",
      "    accuracy                           1.00      1876\n",
      "   macro avg       1.00      0.99      0.99      1876\n",
      "weighted avg       1.00      1.00      1.00      1876\n",
      "\n",
      "\n",
      "Confusion Matrix:\n",
      " [[539   0   0]\n",
      " [  2 468   4]\n",
      " [  0   3 860]]\n"
     ]
    }
   ],
   "source": [
    "# Evaluate performance\n",
    "print(\"Accuracy:\", accuracy_score(y_test, y_pred))\n",
    "print(\"\\nClassification Report:\\n\", classification_report(y_test, y_pred))\n",
    "print(\"\\nConfusion Matrix:\\n\", confusion_matrix(y_test, y_pred))\n"
   ]
  },
  {
   "cell_type": "code",
   "execution_count": 42,
   "id": "f20f7e66-6595-4fcc-8f1a-bfeb41674478",
   "metadata": {},
   "outputs": [
    {
     "data": {
      "image/png": "[encoded data removed]",
      "text/plain": [
       "<Figure size 600x500 with 2 Axes>"
      ]
     },
     "metadata": {},
     "output_type": "display_data"
    }
   ],
   "source": [
    "\n",
    "from sklearn.metrics import confusion_matrix, ConfusionMatrixDisplay\n",
    "\n",
    "\n",
    "# 📊 Plot using seaborn\n",
    "plt.figure(figsize=(6, 5))\n",
    "sns.heatmap(cm, annot=True, fmt='d', cmap='Blues', xticklabels=class_names, yticklabels=class_names)\n",
    "plt.xlabel('Predicted Label')\n",
    "plt.ylabel('True Label')\n",
    "plt.title('Confusion Matrix')\n",
    "plt.tight_layout()\n",
    "plt.show()\n"
   ]
  },
  {
   "cell_type": "code",
   "execution_count": null,
   "id": "bc91655a-0e27-42b8-8cf1-d9db303d9810",
   "metadata": {},
   "outputs": [],
   "source": []
  }
 ],
 "metadata": {
  "kernelspec": {
   "display_name": "Python 3 (ipykernel)",
   "language": "python",
   "name": "python3"
  },
  "language_info": {
   "codemirror_mode": {
    "name": "ipython",
    "version": 3
   },
   "file_extension": ".py",
   "mimetype": "text/x-python",
   "name": "python",
   "nbconvert_exporter": "python",
   "pygments_lexer": "ipython3",
   "version": "3.12.5"
  }
 },
 "nbformat": 4,
 "nbformat_minor": 5
}
