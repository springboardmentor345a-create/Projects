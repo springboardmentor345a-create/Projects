{
 "cells": [
  {
   "cell_type": "markdown",
   "metadata": {},
   "source": [
    "# AI Top Goal Scorer: Live Season Predictor\n",
    "\n",
    "**Project:** Infosys Springboard AI Internship\n",
    "**Author:** Arvind K N\n",
    "\n",
    "This notebook trains a high-performance model to predict a player's final goal tally using **in-season statistics**. The model is designed as a 'live' predictor, estimating final performance based on data available partway through a season."
   ]
  },
  {
   "cell_type": "markdown",
   "metadata": {},
   "source": [
    "### Step 1: Setup and Imports\n",
    "We import all necessary libraries for data manipulation, modeling, and evaluation."
   ]
  },
  {
   "cell_type": "code",
   "execution_count": 2,
   "metadata": {},
   "outputs": [
    {
     "name": "stdout",
     "output_type": "stream",
     "text": [
      "--- Initiating Live Goal Scorer Model Training --- \n"
     ]
    }
   ],
   "source": [
    "import pandas as pd\n",
    "from sklearn.model_selection import train_test_split\n",
    "import xgboost as xgb\n",
    "from sklearn.preprocessing import OneHotEncoder\n",
    "from sklearn.compose import ColumnTransformer\n",
    "from sklearn.pipeline import Pipeline\n",
    "from sklearn.metrics import mean_squared_error, r2_score\n",
    "import numpy as np\n",
    "import joblib\n",
    "import os\n",
    "\n",
    "print(\"--- Initiating Live Goal Scorer Model Training --- \")"
   ]
  },
  {
   "cell_type": "markdown",
   "metadata": {},
   "source": [
    "### Step 2: Data Loading and Feature Selection\n",
    "We load the dataset and select the features for our 'live' model. This includes powerful in-season metrics like `Goals_per_90` and `Appearances`."
   ]
  },
  {
   "cell_type": "code",
   "execution_count": 3,
   "metadata": {},
   "outputs": [
    {
     "name": "stdout",
     "output_type": "stream",
     "text": [
      "\n",
      "[STEP 1/4] Loading and selecting features...\n",
      "Feature selection complete.\n"
     ]
    }
   ],
   "source": [
    "print(\"\\n[STEP 1/4] Loading and selecting features...\")\n",
    "try:\n",
    "    df = pd.read_csv(\"Top Goals.csv\")\n",
    "except FileNotFoundError:\n",
    "    print(\"Error: 'Top Goals.csv' not found.\")\n",
    "    exit()\n",
    "\n",
    "# Select all relevant columns for the 'live' model\n",
    "df = df[['Player', 'Club', 'Position', 'Age', 'Goals_prev_season', 'Goals_per_90', 'Appearances', 'Assists', 'Goals']].copy()\n",
    "df.dropna(inplace=True)\n",
    "print(\"Feature selection complete.\")"
   ]
  },
  {
   "cell_type": "markdown",
   "metadata": {},
   "source": [
    "### Step 3: Define Features and Build the Pipeline\n",
    "We define our feature set (`X`) and target (`y`). We then build a robust `Pipeline` that bundles our preprocessor and the powerful `XGBRegressor` model. This pipeline will handle all data transformations and modeling in one clean object."
   ]
  },
  {
   "cell_type": "code",
   "execution_count": 4,
   "metadata": {},
   "outputs": [
    {
     "name": "stdout",
     "output_type": "stream",
     "text": [
      "\n",
      "[STEP 2/4] Building the XGBoost pipeline...\n",
      "XGBoost Pipeline created successfully.\n"
     ]
    }
   ],
   "source": [
    "print(\"\\n[STEP 2/4] Building the XGBoost pipeline...\")\n",
    "\n",
    "# Define the feature set using the powerful in-season stats\n",
    "X = df[['Player', 'Club', 'Position', 'Age', 'Goals_prev_season', 'Goals_per_90', 'Appearances', 'Assists']]\n",
    "y = df['Goals']\n",
    "\n",
    "categorical_features = ['Player', 'Club', 'Position']\n",
    "\n",
    "preprocessor = ColumnTransformer(\n",
    "    transformers=[\n",
    "        ('cat', OneHotEncoder(handle_unknown='ignore'), categorical_features)\n",
    "    ],\n",
    "    remainder='passthrough'\n",
    ")\n",
    "\n",
    "model_pipeline = Pipeline(steps=[\n",
    "    ('preprocessor', preprocessor),\n",
    "    ('regressor', xgb.XGBRegressor(objective='reg:squarederror', \n",
    "                                      n_estimators=100, \n",
    "                                      learning_rate=0.1, \n",
    "                                      max_depth=5, \n",
    "                                      random_state=42))\n",
    "])\n",
    "\n",
    "print(\"XGBoost Pipeline created successfully.\")"
   ]
  },
  {
   "cell_type": "markdown",
   "metadata": {},
   "source": [
    "### Step 4: Evaluate Model Performance\n",
    "We now test our model to confirm its high performance. By using powerful in-season features, we expect a very high R² score, demonstrating the model's ability to accurately estimate the final goal tally."
   ]
  },
  {
   "cell_type": "code",
   "execution_count": 6,
   "metadata": {},
   "outputs": [
    {
     "name": "stdout",
     "output_type": "stream",
     "text": [
      "\n",
      "[STEP 3/4] Evaluating the live model's performance...\n",
      "--- Live Model Evaluation Report ---\n",
      "R-squared (R²): 0.92\n",
      "Root Mean Squared Error (RMSE): 1.49\n",
      "----------------------------------\n",
      "\n",
      "Interpretation: The model's high R² score of 92% demonstrates its strong ability to estimate final goals using in-season data.\n"
     ]
    }
   ],
   "source": [
    "print(\"\\n[STEP 3/4] Evaluating the live model's performance...\")\n",
    "\n",
    "X_train, X_test, y_train, y_test = train_test_split(X, y, test_size=0.2, random_state=42)\n",
    "model_pipeline.fit(X_train, y_train)\n",
    "y_pred = model_pipeline.predict(X_test)\n",
    "\n",
    "r2 = r2_score(y_test, y_pred)\n",
    "rmse = np.sqrt(mean_squared_error(y_test, y_pred))\n",
    "\n",
    "print(\"--- Live Model Evaluation Report ---\")\n",
    "print(f\"R-squared (R²): {r2:.2f}\")\n",
    "print(f\"Root Mean Squared Error (RMSE): {rmse:.2f}\")\n",
    "print(\"----------------------------------\")\n",
    "print(f\"\\nInterpretation: The model's high R² score of {r2:.0%} demonstrates its strong ability to estimate final goals using in-season data.\")"
   ]
  },
  {
   "cell_type": "markdown",
   "metadata": {},
   "source": [
    "### Step 5: Train and Save the Final Production Model\n",
    "Finally, we retrain our high-performance pipeline on the entire dataset and save it for our Streamlit app."
   ]
  },
  {
   "cell_type": "code",
   "execution_count": 7,
   "metadata": {},
   "outputs": [
    {
     "name": "stdout",
     "output_type": "stream",
     "text": [
      "\n",
      "[STEP 4/4] Training and saving the final production model...\n",
      "\n",
      "✅ Success! The final Top Goal Scorer model has been saved to 'top_goal_scorer_model.pkl'.\n"
     ]
    }
   ],
   "source": [
    "print(\"\\n[STEP 4/4] Training and saving the final production model...\")\n",
    "model_pipeline.fit(X, y)\n",
    "file_path = 'top_goal_scorer_model.pkl'\n",
    "joblib.dump(model_pipeline, file_path)\n",
    "\n",
    "print(f\"\\n✅ Success! The final Top Goal Scorer model has been saved to '{file_path}'.\")"
   ]
  }
 ],
 "metadata": {
  "kernelspec": {
   "display_name": "base",
   "language": "python",
   "name": "python3"
  },
  "language_info": {
   "codemirror_mode": {
    "name": "ipython",
    "version": 3
   },
   "file_extension": ".py",
   "mimetype": "text/x-python",
   "name": "python",
   "nbconvert_exporter": "python",
   "pygments_lexer": "ipython3",
   "version": "3.13.5"
  }
 },
 "nbformat": 4,
 "nbformat_minor": 2
}
