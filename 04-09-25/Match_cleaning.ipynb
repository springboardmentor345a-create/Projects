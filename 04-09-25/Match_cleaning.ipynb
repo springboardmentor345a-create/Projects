{
 "cells": [
  {
   "cell_type": "code",
   "execution_count": 1,
   "id": "2e769f80-6852-408b-b434-27368ae58782",
   "metadata": {},
   "outputs": [],
   "source": [
    "import pandas as pd"
   ]
  },
  {
   "cell_type": "code",
   "execution_count": 2,
   "id": "8a8a6f49-858c-4434-8d25-af3631760143",
   "metadata": {},
   "outputs": [],
   "source": [
    "df = pd.read_csv(\"Match Winner.csv\")"
   ]
  },
  {
   "cell_type": "markdown",
   "id": "98a93823-e3ab-48ed-9091-5198467e6021",
   "metadata": {},
   "source": [
    "### Dropping unnecessary columns"
   ]
  },
  {
   "cell_type": "code",
   "execution_count": 3,
   "id": "704cc4ae-5fca-40ed-a08c-8fc24eefaa25",
   "metadata": {},
   "outputs": [
    {
     "name": "stdout",
     "output_type": "stream",
     "text": [
      "Index(['Season', 'MatchDate', 'HomeTeam', 'AwayTeam', 'FullTimeHomeGoals',\n",
      "       'FullTimeAwayGoals', 'FullTimeResult', 'HalfTimeHomeGoals',\n",
      "       'HalfTimeAwayGoals', 'HalfTimeResult', 'HomeShots', 'AwayShots',\n",
      "       'HomeShotsOnTarget', 'AwayShotsOnTarget', 'HomeCorners', 'AwayCorners',\n",
      "       'HomeFouls', 'AwayFouls', 'HomeYellowCards', 'AwayYellowCards',\n",
      "       'HomeRedCards', 'AwayRedCards'],\n",
      "      dtype='object')\n"
     ]
    }
   ],
   "source": [
    "print(df.columns)"
   ]
  },
  {
   "cell_type": "code",
   "execution_count": 4,
   "id": "4ed8cea5-ae36-4b17-95fb-a4ac28bbf937",
   "metadata": {},
   "outputs": [],
   "source": [
    "df=df.drop(['Season', 'MatchDate','HomeShots','AwayShots','HomeShotsOnTarget','AwayShotsOnTarget','HomeCorners','AwayCorners',\n",
    "       'HomeFouls','AwayFouls','HomeYellowCards','AwayYellowCards','HomeRedCards','AwayRedCards'],axis=1)"
   ]
  },
  {
   "cell_type": "code",
   "execution_count": 5,
   "id": "76ac0fc9-d791-4a45-8878-cb8e172cd88a",
   "metadata": {},
   "outputs": [
    {
     "name": "stdout",
     "output_type": "stream",
     "text": [
      "Index(['HomeTeam', 'AwayTeam', 'FullTimeHomeGoals', 'FullTimeAwayGoals',\n",
      "       'FullTimeResult', 'HalfTimeHomeGoals', 'HalfTimeAwayGoals',\n",
      "       'HalfTimeResult'],\n",
      "      dtype='object')\n"
     ]
    }
   ],
   "source": [
    "print(df.columns)"
   ]
  },
  {
   "cell_type": "markdown",
   "id": "7f9f57e6-dab9-4a67-934c-e9fba0ddafb2",
   "metadata": {},
   "source": [
    "### Check for null values"
   ]
  },
  {
   "cell_type": "code",
   "execution_count": 6,
   "id": "dc69e822-78b9-40fa-8a9c-c2a91337ca0b",
   "metadata": {},
   "outputs": [
    {
     "data": {
      "text/plain": [
       "HomeTeam             0\n",
       "AwayTeam             0\n",
       "FullTimeHomeGoals    0\n",
       "FullTimeAwayGoals    0\n",
       "FullTimeResult       0\n",
       "HalfTimeHomeGoals    0\n",
       "HalfTimeAwayGoals    0\n",
       "HalfTimeResult       0\n",
       "dtype: int64"
      ]
     },
     "execution_count": 6,
     "metadata": {},
     "output_type": "execute_result"
    }
   ],
   "source": [
    "df.isnull().sum()"
   ]
  },
  {
   "cell_type": "markdown",
   "id": "4e254a8f-d4f8-4a64-bc8e-e312fa32329b",
   "metadata": {},
   "source": [
    "### Check for duplicate values"
   ]
  },
  {
   "cell_type": "code",
   "execution_count": 11,
   "id": "4f6f4c3a-4a1c-4a87-b0ad-bde1fdad171f",
   "metadata": {},
   "outputs": [
    {
     "name": "stdout",
     "output_type": "stream",
     "text": [
      "0\n"
     ]
    }
   ],
   "source": [
    "print(df.duplicated().sum())"
   ]
  },
  {
   "cell_type": "code",
   "execution_count": 12,
   "id": "f2df7ddd-05f0-418a-ad93-c05b75ed3604",
   "metadata": {},
   "outputs": [],
   "source": [
    "df = df.drop_duplicates()"
   ]
  },
  {
   "cell_type": "code",
   "execution_count": 13,
   "id": "f85be792-bc1e-4cf1-a52b-6d989f346282",
   "metadata": {},
   "outputs": [
    {
     "name": "stdout",
     "output_type": "stream",
     "text": [
      "0\n"
     ]
    }
   ],
   "source": [
    "print(df.duplicated().sum())"
   ]
  },
  {
   "cell_type": "markdown",
   "id": "c52ab2a1-6cc5-4783-9a98-97a296136075",
   "metadata": {},
   "source": [
    "### Dataset has been cleaned, saving as csv file"
   ]
  },
  {
   "cell_type": "code",
   "execution_count": 15,
   "id": "6110890e-a852-4c31-bca5-46898335b721",
   "metadata": {},
   "outputs": [],
   "source": [
    "df.to_csv(\"Match_cleaned.csv\", index=False)"
   ]
  },
  {
   "cell_type": "code",
   "execution_count": null,
   "id": "7dd92553-984d-4a35-b98d-8f663eaaa182",
   "metadata": {},
   "outputs": [],
   "source": []
  }
 ],
 "metadata": {
  "kernelspec": {
   "display_name": "Python 3 (ipykernel)",
   "language": "python",
   "name": "python3"
  },
  "language_info": {
   "codemirror_mode": {
    "name": "ipython",
    "version": 3
   },
   "file_extension": ".py",
   "mimetype": "text/x-python",
   "name": "python",
   "nbconvert_exporter": "python",
   "pygments_lexer": "ipython3",
   "version": "3.13.3"
  }
 },
 "nbformat": 4,
 "nbformat_minor": 5
}
