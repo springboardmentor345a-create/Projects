{
 "cells": [
  {
   "cell_type": "code",
   "execution_count": 1,
   "id": "dcec5c92-048a-4438-83a7-a2d7a7bf3d2a",
   "metadata": {},
   "outputs": [],
   "source": [
    "import pandas as pd"
   ]
  },
  {
   "cell_type": "code",
   "execution_count": 2,
   "id": "71ff3144-dfd4-49a1-8eb0-5b08fa2d1b12",
   "metadata": {},
   "outputs": [],
   "source": [
    "df = pd.read_csv(\"Points.csv\")"
   ]
  },
  {
   "cell_type": "markdown",
   "id": "f9baff79-96f3-4fff-8774-1aaa77505595",
   "metadata": {},
   "source": [
    "### Dropping unnecessary columns"
   ]
  },
  {
   "cell_type": "code",
   "execution_count": 3,
   "id": "eef369c4-23df-4b90-a2b1-eb264aafd39c",
   "metadata": {},
   "outputs": [
    {
     "name": "stdout",
     "output_type": "stream",
     "text": [
      "Index(['season_end_year', 'team', 'position', 'played', 'won', 'drawn', 'lost',\n",
      "       'gf', 'ga', 'gd', 'points', 'notes'],\n",
      "      dtype='object')\n"
     ]
    }
   ],
   "source": [
    "print(df.columns)"
   ]
  },
  {
   "cell_type": "code",
   "execution_count": 4,
   "id": "803624b0-d59f-4193-960b-2dc815dbae4c",
   "metadata": {},
   "outputs": [],
   "source": [
    "df = df.drop(['season_end_year', 'position', 'played', 'won', 'drawn', 'lost', 'notes'], axis = 1)"
   ]
  },
  {
   "cell_type": "code",
   "execution_count": 5,
   "id": "e37a9a1e-1e6e-4369-aab7-9da143b8c3fb",
   "metadata": {},
   "outputs": [
    {
     "name": "stdout",
     "output_type": "stream",
     "text": [
      "Index(['team', 'gf', 'ga', 'gd', 'points'], dtype='object')\n"
     ]
    }
   ],
   "source": [
    "print(df.columns)"
   ]
  },
  {
   "cell_type": "markdown",
   "id": "e344453a-bc1e-446b-b300-d47c60d9d8ba",
   "metadata": {},
   "source": [
    "### Check for null values"
   ]
  },
  {
   "cell_type": "code",
   "execution_count": 6,
   "id": "78c8d75a-c25a-4341-a2a4-2a5422c9d778",
   "metadata": {},
   "outputs": [
    {
     "name": "stdout",
     "output_type": "stream",
     "text": [
      "team      0\n",
      "gf        0\n",
      "ga        0\n",
      "gd        0\n",
      "points    0\n",
      "dtype: int64\n"
     ]
    }
   ],
   "source": [
    "print(df.isnull().sum())"
   ]
  },
  {
   "cell_type": "markdown",
   "id": "261b4b46-f516-46fe-a34f-9e261107516f",
   "metadata": {},
   "source": [
    "### Check for duplicate values"
   ]
  },
  {
   "cell_type": "code",
   "execution_count": 7,
   "id": "eba7f745-5d76-46d1-b874-713c43a3e9e4",
   "metadata": {},
   "outputs": [
    {
     "name": "stdout",
     "output_type": "stream",
     "text": [
      "0\n"
     ]
    }
   ],
   "source": [
    "print(df.duplicated().sum())"
   ]
  },
  {
   "cell_type": "markdown",
   "id": "862b3c23-7d62-4fd8-881e-cc6a728739ad",
   "metadata": {},
   "source": [
    "### Dataset has been cleaned, saving as a csv file"
   ]
  },
  {
   "cell_type": "code",
   "execution_count": 8,
   "id": "3401cde8-c662-4f99-969b-6b40c1d06844",
   "metadata": {},
   "outputs": [],
   "source": [
    "df.to_csv(\"Points_cleaned.csv\", index = False)"
   ]
  }
 ],
 "metadata": {
  "kernelspec": {
   "display_name": "Python 3 (ipykernel)",
   "language": "python",
   "name": "python3"
  },
  "language_info": {
   "codemirror_mode": {
    "name": "ipython",
    "version": 3
   },
   "file_extension": ".py",
   "mimetype": "text/x-python",
   "name": "python",
   "nbconvert_exporter": "python",
   "pygments_lexer": "ipython3",
   "version": "3.13.3"
  }
 },
 "nbformat": 4,
 "nbformat_minor": 5
}
