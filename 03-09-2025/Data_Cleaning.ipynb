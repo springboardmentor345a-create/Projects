{
 "cells": [
  {
   "cell_type": "code",
   "execution_count": 2,
   "id": "f6fba0a9-126a-4ff0-b8af-01ad21eb8d69",
   "metadata": {},
   "outputs": [],
   "source": [
    "import pandas as pd"
   ]
  },
  {
   "cell_type": "code",
   "execution_count": 3,
   "id": "bdc95149-375d-473c-be1c-cc1fd1ecc4ea",
   "metadata": {},
   "outputs": [],
   "source": [
    "df=pd.read_csv(\"epl_final.csv\")"
   ]
  },
  {
   "cell_type": "code",
   "execution_count": 4,
   "id": "fb125d4a-9fc6-49bd-9bd7-5e78cee52923",
   "metadata": {},
   "outputs": [
    {
     "name": "stdout",
     "output_type": "stream",
     "text": [
      "Index(['Season', 'MatchDate', 'HomeTeam', 'AwayTeam', 'FullTimeHomeGoals',\n",
      "       'FullTimeAwayGoals', 'FullTimeResult', 'HalfTimeHomeGoals',\n",
      "       'HalfTimeAwayGoals', 'HalfTimeResult', 'HomeShots', 'AwayShots',\n",
      "       'HomeShotsOnTarget', 'AwayShotsOnTarget', 'HomeCorners', 'AwayCorners',\n",
      "       'HomeFouls', 'AwayFouls', 'HomeYellowCards', 'AwayYellowCards',\n",
      "       'HomeRedCards', 'AwayRedCards'],\n",
      "      dtype='object')\n"
     ]
    }
   ],
   "source": [
    "print(df.columns)"
   ]
  },
  {
   "cell_type": "code",
   "execution_count": 5,
   "id": "2e8a1858-5cfa-4979-bbb1-a404658b2be6",
   "metadata": {},
   "outputs": [],
   "source": [
    "df=df.drop(['Season', 'MatchDate','FullTimeHomeGoals','FullTimeAwayGoals','HomeShots','AwayShots','HomeShotsOnTarget','AwayShotsOnTarget','HomeCorners','AwayCorners',\n",
    "       'HomeFouls','AwayFouls','HomeYellowCards','AwayYellowCards','HomeRedCards','AwayRedCards'],axis=1)"
   ]
  },
  {
   "cell_type": "code",
   "execution_count": 6,
   "id": "7c42aefd-d40d-4f3d-92a9-f2c31cbf5ec6",
   "metadata": {},
   "outputs": [
    {
     "name": "stdout",
     "output_type": "stream",
     "text": [
      "Index(['HomeTeam', 'AwayTeam', 'FullTimeResult', 'HalfTimeHomeGoals',\n",
      "       'HalfTimeAwayGoals', 'HalfTimeResult'],\n",
      "      dtype='object')\n"
     ]
    }
   ],
   "source": [
    "print(df.columns)"
   ]
  },
  {
   "cell_type": "code",
   "execution_count": 7,
   "id": "9253d9f6-f227-4e13-8b98-1f9b04938ead",
   "metadata": {},
   "outputs": [
    {
     "name": "stdout",
     "output_type": "stream",
     "text": [
      "HomeTeam             0\n",
      "AwayTeam             0\n",
      "FullTimeResult       0\n",
      "HalfTimeHomeGoals    0\n",
      "HalfTimeAwayGoals    0\n",
      "HalfTimeResult       0\n",
      "dtype: int64\n",
      "2704\n"
     ]
    }
   ],
   "source": [
    "print(df.isnull().sum())\n",
    "print(df.duplicated().sum())"
   ]
  },
  {
   "cell_type": "code",
   "execution_count": 8,
   "id": "6063d445-9507-4029-90ed-c4582112ebeb",
   "metadata": {},
   "outputs": [],
   "source": [
    "df = df.drop_duplicates()"
   ]
  },
  {
   "cell_type": "code",
   "execution_count": 9,
   "id": "9562e50d-4b76-4617-8ca3-73ffafa426e0",
   "metadata": {},
   "outputs": [
    {
     "name": "stdout",
     "output_type": "stream",
     "text": [
      "0\n"
     ]
    }
   ],
   "source": [
    "print(df.duplicated().sum())"
   ]
  },
  {
   "cell_type": "code",
   "execution_count": 10,
   "id": "35f417c8-a520-4daa-aa6a-937bf96d680b",
   "metadata": {},
   "outputs": [],
   "source": [
    "df.to_csv(\"cleaned_dataset.csv\", index=False)"
   ]
  }
 ],
 "metadata": {
  "kernelspec": {
   "display_name": "Python [conda env:base] *",
   "language": "python",
   "name": "conda-base-py"
  },
  "language_info": {
   "codemirror_mode": {
    "name": "ipython",
    "version": 3
   },
   "file_extension": ".py",
   "mimetype": "text/x-python",
   "name": "python",
   "nbconvert_exporter": "python",
   "pygments_lexer": "ipython3",
   "version": "3.12.7"
  }
 },
 "nbformat": 4,
 "nbformat_minor": 5
}
