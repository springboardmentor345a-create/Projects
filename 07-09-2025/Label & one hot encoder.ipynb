{
 "cells": [
  {
   "cell_type": "code",
   "execution_count": 1,
   "id": "59036ab4-0795-4c11-ab03-149338573451",
   "metadata": {},
   "outputs": [],
   "source": [
    "import pandas as pd\n",
    "from sklearn.preprocessing import LabelEncoder"
   ]
  },
  {
   "cell_type": "code",
   "execution_count": 2,
   "id": "f5df7841-bff1-4407-aebe-fbb33a8bdcbb",
   "metadata": {},
   "outputs": [],
   "source": [
    "df = pd.read_csv(\"Match winnercleaned_dataset.csv\")\n",
    "df1 = pd.read_csv(\"Top Goals Cleaned.csv\")"
   ]
  },
  {
   "cell_type": "code",
   "execution_count": 8,
   "id": "3b4d03c9-7dde-480d-a375-ecbb061e5a7e",
   "metadata": {},
   "outputs": [
    {
     "name": "stdout",
     "output_type": "stream",
     "text": [
      "Index(['HomeTeam', 'AwayTeam', 'FullTimeResult', 'HalfTimeHomeGoals',\n",
      "       'HalfTimeAwayGoals', 'HalfTimeResult'],\n",
      "      dtype='object')\n",
      "-------------\n",
      "Index(['Goals', 'Position', 'Age', 'Appearances', 'Goals_prev_season',\n",
      "       'Assists', 'Penalty_Goals', 'Non-Penalty_Goals', 'Goals_per_90',\n",
      "       'Big_6_Club_Feature', 'League_Goals_per_Match'],\n",
      "      dtype='object')\n"
     ]
    }
   ],
   "source": [
    "print(df.columns)\n",
    "print(\"-------------\")\n",
    "print(df1.columns)"
   ]
  },
  {
   "cell_type": "code",
   "execution_count": 9,
   "id": "b7c2e794-f741-4aa1-a4f0-956de8168c1d",
   "metadata": {},
   "outputs": [],
   "source": [
    "categorical_cols_df = ['HomeTeam', 'AwayTeam', 'FullTimeResult', 'HalfTimeResult']\n",
    "categorical_cols_df1 = ['Position']"
   ]
  },
  {
   "cell_type": "code",
   "execution_count": 11,
   "id": "9ffc3f3b-ee12-470b-82a1-c9b1065e55ed",
   "metadata": {},
   "outputs": [],
   "source": [
    "label_encoders = {}\n",
    "for col in categorical_cols_df:\n",
    "    le = LabelEncoder()\n",
    "    df[col + \"_label\"] = le.fit_transform(df[col])\n",
    "    label_encoders[col] = le\n",
    "\n",
    "label_encoders1 = {}\n",
    "for col in categorical_cols_df1:\n",
    "    le = LabelEncoder()\n",
    "    df1[col + \"_label\"] = le.fit_transform(df1[col])\n",
    "    label_encoders[col] = le"
   ]
  },
  {
   "cell_type": "code",
   "execution_count": 12,
   "id": "a446c330-c29d-4fbd-9881-99874e671285",
   "metadata": {},
   "outputs": [],
   "source": [
    "df.to_csv(\"Match_Winner_label_encoding.csv\", index=False)\n",
    "df1.to_csv(\"TopGoals_label_encoding.csv\", index=False)"
   ]
  },
  {
   "cell_type": "code",
   "execution_count": 13,
   "id": "53e21dec-e669-450b-bf43-5244a7f3f374",
   "metadata": {},
   "outputs": [],
   "source": [
    "df_onehot = pd.get_dummies(df, columns=categorical_cols_df, drop_first=False)\n",
    "df1_onehot = pd.get_dummies(df1, columns=categorical_cols_df1, drop_first=False)"
   ]
  },
  {
   "cell_type": "code",
   "execution_count": 14,
   "id": "bccefa13-72e0-4585-9f8a-61194a8710bf",
   "metadata": {},
   "outputs": [],
   "source": [
    "df_onehot.to_csv(\"Match_Winner_onehot_encoding.csv\", index=False)\n",
    "df1_onehot.to_csv(\"TopGoals_onehot_encoding.csv\", index=False)"
   ]
  }
 ],
 "metadata": {
  "kernelspec": {
   "display_name": "Python [conda env:base] *",
   "language": "python",
   "name": "conda-base-py"
  },
  "language_info": {
   "codemirror_mode": {
    "name": "ipython",
    "version": 3
   },
   "file_extension": ".py",
   "mimetype": "text/x-python",
   "name": "python",
   "nbconvert_exporter": "python",
   "pygments_lexer": "ipython3",
   "version": "3.12.7"
  }
 },
 "nbformat": 4,
 "nbformat_minor": 5
}
