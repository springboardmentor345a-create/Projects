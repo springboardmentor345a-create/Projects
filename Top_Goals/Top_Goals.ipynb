{
 "cells": [
  {
   "cell_type": "code",
   "execution_count": 100,
   "id": "a49e823a-e96d-4ba8-902b-78cbfe5b79ed",
   "metadata": {},
   "outputs": [],
   "source": [
    "# Import necessary libraries\n",
    "import pandas as pd\n",
    "import numpy as np\n",
    "import seaborn as sns\n",
    "import matplotlib.pyplot as plt"
   ]
  },
  {
   "cell_type": "code",
   "execution_count": 101,
   "id": "1ebcf129-3cf5-480f-a062-b326f32042ee",
   "metadata": {},
   "outputs": [
    {
     "ename": "AttributeError",
     "evalue": "'str' object has no attribute 'xlsx'",
     "output_type": "error",
     "traceback": [
      "\u001b[1;31m---------------------------------------------------------------------------\u001b[0m",
      "\u001b[1;31mAttributeError\u001b[0m                            Traceback (most recent call last)",
      "Cell \u001b[1;32mIn[101], line 2\u001b[0m\n\u001b[0;32m      1\u001b[0m \u001b[38;5;66;03m# Load the dataset from Excel file\u001b[39;00m\n\u001b[1;32m----> 2\u001b[0m df \u001b[38;5;241m=\u001b[39m pd\u001b[38;5;241m.\u001b[39mread_excel(\u001b[38;5;124m\"\u001b[39m\u001b[38;5;124mTop_Goals_Excel\u001b[39m\u001b[38;5;124m\"\u001b[39m\u001b[38;5;241m.\u001b[39mxlsx)\n",
      "\u001b[1;31mAttributeError\u001b[0m: 'str' object has no attribute 'xlsx'"
     ]
    }
   ],
   "source": [
    "# Load the dataset from Excel file\n",
    "df = pd.read_excel(\"Top_Goals_Excel\".xlsx)"
   ]
  },
  {
   "cell_type": "code",
   "execution_count": 102,
   "id": "bee36316-5fb7-4bb1-9ce2-c5a12bd1fd80",
   "metadata": {},
   "outputs": [
    {
     "data": {
      "text/html": [
       "<div>\n",
       "<style scoped>\n",
       "    .dataframe tbody tr th:only-of-type {\n",
       "        vertical-align: middle;\n",
       "    }\n",
       "\n",
       "    .dataframe tbody tr th {\n",
       "        vertical-align: top;\n",
       "    }\n",
       "\n",
       "    .dataframe thead th {\n",
       "        text-align: right;\n",
       "    }\n",
       "</style>\n",
       "<table border=\"1\" class=\"dataframe\">\n",
       "  <thead>\n",
       "    <tr style=\"text-align: right;\">\n",
       "      <th></th>\n",
       "      <th>Goals</th>\n",
       "      <th>Position</th>\n",
       "      <th>Age</th>\n",
       "      <th>Appearances</th>\n",
       "      <th>Goals_prev_season</th>\n",
       "      <th>Assists</th>\n",
       "      <th>Penalty_Goals</th>\n",
       "      <th>Non-Penalty_Goals</th>\n",
       "      <th>Goals_per_90</th>\n",
       "      <th>Big_6_Club_Feature</th>\n",
       "      <th>League_Goals_per_Match</th>\n",
       "    </tr>\n",
       "  </thead>\n",
       "  <tbody>\n",
       "    <tr>\n",
       "      <th>0</th>\n",
       "      <td>27</td>\n",
       "      <td>Forward</td>\n",
       "      <td>23</td>\n",
       "      <td>31</td>\n",
       "      <td>36.0</td>\n",
       "      <td>6.0</td>\n",
       "      <td>1.0</td>\n",
       "      <td>26</td>\n",
       "      <td>0.85</td>\n",
       "      <td>1.0</td>\n",
       "      <td>2.83</td>\n",
       "    </tr>\n",
       "    <tr>\n",
       "      <th>1</th>\n",
       "      <td>22</td>\n",
       "      <td>Attacking Midfielder</td>\n",
       "      <td>22</td>\n",
       "      <td>33</td>\n",
       "      <td>3.0</td>\n",
       "      <td>11.0</td>\n",
       "      <td>9.0</td>\n",
       "      <td>13</td>\n",
       "      <td>0.61</td>\n",
       "      <td>1.0</td>\n",
       "      <td>2.83</td>\n",
       "    </tr>\n",
       "    <tr>\n",
       "      <th>2</th>\n",
       "      <td>21</td>\n",
       "      <td>Forward</td>\n",
       "      <td>24</td>\n",
       "      <td>30</td>\n",
       "      <td>10.0</td>\n",
       "      <td>2.0</td>\n",
       "      <td>5.0</td>\n",
       "      <td>16</td>\n",
       "      <td>0.76</td>\n",
       "      <td>0.0</td>\n",
       "      <td>2.83</td>\n",
       "    </tr>\n",
       "    <tr>\n",
       "      <th>3</th>\n",
       "      <td>19</td>\n",
       "      <td>Forward</td>\n",
       "      <td>28</td>\n",
       "      <td>37</td>\n",
       "      <td>15.0</td>\n",
       "      <td>13.0</td>\n",
       "      <td>0.0</td>\n",
       "      <td>19</td>\n",
       "      <td>0.51</td>\n",
       "      <td>0.0</td>\n",
       "      <td>2.83</td>\n",
       "    </tr>\n",
       "    <tr>\n",
       "      <th>4</th>\n",
       "      <td>19</td>\n",
       "      <td>Forward</td>\n",
       "      <td>26</td>\n",
       "      <td>38</td>\n",
       "      <td>6.0</td>\n",
       "      <td>3.0</td>\n",
       "      <td>1.0</td>\n",
       "      <td>18</td>\n",
       "      <td>0.50</td>\n",
       "      <td>0.0</td>\n",
       "      <td>2.83</td>\n",
       "    </tr>\n",
       "  </tbody>\n",
       "</table>\n",
       "</div>"
      ],
      "text/plain": [
       "   Goals              Position  Age  Appearances  Goals_prev_season  Assists  \\\n",
       "0     27               Forward   23           31               36.0      6.0   \n",
       "1     22  Attacking Midfielder   22           33                3.0     11.0   \n",
       "2     21               Forward   24           30               10.0      2.0   \n",
       "3     19               Forward   28           37               15.0     13.0   \n",
       "4     19               Forward   26           38                6.0      3.0   \n",
       "\n",
       "   Penalty_Goals  Non-Penalty_Goals  Goals_per_90  Big_6_Club_Feature  \\\n",
       "0            1.0                 26          0.85                 1.0   \n",
       "1            9.0                 13          0.61                 1.0   \n",
       "2            5.0                 16          0.76                 0.0   \n",
       "3            0.0                 19          0.51                 0.0   \n",
       "4            1.0                 18          0.50                 0.0   \n",
       "\n",
       "   League_Goals_per_Match  \n",
       "0                    2.83  \n",
       "1                    2.83  \n",
       "2                    2.83  \n",
       "3                    2.83  \n",
       "4                    2.83  "
      ]
     },
     "execution_count": 102,
     "metadata": {},
     "output_type": "execute_result"
    }
   ],
   "source": [
    "# Display the first 5 rows of the dataset to get an overview\n",
    "df.head()"
   ]
  },
  {
   "cell_type": "code",
   "execution_count": 44,
   "id": "176c00f7-f6cf-4d56-9edd-a5f4098aa14a",
   "metadata": {},
   "outputs": [],
   "source": [
    "# Save the dataset to a CSV file (backup in CSV format without index column)\n",
    "df.to_csv(\"Top Goals.csv\", index=False)"
   ]
  },
  {
   "cell_type": "code",
   "execution_count": 45,
   "id": "c601f12e-bd94-4945-8556-f7f316c1c570",
   "metadata": {},
   "outputs": [
    {
     "name": "stdout",
     "output_type": "stream",
     "text": [
      "Index(['Season', 'Rank', 'Player', 'Club', 'Goals', 'IsTop10', 'Position',\n",
      "       'Age', 'Appearances', 'Goals_prev_season', 'Assists', 'Penalty_Goals',\n",
      "       'Non-Penalty_Goals', 'Goals_per_90', 'Big_6_Club_Feature',\n",
      "       'Club_League_Rank', 'Club_Total_Goals', 'League_Goals_per_Match',\n",
      "       'Games_in_Season'],\n",
      "      dtype='object')\n"
     ]
    }
   ],
   "source": [
    "# Print all column names before cleaning\n",
    "print(df.columns)"
   ]
  },
  {
   "cell_type": "code",
   "execution_count": 46,
   "id": "5c5aead3-6f93-4d43-9d82-f28bf397cfa1",
   "metadata": {},
   "outputs": [],
   "source": [
    "# Drop unnecessary or irrelevant columns that are not useful for analysis\n",
    "df=df.drop(['Season', 'Rank', 'Player', 'Club','IsTop10','Club_League_Rank', 'Club_Total_Goals','Games_in_Season'],axis=1)"
   ]
  },
  {
   "cell_type": "code",
   "execution_count": 47,
   "id": "99f511f7-277b-48a2-b40e-7b035cd0a3d4",
   "metadata": {},
   "outputs": [
    {
     "name": "stdout",
     "output_type": "stream",
     "text": [
      "Index(['Goals', 'Position', 'Age', 'Appearances', 'Goals_prev_season',\n",
      "       'Assists', 'Penalty_Goals', 'Non-Penalty_Goals', 'Goals_per_90',\n",
      "       'Big_6_Club_Feature', 'League_Goals_per_Match'],\n",
      "      dtype='object')\n"
     ]
    }
   ],
   "source": [
    "# Print remaining column names after dropping\n",
    "print(df.columns)"
   ]
  },
  {
   "cell_type": "code",
   "execution_count": 48,
   "id": "7585e9fc-9767-4644-a51d-eca53f1eee16",
   "metadata": {},
   "outputs": [
    {
     "data": {
      "text/html": [
       "<div>\n",
       "<style scoped>\n",
       "    .dataframe tbody tr th:only-of-type {\n",
       "        vertical-align: middle;\n",
       "    }\n",
       "\n",
       "    .dataframe tbody tr th {\n",
       "        vertical-align: top;\n",
       "    }\n",
       "\n",
       "    .dataframe thead th {\n",
       "        text-align: right;\n",
       "    }\n",
       "</style>\n",
       "<table border=\"1\" class=\"dataframe\">\n",
       "  <thead>\n",
       "    <tr style=\"text-align: right;\">\n",
       "      <th></th>\n",
       "      <th>Goals</th>\n",
       "      <th>Position</th>\n",
       "      <th>Age</th>\n",
       "      <th>Appearances</th>\n",
       "      <th>Goals_prev_season</th>\n",
       "      <th>Assists</th>\n",
       "      <th>Penalty_Goals</th>\n",
       "      <th>Non-Penalty_Goals</th>\n",
       "      <th>Goals_per_90</th>\n",
       "      <th>Big_6_Club_Feature</th>\n",
       "      <th>League_Goals_per_Match</th>\n",
       "    </tr>\n",
       "  </thead>\n",
       "  <tbody>\n",
       "    <tr>\n",
       "      <th>0</th>\n",
       "      <td>27</td>\n",
       "      <td>Forward</td>\n",
       "      <td>23</td>\n",
       "      <td>31</td>\n",
       "      <td>36.0</td>\n",
       "      <td>6.0</td>\n",
       "      <td>1.0</td>\n",
       "      <td>26</td>\n",
       "      <td>0.85</td>\n",
       "      <td>1.0</td>\n",
       "      <td>2.83</td>\n",
       "    </tr>\n",
       "    <tr>\n",
       "      <th>1</th>\n",
       "      <td>22</td>\n",
       "      <td>Attacking Midfielder</td>\n",
       "      <td>22</td>\n",
       "      <td>33</td>\n",
       "      <td>3.0</td>\n",
       "      <td>11.0</td>\n",
       "      <td>9.0</td>\n",
       "      <td>13</td>\n",
       "      <td>0.61</td>\n",
       "      <td>1.0</td>\n",
       "      <td>2.83</td>\n",
       "    </tr>\n",
       "    <tr>\n",
       "      <th>2</th>\n",
       "      <td>21</td>\n",
       "      <td>Forward</td>\n",
       "      <td>24</td>\n",
       "      <td>30</td>\n",
       "      <td>10.0</td>\n",
       "      <td>2.0</td>\n",
       "      <td>5.0</td>\n",
       "      <td>16</td>\n",
       "      <td>0.76</td>\n",
       "      <td>0.0</td>\n",
       "      <td>2.83</td>\n",
       "    </tr>\n",
       "    <tr>\n",
       "      <th>3</th>\n",
       "      <td>19</td>\n",
       "      <td>Forward</td>\n",
       "      <td>28</td>\n",
       "      <td>37</td>\n",
       "      <td>15.0</td>\n",
       "      <td>13.0</td>\n",
       "      <td>0.0</td>\n",
       "      <td>19</td>\n",
       "      <td>0.51</td>\n",
       "      <td>0.0</td>\n",
       "      <td>2.83</td>\n",
       "    </tr>\n",
       "    <tr>\n",
       "      <th>4</th>\n",
       "      <td>19</td>\n",
       "      <td>Forward</td>\n",
       "      <td>26</td>\n",
       "      <td>38</td>\n",
       "      <td>6.0</td>\n",
       "      <td>3.0</td>\n",
       "      <td>1.0</td>\n",
       "      <td>18</td>\n",
       "      <td>0.50</td>\n",
       "      <td>0.0</td>\n",
       "      <td>2.83</td>\n",
       "    </tr>\n",
       "  </tbody>\n",
       "</table>\n",
       "</div>"
      ],
      "text/plain": [
       "   Goals              Position  Age  Appearances  Goals_prev_season  Assists  \\\n",
       "0     27               Forward   23           31               36.0      6.0   \n",
       "1     22  Attacking Midfielder   22           33                3.0     11.0   \n",
       "2     21               Forward   24           30               10.0      2.0   \n",
       "3     19               Forward   28           37               15.0     13.0   \n",
       "4     19               Forward   26           38                6.0      3.0   \n",
       "\n",
       "   Penalty_Goals  Non-Penalty_Goals  Goals_per_90  Big_6_Club_Feature  \\\n",
       "0            1.0                 26          0.85                 1.0   \n",
       "1            9.0                 13          0.61                 1.0   \n",
       "2            5.0                 16          0.76                 0.0   \n",
       "3            0.0                 19          0.51                 0.0   \n",
       "4            1.0                 18          0.50                 0.0   \n",
       "\n",
       "   League_Goals_per_Match  \n",
       "0                    2.83  \n",
       "1                    2.83  \n",
       "2                    2.83  \n",
       "3                    2.83  \n",
       "4                    2.83  "
      ]
     },
     "execution_count": 48,
     "metadata": {},
     "output_type": "execute_result"
    }
   ],
   "source": [
    "#Display first 5 rows after dropping columns\n",
    "df.head()"
   ]
  },
  {
   "cell_type": "code",
   "execution_count": 49,
   "id": "2d6ad617-5901-4ee0-b8a8-68c223c3ebe2",
   "metadata": {},
   "outputs": [
    {
     "name": "stdout",
     "output_type": "stream",
     "text": [
      "Goals                       0\n",
      "Position                    0\n",
      "Age                         0\n",
      "Appearances                 0\n",
      "Goals_prev_season         115\n",
      "Assists                   228\n",
      "Penalty_Goals               1\n",
      "Non-Penalty_Goals           0\n",
      "Goals_per_90                0\n",
      "Big_6_Club_Feature          0\n",
      "League_Goals_per_Match      0\n",
      "dtype: int64\n"
     ]
    }
   ],
   "source": [
    "# Check for missing (NaN) values in each column\n",
    "print(df.isnull().sum())"
   ]
  },
  {
   "cell_type": "code",
   "execution_count": 50,
   "id": "82e723e1-d821-4588-8306-b11a62cc5776",
   "metadata": {},
   "outputs": [
    {
     "name": "stdout",
     "output_type": "stream",
     "text": [
      "0\n"
     ]
    }
   ],
   "source": [
    "# Check how many duplicate rows are present\n",
    "print(df.duplicated().sum())"
   ]
  },
  {
   "cell_type": "code",
   "execution_count": 51,
   "id": "365886d9-bb17-4b04-86a4-ca9584d21e24",
   "metadata": {},
   "outputs": [],
   "source": [
    "# Fill missing values in specific columns with default values:\n",
    "# - \"Goals_prev_season\" → replace NaN with 0\n",
    "# - \"Assists\" → replace NaN with 0\n",
    "# - \"Penalty_Goals\" → replace NaN with 0\n",
    "df.fillna({\n",
    "    \"Goals_prev_season\": 0,\n",
    "    \"Assists\": 0,\n",
    "    \"Penalty_Goals\": 0\n",
    "}, inplace=True)"
   ]
  },
  {
   "cell_type": "code",
   "execution_count": 52,
   "id": "747c68b7-e9f7-4112-b1ed-9a4ecd49da15",
   "metadata": {},
   "outputs": [],
   "source": [
    "# Remove duplicate rows to avoid redundancy\n",
    "df = df.drop_duplicates()"
   ]
  },
  {
   "cell_type": "code",
   "execution_count": 53,
   "id": "53ca3ba8-606a-4740-a466-9cef8da5d3ee",
   "metadata": {},
   "outputs": [
    {
     "name": "stdout",
     "output_type": "stream",
     "text": [
      "Goals                     0\n",
      "Position                  0\n",
      "Age                       0\n",
      "Appearances               0\n",
      "Goals_prev_season         0\n",
      "Assists                   0\n",
      "Penalty_Goals             0\n",
      "Non-Penalty_Goals         0\n",
      "Goals_per_90              0\n",
      "Big_6_Club_Feature        0\n",
      "League_Goals_per_Match    0\n",
      "dtype: int64\n"
     ]
    }
   ],
   "source": [
    "# Re-check for missing values after cleaning\n",
    "print(df.isnull().sum())"
   ]
  },
  {
   "cell_type": "code",
   "execution_count": 54,
   "id": "b77a7495-13a5-47a9-9064-1cb34f30a9db",
   "metadata": {},
   "outputs": [
    {
     "name": "stdout",
     "output_type": "stream",
     "text": [
      "0\n"
     ]
    }
   ],
   "source": [
    "# Re-check for duplicate rows after cleaning\n",
    "print(df.duplicated().sum())"
   ]
  },
  {
   "cell_type": "code",
   "execution_count": 55,
   "id": "4089ac73-4d40-4156-b80d-90820a8e6484",
   "metadata": {},
   "outputs": [],
   "source": [
    "# Save the cleaned dataset into a new CSV file\n",
    "df.to_csv(\"cleaned_Top_Goals.csv\", index=False)"
   ]
  }
 ],
 "metadata": {
  "kernelspec": {
   "display_name": "Python 3 (ipykernel)",
   "language": "python",
   "name": "python3"
  },
  "language_info": {
   "codemirror_mode": {
    "name": "ipython",
    "version": 3
   },
   "file_extension": ".py",
   "mimetype": "text/x-python",
   "name": "python",
   "nbconvert_exporter": "python",
   "pygments_lexer": "ipython3",
   "version": "3.12.7"
  }
 },
 "nbformat": 4,
 "nbformat_minor": 5
}
