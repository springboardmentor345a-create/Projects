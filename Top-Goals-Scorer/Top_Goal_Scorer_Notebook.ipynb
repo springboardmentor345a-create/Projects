{
 "cells": [
  {
   "cell_type": "markdown",
   "id": "23354a8a",
   "metadata": {},
   "source": [
    "# 📘 ScoreSight - Top Goal Scorer Prediction (EDA & Preprocessing)\n",
    "Author: [Your Name]  \n",
    "Internship: Infosys  \n",
    "Goal: Predict total goals scored by a player in a season (Regression)"
   ]
  },
  {
   "cell_type": "code",
   "execution_count": null,
   "id": "637573c5",
   "metadata": {},
   "outputs": [],
   "source": [
    "!pip install seaborn"
   ]
  },
  {
   "cell_type": "code",
   "execution_count": null,
   "id": "6666ffbd",
   "metadata": {},
   "outputs": [],
   "source": [
    "import pandas as pd\n",
    "import numpy as np\n",
    "import matplotlib.pyplot as plt\n",
    "import seaborn as sns\n",
    "\n",
    "from sklearn.preprocessing import OneHotEncoder\n",
    "from sklearn.model_selection import train_test_split\n",
    "from sklearn.metrics import mean_absolute_error, mean_squared_error, r2_score\n",
    "\n",
    "# Set visualization style\n",
    "sns.set(style=\"whitegrid\", palette=\"pastel\", font_scale=1.1)"
   ]
  },
  {
   "cell_type": "code",
   "execution_count": null,
   "id": "b2de5ad6",
   "metadata": {},
   "outputs": [],
   "source": [
    "# Load Dataset\n",
    "df = pd.read_csv(\"topgoals.csv\")\n",
    "print(\"Shape of dataset:\", df.shape)\n",
    "display(df.head())"
   ]
  },
  {
   "cell_type": "code",
   "execution_count": null,
   "id": "f616313d",
   "metadata": {},
   "outputs": [],
   "source": [
    "# Data Cleaning - Drop leakage/unnecessary columns\n",
    "drop_cols = [\n",
    "    \"Rank\", \"Player\", \"Club\", \"Season\", \"Games_in_Season\",\n",
    "    \"Club_League_Rank\", \"Club_Total_Goals\", \"Penalty_Goals\", \"Non-Penalty_Goals\"\n",
    "]\n",
    "df = df.drop(columns=[c for c in drop_cols if c in df.columns])\n",
    "\n",
    "print(\"Remaining Columns:\", df.columns.tolist())\n",
    "print(\"\\nMissing values per column:\")\n",
    "print(df.isnull().sum())"
   ]
  },
  {
   "cell_type": "code",
   "execution_count": null,
   "id": "06455649",
   "metadata": {},
   "outputs": [],
   "source": [
    "# Handle missing values (fixed - avoid inplace warnings)\n",
    "for col in df.columns:\n",
    "    if df[col].dtype != 'object':\n",
    "        df[col] = df[col].fillna(df[col].median())\n",
    "    else:\n",
    "        df[col] = df[col].fillna(df[col].mode()[0])\n",
    "\n",
    "print(\"Missing values after imputation:\")\n",
    "print(df.isnull().sum())"
   ]
  },
  {
   "cell_type": "code",
   "execution_count": null,
   "id": "d96523f6",
   "metadata": {},
   "outputs": [],
   "source": [
    "# Target & Feature Split\n",
    "target = \"Goals\"\n",
    "X = df.drop(columns=[target])\n",
    "y = df[target]\n",
    "\n",
    "print(\"Target variable (Goals) stats:\")\n",
    "print(y.describe())"
   ]
  },
  {
   "cell_type": "code",
   "execution_count": null,
   "id": "24948a91",
   "metadata": {},
   "outputs": [],
   "source": [
    "# One-Hot Encode categorical column 'Position'\n",
    "X_encoded = pd.get_dummies(X, columns=[\"Position\"], drop_first=True)\n",
    "print(\"Shape after encoding:\", X_encoded.shape)"
   ]
  },
  {
   "cell_type": "code",
   "execution_count": null,
   "id": "941dd295",
   "metadata": {},
   "outputs": [],
   "source": [
    "# Outlier Detection (IQR Method)\n",
    "def detect_outliers_iqr(data, column):\n",
    "    Q1 = data[column].quantile(0.25)\n",
    "    Q3 = data[column].quantile(0.75)\n",
    "    IQR = Q3 - Q1\n",
    "    lower_bound = Q1 - 1.5 * IQR\n",
    "    upper_bound = Q3 + 1.5 * IQR\n",
    "    outliers = data[(data[column] < lower_bound) | (data[column] > upper_bound)]\n",
    "    return outliers\n",
    "\n",
    "numeric_cols = X_encoded.select_dtypes(include=np.number).columns\n",
    "for col in list(numeric_cols)[:5]:\n",
    "    print(f\"{col}: {len(detect_outliers_iqr(X_encoded, col))} outliers\")"
   ]
  },
  {
   "cell_type": "code",
   "execution_count": null,
   "id": "9cadb3a5",
   "metadata": {},
   "outputs": [],
   "source": [
    "# EDA - Distribution of Goals\n",
    "plt.figure(figsize=(6,4))\n",
    "sns.histplot(y, bins=20, kde=True, color=\"steelblue\")\n",
    "plt.title(\"Distribution of Goals per Player\")\n",
    "plt.show()"
   ]
  },
  {
   "cell_type": "code",
   "execution_count": null,
   "id": "9bcba137",
   "metadata": {},
   "outputs": [],
   "source": [
    "# EDA - Minutes Played vs Goals\n",
    "plt.figure(figsize=(8,5))\n",
    "sns.scatterplot(x=df[\"Minutes_Played\"], y=y, hue=df[\"Position\"], alpha=0.7)\n",
    "plt.title(\"Minutes Played vs Goals\")\n",
    "plt.show()"
   ]
  },
  {
   "cell_type": "code",
   "execution_count": null,
   "id": "4e58b0ae",
   "metadata": {},
   "outputs": [],
   "source": [
    "# EDA - Age vs Goals\n",
    "plt.figure(figsize=(8,5))\n",
    "sns.scatterplot(x=df[\"Age\"], y=y, alpha=0.7, color=\"darkorange\")\n",
    "plt.title(\"Age vs Goals\")\n",
    "plt.show()"
   ]
  },
  {
   "cell_type": "code",
   "execution_count": null,
   "id": "e1d934ce",
   "metadata": {},
   "outputs": [],
   "source": [
    "# EDA - Position vs Goals\n",
    "plt.figure(figsize=(7,5))\n",
    "sns.boxplot(x=df[\"Position\"], y=y, palette=\"Set2\")\n",
    "plt.title(\"Goals by Position\")\n",
    "plt.show()"
   ]
  },
  {
   "cell_type": "code",
   "execution_count": null,
   "id": "927439f2",
   "metadata": {},
   "outputs": [],
   "source": [
    "# EDA - Big 6 Club vs Goals\n",
    "plt.figure(figsize=(7,5))\n",
    "sns.boxplot(x=df[\"Big_6_Club_Feature\"], y=y, palette=\"muted\")\n",
    "plt.title(\"Goals by Big 6 vs Non-Big 6 Clubs\")\n",
    "plt.show()"
   ]
  },
  {
   "cell_type": "code",
   "execution_count": null,
   "id": "d592bccf",
   "metadata": {},
   "outputs": [],
   "source": [
    "# Correlation Heatmap\n",
    "plt.figure(figsize=(12,8))\n",
    "corr = X_encoded.join(y).corr()\n",
    "sns.heatmap(corr, cmap=\"coolwarm\", center=0, cbar_kws={'shrink':0.5})\n",
    "plt.title(\"Correlation Heatmap of Features with Goals\")\n",
    "plt.show()"
   ]
  },
  {
   "cell_type": "code",
   "execution_count": null,
   "id": "d1c71540",
   "metadata": {},
   "outputs": [],
   "source": [
    "# Train-Test Split (Setup)\n",
    "X_train, X_test, y_train, y_test = train_test_split(\n",
    "    X_encoded, y, test_size=0.2, random_state=42\n",
    ")\n",
    "\n",
    "print(\"Train shape:\", X_train.shape)\n",
    "print(\"Test shape:\", X_test.shape)"
   ]
  },
  {
   "cell_type": "code",
   "execution_count": null,
   "id": "4d132a6c",
   "metadata": {},
   "outputs": [],
   "source": [
    "# Evaluation Template (Dummy Baseline)\n",
    "# Baseline: predict mean goals for all players\n",
    "y_pred_dummy = np.full_like(y_test, y.mean(), dtype=float)\n",
    "\n",
    "mae = mean_absolute_error(y_test, y_pred_dummy)\n",
    "mse = mean_squared_error(y_test, y_pred_dummy)\n",
    "rmse = np.sqrt(mse)\n",
    "r2 = r2_score(y_test, y_pred_dummy)\n",
    "\n",
    "print(\"Baseline Evaluation Metrics:\")\n",
    "print(f\"MAE: {mae:.2f}\")\n",
    "print(f\"MSE: {mse:.2f}\")\n",
    "print(f\"RMSE: {rmse:.2f}\")\n",
    "print(f\"R²: {r2:.2f}\")"
   ]
  }
 ],
 "metadata": {},
 "nbformat": 4,
 "nbformat_minor": 5
}