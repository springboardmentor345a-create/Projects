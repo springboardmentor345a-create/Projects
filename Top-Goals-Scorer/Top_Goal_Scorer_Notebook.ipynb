{
 "cells": [
  {
   "cell_type": "markdown",
   "id": "f53b31a8",
   "metadata": {},
   "source": [
    "# 📘 ScoreSight - Top Goal Scorer Prediction (EDA & Preliminary Modeling)\n",
    "Author: [Your Name]\n",
    "Internship: Infosys\n",
    "Goal: Predict total goals scored by a player in a season (regression)"
   ]
  },
  {
   "cell_type": "code",
   "execution_count": null,
   "id": "3b79e1e4",
   "metadata": {},
   "outputs": [],
   "source": [
    "!pip install seaborn xgboost"
   ]
  },
  {
   "cell_type": "code",
   "execution_count": null,
   "id": "1dcb2abb",
   "metadata": {},
   "outputs": [],
   "source": [
    "import pandas as pd\n",
    "import numpy as np\n",
    "import matplotlib.pyplot as plt\n",
    "import seaborn as sns\n",
    "\n",
    "from sklearn.model_selection import train_test_split\n",
    "from sklearn.preprocessing import StandardScaler\n",
    "from sklearn.linear_model import LinearRegression\n",
    "from sklearn.ensemble import RandomForestRegressor\n",
    "from xgboost import XGBRegressor\n",
    "\n",
    "from sklearn.metrics import mean_absolute_error, mean_squared_error, r2_score\n",
    "\n",
    "sns.set(style=\"whitegrid\", font_scale=1.05)"
   ]
  },
  {
   "cell_type": "code",
   "execution_count": null,
   "id": "4b19ae10",
   "metadata": {},
   "outputs": [],
   "source": [
    "df = pd.read_csv(\"topgoals.csv\")\n",
    "print(\"Shape:\", df.shape)\n",
    "display(df.head())"
   ]
  },
  {
   "cell_type": "code",
   "execution_count": null,
   "id": "32fa57b9",
   "metadata": {},
   "outputs": [],
   "source": [
    "print(\"Columns:\", df.columns.tolist())\n",
    "print(\"\\nDtypes:\")\n",
    "print(df.dtypes)\n",
    "print(\"\\nMissing values (count):\")\n",
    "print(df.isnull().sum())"
   ]
  },
  {
   "cell_type": "code",
   "execution_count": null,
   "id": "2d8cfa85",
   "metadata": {},
   "outputs": [],
   "source": [
    "drop_cols = [\n",
    "    \"Rank\", \"Player\", \"Club\", \"Season\", \"Games_in_Season\",\n",
    "    \"Club_League_Rank\", \"Club_Total_Goals\", \"Penalty_Goals\", \"Non-Penalty_Goals\"\n",
    "]\n",
    "df = df.drop(columns=[c for c in drop_cols if c in df.columns])\n",
    "print(\"Remaining columns:\", df.columns.tolist())"
   ]
  },
  {
   "cell_type": "code",
   "execution_count": null,
   "id": "1ee345d1",
   "metadata": {},
   "outputs": [],
   "source": [
    "for col in df.columns:\n",
    "    if df[col].dtype == 'O':\n",
    "        if df[col].isnull().any():\n",
    "            df[col] = df[col].fillna(df[col].mode().iloc[0])\n",
    "    else:\n",
    "        if df[col].isnull().any():\n",
    "            df[col] = df[col].fillna(df[col].median())\n",
    "\n",
    "print(\"Missing values after imputation:\")\n",
    "print(df.isnull().sum())"
   ]
  },
  {
   "cell_type": "code",
   "execution_count": null,
   "id": "4a7b7c2d",
   "metadata": {},
   "outputs": [],
   "source": [
    "target = \"Goals\"\n",
    "if target not in df.columns:\n",
    "    raise ValueError(\"Target column 'Goals' not found in dataset.\")\n",
    "\n",
    "candidate_features = [\n",
    "    \"Age\", \"Position\", \"Appearances\", \"Minutes_Played\",\n",
    "    \"Goals_prev_season\", \"Goals_last_3_seasons_avg\",\n",
    "    \"Assists\", \"Goals_per_90\", \"Big_6_Club_Feature\", \"League_Goals_per_Match\"\n",
    "]\n",
    "features = [c for c in candidate_features if c in df.columns]\n",
    "X = df[features].copy()\n",
    "y = df[target].copy()\n",
    "\n",
    "print(\"Features used:\", features)\n",
    "print(\"Target stats:\")\n",
    "print(y.describe())"
   ]
  },
  {
   "cell_type": "code",
   "execution_count": null,
   "id": "82c1ca6e",
   "metadata": {},
   "outputs": [],
   "source": [
    "cat_cols = [c for c in [\"Position\"] if c in X.columns]\n",
    "X_encoded = pd.get_dummies(X, columns=cat_cols, drop_first=True)\n",
    "print(\"Shape after encoding:\", X_encoded.shape)\n",
    "display(X_encoded.head())"
   ]
  },
  {
   "cell_type": "code",
   "execution_count": null,
   "id": "88a12730",
   "metadata": {},
   "outputs": [],
   "source": [
    "def detect_outliers_iqr(series):\n",
    "    Q1 = series.quantile(0.25)\n",
    "    Q3 = series.quantile(0.75)\n",
    "    IQR = Q3 - Q1\n",
    "    lb = Q1 - 1.5 * IQR\n",
    "    ub = Q3 + 1.5 * IQR\n",
    "    return ((series < lb) | (series > ub)).sum()\n",
    "\n",
    "numeric_cols = X_encoded.select_dtypes(include=[np.number]).columns.tolist()\n",
    "print(\"Numeric columns:\", numeric_cols)\n",
    "for col in numeric_cols:\n",
    "    print(f\"{col}: {detect_outliers_iqr(X_encoded[col])} outliers\")"
   ]
  },
  {
   "cell_type": "code",
   "execution_count": null,
   "id": "3a8e0d86",
   "metadata": {},
   "outputs": [],
   "source": [
    "plt.figure(figsize=(8,4))\n",
    "sns.histplot(y, bins=20, kde=True, color=\"steelblue\")\n",
    "plt.title(\"Distribution of Goals per Player (season)\")\n",
    "plt.xlabel(\"Goals\")\n",
    "plt.ylabel(\"Count\")\n",
    "plt.show()"
   ]
  },
  {
   "cell_type": "code",
   "execution_count": null,
   "id": "9988b947",
   "metadata": {},
   "outputs": [],
   "source": [
    "if \"Minutes_Played\" in df.columns:\n",
    "    plt.figure(figsize=(8,5))\n",
    "    sns.scatterplot(x=df[\"Minutes_Played\"], y=y, alpha=0.7)\n",
    "    plt.title(\"Minutes Played vs Goals\")\n",
    "    plt.xlabel(\"Minutes Played\")\n",
    "    plt.ylabel(\"Goals\")\n",
    "    plt.show()"
   ]
  },
  {
   "cell_type": "code",
   "execution_count": null,
   "id": "0289353e",
   "metadata": {},
   "outputs": [],
   "source": [
    "if \"Goals_per_90\" in df.columns:\n",
    "    plt.figure(figsize=(8,5))\n",
    "    sns.scatterplot(x=df[\"Goals_per_90\"], y=y, alpha=0.7, color=\"darkorange\")\n",
    "    plt.title(\"Goals_per_90 vs Goals\")\n",
    "    plt.xlabel(\"Goals_per_90\")\n",
    "    plt.ylabel(\"Goals\")\n",
    "    plt.show()"
   ]
  },
  {
   "cell_type": "code",
   "execution_count": null,
   "id": "59d20c39",
   "metadata": {},
   "outputs": [],
   "source": [
    "if \"Position\" in df.columns:\n",
    "    n_pos = df[\"Position\"].nunique()\n",
    "    plt.figure(figsize=(8,5))\n",
    "    sns.boxplot(x=df[\"Position\"], y=y, palette=sns.color_palette(\"Set2\", n_pos))\n",
    "    plt.title(\"Goals by Position\")\n",
    "    plt.xlabel(\"Position\")\n",
    "    plt.ylabel(\"Goals\")\n",
    "    plt.show()"
   ]
  },
  {
   "cell_type": "code",
   "execution_count": null,
   "id": "ac768742",
   "metadata": {},
   "outputs": [],
   "source": [
    "plt.figure(figsize=(12,10))\n",
    "corr_df = X_encoded.join(y).corr()\n",
    "sns.heatmap(corr_df, cmap=\"coolwarm\", center=0, annot=True, fmt=\".2f\", cbar_kws={'shrink':0.6})\n",
    "plt.title(\"Correlation matrix (features + Goals)\")\n",
    "plt.show()"
   ]
  },
  {
   "cell_type": "code",
   "execution_count": null,
   "id": "16b13913",
   "metadata": {},
   "outputs": [],
   "source": [
    "X_train, X_test, y_train, y_test = train_test_split(\n",
    "    X_encoded, y, test_size=0.2, random_state=42\n",
    ")\n",
    "print(\"Train shape:\", X_train.shape, \"Test shape:\", X_test.shape)"
   ]
  },
  {
   "cell_type": "code",
   "execution_count": null,
   "id": "fd79897b",
   "metadata": {},
   "outputs": [],
   "source": [
    "scaler = StandardScaler()\n",
    "X_train_scaled = X_train.copy()\n",
    "X_test_scaled = X_test.copy()\n",
    "\n",
    "num_cols = X_train.select_dtypes(include=[np.number]).columns.tolist()\n",
    "X_train_scaled[num_cols] = scaler.fit_transform(X_train[num_cols])\n",
    "X_test_scaled[num_cols] = scaler.transform(X_test[num_cols])\n",
    "\n",
    "print(\"Scaled numeric columns:\", num_cols)"
   ]
  },
  {
   "cell_type": "code",
   "execution_count": null,
   "id": "795342ae",
   "metadata": {},
   "outputs": [],
   "source": [
    "def regression_metrics(y_true, y_pred):\n",
    "    mae = mean_absolute_error(y_true, y_pred)\n",
    "    mse = mean_squared_error(y_true, y_pred)\n",
    "    rmse = np.sqrt(mse)\n",
    "    r2 = r2_score(y_true, y_pred)\n",
    "    return {\"MAE\": mae, \"MSE\": mse, \"RMSE\": rmse, \"R2\": r2}\n",
    "\n",
    "y_pred_baseline = np.full(shape=len(y_test), fill_value=y_train.mean())\n",
    "print(\"Baseline metrics:\", regression_metrics(y_test, y_pred_baseline))"
   ]
  },
  {
   "cell_type": "code",
   "execution_count": null,
   "id": "25597a36",
   "metadata": {},
   "outputs": [],
   "source": [
    "def evaluate_regressor(model, X_train, y_train, X_test, y_test, use_scaled=False):\n",
    "    Xtr = X_train_scaled if use_scaled else X_train\n",
    "    Xte = X_test_scaled if use_scaled else X_test\n",
    "    model.fit(Xtr, y_train)\n",
    "    preds = model.predict(Xte)\n",
    "    metrics = regression_metrics(y_test, preds)\n",
    "    print(f\"\\nModel: {model.__class__.__name__}\")\n",
    "    for k,v in metrics.items():\n",
    "        print(f\"{k}: {v:.4f}\")\n",
    "    return metrics"
   ]
  },
  {
   "cell_type": "code",
   "execution_count": null,
   "id": "cb12d445",
   "metadata": {},
   "outputs": [],
   "source": [
    "lin_reg = LinearRegression()\n",
    "metrics_lin = evaluate_regressor(lin_reg, X_train, y_train, X_test, y_test, use_scaled=True)"
   ]
  },
  {
   "cell_type": "code",
   "execution_count": null,
   "id": "58367c06",
   "metadata": {},
   "outputs": [],
   "source": [
    "rf = RandomForestRegressor(n_estimators=200, random_state=42)\n",
    "metrics_rf = evaluate_regressor(rf, X_train, y_train, X_test, y_test, use_scaled=False)"
   ]
  },
  {
   "cell_type": "code",
   "execution_count": null,
   "id": "8435cd81",
   "metadata": {},
   "outputs": [],
   "source": [
    "xgb = XGBRegressor(objective='reg:squarederror', random_state=42, n_estimators=200)\n",
    "metrics_xgb = evaluate_regressor(xgb, X_train, y_train, X_test, y_test, use_scaled=False)"
   ]
  },
  {
   "cell_type": "code",
   "execution_count": null,
   "id": "1fff663e",
   "metadata": {},
   "outputs": [],
   "source": [
    "results = pd.DataFrame({\n",
    "    \"LinearRegression\": metrics_lin,\n",
    "    \"RandomForest\": metrics_rf,\n",
    "    \"XGBoost\": metrics_xgb\n",
    "}).T\n",
    "display(results)"
   ]
  },
  {
   "cell_type": "code",
   "execution_count": null,
   "id": "975b1469",
   "metadata": {},
   "outputs": [],
   "source": [
    "if hasattr(rf, \"feature_importances_\"):\n",
    "    fi = pd.Series(rf.feature_importances_, index=X_train.columns).sort_values(ascending=False)\n",
    "    plt.figure(figsize=(8,6))\n",
    "    sns.barplot(x=fi.values[:15], y=fi.index[:15], palette=\"viridis\")\n",
    "    plt.title(\"Top 15 Feature Importances (Random Forest)\")\n",
    "    plt.show()"
   ]
  },
  {
   "cell_type": "code",
   "execution_count": null,
   "id": "325ed8e0",
   "metadata": {},
   "outputs": [],
   "source": [
    "print(\"Notebook End - models trained and baseline evaluations complete.\")"
   ]
  }
 ],
 "metadata": {},
 "nbformat": 4,
 "nbformat_minor": 5
}