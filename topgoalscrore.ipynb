{
  "nbformat": 4,
  "nbformat_minor": 0,
  "metadata": {
    "colab": {
      "provenance": []
    },
    "kernelspec": {
      "name": "python3",
      "display_name": "Python 3"
    },
    "language_info": {
      "name": "python"
    }
  },
  "cells": [
    {
      "cell_type": "code",
      "execution_count": 1,
      "metadata": {
        "colab": {
          "base_uri": "https://localhost:8080/"
        },
        "id": "gRaxCS0xR5Za",
        "outputId": "cba8b70a-dcfe-450e-95bc-fd07c404fa39"
      },
      "outputs": [
        {
          "output_type": "stream",
          "name": "stdout",
          "text": [
            "Original DataFrame:\n",
            "    Season  Rank           Player              Club  Goals  IsTop10  \\\n",
            "0  2023-24     1   Erling Haaland   Manchester City     27        1   \n",
            "1  2023-24     2      Cole Palmer           Chelsea     22        1   \n",
            "2  2023-24     3   Alexander Isak  Newcastle United     21        1   \n",
            "3  2023-24     4    Ollie Watkins       Aston Villa     19        1   \n",
            "4  2023-24     4  Dominic Solanke   AFC Bournemouth     19        1   \n",
            "\n",
            "               Position  Age  Appearances  Goals_prev_season  Assists  \\\n",
            "0               Forward   23           31               36.0      6.0   \n",
            "1  Attacking Midfielder   22           33                3.0     11.0   \n",
            "2               Forward   24           30               10.0      2.0   \n",
            "3               Forward   28           37               15.0     13.0   \n",
            "4               Forward   26           38                6.0      3.0   \n",
            "\n",
            "   Penalty_Goals  Non-Penalty_Goals  Goals_per_90  Big_6_Club_Feature  \\\n",
            "0            1.0                 26          0.85                 1.0   \n",
            "1            9.0                 13          0.61                 1.0   \n",
            "2            5.0                 16          0.76                 0.0   \n",
            "3            0.0                 19          0.51                 0.0   \n",
            "4            1.0                 18          0.50                 0.0   \n",
            "\n",
            "   Club_League_Rank  Club_Total_Goals  League_Goals_per_Match  Games_in_Season  \n",
            "0                 1                96                    2.83             38.0  \n",
            "1                 6                77                    2.83             38.0  \n",
            "2                 7                85                    2.83             38.0  \n",
            "3                 4                76                    2.83             38.0  \n",
            "4                12                54                    2.83             38.0  \n",
            "\n",
            "Label Encoded DataFrame:\n",
            "   Season  Rank  Player  Club  Goals  IsTop10  Position  Age  Appearances  \\\n",
            "0      31     1      48    22     27        1         1   23           31   \n",
            "1      31     2      23     9     22        1         0   22           33   \n",
            "2      31     3       3    25     21        1         1   24           30   \n",
            "3      31     4     109     2     19        1         1   28           37   \n",
            "4      31     4      41     0     19        1         1   26           38   \n",
            "\n",
            "   Goals_prev_season  Assists  Penalty_Goals  Non-Penalty_Goals  Goals_per_90  \\\n",
            "0               36.0      6.0            1.0                 26          0.85   \n",
            "1                3.0     11.0            9.0                 13          0.61   \n",
            "2               10.0      2.0            5.0                 16          0.76   \n",
            "3               15.0     13.0            0.0                 19          0.51   \n",
            "4                6.0      3.0            1.0                 18          0.50   \n",
            "\n",
            "   Big_6_Club_Feature  Club_League_Rank  Club_Total_Goals  \\\n",
            "0                 1.0                 1                96   \n",
            "1                 1.0                 6                77   \n",
            "2                 0.0                 7                85   \n",
            "3                 0.0                 4                76   \n",
            "4                 0.0                12                54   \n",
            "\n",
            "   League_Goals_per_Match  Games_in_Season  \n",
            "0                    2.83             38.0  \n",
            "1                    2.83             38.0  \n",
            "2                    2.83             38.0  \n",
            "3                    2.83             38.0  \n",
            "4                    2.83             38.0  \n",
            "\n",
            "Encoded List:\n",
            "[[31.0, 1.0, 48.0, 22.0, 27.0, 1.0, 1.0, 23.0, 31.0, 36.0, 6.0, 1.0, 26.0, 0.85, 1.0, 1.0, 96.0, 2.83, 38.0], [31.0, 2.0, 23.0, 9.0, 22.0, 1.0, 0.0, 22.0, 33.0, 3.0, 11.0, 9.0, 13.0, 0.61, 1.0, 6.0, 77.0, 2.83, 38.0], [31.0, 3.0, 3.0, 25.0, 21.0, 1.0, 1.0, 24.0, 30.0, 10.0, 2.0, 5.0, 16.0, 0.76, 0.0, 7.0, 85.0, 2.83, 38.0], [31.0, 4.0, 109.0, 2.0, 19.0, 1.0, 1.0, 28.0, 37.0, 15.0, 13.0, 0.0, 19.0, 0.51, 0.0, 4.0, 76.0, 2.83, 38.0], [31.0, 4.0, 41.0, 0.0, 19.0, 1.0, 1.0, 26.0, 38.0, 6.0, 3.0, 1.0, 18.0, 0.5, 0.0, 12.0, 54.0, 2.83, 38.0], [31.0, 6.0, 117.0, 22.0, 19.0, 1.0, 3.0, 23.0, 35.0, 11.0, 8.0, 0.0, 19.0, 0.54, 1.0, 1.0, 96.0, 2.83, 38.0], [31.0, 7.0, 103.0, 19.0, 18.0, 1.0, 3.0, 31.0, 32.0, 19.0, 10.0, 5.0, 13.0, 0.56, 1.0, 3.0, 86.0, 2.83, 38.0], [31.0, 8.0, 138.0, 40.0, 17.0, 1.0, 3.0, 31.0, 35.0, 10.0, 10.0, 2.0, 15.0, 0.49, 1.0, 5.0, 74.0, 2.83, 38.0], [31.0, 9.0, 67.0, 43.0, 16.0, 1.0, 3.0, 27.0, 34.0, 6.0, 6.0, 0.0, 16.0, 0.47, 0.0, 9.0, 60.0, 2.83, 38.0], [31.0, 10.0, 70.0, 11.0, 16.0, 1.0, 1.0, 26.0, 35.0, 2.0, 5.0, 3.0, 13.0, 0.46, 0.0, 10.0, 57.0, 2.83, 38.0]]\n"
          ]
        }
      ],
      "source": [
        "import pandas as pd\n",
        "from sklearn.preprocessing import LabelEncoder\n",
        "\n",
        "# Load Excel file\n",
        "file_path = \"/content/top_goals.xlsx\"\n",
        "df = pd.read_excel(file_path)\n",
        "\n",
        "print(\"Original DataFrame:\")\n",
        "print(df.head())  # first few rows\n",
        "\n",
        "# Initialize encoder\n",
        "le = LabelEncoder()\n",
        "\n",
        "# Apply encoding on all object (categorical) columns\n",
        "for col in df.select_dtypes(include=['object']).columns:\n",
        "    df[col] = le.fit_transform(df[col].astype(str))\n",
        "\n",
        "print(\"\\nLabel Encoded DataFrame:\")\n",
        "print(df.head())\n",
        "\n",
        "# If you want to convert into a list\n",
        "encoded_list = df.values.tolist()\n",
        "print(\"\\nEncoded List:\")\n",
        "print(encoded_list[:10])  # print first 10 rows\n"
      ]
    }
  ]
}